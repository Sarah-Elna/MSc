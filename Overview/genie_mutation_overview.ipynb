{
 "cells": [
  {
   "cell_type": "markdown",
   "id": "6ffe268b",
   "metadata": {},
   "source": [
    "# Genie mutation data"
   ]
  },
  {
   "cell_type": "markdown",
   "id": "037f5823",
   "metadata": {},
   "source": [
    "## Setup"
   ]
  },
  {
   "cell_type": "code",
   "execution_count": 1,
   "id": "5fb34543",
   "metadata": {},
   "outputs": [
    {
     "name": "stderr",
     "output_type": "stream",
     "text": [
      "Warning message:\n",
      "“package ‘ggplot2’ was built under R version 4.2.3”\n"
     ]
    }
   ],
   "source": [
    "library(\"ggplot2\")\n",
    "library(data.table)"
   ]
  },
  {
   "cell_type": "markdown",
   "id": "700915b3",
   "metadata": {},
   "source": [
    "## Get data"
   ]
  },
  {
   "cell_type": "code",
   "execution_count": 2,
   "id": "e0ea7a87",
   "metadata": {},
   "outputs": [],
   "source": [
    "mutation_data <- read.table(\"../../data/genie_v15/data_mutations_extended.txt\", sep=\"\\t\", quote=\"\", head=TRUE)"
   ]
  },
  {
   "cell_type": "code",
   "execution_count": 3,
   "id": "fb4db5a1",
   "metadata": {},
   "outputs": [
    {
     "data": {
      "text/html": [
       "<table class=\"dataframe\">\n",
       "<caption>A data.frame: 6 × 64</caption>\n",
       "<thead>\n",
       "\t<tr><th></th><th scope=col>Hugo_Symbol</th><th scope=col>Entrez_Gene_Id</th><th scope=col>Center</th><th scope=col>NCBI_Build</th><th scope=col>Chromosome</th><th scope=col>Start_Position</th><th scope=col>End_Position</th><th scope=col>Strand</th><th scope=col>Consequence</th><th scope=col>Variant_Classification</th><th scope=col>⋯</th><th scope=col>FILTER</th><th scope=col>Polyphen_Prediction</th><th scope=col>Polyphen_Score</th><th scope=col>SIFT_Prediction</th><th scope=col>SIFT_Score</th><th scope=col>SWISSPROT</th><th scope=col>n_depth</th><th scope=col>t_depth</th><th scope=col>Annotation_Status</th><th scope=col>mutationInCis_Flag</th></tr>\n",
       "\t<tr><th></th><th scope=col>&lt;chr&gt;</th><th scope=col>&lt;int&gt;</th><th scope=col>&lt;chr&gt;</th><th scope=col>&lt;chr&gt;</th><th scope=col>&lt;chr&gt;</th><th scope=col>&lt;int&gt;</th><th scope=col>&lt;int&gt;</th><th scope=col>&lt;chr&gt;</th><th scope=col>&lt;chr&gt;</th><th scope=col>&lt;chr&gt;</th><th scope=col>⋯</th><th scope=col>&lt;chr&gt;</th><th scope=col>&lt;chr&gt;</th><th scope=col>&lt;dbl&gt;</th><th scope=col>&lt;chr&gt;</th><th scope=col>&lt;dbl&gt;</th><th scope=col>&lt;lgl&gt;</th><th scope=col>&lt;int&gt;</th><th scope=col>&lt;int&gt;</th><th scope=col>&lt;chr&gt;</th><th scope=col>&lt;chr&gt;</th></tr>\n",
       "</thead>\n",
       "<tbody>\n",
       "\t<tr><th scope=row>1</th><td>KRAS  </td><td>3845</td><td>JHU</td><td>GRCh37</td><td>12</td><td> 25398285</td><td> 25398285</td><td>+</td><td>missense_variant</td><td>Missense_Mutation</td><td>⋯</td><td>PASS</td><td>probably_damaging</td><td>0.991</td><td>deleterious</td><td>0.04</td><td>NA</td><td>NA</td><td>1623</td><td>SUCCESS</td><td>False</td></tr>\n",
       "\t<tr><th scope=row>2</th><td>BRAF  </td><td> 673</td><td>JHU</td><td>GRCh37</td><td>7 </td><td>140453136</td><td>140453136</td><td>+</td><td>missense_variant</td><td>Missense_Mutation</td><td>⋯</td><td>PASS</td><td>probably_damaging</td><td>0.963</td><td>deleterious</td><td>0.00</td><td>NA</td><td>NA</td><td>1031</td><td>SUCCESS</td><td>False</td></tr>\n",
       "\t<tr><th scope=row>3</th><td>EGFR  </td><td>1956</td><td>JHU</td><td>GRCh37</td><td>7 </td><td> 55249071</td><td> 55249071</td><td>+</td><td>missense_variant</td><td>Missense_Mutation</td><td>⋯</td><td>PASS</td><td>probably_damaging</td><td>1.000</td><td>deleterious</td><td>0.00</td><td>NA</td><td>NA</td><td> 692</td><td>SUCCESS</td><td>False</td></tr>\n",
       "\t<tr><th scope=row>4</th><td>TP53  </td><td>7157</td><td>JHU</td><td>GRCh37</td><td>17</td><td>  7577120</td><td>  7577120</td><td>+</td><td>missense_variant</td><td>Missense_Mutation</td><td>⋯</td><td>PASS</td><td>possibly_damaging</td><td>0.643</td><td>tolerated  </td><td>0.13</td><td>NA</td><td>NA</td><td> 930</td><td>SUCCESS</td><td>False</td></tr>\n",
       "\t<tr><th scope=row>5</th><td>NRAS  </td><td>4893</td><td>JHU</td><td>GRCh37</td><td>1 </td><td>115256529</td><td>115256529</td><td>+</td><td>missense_variant</td><td>Missense_Mutation</td><td>⋯</td><td>PASS</td><td>benign           </td><td>0.251</td><td>tolerated  </td><td>0.06</td><td>NA</td><td>NA</td><td>2277</td><td>SUCCESS</td><td>False</td></tr>\n",
       "\t<tr><th scope=row>6</th><td>PIK3CA</td><td>5290</td><td>JHU</td><td>GRCh37</td><td>3 </td><td>178952085</td><td>178952085</td><td>+</td><td>missense_variant</td><td>Missense_Mutation</td><td>⋯</td><td>PASS</td><td>benign           </td><td>0.085</td><td>tolerated  </td><td>0.11</td><td>NA</td><td>NA</td><td>1064</td><td>SUCCESS</td><td>False</td></tr>\n",
       "</tbody>\n",
       "</table>\n"
      ],
      "text/latex": [
       "A data.frame: 6 × 64\n",
       "\\begin{tabular}{r|lllllllllllllllllllll}\n",
       "  & Hugo\\_Symbol & Entrez\\_Gene\\_Id & Center & NCBI\\_Build & Chromosome & Start\\_Position & End\\_Position & Strand & Consequence & Variant\\_Classification & ⋯ & FILTER & Polyphen\\_Prediction & Polyphen\\_Score & SIFT\\_Prediction & SIFT\\_Score & SWISSPROT & n\\_depth & t\\_depth & Annotation\\_Status & mutationInCis\\_Flag\\\\\n",
       "  & <chr> & <int> & <chr> & <chr> & <chr> & <int> & <int> & <chr> & <chr> & <chr> & ⋯ & <chr> & <chr> & <dbl> & <chr> & <dbl> & <lgl> & <int> & <int> & <chr> & <chr>\\\\\n",
       "\\hline\n",
       "\t1 & KRAS   & 3845 & JHU & GRCh37 & 12 &  25398285 &  25398285 & + & missense\\_variant & Missense\\_Mutation & ⋯ & PASS & probably\\_damaging & 0.991 & deleterious & 0.04 & NA & NA & 1623 & SUCCESS & False\\\\\n",
       "\t2 & BRAF   &  673 & JHU & GRCh37 & 7  & 140453136 & 140453136 & + & missense\\_variant & Missense\\_Mutation & ⋯ & PASS & probably\\_damaging & 0.963 & deleterious & 0.00 & NA & NA & 1031 & SUCCESS & False\\\\\n",
       "\t3 & EGFR   & 1956 & JHU & GRCh37 & 7  &  55249071 &  55249071 & + & missense\\_variant & Missense\\_Mutation & ⋯ & PASS & probably\\_damaging & 1.000 & deleterious & 0.00 & NA & NA &  692 & SUCCESS & False\\\\\n",
       "\t4 & TP53   & 7157 & JHU & GRCh37 & 17 &   7577120 &   7577120 & + & missense\\_variant & Missense\\_Mutation & ⋯ & PASS & possibly\\_damaging & 0.643 & tolerated   & 0.13 & NA & NA &  930 & SUCCESS & False\\\\\n",
       "\t5 & NRAS   & 4893 & JHU & GRCh37 & 1  & 115256529 & 115256529 & + & missense\\_variant & Missense\\_Mutation & ⋯ & PASS & benign            & 0.251 & tolerated   & 0.06 & NA & NA & 2277 & SUCCESS & False\\\\\n",
       "\t6 & PIK3CA & 5290 & JHU & GRCh37 & 3  & 178952085 & 178952085 & + & missense\\_variant & Missense\\_Mutation & ⋯ & PASS & benign            & 0.085 & tolerated   & 0.11 & NA & NA & 1064 & SUCCESS & False\\\\\n",
       "\\end{tabular}\n"
      ],
      "text/markdown": [
       "\n",
       "A data.frame: 6 × 64\n",
       "\n",
       "| <!--/--> | Hugo_Symbol &lt;chr&gt; | Entrez_Gene_Id &lt;int&gt; | Center &lt;chr&gt; | NCBI_Build &lt;chr&gt; | Chromosome &lt;chr&gt; | Start_Position &lt;int&gt; | End_Position &lt;int&gt; | Strand &lt;chr&gt; | Consequence &lt;chr&gt; | Variant_Classification &lt;chr&gt; | ⋯ ⋯ | FILTER &lt;chr&gt; | Polyphen_Prediction &lt;chr&gt; | Polyphen_Score &lt;dbl&gt; | SIFT_Prediction &lt;chr&gt; | SIFT_Score &lt;dbl&gt; | SWISSPROT &lt;lgl&gt; | n_depth &lt;int&gt; | t_depth &lt;int&gt; | Annotation_Status &lt;chr&gt; | mutationInCis_Flag &lt;chr&gt; |\n",
       "|---|---|---|---|---|---|---|---|---|---|---|---|---|---|---|---|---|---|---|---|---|---|\n",
       "| 1 | KRAS   | 3845 | JHU | GRCh37 | 12 |  25398285 |  25398285 | + | missense_variant | Missense_Mutation | ⋯ | PASS | probably_damaging | 0.991 | deleterious | 0.04 | NA | NA | 1623 | SUCCESS | False |\n",
       "| 2 | BRAF   |  673 | JHU | GRCh37 | 7  | 140453136 | 140453136 | + | missense_variant | Missense_Mutation | ⋯ | PASS | probably_damaging | 0.963 | deleterious | 0.00 | NA | NA | 1031 | SUCCESS | False |\n",
       "| 3 | EGFR   | 1956 | JHU | GRCh37 | 7  |  55249071 |  55249071 | + | missense_variant | Missense_Mutation | ⋯ | PASS | probably_damaging | 1.000 | deleterious | 0.00 | NA | NA |  692 | SUCCESS | False |\n",
       "| 4 | TP53   | 7157 | JHU | GRCh37 | 17 |   7577120 |   7577120 | + | missense_variant | Missense_Mutation | ⋯ | PASS | possibly_damaging | 0.643 | tolerated   | 0.13 | NA | NA |  930 | SUCCESS | False |\n",
       "| 5 | NRAS   | 4893 | JHU | GRCh37 | 1  | 115256529 | 115256529 | + | missense_variant | Missense_Mutation | ⋯ | PASS | benign            | 0.251 | tolerated   | 0.06 | NA | NA | 2277 | SUCCESS | False |\n",
       "| 6 | PIK3CA | 5290 | JHU | GRCh37 | 3  | 178952085 | 178952085 | + | missense_variant | Missense_Mutation | ⋯ | PASS | benign            | 0.085 | tolerated   | 0.11 | NA | NA | 1064 | SUCCESS | False |\n",
       "\n"
      ],
      "text/plain": [
       "  Hugo_Symbol Entrez_Gene_Id Center NCBI_Build Chromosome Start_Position\n",
       "1 KRAS        3845           JHU    GRCh37     12          25398285     \n",
       "2 BRAF         673           JHU    GRCh37     7          140453136     \n",
       "3 EGFR        1956           JHU    GRCh37     7           55249071     \n",
       "4 TP53        7157           JHU    GRCh37     17           7577120     \n",
       "5 NRAS        4893           JHU    GRCh37     1          115256529     \n",
       "6 PIK3CA      5290           JHU    GRCh37     3          178952085     \n",
       "  End_Position Strand Consequence      Variant_Classification ⋯ FILTER\n",
       "1  25398285    +      missense_variant Missense_Mutation      ⋯ PASS  \n",
       "2 140453136    +      missense_variant Missense_Mutation      ⋯ PASS  \n",
       "3  55249071    +      missense_variant Missense_Mutation      ⋯ PASS  \n",
       "4   7577120    +      missense_variant Missense_Mutation      ⋯ PASS  \n",
       "5 115256529    +      missense_variant Missense_Mutation      ⋯ PASS  \n",
       "6 178952085    +      missense_variant Missense_Mutation      ⋯ PASS  \n",
       "  Polyphen_Prediction Polyphen_Score SIFT_Prediction SIFT_Score SWISSPROT\n",
       "1 probably_damaging   0.991          deleterious     0.04       NA       \n",
       "2 probably_damaging   0.963          deleterious     0.00       NA       \n",
       "3 probably_damaging   1.000          deleterious     0.00       NA       \n",
       "4 possibly_damaging   0.643          tolerated       0.13       NA       \n",
       "5 benign              0.251          tolerated       0.06       NA       \n",
       "6 benign              0.085          tolerated       0.11       NA       \n",
       "  n_depth t_depth Annotation_Status mutationInCis_Flag\n",
       "1 NA      1623    SUCCESS           False             \n",
       "2 NA      1031    SUCCESS           False             \n",
       "3 NA       692    SUCCESS           False             \n",
       "4 NA       930    SUCCESS           False             \n",
       "5 NA      2277    SUCCESS           False             \n",
       "6 NA      1064    SUCCESS           False             "
      ]
     },
     "metadata": {},
     "output_type": "display_data"
    }
   ],
   "source": [
    "head(mutation_data)"
   ]
  },
  {
   "cell_type": "code",
   "execution_count": 4,
   "id": "470a52d3",
   "metadata": {},
   "outputs": [
    {
     "data": {
      "text/html": [
       "<style>\n",
       ".list-inline {list-style: none; margin:0; padding: 0}\n",
       ".list-inline>li {display: inline-block}\n",
       ".list-inline>li:not(:last-child)::after {content: \"\\00b7\"; padding: 0 .5ex}\n",
       "</style>\n",
       "<ol class=list-inline><li>'Hugo_Symbol'</li><li>'Entrez_Gene_Id'</li><li>'Center'</li><li>'NCBI_Build'</li><li>'Chromosome'</li><li>'Start_Position'</li><li>'End_Position'</li><li>'Strand'</li><li>'Consequence'</li><li>'Variant_Classification'</li><li>'Variant_Type'</li><li>'Reference_Allele'</li><li>'Tumor_Seq_Allele1'</li><li>'Tumor_Seq_Allele2'</li><li>'dbSNP_RS'</li><li>'dbSNP_Val_Status'</li><li>'Tumor_Sample_Barcode'</li><li>'Matched_Norm_Sample_Barcode'</li><li>'Match_Norm_Seq_Allele1'</li><li>'Match_Norm_Seq_Allele2'</li><li>'Tumor_Validation_Allele1'</li><li>'Tumor_Validation_Allele2'</li><li>'Match_Norm_Validation_Allele1'</li><li>'Match_Norm_Validation_Allele2'</li><li>'Verification_Status'</li><li>'Validation_Status'</li><li>'Mutation_Status'</li><li>'Sequencing_Phase'</li><li>'Sequence_Source'</li><li>'Validation_Method'</li><li>'Score'</li><li>'BAM_File'</li><li>'Sequencer'</li><li>'t_ref_count'</li><li>'t_alt_count'</li><li>'n_ref_count'</li><li>'n_alt_count'</li><li>'HGVSc'</li><li>'HGVSp'</li><li>'HGVSp_Short'</li><li>'Transcript_ID'</li><li>'RefSeq'</li><li>'Protein_position'</li><li>'Codons'</li><li>'Exon_Number'</li><li>'gnomAD_AF'</li><li>'gnomAD_AFR_AF'</li><li>'gnomAD_AMR_AF'</li><li>'gnomAD_ASJ_AF'</li><li>'gnomAD_EAS_AF'</li><li>'gnomAD_FIN_AF'</li><li>'gnomAD_NFE_AF'</li><li>'gnomAD_OTH_AF'</li><li>'gnomAD_SAS_AF'</li><li>'FILTER'</li><li>'Polyphen_Prediction'</li><li>'Polyphen_Score'</li><li>'SIFT_Prediction'</li><li>'SIFT_Score'</li><li>'SWISSPROT'</li><li>'n_depth'</li><li>'t_depth'</li><li>'Annotation_Status'</li><li>'mutationInCis_Flag'</li></ol>\n"
      ],
      "text/latex": [
       "\\begin{enumerate*}\n",
       "\\item 'Hugo\\_Symbol'\n",
       "\\item 'Entrez\\_Gene\\_Id'\n",
       "\\item 'Center'\n",
       "\\item 'NCBI\\_Build'\n",
       "\\item 'Chromosome'\n",
       "\\item 'Start\\_Position'\n",
       "\\item 'End\\_Position'\n",
       "\\item 'Strand'\n",
       "\\item 'Consequence'\n",
       "\\item 'Variant\\_Classification'\n",
       "\\item 'Variant\\_Type'\n",
       "\\item 'Reference\\_Allele'\n",
       "\\item 'Tumor\\_Seq\\_Allele1'\n",
       "\\item 'Tumor\\_Seq\\_Allele2'\n",
       "\\item 'dbSNP\\_RS'\n",
       "\\item 'dbSNP\\_Val\\_Status'\n",
       "\\item 'Tumor\\_Sample\\_Barcode'\n",
       "\\item 'Matched\\_Norm\\_Sample\\_Barcode'\n",
       "\\item 'Match\\_Norm\\_Seq\\_Allele1'\n",
       "\\item 'Match\\_Norm\\_Seq\\_Allele2'\n",
       "\\item 'Tumor\\_Validation\\_Allele1'\n",
       "\\item 'Tumor\\_Validation\\_Allele2'\n",
       "\\item 'Match\\_Norm\\_Validation\\_Allele1'\n",
       "\\item 'Match\\_Norm\\_Validation\\_Allele2'\n",
       "\\item 'Verification\\_Status'\n",
       "\\item 'Validation\\_Status'\n",
       "\\item 'Mutation\\_Status'\n",
       "\\item 'Sequencing\\_Phase'\n",
       "\\item 'Sequence\\_Source'\n",
       "\\item 'Validation\\_Method'\n",
       "\\item 'Score'\n",
       "\\item 'BAM\\_File'\n",
       "\\item 'Sequencer'\n",
       "\\item 't\\_ref\\_count'\n",
       "\\item 't\\_alt\\_count'\n",
       "\\item 'n\\_ref\\_count'\n",
       "\\item 'n\\_alt\\_count'\n",
       "\\item 'HGVSc'\n",
       "\\item 'HGVSp'\n",
       "\\item 'HGVSp\\_Short'\n",
       "\\item 'Transcript\\_ID'\n",
       "\\item 'RefSeq'\n",
       "\\item 'Protein\\_position'\n",
       "\\item 'Codons'\n",
       "\\item 'Exon\\_Number'\n",
       "\\item 'gnomAD\\_AF'\n",
       "\\item 'gnomAD\\_AFR\\_AF'\n",
       "\\item 'gnomAD\\_AMR\\_AF'\n",
       "\\item 'gnomAD\\_ASJ\\_AF'\n",
       "\\item 'gnomAD\\_EAS\\_AF'\n",
       "\\item 'gnomAD\\_FIN\\_AF'\n",
       "\\item 'gnomAD\\_NFE\\_AF'\n",
       "\\item 'gnomAD\\_OTH\\_AF'\n",
       "\\item 'gnomAD\\_SAS\\_AF'\n",
       "\\item 'FILTER'\n",
       "\\item 'Polyphen\\_Prediction'\n",
       "\\item 'Polyphen\\_Score'\n",
       "\\item 'SIFT\\_Prediction'\n",
       "\\item 'SIFT\\_Score'\n",
       "\\item 'SWISSPROT'\n",
       "\\item 'n\\_depth'\n",
       "\\item 't\\_depth'\n",
       "\\item 'Annotation\\_Status'\n",
       "\\item 'mutationInCis\\_Flag'\n",
       "\\end{enumerate*}\n"
      ],
      "text/markdown": [
       "1. 'Hugo_Symbol'\n",
       "2. 'Entrez_Gene_Id'\n",
       "3. 'Center'\n",
       "4. 'NCBI_Build'\n",
       "5. 'Chromosome'\n",
       "6. 'Start_Position'\n",
       "7. 'End_Position'\n",
       "8. 'Strand'\n",
       "9. 'Consequence'\n",
       "10. 'Variant_Classification'\n",
       "11. 'Variant_Type'\n",
       "12. 'Reference_Allele'\n",
       "13. 'Tumor_Seq_Allele1'\n",
       "14. 'Tumor_Seq_Allele2'\n",
       "15. 'dbSNP_RS'\n",
       "16. 'dbSNP_Val_Status'\n",
       "17. 'Tumor_Sample_Barcode'\n",
       "18. 'Matched_Norm_Sample_Barcode'\n",
       "19. 'Match_Norm_Seq_Allele1'\n",
       "20. 'Match_Norm_Seq_Allele2'\n",
       "21. 'Tumor_Validation_Allele1'\n",
       "22. 'Tumor_Validation_Allele2'\n",
       "23. 'Match_Norm_Validation_Allele1'\n",
       "24. 'Match_Norm_Validation_Allele2'\n",
       "25. 'Verification_Status'\n",
       "26. 'Validation_Status'\n",
       "27. 'Mutation_Status'\n",
       "28. 'Sequencing_Phase'\n",
       "29. 'Sequence_Source'\n",
       "30. 'Validation_Method'\n",
       "31. 'Score'\n",
       "32. 'BAM_File'\n",
       "33. 'Sequencer'\n",
       "34. 't_ref_count'\n",
       "35. 't_alt_count'\n",
       "36. 'n_ref_count'\n",
       "37. 'n_alt_count'\n",
       "38. 'HGVSc'\n",
       "39. 'HGVSp'\n",
       "40. 'HGVSp_Short'\n",
       "41. 'Transcript_ID'\n",
       "42. 'RefSeq'\n",
       "43. 'Protein_position'\n",
       "44. 'Codons'\n",
       "45. 'Exon_Number'\n",
       "46. 'gnomAD_AF'\n",
       "47. 'gnomAD_AFR_AF'\n",
       "48. 'gnomAD_AMR_AF'\n",
       "49. 'gnomAD_ASJ_AF'\n",
       "50. 'gnomAD_EAS_AF'\n",
       "51. 'gnomAD_FIN_AF'\n",
       "52. 'gnomAD_NFE_AF'\n",
       "53. 'gnomAD_OTH_AF'\n",
       "54. 'gnomAD_SAS_AF'\n",
       "55. 'FILTER'\n",
       "56. 'Polyphen_Prediction'\n",
       "57. 'Polyphen_Score'\n",
       "58. 'SIFT_Prediction'\n",
       "59. 'SIFT_Score'\n",
       "60. 'SWISSPROT'\n",
       "61. 'n_depth'\n",
       "62. 't_depth'\n",
       "63. 'Annotation_Status'\n",
       "64. 'mutationInCis_Flag'\n",
       "\n",
       "\n"
      ],
      "text/plain": [
       " [1] \"Hugo_Symbol\"                   \"Entrez_Gene_Id\"               \n",
       " [3] \"Center\"                        \"NCBI_Build\"                   \n",
       " [5] \"Chromosome\"                    \"Start_Position\"               \n",
       " [7] \"End_Position\"                  \"Strand\"                       \n",
       " [9] \"Consequence\"                   \"Variant_Classification\"       \n",
       "[11] \"Variant_Type\"                  \"Reference_Allele\"             \n",
       "[13] \"Tumor_Seq_Allele1\"             \"Tumor_Seq_Allele2\"            \n",
       "[15] \"dbSNP_RS\"                      \"dbSNP_Val_Status\"             \n",
       "[17] \"Tumor_Sample_Barcode\"          \"Matched_Norm_Sample_Barcode\"  \n",
       "[19] \"Match_Norm_Seq_Allele1\"        \"Match_Norm_Seq_Allele2\"       \n",
       "[21] \"Tumor_Validation_Allele1\"      \"Tumor_Validation_Allele2\"     \n",
       "[23] \"Match_Norm_Validation_Allele1\" \"Match_Norm_Validation_Allele2\"\n",
       "[25] \"Verification_Status\"           \"Validation_Status\"            \n",
       "[27] \"Mutation_Status\"               \"Sequencing_Phase\"             \n",
       "[29] \"Sequence_Source\"               \"Validation_Method\"            \n",
       "[31] \"Score\"                         \"BAM_File\"                     \n",
       "[33] \"Sequencer\"                     \"t_ref_count\"                  \n",
       "[35] \"t_alt_count\"                   \"n_ref_count\"                  \n",
       "[37] \"n_alt_count\"                   \"HGVSc\"                        \n",
       "[39] \"HGVSp\"                         \"HGVSp_Short\"                  \n",
       "[41] \"Transcript_ID\"                 \"RefSeq\"                       \n",
       "[43] \"Protein_position\"              \"Codons\"                       \n",
       "[45] \"Exon_Number\"                   \"gnomAD_AF\"                    \n",
       "[47] \"gnomAD_AFR_AF\"                 \"gnomAD_AMR_AF\"                \n",
       "[49] \"gnomAD_ASJ_AF\"                 \"gnomAD_EAS_AF\"                \n",
       "[51] \"gnomAD_FIN_AF\"                 \"gnomAD_NFE_AF\"                \n",
       "[53] \"gnomAD_OTH_AF\"                 \"gnomAD_SAS_AF\"                \n",
       "[55] \"FILTER\"                        \"Polyphen_Prediction\"          \n",
       "[57] \"Polyphen_Score\"                \"SIFT_Prediction\"              \n",
       "[59] \"SIFT_Score\"                    \"SWISSPROT\"                    \n",
       "[61] \"n_depth\"                       \"t_depth\"                      \n",
       "[63] \"Annotation_Status\"             \"mutationInCis_Flag\"           "
      ]
     },
     "metadata": {},
     "output_type": "display_data"
    }
   ],
   "source": [
    "colnames(mutation_data)"
   ]
  },
  {
   "cell_type": "code",
   "execution_count": 5,
   "id": "30936f52",
   "metadata": {},
   "outputs": [
    {
     "data": {
      "text/html": [
       "1840311"
      ],
      "text/latex": [
       "1840311"
      ],
      "text/markdown": [
       "1840311"
      ],
      "text/plain": [
       "[1] 1840311"
      ]
     },
     "metadata": {},
     "output_type": "display_data"
    }
   ],
   "source": [
    "nrow(mutation_data)"
   ]
  },
  {
   "cell_type": "markdown",
   "id": "779dbc9f",
   "metadata": {},
   "source": [
    "There are 1.840.311 mutations registrered."
   ]
  },
  {
   "cell_type": "markdown",
   "id": "0a2618b5",
   "metadata": {},
   "source": [
    "### Overview\n",
    "\n",
    "*Hugo_Symbol - ID: Official name of an allele*\n",
    "\n",
    "Entrez_Gene_Id - ID: Identifier in the NCBI database\n",
    "\n",
    "*Center - One or more genome sequencing center reporting the variant*\n",
    "\n",
    "*NCBI_Build - Reference: The reference genome used for the alignment*\n",
    "\n",
    "Chromosome - Position: The affected chromosome\n",
    "\n",
    "Start_Position - Position: Mutation start coordinate\n",
    "\n",
    "End_Position - Position: Mutation end coordinate\n",
    "\n",
    "Strand - Position: Genomic strand of the reported allele\n",
    "\n",
    "*Consequence - Consequence type of this variant;   sequence ontology terms*\n",
    "\n",
    "*Variant_Classification - Translational effect of variant allele*\n",
    "\n",
    "*Variant_Type - Type of mutation (SNP, DNP, TNP, ONP, INS, DEL, or Consolidated)*\n",
    "\n",
    "Reference_Allele - Reference: The plus strand reference allele at this position.\n",
    "\n",
    "Tumor_Seq_Allele1 - Primary data genotype for tumor sequencing (discovery) allele 1\n",
    "\n",
    "Tumor_Seq_Allele2 - Tumor sequencing (discovery) allele 2\n",
    "\n",
    "dbSNP_RS - ID: The rs-IDs from the dbSNP database\n",
    "\n",
    "dbSNP_Val_Status - Validation: The dbSNP validation status is reported as a semicolon-separated list of statuses.\n",
    "\n",
    "*Tumor_Sample_Barcode - Aliquot barcode for the tumor sample*\n",
    "\n",
    "Matched_Norm_Sample_Barcode - Aliquot barcode for the matched normal sample\n",
    "\n",
    "Match_Norm_Seq_Allele1 - Primary data genotype.\n",
    "\n",
    "Match_Norm_Seq_Allele2 - Matched normal sequencing allele 2\n",
    "\n",
    "Tumor_Validation_Allele1 - Secondary data from orthogonal technology.\n",
    "\n",
    "Tumor_Validation_Allele2 - Secondary data from orthogonal technology.\n",
    "\n",
    "Match_Norm_Validation_Allele1 - Secondary data from orthogonal technolog\n",
    "\n",
    "Match_Norm_Validation_Allele2 - Secondary data from orthogonal technology\n",
    "\n",
    "Verification_Status - Second pass results from independent attempt using same methods as primary data source\n",
    "\n",
    "Validation_Status - Second pass results from orthogonal technology\n",
    "\n",
    "*Mutation_Status - An assessment of the mutation as somatic, germline, LOH, post transcriptional modification, unknown, or none*\n",
    "\n",
    "Sequencing_Phase - TCGA sequencing phase \n",
    "\n",
    "*Sequence_Source - Molecular assay type used to produce the analytes used for sequencing*\n",
    "\n",
    "Validation_Method - The assay platforms used for the validation call\n",
    "\n",
    "Score - Not in use\n",
    "\n",
    "BAM_File - Not in use\n",
    "\n",
    "Sequencer - Instrument used to produce primary sequence data\n",
    "\n",
    "t_ref_count - Read depth supporting the reference allele in tumor BAM\n",
    "\n",
    "t_alt_count - Read depth supporting the variant allele in tumor BAM\n",
    "\n",
    "n_ref_count - Read depth supporting the reference allele in normal BAM\n",
    "\n",
    "n_alt_count - Read depth supporting the variant allele in normal BAM \n",
    "\n",
    "HGVSc - The coding sequence of the variant in HGVS recommended format\n",
    "\n",
    "HGVSp - The protein sequence of the variant in HGVS recommended format. \"p.=\" signifies no change in the protein\n",
    "\n",
    "HGVSp_Short - Same as the HGVSp column, but using 1-letter amino-acid codes\n",
    "\n",
    "Transcript_ID - ID: Ensembl ID of the transcript affected by the variant\n",
    "\n",
    "RefSeq - RefSeq identifier for this transcript\n",
    "\n",
    "Protein_position - Relative position of affected amino acid in protein.\n",
    "\n",
    "Codons - The alternative codons with the variant base in upper case\n",
    "\n",
    "Exon_Number - The exon number (out of total number)\n",
    "\n",
    "*gnomAD_AF* - Allele Frequency\n",
    "\n",
    "gnomAD_AFR_AF - African\n",
    "\n",
    "*gnomAD_AMR_AF* - Admixed American\n",
    "\n",
    "gnomAD_ASJ_AF - Ashkenazi Jewish population\n",
    "\n",
    "gnomAD_EAS_AF - East Asian\n",
    "\n",
    "gnomAD_FIN_AF - Finnish\n",
    "\n",
    "gnomAD_NFE_AF - Non-finnish European\n",
    "\n",
    "gnomAD_OTH_AF - other\n",
    "\n",
    "gnomAD_SAS_AF - South Asian\n",
    "\n",
    "(Short-hand interpretation from https://annovar.openbioinformatics.org/en/latest/user-guide/filter/ and https://support.illumina.com/help/BaseSpace_VariantInterpreter_OLH_001129/Content/Source/Informatics/VariantSW/AlleleFrequencyData_swVI.htm)\n",
    "\n",
    "FILTER - Copied from input VCF. This includes filters implemented directly by the variant caller and other external software used in the DNA-Seq pipeline\n",
    "\n",
    "Polyphen_Prediction - ?\n",
    "\n",
    "Polyphen_Score - ?\n",
    "\n",
    "SIFT_Prediction - DANGER? (D- deleterious, T-tolerable, ggogle anovar)\n",
    "\n",
    "SIFT_Score - ?\n",
    "\n",
    "SWISSPROT - ID: UniProtKB/Swiss-Prot accession\n",
    "\n",
    "n_depth - Read depth across this locus in normal BAM\n",
    "\n",
    "t_depth - Read depth across this locus in tumor BAM\n",
    "\n",
    "Annotation_Status - ?\n",
    "\n",
    "mutationInCis_Flag - ?\n"
   ]
  },
  {
   "cell_type": "code",
   "execution_count": 8,
   "id": "b48fb41b",
   "metadata": {},
   "outputs": [
    {
     "data": {
      "text/plain": [
       "\n",
       "                                          deleterious \n",
       "                    642444                     649421 \n",
       "deleterious_low_confidence                  tolerated \n",
       "                     65371                     424199 \n",
       "  tolerated_low_confidence \n",
       "                     58876 "
      ]
     },
     "metadata": {},
     "output_type": "display_data"
    }
   ],
   "source": [
    "table(mutation_data$SIFT_Prediction)"
   ]
  },
  {
   "cell_type": "markdown",
   "id": "97b27374",
   "metadata": {},
   "source": [
    "#### Overview results\n",
    "\n",
    "From the columns available, and information found for each one through the documentation (https://docs.gdc.cancer.gov/Data/File_Formats/MAF_Format/) there are a few columns of particular interest. These columns are:\n",
    "\n",
    "* Hugo_Symbol\n",
    "* Center\n",
    "* NCBI_Build\n",
    "* Consequence\n",
    "* Variant_Classification\n",
    "* Variant_Type\n",
    "* Tumor_Sample_Barcode\n",
    "* Mutation_Status\n",
    "* Sequence_Source\n",
    "\n",
    "We now examine the data in each of these columns a little further."
   ]
  },
  {
   "cell_type": "markdown",
   "id": "ba261c4a",
   "metadata": {},
   "source": [
    "#### Hugo_Symbol\n",
    "\n",
    "HUGO - Human Genome Organisation\n",
    "\n",
    "The HUGO Gene Nomenclature Comittee (HGNC) - The resource for approved guman gene nomenclature\n",
    "\n",
    "The Hugo_Symbol column contains the approved nomenclature for the given locus, in accordance with the HGNC. \"Unknown\" is used for regions that do not correspond to a gene"
   ]
  },
  {
   "cell_type": "code",
   "execution_count": 7,
   "id": "b0b864c6",
   "metadata": {},
   "outputs": [
    {
     "data": {
      "image/png": "[encoded data removed]",
      "text/plain": [
       "plot without title"
      ]
     },
     "metadata": {
      "image/png": {
       "height": 420,
       "width": 420
      }
     },
     "output_type": "display_data"
    }
   ],
   "source": [
    "# We create an empty list for holding the number of each symbol\n",
    "count_list <- list()\n",
    "# From the mutation data we create a list with all unique HUGO symbols\n",
    "symbol_list <- unique(mutation_data[['Hugo_Symbol']])\n",
    "\n",
    "# We loop through each unique hugo symbol and count how many occurances there are\n",
    "# while saving the result in our count list\n",
    "for (x in symbol_list) {\n",
    "    len <- length(count_list)\n",
    "    count <- length(which(mutation_data$Hugo_Symbol==x))\n",
    "    count_list[len+1] <- count\n",
    "}\n",
    "\n",
    "# we create the HUGO table from our two lists and rename the columns\n",
    "hugo_table <- data.frame(symbol_list, unlist(count_list))\n",
    "names(hugo_table) <- c(\"symbol\", \"count\")\n",
    "\n",
    "# Now we order the table in descending order\n",
    "hugo_table <- hugo_table[order(-hugo_table$count), ]\n",
    "\n",
    "# we define the order of teh positions from the sorted table\n",
    "positions <- hugo_table$symbol\n",
    "\n",
    "# And feed the data, and the defined positions to ggplot\n",
    "ggplot(mutation_data, aes(x=Hugo_Symbol)) + geom_bar() + scale_x_discrete(limits = positions, guide = guide_axis(angle = -45))"
   ]
  },
  {
   "cell_type": "markdown",
   "id": "677afd04",
   "metadata": {},
   "source": [
    "From this we can see that our data is very biased. This might be explained by which gene panels were used."
   ]
  },
  {
   "cell_type": "markdown",
   "id": "60970ef0",
   "metadata": {},
   "source": [
    "#### Center\n",
    "\n",
    "The name of the center that reported the data."
   ]
  },
  {
   "cell_type": "code",
   "execution_count": 8,
   "id": "a156b243",
   "metadata": {},
   "outputs": [
    {
     "data": {
      "text/html": [
       "19"
      ],
      "text/latex": [
       "19"
      ],
      "text/markdown": [
       "19"
      ],
      "text/plain": [
       "[1] 19"
      ]
     },
     "metadata": {},
     "output_type": "display_data"
    },
    {
     "data": {
      "text/html": [
       "<style>\n",
       ".list-inline {list-style: none; margin:0; padding: 0}\n",
       ".list-inline>li {display: inline-block}\n",
       ".list-inline>li:not(:last-child)::after {content: \"\\00b7\"; padding: 0 .5ex}\n",
       "</style>\n",
       "<ol class=list-inline><li>'JHU'</li><li>'DFCI'</li><li>'GRCC'</li><li>'NKI'</li><li>'MSK'</li><li>'UHN'</li><li>'VICC'</li><li>'MDA'</li><li>'WAKE'</li><li>'YALE'</li><li>'UCSF'</li><li>'CRUK'</li><li>'CHOP'</li><li>'VHIO'</li><li>'SCI'</li><li>'COLU'</li><li>'UCHI'</li><li>'DUKE'</li><li>'PROV'</li></ol>\n"
      ],
      "text/latex": [
       "\\begin{enumerate*}\n",
       "\\item 'JHU'\n",
       "\\item 'DFCI'\n",
       "\\item 'GRCC'\n",
       "\\item 'NKI'\n",
       "\\item 'MSK'\n",
       "\\item 'UHN'\n",
       "\\item 'VICC'\n",
       "\\item 'MDA'\n",
       "\\item 'WAKE'\n",
       "\\item 'YALE'\n",
       "\\item 'UCSF'\n",
       "\\item 'CRUK'\n",
       "\\item 'CHOP'\n",
       "\\item 'VHIO'\n",
       "\\item 'SCI'\n",
       "\\item 'COLU'\n",
       "\\item 'UCHI'\n",
       "\\item 'DUKE'\n",
       "\\item 'PROV'\n",
       "\\end{enumerate*}\n"
      ],
      "text/markdown": [
       "1. 'JHU'\n",
       "2. 'DFCI'\n",
       "3. 'GRCC'\n",
       "4. 'NKI'\n",
       "5. 'MSK'\n",
       "6. 'UHN'\n",
       "7. 'VICC'\n",
       "8. 'MDA'\n",
       "9. 'WAKE'\n",
       "10. 'YALE'\n",
       "11. 'UCSF'\n",
       "12. 'CRUK'\n",
       "13. 'CHOP'\n",
       "14. 'VHIO'\n",
       "15. 'SCI'\n",
       "16. 'COLU'\n",
       "17. 'UCHI'\n",
       "18. 'DUKE'\n",
       "19. 'PROV'\n",
       "\n",
       "\n"
      ],
      "text/plain": [
       " [1] \"JHU\"  \"DFCI\" \"GRCC\" \"NKI\"  \"MSK\"  \"UHN\"  \"VICC\" \"MDA\"  \"WAKE\" \"YALE\"\n",
       "[11] \"UCSF\" \"CRUK\" \"CHOP\" \"VHIO\" \"SCI\"  \"COLU\" \"UCHI\" \"DUKE\" \"PROV\""
      ]
     },
     "metadata": {},
     "output_type": "display_data"
    },
    {
     "data": {
      "image/png": "[encoded data removed]",
      "text/plain": [
       "plot without title"
      ]
     },
     "metadata": {
      "image/png": {
       "height": 420,
       "width": 420
      }
     },
     "output_type": "display_data"
    }
   ],
   "source": [
    "# How many unique centers are there?\n",
    "length(unique(mutation_data[['Center']]))\n",
    "# What are they called?\n",
    "unique(mutation_data[['Center']])\n",
    "\n",
    "# How is the data distributed across these centers?\n",
    "ggplot(mutation_data, aes(x=Center)) + geom_bar() + scale_x_discrete(guide = guide_axis(angle = -45))"
   ]
  },
  {
   "cell_type": "markdown",
   "id": "a29d09df",
   "metadata": {},
   "source": [
    "Again we see that our data is not equally distributed. The majority of the data comes from five centers, with the biggest contributor being the MSK center."
   ]
  },
  {
   "cell_type": "markdown",
   "id": "a7cab56b",
   "metadata": {},
   "source": [
    "#### NCBI_Build\n",
    "\n",
    "NCIB build contains information as to what reference genome was used to gain the mutation data."
   ]
  },
  {
   "cell_type": "code",
   "execution_count": 9,
   "id": "e428437d",
   "metadata": {},
   "outputs": [
    {
     "data": {
      "text/html": [
       "1"
      ],
      "text/latex": [
       "1"
      ],
      "text/markdown": [
       "1"
      ],
      "text/plain": [
       "[1] 1"
      ]
     },
     "metadata": {},
     "output_type": "display_data"
    },
    {
     "data": {
      "text/html": [
       "'GRCh37'"
      ],
      "text/latex": [
       "'GRCh37'"
      ],
      "text/markdown": [
       "'GRCh37'"
      ],
      "text/plain": [
       "[1] \"GRCh37\""
      ]
     },
     "metadata": {},
     "output_type": "display_data"
    }
   ],
   "source": [
    "# How many unique reference genomes are there?\n",
    "length(unique(mutation_data[['NCBI_Build']]))\n",
    "# What are they called?\n",
    "unique(mutation_data[['NCBI_Build']])"
   ]
  },
  {
   "cell_type": "markdown",
   "id": "0eefe775",
   "metadata": {},
   "source": [
    "Only the GRCh37 has been used as a reference genome. This is nice to know as the data in this way is uniform."
   ]
  },
  {
   "cell_type": "markdown",
   "id": "132ed18e",
   "metadata": {},
   "source": [
    "#### Consequence\n",
    "\n",
    "The consequence of the registrered mutation. The terminology is taken from sequence oncology (http://www.sequenceontology.org/)"
   ]
  },
  {
   "cell_type": "code",
   "execution_count": 10,
   "id": "6d70ad7b",
   "metadata": {},
   "outputs": [
    {
     "data": {
      "text/html": [
       "127"
      ],
      "text/latex": [
       "127"
      ],
      "text/markdown": [
       "127"
      ],
      "text/plain": [
       "[1] 127"
      ]
     },
     "metadata": {},
     "output_type": "display_data"
    },
    {
     "data": {
      "image/png": "[encoded data removed]",
      "text/plain": [
       "plot without title"
      ]
     },
     "metadata": {
      "image/png": {
       "height": 420,
       "width": 420
      }
     },
     "output_type": "display_data"
    }
   ],
   "source": [
    "# How many terms are there?\n",
    "length(unique(mutation_data[['Consequence']]))\n",
    "\n",
    "# How is the data distributed across these consequences?\n",
    "ggplot(mutation_data, aes(x=Consequence)) + geom_bar() + scale_x_discrete(guide = guide_axis(angle = -90))"
   ]
  },
  {
   "cell_type": "markdown",
   "id": "b7ab30e3",
   "metadata": {},
   "source": [
    "Further expertise is needed to understand this. It also looks like some application of regularised expressions/finding common terms to more broadly classify these mutations could yield interesting data."
   ]
  },
  {
   "cell_type": "markdown",
   "id": "918735a5",
   "metadata": {},
   "source": [
    "#### Variant_Classification\n",
    "\n",
    "A description of the Translational effect of the variant allele."
   ]
  },
  {
   "cell_type": "code",
   "execution_count": 11,
   "id": "01c6e47d",
   "metadata": {},
   "outputs": [
    {
     "data": {
      "text/html": [
       "17"
      ],
      "text/latex": [
       "17"
      ],
      "text/markdown": [
       "17"
      ],
      "text/plain": [
       "[1] 17"
      ]
     },
     "metadata": {},
     "output_type": "display_data"
    },
    {
     "data": {
      "text/html": [
       "<style>\n",
       ".list-inline {list-style: none; margin:0; padding: 0}\n",
       ".list-inline>li {display: inline-block}\n",
       ".list-inline>li:not(:last-child)::after {content: \"\\00b7\"; padding: 0 .5ex}\n",
       "</style>\n",
       "<ol class=list-inline><li>'Missense_Mutation'</li><li>'Nonsense_Mutation'</li><li>'Splice_Site'</li><li>'Frame_Shift_Del'</li><li>'Intron'</li><li>'Silent'</li><li>'Splice_Region'</li><li>'In_Frame_Del'</li><li>'3\\'UTR'</li><li>'Frame_Shift_Ins'</li><li>'In_Frame_Ins'</li><li>'RNA'</li><li>'5\\'UTR'</li><li>'Translation_Start_Site'</li><li>'5\\'Flank'</li><li>'3\\'Flank'</li><li>'Nonstop_Mutation'</li></ol>\n"
      ],
      "text/latex": [
       "\\begin{enumerate*}\n",
       "\\item 'Missense\\_Mutation'\n",
       "\\item 'Nonsense\\_Mutation'\n",
       "\\item 'Splice\\_Site'\n",
       "\\item 'Frame\\_Shift\\_Del'\n",
       "\\item 'Intron'\n",
       "\\item 'Silent'\n",
       "\\item 'Splice\\_Region'\n",
       "\\item 'In\\_Frame\\_Del'\n",
       "\\item '3\\textbackslash{}'UTR'\n",
       "\\item 'Frame\\_Shift\\_Ins'\n",
       "\\item 'In\\_Frame\\_Ins'\n",
       "\\item 'RNA'\n",
       "\\item '5\\textbackslash{}'UTR'\n",
       "\\item 'Translation\\_Start\\_Site'\n",
       "\\item '5\\textbackslash{}'Flank'\n",
       "\\item '3\\textbackslash{}'Flank'\n",
       "\\item 'Nonstop\\_Mutation'\n",
       "\\end{enumerate*}\n"
      ],
      "text/markdown": [
       "1. 'Missense_Mutation'\n",
       "2. 'Nonsense_Mutation'\n",
       "3. 'Splice_Site'\n",
       "4. 'Frame_Shift_Del'\n",
       "5. 'Intron'\n",
       "6. 'Silent'\n",
       "7. 'Splice_Region'\n",
       "8. 'In_Frame_Del'\n",
       "9. '3\\'UTR'\n",
       "10. 'Frame_Shift_Ins'\n",
       "11. 'In_Frame_Ins'\n",
       "12. 'RNA'\n",
       "13. '5\\'UTR'\n",
       "14. 'Translation_Start_Site'\n",
       "15. '5\\'Flank'\n",
       "16. '3\\'Flank'\n",
       "17. 'Nonstop_Mutation'\n",
       "\n",
       "\n"
      ],
      "text/plain": [
       " [1] \"Missense_Mutation\"      \"Nonsense_Mutation\"      \"Splice_Site\"           \n",
       " [4] \"Frame_Shift_Del\"        \"Intron\"                 \"Silent\"                \n",
       " [7] \"Splice_Region\"          \"In_Frame_Del\"           \"3'UTR\"                 \n",
       "[10] \"Frame_Shift_Ins\"        \"In_Frame_Ins\"           \"RNA\"                   \n",
       "[13] \"5'UTR\"                  \"Translation_Start_Site\" \"5'Flank\"               \n",
       "[16] \"3'Flank\"                \"Nonstop_Mutation\"      "
      ]
     },
     "metadata": {},
     "output_type": "display_data"
    },
    {
     "data": {
      "image/png": "[encoded data removed]",
      "text/plain": [
       "plot without title"
      ]
     },
     "metadata": {
      "image/png": {
       "height": 420,
       "width": 420
      }
     },
     "output_type": "display_data"
    }
   ],
   "source": [
    "# How many classifications are there?\n",
    "length(unique(mutation_data[['Variant_Classification']]))\n",
    "# What are the classifications?\n",
    "unique(mutation_data[['Variant_Classification']])\n",
    "\n",
    "# How is the data distributed across these classifications?\n",
    "ggplot(mutation_data, aes(x=Variant_Classification)) + geom_bar() + scale_x_discrete(guide = guide_axis(angle = -90))"
   ]
  },
  {
   "cell_type": "markdown",
   "id": "baaf45ed",
   "metadata": {},
   "source": [
    "The majority of our mutations seem to be missense mutations - point mutations that change the "
   ]
  },
  {
   "cell_type": "markdown",
   "id": "279bd96b",
   "metadata": {},
   "source": [
    "#### Variant_Type\n",
    "\n",
    "The Type of mutation, is it a single- double- triple nucleotide change, a deltetion, insertion of transversal?"
   ]
  },
  {
   "cell_type": "code",
   "execution_count": 12,
   "id": "6f81acec",
   "metadata": {},
   "outputs": [
    {
     "data": {
      "text/html": [
       "6"
      ],
      "text/latex": [
       "6"
      ],
      "text/markdown": [
       "6"
      ],
      "text/plain": [
       "[1] 6"
      ]
     },
     "metadata": {},
     "output_type": "display_data"
    },
    {
     "data": {
      "text/html": [
       "<style>\n",
       ".list-inline {list-style: none; margin:0; padding: 0}\n",
       ".list-inline>li {display: inline-block}\n",
       ".list-inline>li:not(:last-child)::after {content: \"\\00b7\"; padding: 0 .5ex}\n",
       "</style>\n",
       "<ol class=list-inline><li>'SNP'</li><li>'DEL'</li><li>'INS'</li><li>'DNP'</li><li>'TNP'</li><li>'ONP'</li></ol>\n"
      ],
      "text/latex": [
       "\\begin{enumerate*}\n",
       "\\item 'SNP'\n",
       "\\item 'DEL'\n",
       "\\item 'INS'\n",
       "\\item 'DNP'\n",
       "\\item 'TNP'\n",
       "\\item 'ONP'\n",
       "\\end{enumerate*}\n"
      ],
      "text/markdown": [
       "1. 'SNP'\n",
       "2. 'DEL'\n",
       "3. 'INS'\n",
       "4. 'DNP'\n",
       "5. 'TNP'\n",
       "6. 'ONP'\n",
       "\n",
       "\n"
      ],
      "text/plain": [
       "[1] \"SNP\" \"DEL\" \"INS\" \"DNP\" \"TNP\" \"ONP\""
      ]
     },
     "metadata": {},
     "output_type": "display_data"
    },
    {
     "data": {
      "image/png": "[encoded data removed]",
      "text/plain": [
       "plot without title"
      ]
     },
     "metadata": {
      "image/png": {
       "height": 420,
       "width": 420
      }
     },
     "output_type": "display_data"
    }
   ],
   "source": [
    "# How many types are there?\n",
    "length(unique(mutation_data[['Variant_Type']]))\n",
    "# What are they called?\n",
    "unique(mutation_data[['Variant_Type']])\n",
    "\n",
    "# How is the data distributed across these types?\n",
    "ggplot(mutation_data, aes(x=Variant_Type)) + geom_bar() + scale_x_discrete(guide = guide_axis(angle = -90))"
   ]
  },
  {
   "cell_type": "markdown",
   "id": "da914384",
   "metadata": {},
   "source": [
    "The majority of our muitations are SNPs- Single nucleotide polymorphisms."
   ]
  },
  {
   "cell_type": "markdown",
   "id": "65547b0f",
   "metadata": {},
   "source": [
    "#### Tumor Sample Barcode\n",
    "\n",
    "The Tumor Sample Barcode should contain an ID that can be used to link to clinical data."
   ]
  },
  {
   "cell_type": "code",
   "execution_count": 14,
   "id": "319f5f80",
   "metadata": {},
   "outputs": [
    {
     "data": {
      "text/html": [
       "171195"
      ],
      "text/latex": [
       "171195"
      ],
      "text/markdown": [
       "171195"
      ],
      "text/plain": [
       "[1] 171195"
      ]
     },
     "metadata": {},
     "output_type": "display_data"
    },
    {
     "data": {
      "text/html": [
       "<style>\n",
       ".list-inline {list-style: none; margin:0; padding: 0}\n",
       ".list-inline>li {display: inline-block}\n",
       ".list-inline>li:not(:last-child)::after {content: \"\\00b7\"; padding: 0 .5ex}\n",
       "</style>\n",
       "<ol class=list-inline><li>'GENIE-JHU-00006-00185'</li><li>'GENIE-JHU-00006-00185'</li><li>'GENIE-JHU-00006-00185'</li><li>'GENIE-JHU-00006-00185'</li><li>'GENIE-JHU-00006-00185'</li><li>'GENIE-JHU-00006-00185'</li></ol>\n"
      ],
      "text/latex": [
       "\\begin{enumerate*}\n",
       "\\item 'GENIE-JHU-00006-00185'\n",
       "\\item 'GENIE-JHU-00006-00185'\n",
       "\\item 'GENIE-JHU-00006-00185'\n",
       "\\item 'GENIE-JHU-00006-00185'\n",
       "\\item 'GENIE-JHU-00006-00185'\n",
       "\\item 'GENIE-JHU-00006-00185'\n",
       "\\end{enumerate*}\n"
      ],
      "text/markdown": [
       "1. 'GENIE-JHU-00006-00185'\n",
       "2. 'GENIE-JHU-00006-00185'\n",
       "3. 'GENIE-JHU-00006-00185'\n",
       "4. 'GENIE-JHU-00006-00185'\n",
       "5. 'GENIE-JHU-00006-00185'\n",
       "6. 'GENIE-JHU-00006-00185'\n",
       "\n",
       "\n"
      ],
      "text/plain": [
       "[1] \"GENIE-JHU-00006-00185\" \"GENIE-JHU-00006-00185\" \"GENIE-JHU-00006-00185\"\n",
       "[4] \"GENIE-JHU-00006-00185\" \"GENIE-JHU-00006-00185\" \"GENIE-JHU-00006-00185\""
      ]
     },
     "metadata": {},
     "output_type": "display_data"
    }
   ],
   "source": [
    "length(unique(mutation_data[['Tumor_Sample_Barcode']]))\n",
    "head(mutation_data[['Tumor_Sample_Barcode']])"
   ]
  },
  {
   "cell_type": "markdown",
   "id": "0f2daf7b",
   "metadata": {},
   "source": [
    "#### Mutation_Status\n",
    "\n",
    "An assessment of the mutation as somatic, germline, LOH, post transcriptional modification, unknown, or none"
   ]
  },
  {
   "cell_type": "code",
   "execution_count": 72,
   "id": "99dfab91",
   "metadata": {},
   "outputs": [
    {
     "data": {
      "text/html": [
       "3"
      ],
      "text/latex": [
       "3"
      ],
      "text/markdown": [
       "3"
      ],
      "text/plain": [
       "[1] 3"
      ]
     },
     "metadata": {},
     "output_type": "display_data"
    },
    {
     "data": {
      "text/html": [
       "<style>\n",
       ".list-inline {list-style: none; margin:0; padding: 0}\n",
       ".list-inline>li {display: inline-block}\n",
       ".list-inline>li:not(:last-child)::after {content: \"\\00b7\"; padding: 0 .5ex}\n",
       "</style>\n",
       "<ol class=list-inline><li>'Somatic'</li><li>'SOMATIC'</li><li>'UNKNOWN'</li></ol>\n"
      ],
      "text/latex": [
       "\\begin{enumerate*}\n",
       "\\item 'Somatic'\n",
       "\\item 'SOMATIC'\n",
       "\\item 'UNKNOWN'\n",
       "\\end{enumerate*}\n"
      ],
      "text/markdown": [
       "1. 'Somatic'\n",
       "2. 'SOMATIC'\n",
       "3. 'UNKNOWN'\n",
       "\n",
       "\n"
      ],
      "text/plain": [
       "[1] \"Somatic\" \"SOMATIC\" \"UNKNOWN\""
      ]
     },
     "metadata": {},
     "output_type": "display_data"
    },
    {
     "data": {
      "image/png": "[encoded data removed]",
      "text/plain": [
       "plot without title"
      ]
     },
     "metadata": {
      "image/png": {
       "height": 420,
       "width": 420
      }
     },
     "output_type": "display_data"
    }
   ],
   "source": [
    "# How many statuses are there?\n",
    "length(unique(mutation_data[['Mutation_Status']]))\n",
    "# What are they called?\n",
    "unique(mutation_data[['Mutation_Status']])\n",
    "\n",
    "# How is the data distributed across these statuses?\n",
    "ggplot(mutation_data, aes(x=Mutation_Status)) + geom_bar() + scale_x_discrete(guide = guide_axis(angle = -90))"
   ]
  },
  {
   "cell_type": "markdown",
   "id": "fc2ff32e",
   "metadata": {},
   "source": [
    "Disregarding the formatting differences, we see that all mutations known mutations are Somatic, with very few being of unknown origin."
   ]
  },
  {
   "cell_type": "markdown",
   "id": "772a6a86",
   "metadata": {},
   "source": [
    "#### Sequence_Source\n",
    "\n",
    "Molecular assay type used to produce the analytes used for sequencing"
   ]
  },
  {
   "cell_type": "code",
   "execution_count": 74,
   "id": "afd16a52",
   "metadata": {},
   "outputs": [
    {
     "data": {
      "text/html": [
       "1"
      ],
      "text/latex": [
       "1"
      ],
      "text/markdown": [
       "1"
      ],
      "text/plain": [
       "[1] 1"
      ]
     },
     "metadata": {},
     "output_type": "display_data"
    },
    {
     "data": {
      "text/html": [
       "&lt;NA&gt;"
      ],
      "text/latex": [
       "<NA>"
      ],
      "text/markdown": [
       "&lt;NA&gt;"
      ],
      "text/plain": [
       "[1] NA"
      ]
     },
     "metadata": {},
     "output_type": "display_data"
    }
   ],
   "source": [
    "# How many statuses are there?\n",
    "length(unique(mutation_data[['Sequence_Source']]))\n",
    "# What are they called?\n",
    "unique(mutation_data[['Sequence_Source']])"
   ]
  },
  {
   "cell_type": "markdown",
   "id": "924b33c7",
   "metadata": {},
   "source": [
    "The sequence source is apparently unknown. Good to know (Irony intended)."
   ]
  },
  {
   "cell_type": "markdown",
   "id": "0bd18680",
   "metadata": {},
   "source": [
    "#### Round-off\n",
    "\n",
    "From examining the columns, we have found that Sequence_Source, Mutation_Status and NCBI_Build are uninformative. The remaining columns have data that might be informative."
   ]
  }
 ],
 "metadata": {
  "kernelspec": {
   "display_name": "R",
   "language": "R",
   "name": "ir"
  },
  "language_info": {
   "codemirror_mode": "r",
   "file_extension": ".r",
   "mimetype": "text/x-r-source",
   "name": "R",
   "pygments_lexer": "r",
   "version": "4.2.2"
  }
 },
 "nbformat": 4,
 "nbformat_minor": 5
}
