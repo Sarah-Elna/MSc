{
 "cells": [
  {
   "cell_type": "markdown",
   "id": "68fe4ad5",
   "metadata": {},
   "source": [
    "# Results and Figures\n",
    "\n",
    "I don't really know what this script is going to contain. I want to actually look at my results, compare them and make heads of it all. This script might also be used to make and save figures and look up things I need for the report.\n",
    "\n",
    "Let chaos ensue!"
   ]
  },
  {
   "cell_type": "markdown",
   "id": "a81dfdac",
   "metadata": {},
   "source": [
    "## Setup"
   ]
  },
  {
   "cell_type": "code",
   "execution_count": 1,
   "id": "3077eea9",
   "metadata": {},
   "outputs": [
    {
     "name": "stderr",
     "output_type": "stream",
     "text": [
      "Warning message:\n",
      "“package ‘ggplot2’ was built under R version 4.2.3”\n",
      "Warning message:\n",
      "“package ‘dplyr’ was built under R version 4.2.3”\n",
      "\n",
      "Attaching package: ‘dplyr’\n",
      "\n",
      "\n",
      "The following objects are masked from ‘package:stats’:\n",
      "\n",
      "    filter, lag\n",
      "\n",
      "\n",
      "The following objects are masked from ‘package:base’:\n",
      "\n",
      "    intersect, setdiff, setequal, union\n",
      "\n",
      "\n"
     ]
    }
   ],
   "source": [
    "library(\"ggplot2\")\n",
    "library('dplyr')"
   ]
  },
  {
   "cell_type": "code",
   "execution_count": 2,
   "id": "c181ac0b",
   "metadata": {},
   "outputs": [],
   "source": [
    "# We have a list of our different cancer-types of interest\n",
    "cancer_list <- c('Bladder Cancer',\n",
    "                 'Breast Cancer',\n",
    "                 'Colorectal Cancer',\n",
    "                 'Endometrial Cancer',\n",
    "                 'Esophagogastric Cancer',\n",
    "                 'Glioma',\n",
    "                 'Head and Neck Cancer',\n",
    "                 'Hepatobiliary Cancer',\n",
    "                 'Mature B-Cell Neoplasms',\n",
    "                 'Melanoma',\n",
    "                 'Ovarian Cancer',\n",
    "                 'Pancreatic Cancer',\n",
    "                 'Prostate Cancer',\n",
    "                 'Renal Cell Carcinoma',\n",
    "                 'Soft Tissue Sarcoma',\n",
    "                 'Thyroid Cancer')"
   ]
  },
  {
   "cell_type": "markdown",
   "id": "e3ba9c7d",
   "metadata": {},
   "source": [
    "# Mean Alone-factor"
   ]
  },
  {
   "cell_type": "code",
   "execution_count": 3,
   "id": "3a0f48d2",
   "metadata": {},
   "outputs": [
    {
     "data": {
      "text/html": [
       "<style>\n",
       ".list-inline {list-style: none; margin:0; padding: 0}\n",
       ".list-inline>li {display: inline-block}\n",
       ".list-inline>li:not(:last-child)::after {content: \"\\00b7\"; padding: 0 .5ex}\n",
       "</style>\n",
       "<ol class=list-inline><li>1292133</li><li>6</li></ol>\n"
      ],
      "text/latex": [
       "\\begin{enumerate*}\n",
       "\\item 1292133\n",
       "\\item 6\n",
       "\\end{enumerate*}\n"
      ],
      "text/markdown": [
       "1. 1292133\n",
       "2. 6\n",
       "\n",
       "\n"
      ],
      "text/plain": [
       "[1] 1292133       6"
      ]
     },
     "metadata": {},
     "output_type": "display_data"
    },
    {
     "data": {
      "text/html": [
       "<style>\n",
       ".list-inline {list-style: none; margin:0; padding: 0}\n",
       ".list-inline>li {display: inline-block}\n",
       ".list-inline>li:not(:last-child)::after {content: \"\\00b7\"; padding: 0 .5ex}\n",
       "</style>\n",
       "<ol class=list-inline><li>1104470</li><li>6</li></ol>\n"
      ],
      "text/latex": [
       "\\begin{enumerate*}\n",
       "\\item 1104470\n",
       "\\item 6\n",
       "\\end{enumerate*}\n"
      ],
      "text/markdown": [
       "1. 1104470\n",
       "2. 6\n",
       "\n",
       "\n"
      ],
      "text/plain": [
       "[1] 1104470       6"
      ]
     },
     "metadata": {},
     "output_type": "display_data"
    },
    {
     "data": {
      "text/html": [
       "<table class=\"dataframe\">\n",
       "<caption>A data.frame: 6 × 6</caption>\n",
       "<thead>\n",
       "\t<tr><th></th><th scope=col>cancer_type</th><th scope=col>age_interval</th><th scope=col>sex</th><th scope=col>sample_type</th><th scope=col>Hugo_Symbol</th><th scope=col>alone_factor</th></tr>\n",
       "\t<tr><th></th><th scope=col>&lt;chr&gt;</th><th scope=col>&lt;chr&gt;</th><th scope=col>&lt;chr&gt;</th><th scope=col>&lt;chr&gt;</th><th scope=col>&lt;chr&gt;</th><th scope=col>&lt;dbl&gt;</th></tr>\n",
       "</thead>\n",
       "<tbody>\n",
       "\t<tr><th scope=row>1</th><td>General</td><td>&lt;45</td><td>Male</td><td>Primary</td><td><span style=white-space:pre-wrap>BRAF  </span></td><td>0.3333333</td></tr>\n",
       "\t<tr><th scope=row>2</th><td>General</td><td>&lt;45</td><td>Male</td><td>Primary</td><td>FBXW7 </td><td>0.3333333</td></tr>\n",
       "\t<tr><th scope=row>3</th><td>General</td><td>&lt;45</td><td>Male</td><td>Primary</td><td>NOTCH1</td><td>0.3333333</td></tr>\n",
       "\t<tr><th scope=row>4</th><td>General</td><td>&lt;45</td><td>Male</td><td>Primary</td><td><span style=white-space:pre-wrap>TP53  </span></td><td>0.3333333</td></tr>\n",
       "\t<tr><th scope=row>5</th><td>General</td><td>&lt;45</td><td>Male</td><td>Primary</td><td>FGFR3 </td><td>0.3333333</td></tr>\n",
       "\t<tr><th scope=row>6</th><td>General</td><td>&lt;45</td><td>Male</td><td>Primary</td><td><span style=white-space:pre-wrap>APC   </span></td><td>0.3333333</td></tr>\n",
       "</tbody>\n",
       "</table>\n"
      ],
      "text/latex": [
       "A data.frame: 6 × 6\n",
       "\\begin{tabular}{r|llllll}\n",
       "  & cancer\\_type & age\\_interval & sex & sample\\_type & Hugo\\_Symbol & alone\\_factor\\\\\n",
       "  & <chr> & <chr> & <chr> & <chr> & <chr> & <dbl>\\\\\n",
       "\\hline\n",
       "\t1 & General & <45 & Male & Primary & BRAF   & 0.3333333\\\\\n",
       "\t2 & General & <45 & Male & Primary & FBXW7  & 0.3333333\\\\\n",
       "\t3 & General & <45 & Male & Primary & NOTCH1 & 0.3333333\\\\\n",
       "\t4 & General & <45 & Male & Primary & TP53   & 0.3333333\\\\\n",
       "\t5 & General & <45 & Male & Primary & FGFR3  & 0.3333333\\\\\n",
       "\t6 & General & <45 & Male & Primary & APC    & 0.3333333\\\\\n",
       "\\end{tabular}\n"
      ],
      "text/markdown": [
       "\n",
       "A data.frame: 6 × 6\n",
       "\n",
       "| <!--/--> | cancer_type &lt;chr&gt; | age_interval &lt;chr&gt; | sex &lt;chr&gt; | sample_type &lt;chr&gt; | Hugo_Symbol &lt;chr&gt; | alone_factor &lt;dbl&gt; |\n",
       "|---|---|---|---|---|---|---|\n",
       "| 1 | General | &lt;45 | Male | Primary | BRAF   | 0.3333333 |\n",
       "| 2 | General | &lt;45 | Male | Primary | FBXW7  | 0.3333333 |\n",
       "| 3 | General | &lt;45 | Male | Primary | NOTCH1 | 0.3333333 |\n",
       "| 4 | General | &lt;45 | Male | Primary | TP53   | 0.3333333 |\n",
       "| 5 | General | &lt;45 | Male | Primary | FGFR3  | 0.3333333 |\n",
       "| 6 | General | &lt;45 | Male | Primary | APC    | 0.3333333 |\n",
       "\n"
      ],
      "text/plain": [
       "  cancer_type age_interval sex  sample_type Hugo_Symbol alone_factor\n",
       "1 General     <45          Male Primary     BRAF        0.3333333   \n",
       "2 General     <45          Male Primary     FBXW7       0.3333333   \n",
       "3 General     <45          Male Primary     NOTCH1      0.3333333   \n",
       "4 General     <45          Male Primary     TP53        0.3333333   \n",
       "5 General     <45          Male Primary     FGFR3       0.3333333   \n",
       "6 General     <45          Male Primary     APC         0.3333333   "
      ]
     },
     "metadata": {},
     "output_type": "display_data"
    },
    {
     "data": {
      "text/html": [
       "<style>\n",
       ".list-inline {list-style: none; margin:0; padding: 0}\n",
       ".list-inline>li {display: inline-block}\n",
       ".list-inline>li:not(:last-child)::after {content: \"\\00b7\"; padding: 0 .5ex}\n",
       "</style>\n",
       "<ol class=list-inline><li>2396603</li><li>6</li></ol>\n"
      ],
      "text/latex": [
       "\\begin{enumerate*}\n",
       "\\item 2396603\n",
       "\\item 6\n",
       "\\end{enumerate*}\n"
      ],
      "text/markdown": [
       "1. 2396603\n",
       "2. 6\n",
       "\n",
       "\n"
      ],
      "text/plain": [
       "[1] 2396603       6"
      ]
     },
     "metadata": {},
     "output_type": "display_data"
    }
   ],
   "source": [
    "# Data\n",
    "## Generel\n",
    "general_alone_factor <- read.csv(\"../../derived_data/genie_v15/g_alone_factor.csv\", header=TRUE, stringsAsFactors=FALSE)\n",
    "general_alone_factor <- general_alone_factor %>% select(-group)\n",
    "general_alone_factor <- cbind(cancer_type = 'General', general_alone_factor)\n",
    "#head(general_alone_factor)\n",
    "dim(general_alone_factor)\n",
    "\n",
    "## Cancer-specific\n",
    "cancer_specific_alone_factor <- read.csv(\"../../derived_data/genie_v15/cs_alone_factor.csv\", header=TRUE, stringsAsFactors=FALSE)\n",
    "cancer_specific_alone_factor <- cancer_specific_alone_factor %>% select(-group)\n",
    "#head(cancer_specific_alone_factor)\n",
    "dim(cancer_specific_alone_factor)\n",
    "\n",
    "# Combining them\n",
    "alone_factor <- rbind(general_alone_factor, cancer_specific_alone_factor)\n",
    "head(alone_factor)\n",
    "dim(alone_factor)"
   ]
  },
  {
   "cell_type": "code",
   "execution_count": 4,
   "id": "279801ae",
   "metadata": {
    "scrolled": false
   },
   "outputs": [
    {
     "name": "stderr",
     "output_type": "stream",
     "text": [
      "\u001b[1m\u001b[22m`summarise()` has grouped output by 'Hugo_Symbol', 'sex'. You can override using the `.groups`\n",
      "argument.\n",
      "\u001b[1m\u001b[22m`summarise()` has grouped output by 'Hugo_Symbol', 'cancer_type', 'sex'. You can override using the\n",
      "`.groups` argument.\n",
      "\u001b[1m\u001b[22m`summarise()` has grouped output by 'Hugo_Symbol', 'sex'. You can override using the `.groups`\n",
      "argument.\n",
      "\u001b[1m\u001b[22m`summarise()` has grouped output by 'Hugo_Symbol', 'cancer_type', 'sex'. You can override using the\n",
      "`.groups` argument.\n"
     ]
    },
    {
     "data": {
      "text/html": [
       "<table class=\"dataframe\">\n",
       "<caption>A grouped_df: 10 × 5</caption>\n",
       "<thead>\n",
       "\t<tr><th scope=col>Hugo_Symbol</th><th scope=col>sex</th><th scope=col>sample_type</th><th scope=col>n</th><th scope=col>m_alone_factor</th></tr>\n",
       "\t<tr><th scope=col>&lt;chr&gt;</th><th scope=col>&lt;chr&gt;</th><th scope=col>&lt;chr&gt;</th><th scope=col>&lt;int&gt;</th><th scope=col>&lt;dbl&gt;</th></tr>\n",
       "</thead>\n",
       "<tbody>\n",
       "\t<tr><td>EIF1AX</td><td>Female</td><td>Metastasis</td><td> 279</td><td>0.3054219</td></tr>\n",
       "\t<tr><td>EIF1AX</td><td>Male  </td><td>Primary   </td><td> 689</td><td>0.2957824</td></tr>\n",
       "\t<tr><td>EIF1AX</td><td>Male  </td><td>Metastasis</td><td> 294</td><td>0.2951349</td></tr>\n",
       "\t<tr><td>EIF1AX</td><td>Female</td><td>Primary   </td><td> 757</td><td>0.2920278</td></tr>\n",
       "\t<tr><td>BRAF  </td><td>Male  </td><td>Metastasis</td><td>1718</td><td>0.2755679</td></tr>\n",
       "\t<tr><td>BRAF  </td><td>Female</td><td>Metastasis</td><td>1600</td><td>0.2656970</td></tr>\n",
       "\t<tr><td>SPOP  </td><td>Male  </td><td>Primary   </td><td> 605</td><td>0.2649204</td></tr>\n",
       "\t<tr><td>NRAS  </td><td>Male  </td><td>Primary   </td><td>1126</td><td>0.2647109</td></tr>\n",
       "\t<tr><td>NRAS  </td><td>Female</td><td>Metastasis</td><td> 735</td><td>0.2572229</td></tr>\n",
       "\t<tr><td>NRAS  </td><td>Male  </td><td>Metastasis</td><td> 910</td><td>0.2570561</td></tr>\n",
       "</tbody>\n",
       "</table>\n"
      ],
      "text/latex": [
       "A grouped\\_df: 10 × 5\n",
       "\\begin{tabular}{lllll}\n",
       " Hugo\\_Symbol & sex & sample\\_type & n & m\\_alone\\_factor\\\\\n",
       " <chr> & <chr> & <chr> & <int> & <dbl>\\\\\n",
       "\\hline\n",
       "\t EIF1AX & Female & Metastasis &  279 & 0.3054219\\\\\n",
       "\t EIF1AX & Male   & Primary    &  689 & 0.2957824\\\\\n",
       "\t EIF1AX & Male   & Metastasis &  294 & 0.2951349\\\\\n",
       "\t EIF1AX & Female & Primary    &  757 & 0.2920278\\\\\n",
       "\t BRAF   & Male   & Metastasis & 1718 & 0.2755679\\\\\n",
       "\t BRAF   & Female & Metastasis & 1600 & 0.2656970\\\\\n",
       "\t SPOP   & Male   & Primary    &  605 & 0.2649204\\\\\n",
       "\t NRAS   & Male   & Primary    & 1126 & 0.2647109\\\\\n",
       "\t NRAS   & Female & Metastasis &  735 & 0.2572229\\\\\n",
       "\t NRAS   & Male   & Metastasis &  910 & 0.2570561\\\\\n",
       "\\end{tabular}\n"
      ],
      "text/markdown": [
       "\n",
       "A grouped_df: 10 × 5\n",
       "\n",
       "| Hugo_Symbol &lt;chr&gt; | sex &lt;chr&gt; | sample_type &lt;chr&gt; | n &lt;int&gt; | m_alone_factor &lt;dbl&gt; |\n",
       "|---|---|---|---|---|\n",
       "| EIF1AX | Female | Metastasis |  279 | 0.3054219 |\n",
       "| EIF1AX | Male   | Primary    |  689 | 0.2957824 |\n",
       "| EIF1AX | Male   | Metastasis |  294 | 0.2951349 |\n",
       "| EIF1AX | Female | Primary    |  757 | 0.2920278 |\n",
       "| BRAF   | Male   | Metastasis | 1718 | 0.2755679 |\n",
       "| BRAF   | Female | Metastasis | 1600 | 0.2656970 |\n",
       "| SPOP   | Male   | Primary    |  605 | 0.2649204 |\n",
       "| NRAS   | Male   | Primary    | 1126 | 0.2647109 |\n",
       "| NRAS   | Female | Metastasis |  735 | 0.2572229 |\n",
       "| NRAS   | Male   | Metastasis |  910 | 0.2570561 |\n",
       "\n"
      ],
      "text/plain": [
       "   Hugo_Symbol sex    sample_type n    m_alone_factor\n",
       "1  EIF1AX      Female Metastasis   279 0.3054219     \n",
       "2  EIF1AX      Male   Primary      689 0.2957824     \n",
       "3  EIF1AX      Male   Metastasis   294 0.2951349     \n",
       "4  EIF1AX      Female Primary      757 0.2920278     \n",
       "5  BRAF        Male   Metastasis  1718 0.2755679     \n",
       "6  BRAF        Female Metastasis  1600 0.2656970     \n",
       "7  SPOP        Male   Primary      605 0.2649204     \n",
       "8  NRAS        Male   Primary     1126 0.2647109     \n",
       "9  NRAS        Female Metastasis   735 0.2572229     \n",
       "10 NRAS        Male   Metastasis   910 0.2570561     "
      ]
     },
     "metadata": {},
     "output_type": "display_data"
    }
   ],
   "source": [
    "# How many times has each gene been tested?\n",
    "## general\n",
    "g_n <- general_alone_factor %>% group_by(Hugo_Symbol, sex, sample_type) %>% summarise(n=n())\n",
    "## cancer-specific\n",
    "cs_n <- cancer_specific_alone_factor %>% group_by(Hugo_Symbol, cancer_type, sex, sample_type) %>% summarise(n=n())\n",
    "\n",
    "# What is the mean alone-factor?\n",
    "## general\n",
    "g_mean <- general_alone_factor %>% group_by(Hugo_Symbol, sex, sample_type) %>% summarise(m_alone_factor=mean(alone_factor))\n",
    "## cancer-specific\n",
    "cs_mean <- cancer_specific_alone_factor %>% group_by(Hugo_Symbol, cancer_type, sex, sample_type) %>% summarise(m_alone_factor=mean(alone_factor))\n",
    "\n",
    "# Combining the two results\n",
    "## general\n",
    "g_mean_alone <- left_join(g_n, g_mean, by = c(\"Hugo_Symbol\" = \"Hugo_Symbol\", \"sex\" = \"sex\", \"sample_type\" = \"sample_type\"))\n",
    "## cancer-specific\n",
    "cs_mean_alone <- left_join(cs_n, cs_mean, by = c(\"Hugo_Symbol\" = \"Hugo_Symbol\", \"cancer_type\" = \"cancer_type\", \"sex\" = \"sex\", \"sample_type\" = \"sample_type\"))\n",
    "\n",
    "# Limiting our search to genes with more than 100 mutations\n",
    "g_mean_alone <- g_mean_alone[which(g_mean_alone$n>100),]\n",
    "# Sorting by percentage of mutations\n",
    "tmp <- g_mean_alone[order(-g_mean_alone$m_alone_factor), ]\n",
    "# Top 10\n",
    "tmp[1:10,]"
   ]
  },
  {
   "cell_type": "code",
   "execution_count": 5,
   "id": "7b0e7bc0",
   "metadata": {},
   "outputs": [
    {
     "data": {
      "text/html": [
       "<table class=\"dataframe\">\n",
       "<caption>A tibble: 10 × 2</caption>\n",
       "<thead>\n",
       "\t<tr><th scope=col>Hugo_Symbol</th><th scope=col>m_rank</th></tr>\n",
       "\t<tr><th scope=col>&lt;chr&gt;</th><th scope=col>&lt;dbl&gt;</th></tr>\n",
       "</thead>\n",
       "<tbody>\n",
       "\t<tr><td>EIF1AX</td><td>2250.50</td></tr>\n",
       "\t<tr><td>BRAF  </td><td>2244.00</td></tr>\n",
       "\t<tr><td>NRAS  </td><td>2241.50</td></tr>\n",
       "\t<tr><td>KRAS  </td><td>2239.00</td></tr>\n",
       "\t<tr><td>TP53  </td><td>2232.00</td></tr>\n",
       "\t<tr><td>IDH1  </td><td>2218.25</td></tr>\n",
       "\t<tr><td>EGFR  </td><td>2213.50</td></tr>\n",
       "\t<tr><td>VHL   </td><td>2213.00</td></tr>\n",
       "\t<tr><td>USH2A </td><td>2206.00</td></tr>\n",
       "\t<tr><td>DNAH11</td><td>2205.00</td></tr>\n",
       "</tbody>\n",
       "</table>\n"
      ],
      "text/latex": [
       "A tibble: 10 × 2\n",
       "\\begin{tabular}{ll}\n",
       " Hugo\\_Symbol & m\\_rank\\\\\n",
       " <chr> & <dbl>\\\\\n",
       "\\hline\n",
       "\t EIF1AX & 2250.50\\\\\n",
       "\t BRAF   & 2244.00\\\\\n",
       "\t NRAS   & 2241.50\\\\\n",
       "\t KRAS   & 2239.00\\\\\n",
       "\t TP53   & 2232.00\\\\\n",
       "\t IDH1   & 2218.25\\\\\n",
       "\t EGFR   & 2213.50\\\\\n",
       "\t VHL    & 2213.00\\\\\n",
       "\t USH2A  & 2206.00\\\\\n",
       "\t DNAH11 & 2205.00\\\\\n",
       "\\end{tabular}\n"
      ],
      "text/markdown": [
       "\n",
       "A tibble: 10 × 2\n",
       "\n",
       "| Hugo_Symbol &lt;chr&gt; | m_rank &lt;dbl&gt; |\n",
       "|---|---|\n",
       "| EIF1AX | 2250.50 |\n",
       "| BRAF   | 2244.00 |\n",
       "| NRAS   | 2241.50 |\n",
       "| KRAS   | 2239.00 |\n",
       "| TP53   | 2232.00 |\n",
       "| IDH1   | 2218.25 |\n",
       "| EGFR   | 2213.50 |\n",
       "| VHL    | 2213.00 |\n",
       "| USH2A  | 2206.00 |\n",
       "| DNAH11 | 2205.00 |\n",
       "\n"
      ],
      "text/plain": [
       "   Hugo_Symbol m_rank \n",
       "1  EIF1AX      2250.50\n",
       "2  BRAF        2244.00\n",
       "3  NRAS        2241.50\n",
       "4  KRAS        2239.00\n",
       "5  TP53        2232.00\n",
       "6  IDH1        2218.25\n",
       "7  EGFR        2213.50\n",
       "8  VHL         2213.00\n",
       "9  USH2A       2206.00\n",
       "10 DNAH11      2205.00"
      ]
     },
     "metadata": {},
     "output_type": "display_data"
    }
   ],
   "source": [
    "#Ranking the general data\n",
    "g_mean_alone$rank <- NA\n",
    "g_mean_alone$rank <- rank(g_mean_alone$m_alone_factor)\n",
    "tmp <- g_mean_alone[order(-g_mean_alone$rank), ]\n",
    "#tmp[1:10,]\n",
    "\n",
    "# Finding the mean rank in the general data\n",
    "mean_rank <- g_mean_alone %>% group_by(Hugo_Symbol) %>% summarize(m_rank = mean(rank, na.rm=TRUE))\n",
    "mean_rank <- mean_rank[order(-mean_rank$m_rank), ]\n",
    "mean_rank[1:10,]\n",
    "\n",
    "# High rank --> high alone-factor"
   ]
  },
  {
   "cell_type": "code",
   "execution_count": 6,
   "id": "a775675a",
   "metadata": {},
   "outputs": [
    {
     "data": {
      "text/html": [
       "<table class=\"dataframe\">\n",
       "<caption>A grouped_df: 40 × 6</caption>\n",
       "<thead>\n",
       "\t<tr><th scope=col>Hugo_Symbol</th><th scope=col>sex</th><th scope=col>sample_type</th><th scope=col>n</th><th scope=col>m_alone_factor</th><th scope=col>rank</th></tr>\n",
       "\t<tr><th scope=col>&lt;chr&gt;</th><th scope=col>&lt;chr&gt;</th><th scope=col>&lt;chr&gt;</th><th scope=col>&lt;int&gt;</th><th scope=col>&lt;dbl&gt;</th><th scope=col>&lt;dbl&gt;</th></tr>\n",
       "</thead>\n",
       "<tbody>\n",
       "\t<tr><td>EIF1AX</td><td>Female</td><td>Primary   </td><td>  757</td><td>0.2920278</td><td>2249</td></tr>\n",
       "\t<tr><td>BRAF  </td><td>Female</td><td>Primary   </td><td> 2906</td><td>0.2535068</td><td>2240</td></tr>\n",
       "\t<tr><td>KRAS  </td><td>Female</td><td>Primary   </td><td> 8383</td><td>0.2463658</td><td>2238</td></tr>\n",
       "\t<tr><td>TP53  </td><td>Female</td><td>Primary   </td><td>21126</td><td>0.2403966</td><td>2235</td></tr>\n",
       "\t<tr><td>NRAS  </td><td>Female</td><td>Primary   </td><td> 1062</td><td>0.2306710</td><td>2234</td></tr>\n",
       "\t<tr><td>EGFR  </td><td>Female</td><td>Primary   </td><td> 3972</td><td>0.2196326</td><td>2227</td></tr>\n",
       "\t<tr><td>VHL   </td><td>Female</td><td>Primary   </td><td>  467</td><td>0.1973821</td><td>2221</td></tr>\n",
       "\t<tr><td>IDH1  </td><td>Female</td><td>Primary   </td><td> 1470</td><td>0.1906438</td><td>2216</td></tr>\n",
       "\t<tr><td>KIT   </td><td>Female</td><td>Primary   </td><td> 1783</td><td>0.1886996</td><td>2215</td></tr>\n",
       "\t<tr><td>PIK3CA</td><td>Female</td><td>Primary   </td><td> 9730</td><td>0.1809648</td><td>2210</td></tr>\n",
       "\t<tr><td>EIF1AX</td><td>Male  </td><td>Primary   </td><td>  689</td><td>0.2957824</td><td>2251</td></tr>\n",
       "\t<tr><td>SPOP  </td><td>Male  </td><td>Primary   </td><td>  605</td><td>0.2649204</td><td>2246</td></tr>\n",
       "\t<tr><td>NRAS  </td><td>Male  </td><td>Primary   </td><td> 1126</td><td>0.2647109</td><td>2245</td></tr>\n",
       "\t<tr><td>KRAS  </td><td>Male  </td><td>Primary   </td><td> 6662</td><td>0.2550739</td><td>2242</td></tr>\n",
       "\t<tr><td>BRAF  </td><td>Male  </td><td>Primary   </td><td> 2470</td><td>0.2543382</td><td>2241</td></tr>\n",
       "\t<tr><td>KIT   </td><td>Male  </td><td>Primary   </td><td> 1578</td><td>0.2297539</td><td>2233</td></tr>\n",
       "\t<tr><td>VHL   </td><td>Male  </td><td>Primary   </td><td>  740</td><td>0.2294071</td><td>2232</td></tr>\n",
       "\t<tr><td>IDH1  </td><td>Male  </td><td>Primary   </td><td> 1635</td><td>0.2251278</td><td>2231</td></tr>\n",
       "\t<tr><td>TP53  </td><td>Male  </td><td>Primary   </td><td>18500</td><td>0.2203759</td><td>2228</td></tr>\n",
       "\t<tr><td>FOXA1 </td><td>Male  </td><td>Primary   </td><td>  778</td><td>0.2178649</td><td>2226</td></tr>\n",
       "\t<tr><td>EIF1AX</td><td>Female</td><td>Metastasis</td><td>  279</td><td>0.3054219</td><td>2252</td></tr>\n",
       "\t<tr><td>BRAF  </td><td>Female</td><td>Metastasis</td><td> 1600</td><td>0.2656970</td><td>2247</td></tr>\n",
       "\t<tr><td>NRAS  </td><td>Female</td><td>Metastasis</td><td>  735</td><td>0.2572229</td><td>2244</td></tr>\n",
       "\t<tr><td>KRAS  </td><td>Female</td><td>Metastasis</td><td> 4396</td><td>0.2429821</td><td>2237</td></tr>\n",
       "\t<tr><td>TP53  </td><td>Female</td><td>Metastasis</td><td>12773</td><td>0.2414124</td><td>2236</td></tr>\n",
       "\t<tr><td>PIK3CA</td><td>Female</td><td>Metastasis</td><td> 4332</td><td>0.1983838</td><td>2223</td></tr>\n",
       "\t<tr><td>EGFR  </td><td>Female</td><td>Metastasis</td><td> 1848</td><td>0.1963172</td><td>2220</td></tr>\n",
       "\t<tr><td>GNAQ  </td><td>Female</td><td>Metastasis</td><td>  219</td><td>0.1943969</td><td>2219</td></tr>\n",
       "\t<tr><td>IDH1  </td><td>Female</td><td>Metastasis</td><td>  395</td><td>0.1921243</td><td>2217</td></tr>\n",
       "\t<tr><td>GATA3 </td><td>Female</td><td>Metastasis</td><td>  944</td><td>0.1874347</td><td>2214</td></tr>\n",
       "\t<tr><td>EIF1AX</td><td>Male  </td><td>Metastasis</td><td>  294</td><td>0.2951349</td><td>2250</td></tr>\n",
       "\t<tr><td>BRAF  </td><td>Male  </td><td>Metastasis</td><td> 1718</td><td>0.2755679</td><td>2248</td></tr>\n",
       "\t<tr><td>NRAS  </td><td>Male  </td><td>Metastasis</td><td>  910</td><td>0.2570561</td><td>2243</td></tr>\n",
       "\t<tr><td>KRAS  </td><td>Male  </td><td>Metastasis</td><td> 3756</td><td>0.2496445</td><td>2239</td></tr>\n",
       "\t<tr><td>HRAS  </td><td>Male  </td><td>Metastasis</td><td>  239</td><td>0.2221859</td><td>2230</td></tr>\n",
       "\t<tr><td>TP53  </td><td>Male  </td><td>Metastasis</td><td> 9703</td><td>0.2220798</td><td>2229</td></tr>\n",
       "\t<tr><td>SPOP  </td><td>Male  </td><td>Metastasis</td><td>  289</td><td>0.2011476</td><td>2225</td></tr>\n",
       "\t<tr><td>VHL   </td><td>Male  </td><td>Metastasis</td><td>  436</td><td>0.2006646</td><td>2224</td></tr>\n",
       "\t<tr><td>IDH1  </td><td>Male  </td><td>Metastasis</td><td>  428</td><td>0.1776834</td><td>2209</td></tr>\n",
       "\t<tr><td>CTNNB1</td><td>Male  </td><td>Metastasis</td><td>  691</td><td>0.1753311</td><td>2207</td></tr>\n",
       "</tbody>\n",
       "</table>\n"
      ],
      "text/latex": [
       "A grouped\\_df: 40 × 6\n",
       "\\begin{tabular}{llllll}\n",
       " Hugo\\_Symbol & sex & sample\\_type & n & m\\_alone\\_factor & rank\\\\\n",
       " <chr> & <chr> & <chr> & <int> & <dbl> & <dbl>\\\\\n",
       "\\hline\n",
       "\t EIF1AX & Female & Primary    &   757 & 0.2920278 & 2249\\\\\n",
       "\t BRAF   & Female & Primary    &  2906 & 0.2535068 & 2240\\\\\n",
       "\t KRAS   & Female & Primary    &  8383 & 0.2463658 & 2238\\\\\n",
       "\t TP53   & Female & Primary    & 21126 & 0.2403966 & 2235\\\\\n",
       "\t NRAS   & Female & Primary    &  1062 & 0.2306710 & 2234\\\\\n",
       "\t EGFR   & Female & Primary    &  3972 & 0.2196326 & 2227\\\\\n",
       "\t VHL    & Female & Primary    &   467 & 0.1973821 & 2221\\\\\n",
       "\t IDH1   & Female & Primary    &  1470 & 0.1906438 & 2216\\\\\n",
       "\t KIT    & Female & Primary    &  1783 & 0.1886996 & 2215\\\\\n",
       "\t PIK3CA & Female & Primary    &  9730 & 0.1809648 & 2210\\\\\n",
       "\t EIF1AX & Male   & Primary    &   689 & 0.2957824 & 2251\\\\\n",
       "\t SPOP   & Male   & Primary    &   605 & 0.2649204 & 2246\\\\\n",
       "\t NRAS   & Male   & Primary    &  1126 & 0.2647109 & 2245\\\\\n",
       "\t KRAS   & Male   & Primary    &  6662 & 0.2550739 & 2242\\\\\n",
       "\t BRAF   & Male   & Primary    &  2470 & 0.2543382 & 2241\\\\\n",
       "\t KIT    & Male   & Primary    &  1578 & 0.2297539 & 2233\\\\\n",
       "\t VHL    & Male   & Primary    &   740 & 0.2294071 & 2232\\\\\n",
       "\t IDH1   & Male   & Primary    &  1635 & 0.2251278 & 2231\\\\\n",
       "\t TP53   & Male   & Primary    & 18500 & 0.2203759 & 2228\\\\\n",
       "\t FOXA1  & Male   & Primary    &   778 & 0.2178649 & 2226\\\\\n",
       "\t EIF1AX & Female & Metastasis &   279 & 0.3054219 & 2252\\\\\n",
       "\t BRAF   & Female & Metastasis &  1600 & 0.2656970 & 2247\\\\\n",
       "\t NRAS   & Female & Metastasis &   735 & 0.2572229 & 2244\\\\\n",
       "\t KRAS   & Female & Metastasis &  4396 & 0.2429821 & 2237\\\\\n",
       "\t TP53   & Female & Metastasis & 12773 & 0.2414124 & 2236\\\\\n",
       "\t PIK3CA & Female & Metastasis &  4332 & 0.1983838 & 2223\\\\\n",
       "\t EGFR   & Female & Metastasis &  1848 & 0.1963172 & 2220\\\\\n",
       "\t GNAQ   & Female & Metastasis &   219 & 0.1943969 & 2219\\\\\n",
       "\t IDH1   & Female & Metastasis &   395 & 0.1921243 & 2217\\\\\n",
       "\t GATA3  & Female & Metastasis &   944 & 0.1874347 & 2214\\\\\n",
       "\t EIF1AX & Male   & Metastasis &   294 & 0.2951349 & 2250\\\\\n",
       "\t BRAF   & Male   & Metastasis &  1718 & 0.2755679 & 2248\\\\\n",
       "\t NRAS   & Male   & Metastasis &   910 & 0.2570561 & 2243\\\\\n",
       "\t KRAS   & Male   & Metastasis &  3756 & 0.2496445 & 2239\\\\\n",
       "\t HRAS   & Male   & Metastasis &   239 & 0.2221859 & 2230\\\\\n",
       "\t TP53   & Male   & Metastasis &  9703 & 0.2220798 & 2229\\\\\n",
       "\t SPOP   & Male   & Metastasis &   289 & 0.2011476 & 2225\\\\\n",
       "\t VHL    & Male   & Metastasis &   436 & 0.2006646 & 2224\\\\\n",
       "\t IDH1   & Male   & Metastasis &   428 & 0.1776834 & 2209\\\\\n",
       "\t CTNNB1 & Male   & Metastasis &   691 & 0.1753311 & 2207\\\\\n",
       "\\end{tabular}\n"
      ],
      "text/markdown": [
       "\n",
       "A grouped_df: 40 × 6\n",
       "\n",
       "| Hugo_Symbol &lt;chr&gt; | sex &lt;chr&gt; | sample_type &lt;chr&gt; | n &lt;int&gt; | m_alone_factor &lt;dbl&gt; | rank &lt;dbl&gt; |\n",
       "|---|---|---|---|---|---|\n",
       "| EIF1AX | Female | Primary    |   757 | 0.2920278 | 2249 |\n",
       "| BRAF   | Female | Primary    |  2906 | 0.2535068 | 2240 |\n",
       "| KRAS   | Female | Primary    |  8383 | 0.2463658 | 2238 |\n",
       "| TP53   | Female | Primary    | 21126 | 0.2403966 | 2235 |\n",
       "| NRAS   | Female | Primary    |  1062 | 0.2306710 | 2234 |\n",
       "| EGFR   | Female | Primary    |  3972 | 0.2196326 | 2227 |\n",
       "| VHL    | Female | Primary    |   467 | 0.1973821 | 2221 |\n",
       "| IDH1   | Female | Primary    |  1470 | 0.1906438 | 2216 |\n",
       "| KIT    | Female | Primary    |  1783 | 0.1886996 | 2215 |\n",
       "| PIK3CA | Female | Primary    |  9730 | 0.1809648 | 2210 |\n",
       "| EIF1AX | Male   | Primary    |   689 | 0.2957824 | 2251 |\n",
       "| SPOP   | Male   | Primary    |   605 | 0.2649204 | 2246 |\n",
       "| NRAS   | Male   | Primary    |  1126 | 0.2647109 | 2245 |\n",
       "| KRAS   | Male   | Primary    |  6662 | 0.2550739 | 2242 |\n",
       "| BRAF   | Male   | Primary    |  2470 | 0.2543382 | 2241 |\n",
       "| KIT    | Male   | Primary    |  1578 | 0.2297539 | 2233 |\n",
       "| VHL    | Male   | Primary    |   740 | 0.2294071 | 2232 |\n",
       "| IDH1   | Male   | Primary    |  1635 | 0.2251278 | 2231 |\n",
       "| TP53   | Male   | Primary    | 18500 | 0.2203759 | 2228 |\n",
       "| FOXA1  | Male   | Primary    |   778 | 0.2178649 | 2226 |\n",
       "| EIF1AX | Female | Metastasis |   279 | 0.3054219 | 2252 |\n",
       "| BRAF   | Female | Metastasis |  1600 | 0.2656970 | 2247 |\n",
       "| NRAS   | Female | Metastasis |   735 | 0.2572229 | 2244 |\n",
       "| KRAS   | Female | Metastasis |  4396 | 0.2429821 | 2237 |\n",
       "| TP53   | Female | Metastasis | 12773 | 0.2414124 | 2236 |\n",
       "| PIK3CA | Female | Metastasis |  4332 | 0.1983838 | 2223 |\n",
       "| EGFR   | Female | Metastasis |  1848 | 0.1963172 | 2220 |\n",
       "| GNAQ   | Female | Metastasis |   219 | 0.1943969 | 2219 |\n",
       "| IDH1   | Female | Metastasis |   395 | 0.1921243 | 2217 |\n",
       "| GATA3  | Female | Metastasis |   944 | 0.1874347 | 2214 |\n",
       "| EIF1AX | Male   | Metastasis |   294 | 0.2951349 | 2250 |\n",
       "| BRAF   | Male   | Metastasis |  1718 | 0.2755679 | 2248 |\n",
       "| NRAS   | Male   | Metastasis |   910 | 0.2570561 | 2243 |\n",
       "| KRAS   | Male   | Metastasis |  3756 | 0.2496445 | 2239 |\n",
       "| HRAS   | Male   | Metastasis |   239 | 0.2221859 | 2230 |\n",
       "| TP53   | Male   | Metastasis |  9703 | 0.2220798 | 2229 |\n",
       "| SPOP   | Male   | Metastasis |   289 | 0.2011476 | 2225 |\n",
       "| VHL    | Male   | Metastasis |   436 | 0.2006646 | 2224 |\n",
       "| IDH1   | Male   | Metastasis |   428 | 0.1776834 | 2209 |\n",
       "| CTNNB1 | Male   | Metastasis |   691 | 0.1753311 | 2207 |\n",
       "\n"
      ],
      "text/plain": [
       "   Hugo_Symbol sex    sample_type n     m_alone_factor rank\n",
       "1  EIF1AX      Female Primary       757 0.2920278      2249\n",
       "2  BRAF        Female Primary      2906 0.2535068      2240\n",
       "3  KRAS        Female Primary      8383 0.2463658      2238\n",
       "4  TP53        Female Primary     21126 0.2403966      2235\n",
       "5  NRAS        Female Primary      1062 0.2306710      2234\n",
       "6  EGFR        Female Primary      3972 0.2196326      2227\n",
       "7  VHL         Female Primary       467 0.1973821      2221\n",
       "8  IDH1        Female Primary      1470 0.1906438      2216\n",
       "9  KIT         Female Primary      1783 0.1886996      2215\n",
       "10 PIK3CA      Female Primary      9730 0.1809648      2210\n",
       "11 EIF1AX      Male   Primary       689 0.2957824      2251\n",
       "12 SPOP        Male   Primary       605 0.2649204      2246\n",
       "13 NRAS        Male   Primary      1126 0.2647109      2245\n",
       "14 KRAS        Male   Primary      6662 0.2550739      2242\n",
       "15 BRAF        Male   Primary      2470 0.2543382      2241\n",
       "16 KIT         Male   Primary      1578 0.2297539      2233\n",
       "17 VHL         Male   Primary       740 0.2294071      2232\n",
       "18 IDH1        Male   Primary      1635 0.2251278      2231\n",
       "19 TP53        Male   Primary     18500 0.2203759      2228\n",
       "20 FOXA1       Male   Primary       778 0.2178649      2226\n",
       "21 EIF1AX      Female Metastasis    279 0.3054219      2252\n",
       "22 BRAF        Female Metastasis   1600 0.2656970      2247\n",
       "23 NRAS        Female Metastasis    735 0.2572229      2244\n",
       "24 KRAS        Female Metastasis   4396 0.2429821      2237\n",
       "25 TP53        Female Metastasis  12773 0.2414124      2236\n",
       "26 PIK3CA      Female Metastasis   4332 0.1983838      2223\n",
       "27 EGFR        Female Metastasis   1848 0.1963172      2220\n",
       "28 GNAQ        Female Metastasis    219 0.1943969      2219\n",
       "29 IDH1        Female Metastasis    395 0.1921243      2217\n",
       "30 GATA3       Female Metastasis    944 0.1874347      2214\n",
       "31 EIF1AX      Male   Metastasis    294 0.2951349      2250\n",
       "32 BRAF        Male   Metastasis   1718 0.2755679      2248\n",
       "33 NRAS        Male   Metastasis    910 0.2570561      2243\n",
       "34 KRAS        Male   Metastasis   3756 0.2496445      2239\n",
       "35 HRAS        Male   Metastasis    239 0.2221859      2230\n",
       "36 TP53        Male   Metastasis   9703 0.2220798      2229\n",
       "37 SPOP        Male   Metastasis    289 0.2011476      2225\n",
       "38 VHL         Male   Metastasis    436 0.2006646      2224\n",
       "39 IDH1        Male   Metastasis    428 0.1776834      2209\n",
       "40 CTNNB1      Male   Metastasis    691 0.1753311      2207"
      ]
     },
     "metadata": {},
     "output_type": "display_data"
    }
   ],
   "source": [
    "rank_fp <- g_mean_alone[which(g_mean_alone$sex == 'Female' & g_mean_alone$sample_type == 'Primary'), ]\n",
    "rank_fp <- rank_fp[order(-rank_fp$rank), ]\n",
    "\n",
    "rank_mp <- g_mean_alone[which(g_mean_alone$sex == 'Male' & g_mean_alone$sample_type == 'Primary'), ]\n",
    "rank_mp <- rank_mp[order(-rank_mp$rank), ]\n",
    "\n",
    "rank_fm <- g_mean_alone[which(g_mean_alone$sex == 'Female' & g_mean_alone$sample_type == 'Metastasis'), ]\n",
    "rank_fm <- rank_fm[order(-rank_fm$rank), ]\n",
    "\n",
    "rank_mm <- g_mean_alone[which(g_mean_alone$sex == 'Male' & g_mean_alone$sample_type == 'Metastasis'), ]\n",
    "rank_mm <- rank_mm[order(-rank_mm$rank), ]\n",
    "\n",
    "group_rank <- rbind(rank_fp[1:10,], rank_mp[1:10,])\n",
    "group_rank <- rbind(group_rank, rank_fm[1:10,])\n",
    "group_rank <- rbind(group_rank, rank_mm[1:10,])\n",
    "\n",
    "group_rank"
   ]
  },
  {
   "cell_type": "code",
   "execution_count": 7,
   "id": "f43cee2c",
   "metadata": {},
   "outputs": [
    {
     "data": {
      "text/html": [
       "<table class=\"dataframe\">\n",
       "<caption>A tibble: 10 × 2</caption>\n",
       "<thead>\n",
       "\t<tr><th scope=col>Hugo_Symbol</th><th scope=col>m_rank</th></tr>\n",
       "\t<tr><th scope=col>&lt;chr&gt;</th><th scope=col>&lt;dbl&gt;</th></tr>\n",
       "</thead>\n",
       "<tbody>\n",
       "\t<tr><td>FGFR1OP      </td><td>49833.5</td></tr>\n",
       "\t<tr><td>RP11-326G21.1</td><td>49833.5</td></tr>\n",
       "\t<tr><td>YY1AP1       </td><td>49833.5</td></tr>\n",
       "\t<tr><td>PRPS2        </td><td>49573.5</td></tr>\n",
       "\t<tr><td>COPB1        </td><td>49401.0</td></tr>\n",
       "\t<tr><td>TRAJ7        </td><td>49401.0</td></tr>\n",
       "\t<tr><td>PPP2CB       </td><td>48990.5</td></tr>\n",
       "\t<tr><td>GH1          </td><td>48835.0</td></tr>\n",
       "\t<tr><td>CSNK1A1      </td><td>48500.0</td></tr>\n",
       "\t<tr><td>HOXC13       </td><td>48500.0</td></tr>\n",
       "</tbody>\n",
       "</table>\n"
      ],
      "text/latex": [
       "A tibble: 10 × 2\n",
       "\\begin{tabular}{ll}\n",
       " Hugo\\_Symbol & m\\_rank\\\\\n",
       " <chr> & <dbl>\\\\\n",
       "\\hline\n",
       "\t FGFR1OP       & 49833.5\\\\\n",
       "\t RP11-326G21.1 & 49833.5\\\\\n",
       "\t YY1AP1        & 49833.5\\\\\n",
       "\t PRPS2         & 49573.5\\\\\n",
       "\t COPB1         & 49401.0\\\\\n",
       "\t TRAJ7         & 49401.0\\\\\n",
       "\t PPP2CB        & 48990.5\\\\\n",
       "\t GH1           & 48835.0\\\\\n",
       "\t CSNK1A1       & 48500.0\\\\\n",
       "\t HOXC13        & 48500.0\\\\\n",
       "\\end{tabular}\n"
      ],
      "text/markdown": [
       "\n",
       "A tibble: 10 × 2\n",
       "\n",
       "| Hugo_Symbol &lt;chr&gt; | m_rank &lt;dbl&gt; |\n",
       "|---|---|\n",
       "| FGFR1OP       | 49833.5 |\n",
       "| RP11-326G21.1 | 49833.5 |\n",
       "| YY1AP1        | 49833.5 |\n",
       "| PRPS2         | 49573.5 |\n",
       "| COPB1         | 49401.0 |\n",
       "| TRAJ7         | 49401.0 |\n",
       "| PPP2CB        | 48990.5 |\n",
       "| GH1           | 48835.0 |\n",
       "| CSNK1A1       | 48500.0 |\n",
       "| HOXC13        | 48500.0 |\n",
       "\n"
      ],
      "text/plain": [
       "   Hugo_Symbol   m_rank \n",
       "1  FGFR1OP       49833.5\n",
       "2  RP11-326G21.1 49833.5\n",
       "3  YY1AP1        49833.5\n",
       "4  PRPS2         49573.5\n",
       "5  COPB1         49401.0\n",
       "6  TRAJ7         49401.0\n",
       "7  PPP2CB        48990.5\n",
       "8  GH1           48835.0\n",
       "9  CSNK1A1       48500.0\n",
       "10 HOXC13        48500.0"
      ]
     },
     "metadata": {},
     "output_type": "display_data"
    }
   ],
   "source": [
    "#Ranking the general data\n",
    "cs_mean_alone$rank <- NA\n",
    "cs_mean_alone$rank <- rank(cs_mean_alone$m_alone_factor)\n",
    "tmp <- cs_mean_alone[order(-cs_mean_alone$rank), ]\n",
    "#tmp[1:10,]\n",
    "\n",
    "# Finding the mean rank in the general data\n",
    "mean_rank <- cs_mean_alone %>% group_by(Hugo_Symbol) %>% summarize(m_rank = mean(rank, na.rm=TRUE))\n",
    "mean_rank <- mean_rank[order(-mean_rank$m_rank), ]\n",
    "mean_rank[1:10,]\n",
    "\n",
    "# High rank --> high alone-factor"
   ]
  },
  {
   "cell_type": "code",
   "execution_count": 8,
   "id": "ed4ec973",
   "metadata": {},
   "outputs": [
    {
     "data": {
      "text/html": [
       "<table class=\"dataframe\">\n",
       "<caption>A tibble: 2 × 2</caption>\n",
       "<thead>\n",
       "\t<tr><th scope=col>Hugo_Symbol</th><th scope=col>n</th></tr>\n",
       "\t<tr><th scope=col>&lt;chr&gt;</th><th scope=col>&lt;int&gt;</th></tr>\n",
       "</thead>\n",
       "<tbody>\n",
       "\t<tr><td>CDKN2B  </td><td>2</td></tr>\n",
       "\t<tr><td>HIST1H3E</td><td>2</td></tr>\n",
       "</tbody>\n",
       "</table>\n"
      ],
      "text/latex": [
       "A tibble: 2 × 2\n",
       "\\begin{tabular}{ll}\n",
       " Hugo\\_Symbol & n\\\\\n",
       " <chr> & <int>\\\\\n",
       "\\hline\n",
       "\t CDKN2B   & 2\\\\\n",
       "\t HIST1H3E & 2\\\\\n",
       "\\end{tabular}\n"
      ],
      "text/markdown": [
       "\n",
       "A tibble: 2 × 2\n",
       "\n",
       "| Hugo_Symbol &lt;chr&gt; | n &lt;int&gt; |\n",
       "|---|---|\n",
       "| CDKN2B   | 2 |\n",
       "| HIST1H3E | 2 |\n",
       "\n"
      ],
      "text/plain": [
       "  Hugo_Symbol n\n",
       "1 CDKN2B      2\n",
       "2 HIST1H3E    2"
      ]
     },
     "metadata": {},
     "output_type": "display_data"
    }
   ],
   "source": [
    "rank_fp <- cs_mean_alone[which(cs_mean_alone$sex == 'Female' & cs_mean_alone$sample_type == 'Primary'), ]\n",
    "rank_fp <- rank_fp[order(-rank_fp$rank), ]\n",
    "\n",
    "rank_mp <- cs_mean_alone[which(cs_mean_alone$sex == 'Male' & cs_mean_alone$sample_type == 'Primary'), ]\n",
    "rank_mp <- rank_mp[order(-rank_mp$rank), ]\n",
    "\n",
    "rank_fm <- cs_mean_alone[which(cs_mean_alone$sex == 'Female' & cs_mean_alone$sample_type == 'Metastasis'), ]\n",
    "rank_fm <- rank_fm[order(-rank_fm$rank), ]\n",
    "\n",
    "rank_mm <- cs_mean_alone[which(cs_mean_alone$sex == 'Male' & cs_mean_alone$sample_type == 'Metastasis'), ]\n",
    "rank_mm <- rank_mm[order(-rank_mm$rank), ]\n",
    "\n",
    "cs_group_rank <- rbind(rank_fp[1:10,], rank_mp[1:10,])\n",
    "cs_group_rank <- rbind(cs_group_rank, rank_fm[1:10,])\n",
    "cs_group_rank <- rbind(cs_group_rank, rank_mm[1:10,])\n",
    "\n",
    "group_rank_count <- cs_group_rank %>% group_by(Hugo_Symbol) %>% summarise(n = n())\n",
    "#group_rank_count[which(group_rank_count$n==4),]\n",
    "#group_rank_count[which(group_rank_count$n==3),]\n",
    "group_rank_count[which(group_rank_count$n==2),]\n",
    "#group_rank_count[which(group_rank_count$n==1),]"
   ]
  },
  {
   "cell_type": "code",
   "execution_count": 9,
   "id": "182135f6",
   "metadata": {},
   "outputs": [
    {
     "data": {
      "text/html": [
       "<table class=\"dataframe\">\n",
       "<caption>A grouped_df: 6 × 6</caption>\n",
       "<thead>\n",
       "\t<tr><th scope=col>Hugo_Symbol</th><th scope=col>sex</th><th scope=col>sample_type</th><th scope=col>n</th><th scope=col>m_alone_factor</th><th scope=col>rank</th></tr>\n",
       "\t<tr><th scope=col>&lt;chr&gt;</th><th scope=col>&lt;chr&gt;</th><th scope=col>&lt;chr&gt;</th><th scope=col>&lt;int&gt;</th><th scope=col>&lt;dbl&gt;</th><th scope=col>&lt;dbl&gt;</th></tr>\n",
       "</thead>\n",
       "<tbody>\n",
       "\t<tr><td>EIF1AX</td><td>Female</td><td>Primary</td><td>  757</td><td>0.2920278</td><td>2249</td></tr>\n",
       "\t<tr><td>BRAF  </td><td>Female</td><td>Primary</td><td> 2906</td><td>0.2535068</td><td>2240</td></tr>\n",
       "\t<tr><td>KRAS  </td><td>Female</td><td>Primary</td><td> 8383</td><td>0.2463658</td><td>2238</td></tr>\n",
       "\t<tr><td>TP53  </td><td>Female</td><td>Primary</td><td>21126</td><td>0.2403966</td><td>2235</td></tr>\n",
       "\t<tr><td>NRAS  </td><td>Female</td><td>Primary</td><td> 1062</td><td>0.2306710</td><td>2234</td></tr>\n",
       "\t<tr><td>EGFR  </td><td>Female</td><td>Primary</td><td> 3972</td><td>0.2196326</td><td>2227</td></tr>\n",
       "</tbody>\n",
       "</table>\n"
      ],
      "text/latex": [
       "A grouped\\_df: 6 × 6\n",
       "\\begin{tabular}{llllll}\n",
       " Hugo\\_Symbol & sex & sample\\_type & n & m\\_alone\\_factor & rank\\\\\n",
       " <chr> & <chr> & <chr> & <int> & <dbl> & <dbl>\\\\\n",
       "\\hline\n",
       "\t EIF1AX & Female & Primary &   757 & 0.2920278 & 2249\\\\\n",
       "\t BRAF   & Female & Primary &  2906 & 0.2535068 & 2240\\\\\n",
       "\t KRAS   & Female & Primary &  8383 & 0.2463658 & 2238\\\\\n",
       "\t TP53   & Female & Primary & 21126 & 0.2403966 & 2235\\\\\n",
       "\t NRAS   & Female & Primary &  1062 & 0.2306710 & 2234\\\\\n",
       "\t EGFR   & Female & Primary &  3972 & 0.2196326 & 2227\\\\\n",
       "\\end{tabular}\n"
      ],
      "text/markdown": [
       "\n",
       "A grouped_df: 6 × 6\n",
       "\n",
       "| Hugo_Symbol &lt;chr&gt; | sex &lt;chr&gt; | sample_type &lt;chr&gt; | n &lt;int&gt; | m_alone_factor &lt;dbl&gt; | rank &lt;dbl&gt; |\n",
       "|---|---|---|---|---|---|\n",
       "| EIF1AX | Female | Primary |   757 | 0.2920278 | 2249 |\n",
       "| BRAF   | Female | Primary |  2906 | 0.2535068 | 2240 |\n",
       "| KRAS   | Female | Primary |  8383 | 0.2463658 | 2238 |\n",
       "| TP53   | Female | Primary | 21126 | 0.2403966 | 2235 |\n",
       "| NRAS   | Female | Primary |  1062 | 0.2306710 | 2234 |\n",
       "| EGFR   | Female | Primary |  3972 | 0.2196326 | 2227 |\n",
       "\n"
      ],
      "text/plain": [
       "  Hugo_Symbol sex    sample_type n     m_alone_factor rank\n",
       "1 EIF1AX      Female Primary       757 0.2920278      2249\n",
       "2 BRAF        Female Primary      2906 0.2535068      2240\n",
       "3 KRAS        Female Primary      8383 0.2463658      2238\n",
       "4 TP53        Female Primary     21126 0.2403966      2235\n",
       "5 NRAS        Female Primary      1062 0.2306710      2234\n",
       "6 EGFR        Female Primary      3972 0.2196326      2227"
      ]
     },
     "metadata": {},
     "output_type": "display_data"
    }
   ],
   "source": [
    "head(group_rank)"
   ]
  },
  {
   "cell_type": "code",
   "execution_count": 11,
   "id": "55473712",
   "metadata": {
    "scrolled": false
   },
   "outputs": [
    {
     "data": {
      "image/png": "[encoded data removed]",
      "text/plain": [
       "plot without title"
      ]
     },
     "metadata": {
      "image/png": {
       "height": 375,
       "width": 375
      }
     },
     "output_type": "display_data"
    },
    {
     "data": {
      "image/png": "[encoded data removed]",
      "text/plain": [
       "plot without title"
      ]
     },
     "metadata": {
      "image/png": {
       "height": 375,
       "width": 375
      }
     },
     "output_type": "display_data"
    },
    {
     "data": {
      "image/png": "[encoded data removed]",
      "text/plain": [
       "plot without title"
      ]
     },
     "metadata": {
      "image/png": {
       "height": 375,
       "width": 375
      }
     },
     "output_type": "display_data"
    },
    {
     "data": {
      "image/png": "[encoded data removed]",
      "text/plain": [
       "plot without title"
      ]
     },
     "metadata": {
      "image/png": {
       "height": 375,
       "width": 375
      }
     },
     "output_type": "display_data"
    }
   ],
   "source": [
    "#group_rank\n",
    "options(repr.plot.width = 5, repr.plot.height = 5, repr.plot.res = 150)\n",
    "\n",
    "\n",
    "for (the_sex in c('Female', 'Male')){\n",
    "    for (the_sample_type in c('Primary', 'Metastasis')){\n",
    "        # define our data\n",
    "        tmp <- group_rank[which(group_rank$sex == the_sex & group_rank$sample_type == the_sample_type),]\n",
    "        \n",
    "        tmp <- tmp %>% arrange(desc(m_alone_factor), desc(rank))\n",
    "        \n",
    "        top20 <- tmp[1:10,]\n",
    "        lvl20 <- top20[[1]]\n",
    "        \n",
    "        top20$Hugo_Symbol <- factor(top20$Hugo_Symbol, levels = lvl20)\n",
    "        \n",
    "        q <- ggplot(top20, aes(x=Hugo_Symbol)) + \n",
    "        geom_bar(aes(y=m_alone_factor), stat=\"identity\", position = \"identity\", fill='darkolivegreen4') +\n",
    "        geom_text(aes(y=m_alone_factor-0.02, label=rank, angle = 90), vjust=0.5, colour = 'white', fontface = \"bold\") +\n",
    "        theme_classic() +\n",
    "        xlab('Hugo Symbol') +\n",
    "        ylab('Mean alone factor') +\n",
    "        ggtitle(paste(the_sex, the_sample_type, sep='-')) +\n",
    "        theme(axis.text.x = element_text(angle = 90, vjust = 0.5, hjust=1))\n",
    "        \n",
    "        print(q)\n",
    "    }\n",
    "}"
   ]
  },
  {
   "cell_type": "code",
   "execution_count": 16,
   "id": "1ccc47a2",
   "metadata": {},
   "outputs": [
    {
     "data": {
      "text/html": [
       "<table class=\"dataframe\">\n",
       "<caption>A tibble: 6 × 2</caption>\n",
       "<thead>\n",
       "\t<tr><th scope=col>Hugo_Symbol</th><th scope=col>n</th></tr>\n",
       "\t<tr><th scope=col>&lt;chr&gt;</th><th scope=col>&lt;int&gt;</th></tr>\n",
       "</thead>\n",
       "<tbody>\n",
       "\t<tr><td>BRAF  </td><td>4</td></tr>\n",
       "\t<tr><td>EIF1AX</td><td>4</td></tr>\n",
       "\t<tr><td>IDH1  </td><td>4</td></tr>\n",
       "\t<tr><td>KRAS  </td><td>4</td></tr>\n",
       "\t<tr><td>NRAS  </td><td>4</td></tr>\n",
       "\t<tr><td>TP53  </td><td>4</td></tr>\n",
       "</tbody>\n",
       "</table>\n"
      ],
      "text/latex": [
       "A tibble: 6 × 2\n",
       "\\begin{tabular}{ll}\n",
       " Hugo\\_Symbol & n\\\\\n",
       " <chr> & <int>\\\\\n",
       "\\hline\n",
       "\t BRAF   & 4\\\\\n",
       "\t EIF1AX & 4\\\\\n",
       "\t IDH1   & 4\\\\\n",
       "\t KRAS   & 4\\\\\n",
       "\t NRAS   & 4\\\\\n",
       "\t TP53   & 4\\\\\n",
       "\\end{tabular}\n"
      ],
      "text/markdown": [
       "\n",
       "A tibble: 6 × 2\n",
       "\n",
       "| Hugo_Symbol &lt;chr&gt; | n &lt;int&gt; |\n",
       "|---|---|\n",
       "| BRAF   | 4 |\n",
       "| EIF1AX | 4 |\n",
       "| IDH1   | 4 |\n",
       "| KRAS   | 4 |\n",
       "| NRAS   | 4 |\n",
       "| TP53   | 4 |\n",
       "\n"
      ],
      "text/plain": [
       "  Hugo_Symbol n\n",
       "1 BRAF        4\n",
       "2 EIF1AX      4\n",
       "3 IDH1        4\n",
       "4 KRAS        4\n",
       "5 NRAS        4\n",
       "6 TP53        4"
      ]
     },
     "metadata": {},
     "output_type": "display_data"
    },
    {
     "data": {
      "text/html": [
       "<table class=\"dataframe\">\n",
       "<caption>A tibble: 1 × 2</caption>\n",
       "<thead>\n",
       "\t<tr><th scope=col>Hugo_Symbol</th><th scope=col>n</th></tr>\n",
       "\t<tr><th scope=col>&lt;chr&gt;</th><th scope=col>&lt;int&gt;</th></tr>\n",
       "</thead>\n",
       "<tbody>\n",
       "\t<tr><td>VHL</td><td>3</td></tr>\n",
       "</tbody>\n",
       "</table>\n"
      ],
      "text/latex": [
       "A tibble: 1 × 2\n",
       "\\begin{tabular}{ll}\n",
       " Hugo\\_Symbol & n\\\\\n",
       " <chr> & <int>\\\\\n",
       "\\hline\n",
       "\t VHL & 3\\\\\n",
       "\\end{tabular}\n"
      ],
      "text/markdown": [
       "\n",
       "A tibble: 1 × 2\n",
       "\n",
       "| Hugo_Symbol &lt;chr&gt; | n &lt;int&gt; |\n",
       "|---|---|\n",
       "| VHL | 3 |\n",
       "\n"
      ],
      "text/plain": [
       "  Hugo_Symbol n\n",
       "1 VHL         3"
      ]
     },
     "metadata": {},
     "output_type": "display_data"
    },
    {
     "data": {
      "text/html": [
       "<table class=\"dataframe\">\n",
       "<caption>A tibble: 4 × 2</caption>\n",
       "<thead>\n",
       "\t<tr><th scope=col>Hugo_Symbol</th><th scope=col>n</th></tr>\n",
       "\t<tr><th scope=col>&lt;chr&gt;</th><th scope=col>&lt;int&gt;</th></tr>\n",
       "</thead>\n",
       "<tbody>\n",
       "\t<tr><td>EGFR  </td><td>2</td></tr>\n",
       "\t<tr><td>KIT   </td><td>2</td></tr>\n",
       "\t<tr><td>PIK3CA</td><td>2</td></tr>\n",
       "\t<tr><td>SPOP  </td><td>2</td></tr>\n",
       "</tbody>\n",
       "</table>\n"
      ],
      "text/latex": [
       "A tibble: 4 × 2\n",
       "\\begin{tabular}{ll}\n",
       " Hugo\\_Symbol & n\\\\\n",
       " <chr> & <int>\\\\\n",
       "\\hline\n",
       "\t EGFR   & 2\\\\\n",
       "\t KIT    & 2\\\\\n",
       "\t PIK3CA & 2\\\\\n",
       "\t SPOP   & 2\\\\\n",
       "\\end{tabular}\n"
      ],
      "text/markdown": [
       "\n",
       "A tibble: 4 × 2\n",
       "\n",
       "| Hugo_Symbol &lt;chr&gt; | n &lt;int&gt; |\n",
       "|---|---|\n",
       "| EGFR   | 2 |\n",
       "| KIT    | 2 |\n",
       "| PIK3CA | 2 |\n",
       "| SPOP   | 2 |\n",
       "\n"
      ],
      "text/plain": [
       "  Hugo_Symbol n\n",
       "1 EGFR        2\n",
       "2 KIT         2\n",
       "3 PIK3CA      2\n",
       "4 SPOP        2"
      ]
     },
     "metadata": {},
     "output_type": "display_data"
    },
    {
     "data": {
      "text/html": [
       "<table class=\"dataframe\">\n",
       "<caption>A grouped_df: 2 × 6</caption>\n",
       "<thead>\n",
       "\t<tr><th scope=col>Hugo_Symbol</th><th scope=col>sex</th><th scope=col>sample_type</th><th scope=col>n</th><th scope=col>m_alone_factor</th><th scope=col>rank</th></tr>\n",
       "\t<tr><th scope=col>&lt;chr&gt;</th><th scope=col>&lt;chr&gt;</th><th scope=col>&lt;chr&gt;</th><th scope=col>&lt;int&gt;</th><th scope=col>&lt;dbl&gt;</th><th scope=col>&lt;dbl&gt;</th></tr>\n",
       "</thead>\n",
       "<tbody>\n",
       "\t<tr><td>EGFR</td><td>Female</td><td>Primary   </td><td>3972</td><td>0.2196326</td><td>2227</td></tr>\n",
       "\t<tr><td>EGFR</td><td>Female</td><td>Metastasis</td><td>1848</td><td>0.1963172</td><td>2220</td></tr>\n",
       "</tbody>\n",
       "</table>\n"
      ],
      "text/latex": [
       "A grouped\\_df: 2 × 6\n",
       "\\begin{tabular}{llllll}\n",
       " Hugo\\_Symbol & sex & sample\\_type & n & m\\_alone\\_factor & rank\\\\\n",
       " <chr> & <chr> & <chr> & <int> & <dbl> & <dbl>\\\\\n",
       "\\hline\n",
       "\t EGFR & Female & Primary    & 3972 & 0.2196326 & 2227\\\\\n",
       "\t EGFR & Female & Metastasis & 1848 & 0.1963172 & 2220\\\\\n",
       "\\end{tabular}\n"
      ],
      "text/markdown": [
       "\n",
       "A grouped_df: 2 × 6\n",
       "\n",
       "| Hugo_Symbol &lt;chr&gt; | sex &lt;chr&gt; | sample_type &lt;chr&gt; | n &lt;int&gt; | m_alone_factor &lt;dbl&gt; | rank &lt;dbl&gt; |\n",
       "|---|---|---|---|---|---|\n",
       "| EGFR | Female | Primary    | 3972 | 0.2196326 | 2227 |\n",
       "| EGFR | Female | Metastasis | 1848 | 0.1963172 | 2220 |\n",
       "\n"
      ],
      "text/plain": [
       "  Hugo_Symbol sex    sample_type n    m_alone_factor rank\n",
       "1 EGFR        Female Primary     3972 0.2196326      2227\n",
       "2 EGFR        Female Metastasis  1848 0.1963172      2220"
      ]
     },
     "metadata": {},
     "output_type": "display_data"
    },
    {
     "data": {
      "text/html": [
       "<table class=\"dataframe\">\n",
       "<caption>A grouped_df: 2 × 6</caption>\n",
       "<thead>\n",
       "\t<tr><th scope=col>Hugo_Symbol</th><th scope=col>sex</th><th scope=col>sample_type</th><th scope=col>n</th><th scope=col>m_alone_factor</th><th scope=col>rank</th></tr>\n",
       "\t<tr><th scope=col>&lt;chr&gt;</th><th scope=col>&lt;chr&gt;</th><th scope=col>&lt;chr&gt;</th><th scope=col>&lt;int&gt;</th><th scope=col>&lt;dbl&gt;</th><th scope=col>&lt;dbl&gt;</th></tr>\n",
       "</thead>\n",
       "<tbody>\n",
       "\t<tr><td>KIT</td><td>Female</td><td>Primary</td><td>1783</td><td>0.1886996</td><td>2215</td></tr>\n",
       "\t<tr><td>KIT</td><td>Male  </td><td>Primary</td><td>1578</td><td>0.2297539</td><td>2233</td></tr>\n",
       "</tbody>\n",
       "</table>\n"
      ],
      "text/latex": [
       "A grouped\\_df: 2 × 6\n",
       "\\begin{tabular}{llllll}\n",
       " Hugo\\_Symbol & sex & sample\\_type & n & m\\_alone\\_factor & rank\\\\\n",
       " <chr> & <chr> & <chr> & <int> & <dbl> & <dbl>\\\\\n",
       "\\hline\n",
       "\t KIT & Female & Primary & 1783 & 0.1886996 & 2215\\\\\n",
       "\t KIT & Male   & Primary & 1578 & 0.2297539 & 2233\\\\\n",
       "\\end{tabular}\n"
      ],
      "text/markdown": [
       "\n",
       "A grouped_df: 2 × 6\n",
       "\n",
       "| Hugo_Symbol &lt;chr&gt; | sex &lt;chr&gt; | sample_type &lt;chr&gt; | n &lt;int&gt; | m_alone_factor &lt;dbl&gt; | rank &lt;dbl&gt; |\n",
       "|---|---|---|---|---|---|\n",
       "| KIT | Female | Primary | 1783 | 0.1886996 | 2215 |\n",
       "| KIT | Male   | Primary | 1578 | 0.2297539 | 2233 |\n",
       "\n"
      ],
      "text/plain": [
       "  Hugo_Symbol sex    sample_type n    m_alone_factor rank\n",
       "1 KIT         Female Primary     1783 0.1886996      2215\n",
       "2 KIT         Male   Primary     1578 0.2297539      2233"
      ]
     },
     "metadata": {},
     "output_type": "display_data"
    },
    {
     "data": {
      "text/html": [
       "<table class=\"dataframe\">\n",
       "<caption>A grouped_df: 2 × 6</caption>\n",
       "<thead>\n",
       "\t<tr><th scope=col>Hugo_Symbol</th><th scope=col>sex</th><th scope=col>sample_type</th><th scope=col>n</th><th scope=col>m_alone_factor</th><th scope=col>rank</th></tr>\n",
       "\t<tr><th scope=col>&lt;chr&gt;</th><th scope=col>&lt;chr&gt;</th><th scope=col>&lt;chr&gt;</th><th scope=col>&lt;int&gt;</th><th scope=col>&lt;dbl&gt;</th><th scope=col>&lt;dbl&gt;</th></tr>\n",
       "</thead>\n",
       "<tbody>\n",
       "\t<tr><td>PIK3CA</td><td>Female</td><td>Primary   </td><td>9730</td><td>0.1809648</td><td>2210</td></tr>\n",
       "\t<tr><td>PIK3CA</td><td>Female</td><td>Metastasis</td><td>4332</td><td>0.1983838</td><td>2223</td></tr>\n",
       "</tbody>\n",
       "</table>\n"
      ],
      "text/latex": [
       "A grouped\\_df: 2 × 6\n",
       "\\begin{tabular}{llllll}\n",
       " Hugo\\_Symbol & sex & sample\\_type & n & m\\_alone\\_factor & rank\\\\\n",
       " <chr> & <chr> & <chr> & <int> & <dbl> & <dbl>\\\\\n",
       "\\hline\n",
       "\t PIK3CA & Female & Primary    & 9730 & 0.1809648 & 2210\\\\\n",
       "\t PIK3CA & Female & Metastasis & 4332 & 0.1983838 & 2223\\\\\n",
       "\\end{tabular}\n"
      ],
      "text/markdown": [
       "\n",
       "A grouped_df: 2 × 6\n",
       "\n",
       "| Hugo_Symbol &lt;chr&gt; | sex &lt;chr&gt; | sample_type &lt;chr&gt; | n &lt;int&gt; | m_alone_factor &lt;dbl&gt; | rank &lt;dbl&gt; |\n",
       "|---|---|---|---|---|---|\n",
       "| PIK3CA | Female | Primary    | 9730 | 0.1809648 | 2210 |\n",
       "| PIK3CA | Female | Metastasis | 4332 | 0.1983838 | 2223 |\n",
       "\n"
      ],
      "text/plain": [
       "  Hugo_Symbol sex    sample_type n    m_alone_factor rank\n",
       "1 PIK3CA      Female Primary     9730 0.1809648      2210\n",
       "2 PIK3CA      Female Metastasis  4332 0.1983838      2223"
      ]
     },
     "metadata": {},
     "output_type": "display_data"
    },
    {
     "data": {
      "text/html": [
       "<table class=\"dataframe\">\n",
       "<caption>A grouped_df: 2 × 6</caption>\n",
       "<thead>\n",
       "\t<tr><th scope=col>Hugo_Symbol</th><th scope=col>sex</th><th scope=col>sample_type</th><th scope=col>n</th><th scope=col>m_alone_factor</th><th scope=col>rank</th></tr>\n",
       "\t<tr><th scope=col>&lt;chr&gt;</th><th scope=col>&lt;chr&gt;</th><th scope=col>&lt;chr&gt;</th><th scope=col>&lt;int&gt;</th><th scope=col>&lt;dbl&gt;</th><th scope=col>&lt;dbl&gt;</th></tr>\n",
       "</thead>\n",
       "<tbody>\n",
       "\t<tr><td>SPOP</td><td>Male</td><td>Primary   </td><td>605</td><td>0.2649204</td><td>2246</td></tr>\n",
       "\t<tr><td>SPOP</td><td>Male</td><td>Metastasis</td><td>289</td><td>0.2011476</td><td>2225</td></tr>\n",
       "</tbody>\n",
       "</table>\n"
      ],
      "text/latex": [
       "A grouped\\_df: 2 × 6\n",
       "\\begin{tabular}{llllll}\n",
       " Hugo\\_Symbol & sex & sample\\_type & n & m\\_alone\\_factor & rank\\\\\n",
       " <chr> & <chr> & <chr> & <int> & <dbl> & <dbl>\\\\\n",
       "\\hline\n",
       "\t SPOP & Male & Primary    & 605 & 0.2649204 & 2246\\\\\n",
       "\t SPOP & Male & Metastasis & 289 & 0.2011476 & 2225\\\\\n",
       "\\end{tabular}\n"
      ],
      "text/markdown": [
       "\n",
       "A grouped_df: 2 × 6\n",
       "\n",
       "| Hugo_Symbol &lt;chr&gt; | sex &lt;chr&gt; | sample_type &lt;chr&gt; | n &lt;int&gt; | m_alone_factor &lt;dbl&gt; | rank &lt;dbl&gt; |\n",
       "|---|---|---|---|---|---|\n",
       "| SPOP | Male | Primary    | 605 | 0.2649204 | 2246 |\n",
       "| SPOP | Male | Metastasis | 289 | 0.2011476 | 2225 |\n",
       "\n"
      ],
      "text/plain": [
       "  Hugo_Symbol sex  sample_type n   m_alone_factor rank\n",
       "1 SPOP        Male Primary     605 0.2649204      2246\n",
       "2 SPOP        Male Metastasis  289 0.2011476      2225"
      ]
     },
     "metadata": {},
     "output_type": "display_data"
    },
    {
     "data": {
      "text/html": [
       "<table class=\"dataframe\">\n",
       "<caption>A tibble: 5 × 2</caption>\n",
       "<thead>\n",
       "\t<tr><th scope=col>Hugo_Symbol</th><th scope=col>n</th></tr>\n",
       "\t<tr><th scope=col>&lt;chr&gt;</th><th scope=col>&lt;int&gt;</th></tr>\n",
       "</thead>\n",
       "<tbody>\n",
       "\t<tr><td>CTNNB1</td><td>1</td></tr>\n",
       "\t<tr><td>FOXA1 </td><td>1</td></tr>\n",
       "\t<tr><td>GATA3 </td><td>1</td></tr>\n",
       "\t<tr><td>GNAQ  </td><td>1</td></tr>\n",
       "\t<tr><td>HRAS  </td><td>1</td></tr>\n",
       "</tbody>\n",
       "</table>\n"
      ],
      "text/latex": [
       "A tibble: 5 × 2\n",
       "\\begin{tabular}{ll}\n",
       " Hugo\\_Symbol & n\\\\\n",
       " <chr> & <int>\\\\\n",
       "\\hline\n",
       "\t CTNNB1 & 1\\\\\n",
       "\t FOXA1  & 1\\\\\n",
       "\t GATA3  & 1\\\\\n",
       "\t GNAQ   & 1\\\\\n",
       "\t HRAS   & 1\\\\\n",
       "\\end{tabular}\n"
      ],
      "text/markdown": [
       "\n",
       "A tibble: 5 × 2\n",
       "\n",
       "| Hugo_Symbol &lt;chr&gt; | n &lt;int&gt; |\n",
       "|---|---|\n",
       "| CTNNB1 | 1 |\n",
       "| FOXA1  | 1 |\n",
       "| GATA3  | 1 |\n",
       "| GNAQ   | 1 |\n",
       "| HRAS   | 1 |\n",
       "\n"
      ],
      "text/plain": [
       "  Hugo_Symbol n\n",
       "1 CTNNB1      1\n",
       "2 FOXA1       1\n",
       "3 GATA3       1\n",
       "4 GNAQ        1\n",
       "5 HRAS        1"
      ]
     },
     "metadata": {},
     "output_type": "display_data"
    },
    {
     "data": {
      "text/html": [
       "<table class=\"dataframe\">\n",
       "<caption>A grouped_df: 1 × 6</caption>\n",
       "<thead>\n",
       "\t<tr><th scope=col>Hugo_Symbol</th><th scope=col>sex</th><th scope=col>sample_type</th><th scope=col>n</th><th scope=col>m_alone_factor</th><th scope=col>rank</th></tr>\n",
       "\t<tr><th scope=col>&lt;chr&gt;</th><th scope=col>&lt;chr&gt;</th><th scope=col>&lt;chr&gt;</th><th scope=col>&lt;int&gt;</th><th scope=col>&lt;dbl&gt;</th><th scope=col>&lt;dbl&gt;</th></tr>\n",
       "</thead>\n",
       "<tbody>\n",
       "\t<tr><td>CTNNB1</td><td>Male</td><td>Metastasis</td><td>691</td><td>0.1753311</td><td>2207</td></tr>\n",
       "</tbody>\n",
       "</table>\n"
      ],
      "text/latex": [
       "A grouped\\_df: 1 × 6\n",
       "\\begin{tabular}{llllll}\n",
       " Hugo\\_Symbol & sex & sample\\_type & n & m\\_alone\\_factor & rank\\\\\n",
       " <chr> & <chr> & <chr> & <int> & <dbl> & <dbl>\\\\\n",
       "\\hline\n",
       "\t CTNNB1 & Male & Metastasis & 691 & 0.1753311 & 2207\\\\\n",
       "\\end{tabular}\n"
      ],
      "text/markdown": [
       "\n",
       "A grouped_df: 1 × 6\n",
       "\n",
       "| Hugo_Symbol &lt;chr&gt; | sex &lt;chr&gt; | sample_type &lt;chr&gt; | n &lt;int&gt; | m_alone_factor &lt;dbl&gt; | rank &lt;dbl&gt; |\n",
       "|---|---|---|---|---|---|\n",
       "| CTNNB1 | Male | Metastasis | 691 | 0.1753311 | 2207 |\n",
       "\n"
      ],
      "text/plain": [
       "  Hugo_Symbol sex  sample_type n   m_alone_factor rank\n",
       "1 CTNNB1      Male Metastasis  691 0.1753311      2207"
      ]
     },
     "metadata": {},
     "output_type": "display_data"
    },
    {
     "data": {
      "text/html": [
       "<table class=\"dataframe\">\n",
       "<caption>A grouped_df: 1 × 6</caption>\n",
       "<thead>\n",
       "\t<tr><th scope=col>Hugo_Symbol</th><th scope=col>sex</th><th scope=col>sample_type</th><th scope=col>n</th><th scope=col>m_alone_factor</th><th scope=col>rank</th></tr>\n",
       "\t<tr><th scope=col>&lt;chr&gt;</th><th scope=col>&lt;chr&gt;</th><th scope=col>&lt;chr&gt;</th><th scope=col>&lt;int&gt;</th><th scope=col>&lt;dbl&gt;</th><th scope=col>&lt;dbl&gt;</th></tr>\n",
       "</thead>\n",
       "<tbody>\n",
       "\t<tr><td>FOXA1</td><td>Male</td><td>Primary</td><td>778</td><td>0.2178649</td><td>2226</td></tr>\n",
       "</tbody>\n",
       "</table>\n"
      ],
      "text/latex": [
       "A grouped\\_df: 1 × 6\n",
       "\\begin{tabular}{llllll}\n",
       " Hugo\\_Symbol & sex & sample\\_type & n & m\\_alone\\_factor & rank\\\\\n",
       " <chr> & <chr> & <chr> & <int> & <dbl> & <dbl>\\\\\n",
       "\\hline\n",
       "\t FOXA1 & Male & Primary & 778 & 0.2178649 & 2226\\\\\n",
       "\\end{tabular}\n"
      ],
      "text/markdown": [
       "\n",
       "A grouped_df: 1 × 6\n",
       "\n",
       "| Hugo_Symbol &lt;chr&gt; | sex &lt;chr&gt; | sample_type &lt;chr&gt; | n &lt;int&gt; | m_alone_factor &lt;dbl&gt; | rank &lt;dbl&gt; |\n",
       "|---|---|---|---|---|---|\n",
       "| FOXA1 | Male | Primary | 778 | 0.2178649 | 2226 |\n",
       "\n"
      ],
      "text/plain": [
       "  Hugo_Symbol sex  sample_type n   m_alone_factor rank\n",
       "1 FOXA1       Male Primary     778 0.2178649      2226"
      ]
     },
     "metadata": {},
     "output_type": "display_data"
    },
    {
     "data": {
      "text/html": [
       "<table class=\"dataframe\">\n",
       "<caption>A grouped_df: 1 × 6</caption>\n",
       "<thead>\n",
       "\t<tr><th scope=col>Hugo_Symbol</th><th scope=col>sex</th><th scope=col>sample_type</th><th scope=col>n</th><th scope=col>m_alone_factor</th><th scope=col>rank</th></tr>\n",
       "\t<tr><th scope=col>&lt;chr&gt;</th><th scope=col>&lt;chr&gt;</th><th scope=col>&lt;chr&gt;</th><th scope=col>&lt;int&gt;</th><th scope=col>&lt;dbl&gt;</th><th scope=col>&lt;dbl&gt;</th></tr>\n",
       "</thead>\n",
       "<tbody>\n",
       "\t<tr><td>GATA3</td><td>Female</td><td>Metastasis</td><td>944</td><td>0.1874347</td><td>2214</td></tr>\n",
       "</tbody>\n",
       "</table>\n"
      ],
      "text/latex": [
       "A grouped\\_df: 1 × 6\n",
       "\\begin{tabular}{llllll}\n",
       " Hugo\\_Symbol & sex & sample\\_type & n & m\\_alone\\_factor & rank\\\\\n",
       " <chr> & <chr> & <chr> & <int> & <dbl> & <dbl>\\\\\n",
       "\\hline\n",
       "\t GATA3 & Female & Metastasis & 944 & 0.1874347 & 2214\\\\\n",
       "\\end{tabular}\n"
      ],
      "text/markdown": [
       "\n",
       "A grouped_df: 1 × 6\n",
       "\n",
       "| Hugo_Symbol &lt;chr&gt; | sex &lt;chr&gt; | sample_type &lt;chr&gt; | n &lt;int&gt; | m_alone_factor &lt;dbl&gt; | rank &lt;dbl&gt; |\n",
       "|---|---|---|---|---|---|\n",
       "| GATA3 | Female | Metastasis | 944 | 0.1874347 | 2214 |\n",
       "\n"
      ],
      "text/plain": [
       "  Hugo_Symbol sex    sample_type n   m_alone_factor rank\n",
       "1 GATA3       Female Metastasis  944 0.1874347      2214"
      ]
     },
     "metadata": {},
     "output_type": "display_data"
    },
    {
     "data": {
      "text/html": [
       "<table class=\"dataframe\">\n",
       "<caption>A grouped_df: 1 × 6</caption>\n",
       "<thead>\n",
       "\t<tr><th scope=col>Hugo_Symbol</th><th scope=col>sex</th><th scope=col>sample_type</th><th scope=col>n</th><th scope=col>m_alone_factor</th><th scope=col>rank</th></tr>\n",
       "\t<tr><th scope=col>&lt;chr&gt;</th><th scope=col>&lt;chr&gt;</th><th scope=col>&lt;chr&gt;</th><th scope=col>&lt;int&gt;</th><th scope=col>&lt;dbl&gt;</th><th scope=col>&lt;dbl&gt;</th></tr>\n",
       "</thead>\n",
       "<tbody>\n",
       "\t<tr><td>GNAQ</td><td>Female</td><td>Metastasis</td><td>219</td><td>0.1943969</td><td>2219</td></tr>\n",
       "</tbody>\n",
       "</table>\n"
      ],
      "text/latex": [
       "A grouped\\_df: 1 × 6\n",
       "\\begin{tabular}{llllll}\n",
       " Hugo\\_Symbol & sex & sample\\_type & n & m\\_alone\\_factor & rank\\\\\n",
       " <chr> & <chr> & <chr> & <int> & <dbl> & <dbl>\\\\\n",
       "\\hline\n",
       "\t GNAQ & Female & Metastasis & 219 & 0.1943969 & 2219\\\\\n",
       "\\end{tabular}\n"
      ],
      "text/markdown": [
       "\n",
       "A grouped_df: 1 × 6\n",
       "\n",
       "| Hugo_Symbol &lt;chr&gt; | sex &lt;chr&gt; | sample_type &lt;chr&gt; | n &lt;int&gt; | m_alone_factor &lt;dbl&gt; | rank &lt;dbl&gt; |\n",
       "|---|---|---|---|---|---|\n",
       "| GNAQ | Female | Metastasis | 219 | 0.1943969 | 2219 |\n",
       "\n"
      ],
      "text/plain": [
       "  Hugo_Symbol sex    sample_type n   m_alone_factor rank\n",
       "1 GNAQ        Female Metastasis  219 0.1943969      2219"
      ]
     },
     "metadata": {},
     "output_type": "display_data"
    },
    {
     "data": {
      "text/html": [
       "<table class=\"dataframe\">\n",
       "<caption>A grouped_df: 1 × 6</caption>\n",
       "<thead>\n",
       "\t<tr><th scope=col>Hugo_Symbol</th><th scope=col>sex</th><th scope=col>sample_type</th><th scope=col>n</th><th scope=col>m_alone_factor</th><th scope=col>rank</th></tr>\n",
       "\t<tr><th scope=col>&lt;chr&gt;</th><th scope=col>&lt;chr&gt;</th><th scope=col>&lt;chr&gt;</th><th scope=col>&lt;int&gt;</th><th scope=col>&lt;dbl&gt;</th><th scope=col>&lt;dbl&gt;</th></tr>\n",
       "</thead>\n",
       "<tbody>\n",
       "\t<tr><td>HRAS</td><td>Male</td><td>Metastasis</td><td>239</td><td>0.2221859</td><td>2230</td></tr>\n",
       "</tbody>\n",
       "</table>\n"
      ],
      "text/latex": [
       "A grouped\\_df: 1 × 6\n",
       "\\begin{tabular}{llllll}\n",
       " Hugo\\_Symbol & sex & sample\\_type & n & m\\_alone\\_factor & rank\\\\\n",
       " <chr> & <chr> & <chr> & <int> & <dbl> & <dbl>\\\\\n",
       "\\hline\n",
       "\t HRAS & Male & Metastasis & 239 & 0.2221859 & 2230\\\\\n",
       "\\end{tabular}\n"
      ],
      "text/markdown": [
       "\n",
       "A grouped_df: 1 × 6\n",
       "\n",
       "| Hugo_Symbol &lt;chr&gt; | sex &lt;chr&gt; | sample_type &lt;chr&gt; | n &lt;int&gt; | m_alone_factor &lt;dbl&gt; | rank &lt;dbl&gt; |\n",
       "|---|---|---|---|---|---|\n",
       "| HRAS | Male | Metastasis | 239 | 0.2221859 | 2230 |\n",
       "\n"
      ],
      "text/plain": [
       "  Hugo_Symbol sex  sample_type n   m_alone_factor rank\n",
       "1 HRAS        Male Metastasis  239 0.2221859      2230"
      ]
     },
     "metadata": {},
     "output_type": "display_data"
    }
   ],
   "source": [
    "test <- group_rank %>% group_by(Hugo_Symbol) %>% summarise(n=n())\n",
    "\n",
    "test[which(test$n==4),]\n",
    "test[which(test$n==3),]\n",
    "test[which(test$n==2),]\n",
    "group_rank[which(group_rank$Hugo_Symbol=='EGFR'),]\n",
    "group_rank[which(group_rank$Hugo_Symbol=='KIT'),]\n",
    "group_rank[which(group_rank$Hugo_Symbol=='PIK3CA'),]\n",
    "group_rank[which(group_rank$Hugo_Symbol=='SPOP'),]\n",
    "test[which(test$n==1),]\n",
    "group_rank[which(group_rank$Hugo_Symbol=='CTNNB1'),]\n",
    "group_rank[which(group_rank$Hugo_Symbol=='FOXA1'),]\n",
    "group_rank[which(group_rank$Hugo_Symbol=='GATA3'),]\n",
    "group_rank[which(group_rank$Hugo_Symbol=='GNAQ'),]\n",
    "group_rank[which(group_rank$Hugo_Symbol=='HRAS'),]"
   ]
  },
  {
   "cell_type": "markdown",
   "id": "9ff78ba4",
   "metadata": {},
   "source": [
    "## Testing and significant chi2-gof results"
   ]
  },
  {
   "cell_type": "code",
   "execution_count": 10,
   "id": "a7bd5cfb",
   "metadata": {
    "scrolled": false
   },
   "outputs": [
    {
     "data": {
      "text/html": [
       "<table class=\"dataframe\">\n",
       "<caption>A data.frame: 10 × 4</caption>\n",
       "<thead>\n",
       "\t<tr><th></th><th scope=col>Hugo_Symbol</th><th scope=col>n_test</th><th scope=col>n_sig</th><th scope=col>sig_perc</th></tr>\n",
       "\t<tr><th></th><th scope=col>&lt;fct&gt;</th><th scope=col>&lt;int&gt;</th><th scope=col>&lt;dbl&gt;</th><th scope=col>&lt;dbl&gt;</th></tr>\n",
       "</thead>\n",
       "<tbody>\n",
       "\t<tr><th scope=row>1</th><td>AKT1  </td><td>4</td><td>4</td><td>1</td></tr>\n",
       "\t<tr><th scope=row>2</th><td>APC   </td><td>4</td><td>4</td><td>1</td></tr>\n",
       "\t<tr><th scope=row>3</th><td>ARID1A</td><td>4</td><td>4</td><td>1</td></tr>\n",
       "\t<tr><th scope=row>4</th><td>ARID2 </td><td>4</td><td>4</td><td>1</td></tr>\n",
       "\t<tr><th scope=row>5</th><td>ATM   </td><td>4</td><td>4</td><td>1</td></tr>\n",
       "\t<tr><th scope=row>6</th><td>BAP1  </td><td>4</td><td>4</td><td>1</td></tr>\n",
       "\t<tr><th scope=row>7</th><td>BRCA1 </td><td>4</td><td>4</td><td>1</td></tr>\n",
       "\t<tr><th scope=row>8</th><td>BRCA2 </td><td>4</td><td>4</td><td>1</td></tr>\n",
       "\t<tr><th scope=row>9</th><td>CDH1  </td><td>4</td><td>4</td><td>1</td></tr>\n",
       "\t<tr><th scope=row>10</th><td>CDKN2A</td><td>4</td><td>4</td><td>1</td></tr>\n",
       "</tbody>\n",
       "</table>\n"
      ],
      "text/latex": [
       "A data.frame: 10 × 4\n",
       "\\begin{tabular}{r|llll}\n",
       "  & Hugo\\_Symbol & n\\_test & n\\_sig & sig\\_perc\\\\\n",
       "  & <fct> & <int> & <dbl> & <dbl>\\\\\n",
       "\\hline\n",
       "\t1 & AKT1   & 4 & 4 & 1\\\\\n",
       "\t2 & APC    & 4 & 4 & 1\\\\\n",
       "\t3 & ARID1A & 4 & 4 & 1\\\\\n",
       "\t4 & ARID2  & 4 & 4 & 1\\\\\n",
       "\t5 & ATM    & 4 & 4 & 1\\\\\n",
       "\t6 & BAP1   & 4 & 4 & 1\\\\\n",
       "\t7 & BRCA1  & 4 & 4 & 1\\\\\n",
       "\t8 & BRCA2  & 4 & 4 & 1\\\\\n",
       "\t9 & CDH1   & 4 & 4 & 1\\\\\n",
       "\t10 & CDKN2A & 4 & 4 & 1\\\\\n",
       "\\end{tabular}\n"
      ],
      "text/markdown": [
       "\n",
       "A data.frame: 10 × 4\n",
       "\n",
       "| <!--/--> | Hugo_Symbol &lt;fct&gt; | n_test &lt;int&gt; | n_sig &lt;dbl&gt; | sig_perc &lt;dbl&gt; |\n",
       "|---|---|---|---|---|\n",
       "| 1 | AKT1   | 4 | 4 | 1 |\n",
       "| 2 | APC    | 4 | 4 | 1 |\n",
       "| 3 | ARID1A | 4 | 4 | 1 |\n",
       "| 4 | ARID2  | 4 | 4 | 1 |\n",
       "| 5 | ATM    | 4 | 4 | 1 |\n",
       "| 6 | BAP1   | 4 | 4 | 1 |\n",
       "| 7 | BRCA1  | 4 | 4 | 1 |\n",
       "| 8 | BRCA2  | 4 | 4 | 1 |\n",
       "| 9 | CDH1   | 4 | 4 | 1 |\n",
       "| 10 | CDKN2A | 4 | 4 | 1 |\n",
       "\n"
      ],
      "text/plain": [
       "   Hugo_Symbol n_test n_sig sig_perc\n",
       "1  AKT1        4      4     1       \n",
       "2  APC         4      4     1       \n",
       "3  ARID1A      4      4     1       \n",
       "4  ARID2       4      4     1       \n",
       "5  ATM         4      4     1       \n",
       "6  BAP1        4      4     1       \n",
       "7  BRCA1       4      4     1       \n",
       "8  BRCA2       4      4     1       \n",
       "9  CDH1        4      4     1       \n",
       "10 CDKN2A      4      4     1       "
      ]
     },
     "metadata": {},
     "output_type": "display_data"
    },
    {
     "data": {
      "text/html": [
       "<table class=\"dataframe\">\n",
       "<caption>A data.frame: 10 × 4</caption>\n",
       "<thead>\n",
       "\t<tr><th></th><th scope=col>Hugo_Symbol</th><th scope=col>n_test</th><th scope=col>n_sig</th><th scope=col>sig_perc</th></tr>\n",
       "\t<tr><th></th><th scope=col>&lt;fct&gt;</th><th scope=col>&lt;int&gt;</th><th scope=col>&lt;dbl&gt;</th><th scope=col>&lt;dbl&gt;</th></tr>\n",
       "</thead>\n",
       "<tbody>\n",
       "\t<tr><th scope=row>291</th><td>SDHD   </td><td>4</td><td>0</td><td>0</td></tr>\n",
       "\t<tr><th scope=row>292</th><td>SH2D1A </td><td>4</td><td>0</td><td>0</td></tr>\n",
       "\t<tr><th scope=row>293</th><td>SMAD3  </td><td>4</td><td>0</td><td>0</td></tr>\n",
       "\t<tr><th scope=row>294</th><td>SMARCD1</td><td>4</td><td>0</td><td>0</td></tr>\n",
       "\t<tr><th scope=row>295</th><td>SOCS1  </td><td>4</td><td>0</td><td>0</td></tr>\n",
       "\t<tr><th scope=row>296</th><td>STAT5B </td><td>4</td><td>0</td><td>0</td></tr>\n",
       "\t<tr><th scope=row>297</th><td>SYK    </td><td>4</td><td>0</td><td>0</td></tr>\n",
       "\t<tr><th scope=row>298</th><td>TMEM127</td><td>4</td><td>0</td><td>0</td></tr>\n",
       "\t<tr><th scope=row>299</th><td>TRAF7  </td><td>4</td><td>0</td><td>0</td></tr>\n",
       "\t<tr><th scope=row>300</th><td>YAP1   </td><td>4</td><td>0</td><td>0</td></tr>\n",
       "</tbody>\n",
       "</table>\n"
      ],
      "text/latex": [
       "A data.frame: 10 × 4\n",
       "\\begin{tabular}{r|llll}\n",
       "  & Hugo\\_Symbol & n\\_test & n\\_sig & sig\\_perc\\\\\n",
       "  & <fct> & <int> & <dbl> & <dbl>\\\\\n",
       "\\hline\n",
       "\t291 & SDHD    & 4 & 0 & 0\\\\\n",
       "\t292 & SH2D1A  & 4 & 0 & 0\\\\\n",
       "\t293 & SMAD3   & 4 & 0 & 0\\\\\n",
       "\t294 & SMARCD1 & 4 & 0 & 0\\\\\n",
       "\t295 & SOCS1   & 4 & 0 & 0\\\\\n",
       "\t296 & STAT5B  & 4 & 0 & 0\\\\\n",
       "\t297 & SYK     & 4 & 0 & 0\\\\\n",
       "\t298 & TMEM127 & 4 & 0 & 0\\\\\n",
       "\t299 & TRAF7   & 4 & 0 & 0\\\\\n",
       "\t300 & YAP1    & 4 & 0 & 0\\\\\n",
       "\\end{tabular}\n"
      ],
      "text/markdown": [
       "\n",
       "A data.frame: 10 × 4\n",
       "\n",
       "| <!--/--> | Hugo_Symbol &lt;fct&gt; | n_test &lt;int&gt; | n_sig &lt;dbl&gt; | sig_perc &lt;dbl&gt; |\n",
       "|---|---|---|---|---|\n",
       "| 291 | SDHD    | 4 | 0 | 0 |\n",
       "| 292 | SH2D1A  | 4 | 0 | 0 |\n",
       "| 293 | SMAD3   | 4 | 0 | 0 |\n",
       "| 294 | SMARCD1 | 4 | 0 | 0 |\n",
       "| 295 | SOCS1   | 4 | 0 | 0 |\n",
       "| 296 | STAT5B  | 4 | 0 | 0 |\n",
       "| 297 | SYK     | 4 | 0 | 0 |\n",
       "| 298 | TMEM127 | 4 | 0 | 0 |\n",
       "| 299 | TRAF7   | 4 | 0 | 0 |\n",
       "| 300 | YAP1    | 4 | 0 | 0 |\n",
       "\n"
      ],
      "text/plain": [
       "    Hugo_Symbol n_test n_sig sig_perc\n",
       "291 SDHD        4      0     0       \n",
       "292 SH2D1A      4      0     0       \n",
       "293 SMAD3       4      0     0       \n",
       "294 SMARCD1     4      0     0       \n",
       "295 SOCS1       4      0     0       \n",
       "296 STAT5B      4      0     0       \n",
       "297 SYK         4      0     0       \n",
       "298 TMEM127     4      0     0       \n",
       "299 TRAF7       4      0     0       \n",
       "300 YAP1        4      0     0       "
      ]
     },
     "metadata": {},
     "output_type": "display_data"
    }
   ],
   "source": [
    "## Proof of concept using generel dataset\n",
    "\n",
    "# Load in chi2-gof results\n",
    "g_chi2_gof_results <- read.csv(\"../../derived_data/chi2_gof_test_results/general.csv\")\n",
    "g_chi2_gof_results <- g_chi2_gof_results %>% select(-X, -NA.)\n",
    "#head(g_chi2_gof_results)\n",
    "\n",
    "# Count how often each gene is present, this is equvalent to how often it is tested\n",
    "g_test_count <- as.data.frame(table(g_chi2_gof_results$Hugo_Symbol))\n",
    "\n",
    "# Renaming columns\n",
    "g_test_count <- rename(g_test_count, Hugo_Symbol = Var1)\n",
    "g_test_count <- rename(g_test_count, n_test = Freq)\n",
    "\n",
    "# Make table with only significant genes\n",
    "g_mut_sig <- g_chi2_gof_results[which(g_chi2_gof_results$p_value < 0.05/6764),]\n",
    "\n",
    "# Count how often each gene is significant\n",
    "g_sig_count <- as.data.frame(table(g_mut_sig$Hugo_Symbol))\n",
    "\n",
    "# Renaming columns\n",
    "g_sig_count <- rename(g_sig_count, Hugo_Symbol = Var1)\n",
    "g_sig_count <- rename(g_sig_count, n_sig = Freq)\n",
    "\n",
    "# Merge the tables\n",
    "g_test_and_sig <- left_join(g_test_count, g_sig_count, by = \"Hugo_Symbol\")\n",
    "\n",
    "# Replacing NA in sig column with 0\n",
    "g_test_and_sig <- g_test_and_sig %>% mutate(n_sig = ifelse(is.na(n_sig), 0, n_sig))\n",
    "\n",
    "# Calculate percentage of times it is found to be significant\n",
    "g_test_and_sig <- g_test_and_sig %>% mutate(sig_perc = n_sig / n_test)\n",
    "\n",
    "# Sort table\n",
    "g_test_and_sig <- g_test_and_sig %>% arrange(desc(sig_perc), desc(n_test))\n",
    "\n",
    "# Make figure, top 10 most commonly significant\n",
    "head(g_test_and_sig, 10)\n",
    "\n",
    "# Make figure with top 10 least significant\n",
    "tail(g_test_and_sig, 10)"
   ]
  },
  {
   "cell_type": "code",
   "execution_count": 11,
   "id": "2135a871",
   "metadata": {},
   "outputs": [
    {
     "data": {
      "text/html": [
       "<table class=\"dataframe\">\n",
       "<caption>A data.frame: 6 × 6</caption>\n",
       "<thead>\n",
       "\t<tr><th></th><th scope=col>Hugo_Symbol</th><th scope=col>sex</th><th scope=col>sample_type</th><th scope=col>X_squared</th><th scope=col>df</th><th scope=col>p_value</th></tr>\n",
       "\t<tr><th></th><th scope=col>&lt;chr&gt;</th><th scope=col>&lt;chr&gt;</th><th scope=col>&lt;chr&gt;</th><th scope=col>&lt;dbl&gt;</th><th scope=col>&lt;int&gt;</th><th scope=col>&lt;dbl&gt;</th></tr>\n",
       "</thead>\n",
       "<tbody>\n",
       "\t<tr><th scope=row>2</th><td>MUTYH</td><td>Female</td><td>Primary   </td><td> 53.94773</td><td>4</td><td>5.396985e-11</td></tr>\n",
       "\t<tr><th scope=row>3</th><td>MUTYH</td><td>Male  </td><td>Metastasis</td><td> 32.28869</td><td>4</td><td>1.670015e-06</td></tr>\n",
       "\t<tr><th scope=row>6</th><td>FGF19</td><td>Female</td><td>Primary   </td><td> 32.10429</td><td>4</td><td>1.821462e-06</td></tr>\n",
       "\t<tr><th scope=row>9</th><td>DDR2 </td><td>Male  </td><td>Primary   </td><td> 65.38784</td><td>4</td><td>2.131875e-13</td></tr>\n",
       "\t<tr><th scope=row>10</th><td>DDR2 </td><td>Female</td><td>Primary   </td><td>135.01811</td><td>4</td><td>3.288048e-28</td></tr>\n",
       "\t<tr><th scope=row>11</th><td>DDR2 </td><td>Male  </td><td>Metastasis</td><td> 62.82184</td><td>4</td><td>7.397809e-13</td></tr>\n",
       "</tbody>\n",
       "</table>\n"
      ],
      "text/latex": [
       "A data.frame: 6 × 6\n",
       "\\begin{tabular}{r|llllll}\n",
       "  & Hugo\\_Symbol & sex & sample\\_type & X\\_squared & df & p\\_value\\\\\n",
       "  & <chr> & <chr> & <chr> & <dbl> & <int> & <dbl>\\\\\n",
       "\\hline\n",
       "\t2 & MUTYH & Female & Primary    &  53.94773 & 4 & 5.396985e-11\\\\\n",
       "\t3 & MUTYH & Male   & Metastasis &  32.28869 & 4 & 1.670015e-06\\\\\n",
       "\t6 & FGF19 & Female & Primary    &  32.10429 & 4 & 1.821462e-06\\\\\n",
       "\t9 & DDR2  & Male   & Primary    &  65.38784 & 4 & 2.131875e-13\\\\\n",
       "\t10 & DDR2  & Female & Primary    & 135.01811 & 4 & 3.288048e-28\\\\\n",
       "\t11 & DDR2  & Male   & Metastasis &  62.82184 & 4 & 7.397809e-13\\\\\n",
       "\\end{tabular}\n"
      ],
      "text/markdown": [
       "\n",
       "A data.frame: 6 × 6\n",
       "\n",
       "| <!--/--> | Hugo_Symbol &lt;chr&gt; | sex &lt;chr&gt; | sample_type &lt;chr&gt; | X_squared &lt;dbl&gt; | df &lt;int&gt; | p_value &lt;dbl&gt; |\n",
       "|---|---|---|---|---|---|---|\n",
       "| 2 | MUTYH | Female | Primary    |  53.94773 | 4 | 5.396985e-11 |\n",
       "| 3 | MUTYH | Male   | Metastasis |  32.28869 | 4 | 1.670015e-06 |\n",
       "| 6 | FGF19 | Female | Primary    |  32.10429 | 4 | 1.821462e-06 |\n",
       "| 9 | DDR2  | Male   | Primary    |  65.38784 | 4 | 2.131875e-13 |\n",
       "| 10 | DDR2  | Female | Primary    | 135.01811 | 4 | 3.288048e-28 |\n",
       "| 11 | DDR2  | Male   | Metastasis |  62.82184 | 4 | 7.397809e-13 |\n",
       "\n"
      ],
      "text/plain": [
       "   Hugo_Symbol sex    sample_type X_squared df p_value     \n",
       "2  MUTYH       Female Primary      53.94773 4  5.396985e-11\n",
       "3  MUTYH       Male   Metastasis   32.28869 4  1.670015e-06\n",
       "6  FGF19       Female Primary      32.10429 4  1.821462e-06\n",
       "9  DDR2        Male   Primary      65.38784 4  2.131875e-13\n",
       "10 DDR2        Female Primary     135.01811 4  3.288048e-28\n",
       "11 DDR2        Male   Metastasis   62.82184 4  7.397809e-13"
      ]
     },
     "metadata": {},
     "output_type": "display_data"
    }
   ],
   "source": [
    "# Making one table for results and significance\n",
    "chi2_gof_results <- g_chi2_gof_results\n",
    "mut_sig <- g_mut_sig\n",
    "\n",
    "for (idx in 1:length(cancer_list)){\n",
    "    # Get cancer name\n",
    "    name <- cancer_list[idx]\n",
    "    # Get file name\n",
    "    file_name <- gsub(\" \", \"_\", name)\n",
    "    \n",
    "    # Loading the cs result file\n",
    "    file_path <- paste(\"../../derived_data/chi2_gof_test_results/\", file_name, \".csv\", sep='')\n",
    "    cs_chi2_gof_results <- read.csv(file_path)\n",
    "    cs_chi2_gof_results <- cs_chi2_gof_results %>% select(-X)\n",
    "    # Adding the results to our table\n",
    "    chi2_gof_results <- rbind(chi2_gof_results, cs_chi2_gof_results)\n",
    "    \n",
    "    # Finding how often we have tested in the cancer-specific dataset\n",
    "    n_test <- nrow(cs_chi2_gof_results)\n",
    "    # Making a table of only bonferonni corrected significant mutations\n",
    "    cs_mut_sig <- cs_chi2_gof_results[which(cs_chi2_gof_results$p_value <= 0.05/n_test),]\n",
    "    # Adding the significant mutations to the table\n",
    "    mut_sig <- rbind(mut_sig, cs_mut_sig)\n",
    "}\n",
    "\n",
    "head(mut_sig)"
   ]
  },
  {
   "cell_type": "markdown",
   "id": "a1e016f3",
   "metadata": {},
   "source": [
    "# Making it a figure\n",
    "top20 <- temut_sigst_and_sig[1:20,]\n",
    "lvl20 <- top20[[1]]\n",
    "\n",
    "top20$Hugo_Symbol <- factor(top20$Hugo_Symbol, levels = lvl20)\n",
    "\n",
    "ggplot(top20, aes(x=Hugo_Symbol)) + \n",
    "geom_bar(aes(y=n_test), stat=\"identity\", position = \"identity\", fill='palevioletred1') +\n",
    "geom_bar(aes(y=n_sig), stat=\"identity\", position = \"identity\", fill='black', alpha=0.5) +\n",
    "geom_text(aes(y=n_sig-3, label=paste(round(sig_perc, digits = 2), '%', sep=' '), angle = 90), vjust=0.5, colour = 'white', fontface = \"bold\") +\n",
    "theme_classic() +\n",
    "xlab('Hugo Symbol') +\n",
    "ylab('# times tested') +\n",
    "ggtitle('Top 20 significant genes') +\n",
    "theme(axis.text.x = element_text(angle = 90, vjust = 0.5, hjust=1))"
   ]
  },
  {
   "cell_type": "markdown",
   "id": "d1be0a05",
   "metadata": {},
   "source": [
    "## Chi2-gof mutations of interest"
   ]
  },
  {
   "cell_type": "code",
   "execution_count": 13,
   "id": "fc161b74",
   "metadata": {},
   "outputs": [
    {
     "data": {
      "text/html": [
       "<style>\n",
       ".list-inline {list-style: none; margin:0; padding: 0}\n",
       ".list-inline>li {display: inline-block}\n",
       ".list-inline>li:not(:last-child)::after {content: \"\\00b7\"; padding: 0 .5ex}\n",
       "</style>\n",
       "<ol class=list-inline><li>442</li><li>7</li></ol>\n"
      ],
      "text/latex": [
       "\\begin{enumerate*}\n",
       "\\item 442\n",
       "\\item 7\n",
       "\\end{enumerate*}\n"
      ],
      "text/markdown": [
       "1. 442\n",
       "2. 7\n",
       "\n",
       "\n"
      ],
      "text/plain": [
       "[1] 442   7"
      ]
     },
     "metadata": {},
     "output_type": "display_data"
    },
    {
     "data": {
      "text/html": [
       "<table class=\"dataframe\">\n",
       "<caption>A data.frame: 6 × 7</caption>\n",
       "<thead>\n",
       "\t<tr><th></th><th scope=col>cancer_type</th><th scope=col>Hugo_Symbol</th><th scope=col>sex</th><th scope=col>sample_type</th><th scope=col>sum_of_absolute_difference</th><th scope=col>p_value</th><th scope=col>n</th></tr>\n",
       "\t<tr><th></th><th scope=col>&lt;chr&gt;</th><th scope=col>&lt;chr&gt;</th><th scope=col>&lt;chr&gt;</th><th scope=col>&lt;chr&gt;</th><th scope=col>&lt;dbl&gt;</th><th scope=col>&lt;dbl&gt;</th><th scope=col>&lt;int&gt;</th></tr>\n",
       "</thead>\n",
       "<tbody>\n",
       "\t<tr><th scope=row>1</th><td>General</td><td>CDKN2A</td><td>Male  </td><td>Primary   </td><td>56.68998</td><td> 1.432424e-76</td><td>  907</td></tr>\n",
       "\t<tr><th scope=row>2</th><td>General</td><td>CDKN2A</td><td>Female</td><td>Primary   </td><td>63.13009</td><td> 7.299446e-67</td><td>  698</td></tr>\n",
       "\t<tr><th scope=row>3</th><td>General</td><td>CDKN2A</td><td>Male  </td><td>Metastasis</td><td>56.36045</td><td> 1.030006e-51</td><td>  660</td></tr>\n",
       "\t<tr><th scope=row>4</th><td>General</td><td>TP53  </td><td>Male  </td><td>Primary   </td><td>45.67578</td><td>9.999889e-321</td><td>12669</td></tr>\n",
       "\t<tr><th scope=row>5</th><td>General</td><td>TP53  </td><td>Female</td><td>Primary   </td><td>54.41339</td><td>9.999889e-321</td><td>14193</td></tr>\n",
       "\t<tr><th scope=row>6</th><td>General</td><td>TP53  </td><td>Male  </td><td>Metastasis</td><td>47.61708</td><td>9.999889e-321</td><td> 7783</td></tr>\n",
       "</tbody>\n",
       "</table>\n"
      ],
      "text/latex": [
       "A data.frame: 6 × 7\n",
       "\\begin{tabular}{r|lllllll}\n",
       "  & cancer\\_type & Hugo\\_Symbol & sex & sample\\_type & sum\\_of\\_absolute\\_difference & p\\_value & n\\\\\n",
       "  & <chr> & <chr> & <chr> & <chr> & <dbl> & <dbl> & <int>\\\\\n",
       "\\hline\n",
       "\t1 & General & CDKN2A & Male   & Primary    & 56.68998 &  1.432424e-76 &   907\\\\\n",
       "\t2 & General & CDKN2A & Female & Primary    & 63.13009 &  7.299446e-67 &   698\\\\\n",
       "\t3 & General & CDKN2A & Male   & Metastasis & 56.36045 &  1.030006e-51 &   660\\\\\n",
       "\t4 & General & TP53   & Male   & Primary    & 45.67578 & 9.999889e-321 & 12669\\\\\n",
       "\t5 & General & TP53   & Female & Primary    & 54.41339 & 9.999889e-321 & 14193\\\\\n",
       "\t6 & General & TP53   & Male   & Metastasis & 47.61708 & 9.999889e-321 &  7783\\\\\n",
       "\\end{tabular}\n"
      ],
      "text/markdown": [
       "\n",
       "A data.frame: 6 × 7\n",
       "\n",
       "| <!--/--> | cancer_type &lt;chr&gt; | Hugo_Symbol &lt;chr&gt; | sex &lt;chr&gt; | sample_type &lt;chr&gt; | sum_of_absolute_difference &lt;dbl&gt; | p_value &lt;dbl&gt; | n &lt;int&gt; |\n",
       "|---|---|---|---|---|---|---|---|\n",
       "| 1 | General | CDKN2A | Male   | Primary    | 56.68998 |  1.432424e-76 |   907 |\n",
       "| 2 | General | CDKN2A | Female | Primary    | 63.13009 |  7.299446e-67 |   698 |\n",
       "| 3 | General | CDKN2A | Male   | Metastasis | 56.36045 |  1.030006e-51 |   660 |\n",
       "| 4 | General | TP53   | Male   | Primary    | 45.67578 | 9.999889e-321 | 12669 |\n",
       "| 5 | General | TP53   | Female | Primary    | 54.41339 | 9.999889e-321 | 14193 |\n",
       "| 6 | General | TP53   | Male   | Metastasis | 47.61708 | 9.999889e-321 |  7783 |\n",
       "\n"
      ],
      "text/plain": [
       "  cancer_type Hugo_Symbol sex    sample_type sum_of_absolute_difference\n",
       "1 General     CDKN2A      Male   Primary     56.68998                  \n",
       "2 General     CDKN2A      Female Primary     63.13009                  \n",
       "3 General     CDKN2A      Male   Metastasis  56.36045                  \n",
       "4 General     TP53        Male   Primary     45.67578                  \n",
       "5 General     TP53        Female Primary     54.41339                  \n",
       "6 General     TP53        Male   Metastasis  47.61708                  \n",
       "  p_value       n    \n",
       "1  1.432424e-76   907\n",
       "2  7.299446e-67   698\n",
       "3  1.030006e-51   660\n",
       "4 9.999889e-321 12669\n",
       "5 9.999889e-321 14193\n",
       "6 9.999889e-321  7783"
      ]
     },
     "metadata": {},
     "output_type": "display_data"
    }
   ],
   "source": [
    "interest <- read.csv(\"../../derived_data/chi2_gof_results_of_interest\")\n",
    "interest <- interest %>% select(-X)\n",
    "\n",
    "dim(interest)\n",
    "head(interest)"
   ]
  },
  {
   "cell_type": "code",
   "execution_count": 14,
   "id": "ac52be6e",
   "metadata": {},
   "outputs": [
    {
     "data": {
      "text/html": [
       "<table class=\"dataframe\">\n",
       "<caption>A data.frame: 6 × 6</caption>\n",
       "<thead>\n",
       "\t<tr><th></th><th scope=col>Hugo_Symbol</th><th scope=col>n_test</th><th scope=col>n_int</th><th scope=col>int_perc</th><th scope=col>sex</th><th scope=col>sample_type</th></tr>\n",
       "\t<tr><th></th><th scope=col>&lt;fct&gt;</th><th scope=col>&lt;int&gt;</th><th scope=col>&lt;dbl&gt;</th><th scope=col>&lt;dbl&gt;</th><th scope=col>&lt;chr&gt;</th><th scope=col>&lt;chr&gt;</th></tr>\n",
       "</thead>\n",
       "<tbody>\n",
       "\t<tr><th scope=row>1</th><td>TP53  </td><td>11</td><td>8</td><td>72.72727</td><td>Female</td><td>Primary</td></tr>\n",
       "\t<tr><th scope=row>2</th><td>BRAF  </td><td>10</td><td>4</td><td>40.00000</td><td>Female</td><td>Primary</td></tr>\n",
       "\t<tr><th scope=row>3</th><td>PIK3CA</td><td>10</td><td>3</td><td>30.00000</td><td>Female</td><td>Primary</td></tr>\n",
       "\t<tr><th scope=row>4</th><td>PTEN  </td><td>11</td><td>3</td><td>27.27273</td><td>Female</td><td>Primary</td></tr>\n",
       "\t<tr><th scope=row>5</th><td>MAP2K1</td><td> 8</td><td>2</td><td>25.00000</td><td>Female</td><td>Primary</td></tr>\n",
       "\t<tr><th scope=row>6</th><td>AXIN2 </td><td> 4</td><td>1</td><td>25.00000</td><td>Female</td><td>Primary</td></tr>\n",
       "</tbody>\n",
       "</table>\n"
      ],
      "text/latex": [
       "A data.frame: 6 × 6\n",
       "\\begin{tabular}{r|llllll}\n",
       "  & Hugo\\_Symbol & n\\_test & n\\_int & int\\_perc & sex & sample\\_type\\\\\n",
       "  & <fct> & <int> & <dbl> & <dbl> & <chr> & <chr>\\\\\n",
       "\\hline\n",
       "\t1 & TP53   & 11 & 8 & 72.72727 & Female & Primary\\\\\n",
       "\t2 & BRAF   & 10 & 4 & 40.00000 & Female & Primary\\\\\n",
       "\t3 & PIK3CA & 10 & 3 & 30.00000 & Female & Primary\\\\\n",
       "\t4 & PTEN   & 11 & 3 & 27.27273 & Female & Primary\\\\\n",
       "\t5 & MAP2K1 &  8 & 2 & 25.00000 & Female & Primary\\\\\n",
       "\t6 & AXIN2  &  4 & 1 & 25.00000 & Female & Primary\\\\\n",
       "\\end{tabular}\n"
      ],
      "text/markdown": [
       "\n",
       "A data.frame: 6 × 6\n",
       "\n",
       "| <!--/--> | Hugo_Symbol &lt;fct&gt; | n_test &lt;int&gt; | n_int &lt;dbl&gt; | int_perc &lt;dbl&gt; | sex &lt;chr&gt; | sample_type &lt;chr&gt; |\n",
       "|---|---|---|---|---|---|---|\n",
       "| 1 | TP53   | 11 | 8 | 72.72727 | Female | Primary |\n",
       "| 2 | BRAF   | 10 | 4 | 40.00000 | Female | Primary |\n",
       "| 3 | PIK3CA | 10 | 3 | 30.00000 | Female | Primary |\n",
       "| 4 | PTEN   | 11 | 3 | 27.27273 | Female | Primary |\n",
       "| 5 | MAP2K1 |  8 | 2 | 25.00000 | Female | Primary |\n",
       "| 6 | AXIN2  |  4 | 1 | 25.00000 | Female | Primary |\n",
       "\n"
      ],
      "text/plain": [
       "  Hugo_Symbol n_test n_int int_perc sex    sample_type\n",
       "1 TP53        11     8     72.72727 Female Primary    \n",
       "2 BRAF        10     4     40.00000 Female Primary    \n",
       "3 PIK3CA      10     3     30.00000 Female Primary    \n",
       "4 PTEN        11     3     27.27273 Female Primary    \n",
       "5 MAP2K1       8     2     25.00000 Female Primary    \n",
       "6 AXIN2        4     1     25.00000 Female Primary    "
      ]
     },
     "metadata": {},
     "output_type": "display_data"
    }
   ],
   "source": [
    "# make table to save results\n",
    "group_interest_results <- data.frame(matrix(ncol = 6, nrow = 0))\n",
    "colnames(group_interest_results) <- c('Hugo_Symbol', 'n_test', 'n_int', 'int_perc', 'sex', 'sample_type')\n",
    "\n",
    "for (the_sex in c('Female', 'Male')){\n",
    "    for (the_sample_type in c('Primary', 'Metastasis')){\n",
    "        # defining our data\n",
    "        group_chi_results <- chi2_gof_results[which(chi2_gof_results$sex == the_sex & chi2_gof_results$sample_type == the_sample_type),]\n",
    "        group_interest <- interest[which(interest$sex == the_sex & interest$sample_type == the_sample_type),]\n",
    "        \n",
    "        # how often we have tested count\n",
    "        test_count <- as.data.frame(table(group_chi_results$Hugo_Symbol))\n",
    "        test_count <- rename(test_count, Hugo_Symbol = Var1)\n",
    "        test_count <- rename(test_count, n_test = Freq)\n",
    "        \n",
    "        # How often somthing is interesting\n",
    "        int_count <- as.data.frame(table(group_interest$Hugo_Symbol))\n",
    "        int_count <- rename(int_count, Hugo_Symbol = Var1)\n",
    "        int_count <- rename(int_count, n_int = Freq)\n",
    "        \n",
    "        # Merge\n",
    "        test_and_int <- left_join(test_count, int_count, by = \"Hugo_Symbol\")\n",
    "\n",
    "        # Replacing NA in sig column with 0\n",
    "        test_and_int <- test_and_int %>% mutate(n_int = ifelse(is.na(n_int), 0, n_int))\n",
    "\n",
    "        # Calculate percentage of times it is found to be significant\n",
    "        test_and_int <- test_and_int %>% mutate(int_perc = (n_int / n_test)*100)\n",
    "        \n",
    "        # Sort table\n",
    "        test_and_int <- test_and_int %>% arrange(desc(int_perc), desc(n_test))\n",
    "        \n",
    "        # min 2 tests performed\n",
    "        test_and_int <- test_and_int[which(test_and_int$n_test > 2),]\n",
    "        \n",
    "        # Add sex and sample-type to table\n",
    "        test_and_int$sex <- the_sex\n",
    "        test_and_int$sample_type <- the_sample_type\n",
    "\n",
    "        # add to group result\n",
    "        group_interest_results <- rbind(group_interest_results, test_and_int)\n",
    "    }\n",
    "}\n",
    "\n",
    "head(group_interest_results)"
   ]
  },
  {
   "cell_type": "code",
   "execution_count": 15,
   "id": "d8d9ee9b",
   "metadata": {
    "scrolled": false
   },
   "outputs": [
    {
     "data": {
      "image/png": "[encoded data removed]",
      "text/plain": [
       "plot without title"
      ]
     },
     "metadata": {
      "image/png": {
       "height": 420,
       "width": 420
      }
     },
     "output_type": "display_data"
    },
    {
     "data": {
      "image/png": "[encoded data removed]",
      "text/plain": [
       "plot without title"
      ]
     },
     "metadata": {
      "image/png": {
       "height": 420,
       "width": 420
      }
     },
     "output_type": "display_data"
    },
    {
     "data": {
      "image/png": "[encoded data removed]",
      "text/plain": [
       "plot without title"
      ]
     },
     "metadata": {
      "image/png": {
       "height": 420,
       "width": 420
      }
     },
     "output_type": "display_data"
    },
    {
     "data": {
      "image/png": "[encoded data removed]",
      "text/plain": [
       "plot without title"
      ]
     },
     "metadata": {
      "image/png": {
       "height": 420,
       "width": 420
      }
     },
     "output_type": "display_data"
    }
   ],
   "source": [
    "for (the_sex in c('Female', 'Male')){\n",
    "    for (the_sample_type in c('Primary', 'Metastasis')){\n",
    "        # define our data\n",
    "        tmp <- group_interest_results[which(group_interest_results$sex == the_sex & group_interest_results$sample_type == the_sample_type),]\n",
    "        \n",
    "        tmp <- tmp %>% arrange(desc(int_perc), desc(n_test))\n",
    "        \n",
    "        top20 <- tmp[1:20,]\n",
    "        lvl20 <- top20[[1]]\n",
    "        \n",
    "        top20$Hugo_Symbol <- factor(top20$Hugo_Symbol, levels = lvl20)\n",
    "        \n",
    "        q <- ggplot(top20, aes(x=Hugo_Symbol)) + \n",
    "        geom_bar(aes(y=n_test), stat=\"identity\", position = \"identity\", fill='#8EE5EE') +\n",
    "        geom_bar(aes(y=n_int), stat=\"identity\", position = \"identity\", fill='black', alpha=0.5) +\n",
    "        geom_text(aes(y=n_int-0.4, label=paste(round(int_perc, digits = 0), '%', sep=' '), angle = 90), vjust=0.5, colour = 'white', fontface = \"bold\") +\n",
    "        theme_classic() +\n",
    "        ylim(0, 11) +\n",
    "        xlab('Hugo Symbol') +\n",
    "        ylab('# times tested') +\n",
    "        ggtitle(paste(the_sex, the_sample_type, sep='-')) +\n",
    "        theme(axis.text.x = element_text(angle = 90, vjust = 0.5, hjust=1))\n",
    "        \n",
    "        print(q)\n",
    "    }\n",
    "}\n",
    "\n"
   ]
  },
  {
   "cell_type": "code",
   "execution_count": 37,
   "id": "b6668748",
   "metadata": {
    "scrolled": false
   },
   "outputs": [
    {
     "data": {
      "text/html": [
       "<table class=\"dataframe\">\n",
       "<caption>A tibble: 51 × 2</caption>\n",
       "<thead>\n",
       "\t<tr><th scope=col>Hugo_Symbol</th><th scope=col>n</th></tr>\n",
       "\t<tr><th scope=col>&lt;fct&gt;</th><th scope=col>&lt;int&gt;</th></tr>\n",
       "</thead>\n",
       "<tbody>\n",
       "\t<tr><td>AKT3   </td><td>1</td></tr>\n",
       "\t<tr><td>AR     </td><td>1</td></tr>\n",
       "\t<tr><td>ATM    </td><td>1</td></tr>\n",
       "\t<tr><td>ATR    </td><td>1</td></tr>\n",
       "\t<tr><td>BAP1   </td><td>1</td></tr>\n",
       "\t<tr><td>BARD1  </td><td>1</td></tr>\n",
       "\t<tr><td>BCOR   </td><td>1</td></tr>\n",
       "\t<tr><td>BRCA2  </td><td>1</td></tr>\n",
       "\t<tr><td>CASP8  </td><td>1</td></tr>\n",
       "\t<tr><td>CDK12  </td><td>1</td></tr>\n",
       "\t<tr><td>CTCF   </td><td>1</td></tr>\n",
       "\t<tr><td>CYLD   </td><td>1</td></tr>\n",
       "\t<tr><td>ERBB2  </td><td>1</td></tr>\n",
       "\t<tr><td>ERBB3  </td><td>1</td></tr>\n",
       "\t<tr><td>FAT1   </td><td>1</td></tr>\n",
       "\t<tr><td>FGFR4  </td><td>1</td></tr>\n",
       "\t<tr><td>FLT1   </td><td>1</td></tr>\n",
       "\t<tr><td>FOXA1  </td><td>1</td></tr>\n",
       "\t<tr><td>HGF    </td><td>1</td></tr>\n",
       "\t<tr><td>IKZF1  </td><td>1</td></tr>\n",
       "\t<tr><td>IL7R   </td><td>1</td></tr>\n",
       "\t<tr><td>JAK1   </td><td>1</td></tr>\n",
       "\t<tr><td>KDM5C  </td><td>1</td></tr>\n",
       "\t<tr><td>KDM6A  </td><td>1</td></tr>\n",
       "\t<tr><td>KMT2A  </td><td>1</td></tr>\n",
       "\t<tr><td>KMT2B  </td><td>1</td></tr>\n",
       "\t<tr><td>KMT2C  </td><td>1</td></tr>\n",
       "\t<tr><td>KMT2D  </td><td>1</td></tr>\n",
       "\t<tr><td>MAP2K1 </td><td>1</td></tr>\n",
       "\t<tr><td>MAPK1  </td><td>1</td></tr>\n",
       "\t<tr><td>MAX    </td><td>1</td></tr>\n",
       "\t<tr><td>MED12  </td><td>1</td></tr>\n",
       "\t<tr><td>NOTCH1 </td><td>1</td></tr>\n",
       "\t<tr><td>NOTCH3 </td><td>1</td></tr>\n",
       "\t<tr><td>NTRK1  </td><td>1</td></tr>\n",
       "\t<tr><td>NTRK2  </td><td>1</td></tr>\n",
       "\t<tr><td>PBRM1  </td><td>1</td></tr>\n",
       "\t<tr><td>PDGFRA </td><td>1</td></tr>\n",
       "\t<tr><td>PDGFRB </td><td>1</td></tr>\n",
       "\t<tr><td>PIK3CA </td><td>1</td></tr>\n",
       "\t<tr><td>PPP2R1A</td><td>1</td></tr>\n",
       "\t<tr><td>PRKCI  </td><td>1</td></tr>\n",
       "\t<tr><td>RASA1  </td><td>1</td></tr>\n",
       "\t<tr><td>RB1    </td><td>1</td></tr>\n",
       "\t<tr><td>RHOA   </td><td>1</td></tr>\n",
       "\t<tr><td>RPTOR  </td><td>1</td></tr>\n",
       "\t<tr><td>SMAD3  </td><td>1</td></tr>\n",
       "\t<tr><td>SPOP   </td><td>1</td></tr>\n",
       "\t<tr><td>STAG2  </td><td>1</td></tr>\n",
       "\t<tr><td>TCF3   </td><td>1</td></tr>\n",
       "\t<tr><td>TRAF7  </td><td>1</td></tr>\n",
       "</tbody>\n",
       "</table>\n"
      ],
      "text/latex": [
       "A tibble: 51 × 2\n",
       "\\begin{tabular}{ll}\n",
       " Hugo\\_Symbol & n\\\\\n",
       " <fct> & <int>\\\\\n",
       "\\hline\n",
       "\t AKT3    & 1\\\\\n",
       "\t AR      & 1\\\\\n",
       "\t ATM     & 1\\\\\n",
       "\t ATR     & 1\\\\\n",
       "\t BAP1    & 1\\\\\n",
       "\t BARD1   & 1\\\\\n",
       "\t BCOR    & 1\\\\\n",
       "\t BRCA2   & 1\\\\\n",
       "\t CASP8   & 1\\\\\n",
       "\t CDK12   & 1\\\\\n",
       "\t CTCF    & 1\\\\\n",
       "\t CYLD    & 1\\\\\n",
       "\t ERBB2   & 1\\\\\n",
       "\t ERBB3   & 1\\\\\n",
       "\t FAT1    & 1\\\\\n",
       "\t FGFR4   & 1\\\\\n",
       "\t FLT1    & 1\\\\\n",
       "\t FOXA1   & 1\\\\\n",
       "\t HGF     & 1\\\\\n",
       "\t IKZF1   & 1\\\\\n",
       "\t IL7R    & 1\\\\\n",
       "\t JAK1    & 1\\\\\n",
       "\t KDM5C   & 1\\\\\n",
       "\t KDM6A   & 1\\\\\n",
       "\t KMT2A   & 1\\\\\n",
       "\t KMT2B   & 1\\\\\n",
       "\t KMT2C   & 1\\\\\n",
       "\t KMT2D   & 1\\\\\n",
       "\t MAP2K1  & 1\\\\\n",
       "\t MAPK1   & 1\\\\\n",
       "\t MAX     & 1\\\\\n",
       "\t MED12   & 1\\\\\n",
       "\t NOTCH1  & 1\\\\\n",
       "\t NOTCH3  & 1\\\\\n",
       "\t NTRK1   & 1\\\\\n",
       "\t NTRK2   & 1\\\\\n",
       "\t PBRM1   & 1\\\\\n",
       "\t PDGFRA  & 1\\\\\n",
       "\t PDGFRB  & 1\\\\\n",
       "\t PIK3CA  & 1\\\\\n",
       "\t PPP2R1A & 1\\\\\n",
       "\t PRKCI   & 1\\\\\n",
       "\t RASA1   & 1\\\\\n",
       "\t RB1     & 1\\\\\n",
       "\t RHOA    & 1\\\\\n",
       "\t RPTOR   & 1\\\\\n",
       "\t SMAD3   & 1\\\\\n",
       "\t SPOP    & 1\\\\\n",
       "\t STAG2   & 1\\\\\n",
       "\t TCF3    & 1\\\\\n",
       "\t TRAF7   & 1\\\\\n",
       "\\end{tabular}\n"
      ],
      "text/markdown": [
       "\n",
       "A tibble: 51 × 2\n",
       "\n",
       "| Hugo_Symbol &lt;fct&gt; | n &lt;int&gt; |\n",
       "|---|---|\n",
       "| AKT3    | 1 |\n",
       "| AR      | 1 |\n",
       "| ATM     | 1 |\n",
       "| ATR     | 1 |\n",
       "| BAP1    | 1 |\n",
       "| BARD1   | 1 |\n",
       "| BCOR    | 1 |\n",
       "| BRCA2   | 1 |\n",
       "| CASP8   | 1 |\n",
       "| CDK12   | 1 |\n",
       "| CTCF    | 1 |\n",
       "| CYLD    | 1 |\n",
       "| ERBB2   | 1 |\n",
       "| ERBB3   | 1 |\n",
       "| FAT1    | 1 |\n",
       "| FGFR4   | 1 |\n",
       "| FLT1    | 1 |\n",
       "| FOXA1   | 1 |\n",
       "| HGF     | 1 |\n",
       "| IKZF1   | 1 |\n",
       "| IL7R    | 1 |\n",
       "| JAK1    | 1 |\n",
       "| KDM5C   | 1 |\n",
       "| KDM6A   | 1 |\n",
       "| KMT2A   | 1 |\n",
       "| KMT2B   | 1 |\n",
       "| KMT2C   | 1 |\n",
       "| KMT2D   | 1 |\n",
       "| MAP2K1  | 1 |\n",
       "| MAPK1   | 1 |\n",
       "| MAX     | 1 |\n",
       "| MED12   | 1 |\n",
       "| NOTCH1  | 1 |\n",
       "| NOTCH3  | 1 |\n",
       "| NTRK1   | 1 |\n",
       "| NTRK2   | 1 |\n",
       "| PBRM1   | 1 |\n",
       "| PDGFRA  | 1 |\n",
       "| PDGFRB  | 1 |\n",
       "| PIK3CA  | 1 |\n",
       "| PPP2R1A | 1 |\n",
       "| PRKCI   | 1 |\n",
       "| RASA1   | 1 |\n",
       "| RB1     | 1 |\n",
       "| RHOA    | 1 |\n",
       "| RPTOR   | 1 |\n",
       "| SMAD3   | 1 |\n",
       "| SPOP    | 1 |\n",
       "| STAG2   | 1 |\n",
       "| TCF3    | 1 |\n",
       "| TRAF7   | 1 |\n",
       "\n"
      ],
      "text/plain": [
       "   Hugo_Symbol n\n",
       "1  AKT3        1\n",
       "2  AR          1\n",
       "3  ATM         1\n",
       "4  ATR         1\n",
       "5  BAP1        1\n",
       "6  BARD1       1\n",
       "7  BCOR        1\n",
       "8  BRCA2       1\n",
       "9  CASP8       1\n",
       "10 CDK12       1\n",
       "11 CTCF        1\n",
       "12 CYLD        1\n",
       "13 ERBB2       1\n",
       "14 ERBB3       1\n",
       "15 FAT1        1\n",
       "16 FGFR4       1\n",
       "17 FLT1        1\n",
       "18 FOXA1       1\n",
       "19 HGF         1\n",
       "20 IKZF1       1\n",
       "21 IL7R        1\n",
       "22 JAK1        1\n",
       "23 KDM5C       1\n",
       "24 KDM6A       1\n",
       "25 KMT2A       1\n",
       "26 KMT2B       1\n",
       "27 KMT2C       1\n",
       "28 KMT2D       1\n",
       "29 MAP2K1      1\n",
       "30 MAPK1       1\n",
       "31 MAX         1\n",
       "32 MED12       1\n",
       "33 NOTCH1      1\n",
       "34 NOTCH3      1\n",
       "35 NTRK1       1\n",
       "36 NTRK2       1\n",
       "37 PBRM1       1\n",
       "38 PDGFRA      1\n",
       "39 PDGFRB      1\n",
       "40 PIK3CA      1\n",
       "41 PPP2R1A     1\n",
       "42 PRKCI       1\n",
       "43 RASA1       1\n",
       "44 RB1         1\n",
       "45 RHOA        1\n",
       "46 RPTOR       1\n",
       "47 SMAD3       1\n",
       "48 SPOP        1\n",
       "49 STAG2       1\n",
       "50 TCF3        1\n",
       "51 TRAF7       1"
      ]
     },
     "metadata": {},
     "output_type": "display_data"
    }
   ],
   "source": [
    "top20 <- data.frame(matrix(ncol = 6, nrow = 0))\n",
    "colnames(group_interest_results) <- c('Hugo_Symbol', 'n_test', 'n_int', 'int_perc', 'sex', 'sample_type')\n",
    "\n",
    "for (the_sex in c('Female', 'Male')){\n",
    "    for (the_sample_type in c('Primary', 'Metastasis')){\n",
    "        # define our data\n",
    "        tmp <- group_interest_results[which(group_interest_results$sex == the_sex & group_interest_results$sample_type == the_sample_type),]\n",
    "        \n",
    "        tmp <- tmp %>% arrange(desc(int_perc), desc(n_test))\n",
    "        \n",
    "        group_top20 <- tmp[1:20, ]\n",
    "        \n",
    "        top20 <- rbind(top20, group_top20)\n",
    "    }\n",
    "}\n",
    "\n",
    "top20_count <- top20 %>% group_by(Hugo_Symbol) %>% summarise(n = n())\n",
    "\n",
    "#top20_count[which(top20_count$n==4),]\n",
    "#top20_count[which(top20_count$n==3),]\n",
    "#top20_count[which(top20_count$n==2),]\n",
    "#top20[which(top20$Hugo_Symbol=='ARID1A'),]\n",
    "#top20[which(top20$Hugo_Symbol=='ASXL1'),]\n",
    "#top20[which(top20$Hugo_Symbol=='AXIN2'),]\n",
    "#top20[which(top20$Hugo_Symbol=='CDH1'),]\n",
    "#top20[which(top20$Hugo_Symbol=='CREBBP'),]\n",
    "#top20[which(top20$Hugo_Symbol=='CSF1R'),]\n",
    "#top20[which(top20$Hugo_Symbol=='GATA3'),]\n",
    "#top20[which(top20$Hugo_Symbol=='KEAP1'),]\n",
    "#top20[which(top20$Hugo_Symbol=='NF1'),]\n",
    "#top20[which(top20$Hugo_Symbol=='PTEN'),]\n",
    "#top20[which(top20$Hugo_Symbol=='RNF43'),]\n",
    "top20_count[which(top20_count$n==1),]"
   ]
  },
  {
   "cell_type": "markdown",
   "id": "0858611a",
   "metadata": {},
   "source": [
    "## Expectation vs. Observed"
   ]
  },
  {
   "cell_type": "code",
   "execution_count": 17,
   "id": "b1c9a247",
   "metadata": {},
   "outputs": [],
   "source": [
    "# What is the general/cancer-specific and gruop results for Af and genes of interest?\n",
    "\n",
    "# Plot exp vs. obs for the ones of interest\n"
   ]
  }
 ],
 "metadata": {
  "kernelspec": {
   "display_name": "R",
   "language": "R",
   "name": "ir"
  },
  "language_info": {
   "codemirror_mode": "r",
   "file_extension": ".r",
   "mimetype": "text/x-r-source",
   "name": "R",
   "pygments_lexer": "r",
   "version": "4.2.2"
  }
 },
 "nbformat": 4,
 "nbformat_minor": 5
}
