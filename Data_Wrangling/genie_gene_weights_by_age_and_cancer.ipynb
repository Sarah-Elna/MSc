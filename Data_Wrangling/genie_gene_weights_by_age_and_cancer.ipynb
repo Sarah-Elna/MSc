{
 "cells": [
  {
   "cell_type": "markdown",
   "id": "af48f518",
   "metadata": {},
   "source": [
    "# Gene weight by age interval and cancer type\n",
    "\n",
    "To see if the gene-frequencies are significantly different than we expect across our age-intervals and cancer types, we need to know what we expect. To know what we expect, we need the number of times each gene has been tested for in each age-intervall across the different cancer types.\n",
    "\n",
    "This will for the most part look as the gene-weights-by-age-interval script, as it is based on a copy of that script."
   ]
  },
  {
   "cell_type": "markdown",
   "id": "3d065ccd",
   "metadata": {},
   "source": [
    "## Setup"
   ]
  },
  {
   "cell_type": "code",
   "execution_count": 1,
   "id": "705dc75f",
   "metadata": {},
   "outputs": [
    {
     "name": "stderr",
     "output_type": "stream",
     "text": [
      "Warning message:\n",
      "“package ‘ggplot2’ was built under R version 4.2.3”\n",
      "Warning message:\n",
      "“package ‘dplyr’ was built under R version 4.2.3”\n",
      "\n",
      "Attaching package: ‘dplyr’\n",
      "\n",
      "\n",
      "The following objects are masked from ‘package:data.table’:\n",
      "\n",
      "    between, first, last\n",
      "\n",
      "\n",
      "The following objects are masked from ‘package:stats’:\n",
      "\n",
      "    filter, lag\n",
      "\n",
      "\n",
      "The following objects are masked from ‘package:base’:\n",
      "\n",
      "    intersect, setdiff, setequal, union\n",
      "\n",
      "\n"
     ]
    }
   ],
   "source": [
    "library(\"ggplot2\")\n",
    "library(stringr)\n",
    "library(data.table)\n",
    "library('dplyr')"
   ]
  },
  {
   "cell_type": "markdown",
   "id": "6ea1aed6",
   "metadata": {},
   "source": [
    "## Loading Data"
   ]
  },
  {
   "cell_type": "markdown",
   "id": "86a78157",
   "metadata": {},
   "source": [
    "#### Sample data"
   ]
  },
  {
   "cell_type": "code",
   "execution_count": 2,
   "id": "a44ceacd",
   "metadata": {},
   "outputs": [
    {
     "data": {
      "text/html": [
       "<style>\n",
       ".list-inline {list-style: none; margin:0; padding: 0}\n",
       ".list-inline>li {display: inline-block}\n",
       ".list-inline>li:not(:last-child)::after {content: \"\\00b7\"; padding: 0 .5ex}\n",
       "</style>\n",
       "<ol class=list-inline><li>198041</li><li>9</li></ol>\n"
      ],
      "text/latex": [
       "\\begin{enumerate*}\n",
       "\\item 198041\n",
       "\\item 9\n",
       "\\end{enumerate*}\n"
      ],
      "text/markdown": [
       "1. 198041\n",
       "2. 9\n",
       "\n",
       "\n"
      ],
      "text/plain": [
       "[1] 198041      9"
      ]
     },
     "metadata": {},
     "output_type": "display_data"
    }
   ],
   "source": [
    "# We get the sample data\n",
    "sample_data <- read.table(\"../../data/genie_v15/data_clinical_sample.txt\", sep=\"\\t\", quote=\"\", head=TRUE)\n",
    "\n",
    "# And check dimensions and the first five rows\n",
    "dim(sample_data)\n",
    "#head(sample_data)"
   ]
  },
  {
   "cell_type": "code",
   "execution_count": 3,
   "id": "78326d7d",
   "metadata": {},
   "outputs": [
    {
     "data": {
      "text/html": [
       "<style>\n",
       ".list-inline {list-style: none; margin:0; padding: 0}\n",
       ".list-inline>li {display: inline-block}\n",
       ".list-inline>li:not(:last-child)::after {content: \"\\00b7\"; padding: 0 .5ex}\n",
       "</style>\n",
       "<ol class=list-inline><li>172005</li><li>10</li></ol>\n"
      ],
      "text/latex": [
       "\\begin{enumerate*}\n",
       "\\item 172005\n",
       "\\item 10\n",
       "\\end{enumerate*}\n"
      ],
      "text/markdown": [
       "1. 172005\n",
       "2. 10\n",
       "\n",
       "\n"
      ],
      "text/plain": [
       "[1] 172005     10"
      ]
     },
     "metadata": {},
     "output_type": "display_data"
    }
   ],
   "source": [
    "patient_data <- read.table(\"../../data/genie_v15/data_clinical_patient.txt\", sep=\"\\t\", quote=\"\", head=TRUE)\n",
    "\n",
    "dim(patient_data)\n",
    "#head(patient_data)"
   ]
  },
  {
   "cell_type": "code",
   "execution_count": 4,
   "id": "ad7aa28e",
   "metadata": {},
   "outputs": [],
   "source": [
    "# I need patient data for information on sex, so we select PATIENT_ID and SEX and no other columns\n",
    "patient_data <- patient_data[,1:2]\n",
    "\n",
    "# Then we merge sample- and patient-data\n",
    "sample_data <- left_join(sample_data, patient_data, join_by(PATIENT_ID))"
   ]
  },
  {
   "cell_type": "markdown",
   "id": "83612469",
   "metadata": {},
   "source": [
    "#### Gene-panels"
   ]
  },
  {
   "cell_type": "code",
   "execution_count": 5,
   "id": "9f4b1326",
   "metadata": {},
   "outputs": [],
   "source": [
    "# Getting the gene-panels data is slightly more complicated\n",
    "\n",
    "# We start by creating a list of all the files\n",
    "gene_panels_list <- \"data_gene_panel_CHOP-COMPT.txt\n",
    "data_gene_panel_CHOP-COMPT-V2.txt\n",
    "data_gene_panel_CHOP-FUSIP.txt\n",
    "data_gene_panel_CHOP-HEMEP.txt\n",
    "data_gene_panel_CHOP-STNGS.txt\n",
    "data_gene_panel_CHOP-STNGS-V2.txt\n",
    "data_gene_panel_COLU-CCCP-V1.txt\n",
    "data_gene_panel_COLU-CCCP-V2.txt\n",
    "data_gene_panel_COLU-CSTP-V1.txt\n",
    "data_gene_panel_COLU-CSTP-V2.txt\n",
    "data_gene_panel_COLU-TSACP-V1.txt\n",
    "data_gene_panel_CRUK-TS.txt\n",
    "data_gene_panel_DFCI-ONCOPANEL-1.txt\n",
    "data_gene_panel_DFCI-ONCOPANEL-2.txt\n",
    "data_gene_panel_DFCI-ONCOPANEL-3.1.txt\n",
    "data_gene_panel_DFCI-ONCOPANEL-3.txt\n",
    "data_gene_panel_DUKE-F1-DX1.txt\n",
    "data_gene_panel_DUKE-F1-T5A.txt\n",
    "data_gene_panel_DUKE-F1-T7.txt\n",
    "data_gene_panel_GRCC-CHP2.txt\n",
    "data_gene_panel_GRCC-CP1.txt\n",
    "data_gene_panel_GRCC-MOSC3.txt\n",
    "data_gene_panel_GRCC-MOSC4.txt\n",
    "data_gene_panel_GRCC-OCAV3.txt\n",
    "data_gene_panel_GRCC-SAFIR02.txt\n",
    "data_gene_panel_JHU-500STP.txt\n",
    "data_gene_panel_JHU-50GP.txt\n",
    "data_gene_panel_MDA-409-V1.txt\n",
    "data_gene_panel_MDA-46-V1.txt\n",
    "data_gene_panel_MDA-50-V1.txt\n",
    "data_gene_panel_MSK-ACCESS129.txt\n",
    "data_gene_panel_MSK-IMPACT341.txt\n",
    "data_gene_panel_MSK-IMPACT410.txt\n",
    "data_gene_panel_MSK-IMPACT468.txt\n",
    "data_gene_panel_MSK-IMPACT505.txt\n",
    "data_gene_panel_MSK-IMPACT-HEME-400.txt\n",
    "data_gene_panel_MSK-IMPACT-HEME-468.txt\n",
    "data_gene_panel_NKI-CHPV2-NGS.txt\n",
    "data_gene_panel_NKI-CHP-V2-PLUS.txt\n",
    "data_gene_panel_NKI-CHPV2-SOCV2-NGS.txt\n",
    "data_gene_panel_NKI-PATH-NGS.txt\n",
    "data_gene_panel_NKI-TSACP-MISEQ-NGS.txt\n",
    "data_gene_panel_PROV-FOCUS-V1.txt\n",
    "data_gene_panel_PROV-TSO500HT-V2.txt\n",
    "data_gene_panel_PROV-TST170-V1.txt\n",
    "data_gene_panel_SCI-PMP68-V1.txt\n",
    "data_gene_panel_UCHI-ONCOHEME55-V1.txt\n",
    "data_gene_panel_UCHI-ONCOSCREEN50-V1.txt\n",
    "data_gene_panel_UCSF-IDTV5-TN.txt\n",
    "data_gene_panel_UCSF-IDTV5-TO.txt\n",
    "data_gene_panel_UCSF-NIMV4-TN.txt\n",
    "data_gene_panel_UCSF-NIMV4-TO.txt\n",
    "data_gene_panel_UHN-48-V1.txt\n",
    "data_gene_panel_UHN-50-V2.txt\n",
    "data_gene_panel_UHN-54-V1.txt\n",
    "data_gene_panel_UHN-555-BLADDER-V1.txt\n",
    "data_gene_panel_UHN-555-BREAST-V1.txt\n",
    "data_gene_panel_UHN-555-GLIOMA-V1.txt\n",
    "data_gene_panel_UHN-555-GYNE-V1.txt\n",
    "data_gene_panel_UHN-555-HEAD-NECK-V1.txt\n",
    "data_gene_panel_UHN-555-LUNG-V1.txt\n",
    "data_gene_panel_UHN-555-MELANOMA-V1.txt\n",
    "data_gene_panel_UHN-555-PAN-GI-V1.txt\n",
    "data_gene_panel_UHN-555-PROSTATE-V1.txt\n",
    "data_gene_panel_UHN-555-RENAL-V1.txt\n",
    "data_gene_panel_UHN-555-V1.txt\n",
    "data_gene_panel_UHN-555-V2.txt\n",
    "data_gene_panel_UHN-OCA-V3.txt\n",
    "data_gene_panel_UHN-TSO500-V1.txt\n",
    "data_gene_panel_VHIO-300.txt\n",
    "data_gene_panel_VHIO-BILIARY-V01.txt\n",
    "data_gene_panel_VHIO-BRAIN-V01.txt\n",
    "data_gene_panel_VHIO-BREAST-V01.txt\n",
    "data_gene_panel_VHIO-BREAST-V02.txt\n",
    "data_gene_panel_VHIO-COLORECTAL-V01.txt\n",
    "data_gene_panel_VHIO-ENDOMETRIUM-V01.txt\n",
    "data_gene_panel_VHIO-GASTRIC-V01.txt\n",
    "data_gene_panel_VHIO-GENERAL-V01.txt\n",
    "data_gene_panel_VHIO-HEAD-NECK-V01.txt\n",
    "data_gene_panel_VHIO-KIDNEY-V01.txt\n",
    "data_gene_panel_VHIO-LUNG-V01.txt\n",
    "data_gene_panel_VHIO-OVARY-V01.txt\n",
    "data_gene_panel_VHIO-PANCREAS-V01.txt\n",
    "data_gene_panel_VHIO-PAROTIDE-V01.txt\n",
    "data_gene_panel_VHIO-SKIN-V01.txt\n",
    "data_gene_panel_VHIO-URINARY-BLADDER-V01.txt\n",
    "data_gene_panel_VICC-01-D2.txt\n",
    "data_gene_panel_VICC-01-DX1.txt\n",
    "data_gene_panel_VICC-01-MYELOID.txt\n",
    "data_gene_panel_VICC-01-SOLIDTUMOR.txt\n",
    "data_gene_panel_VICC-01-T4B.txt\n",
    "data_gene_panel_VICC-01-T5A.txt\n",
    "data_gene_panel_VICC-01-T6B.txt\n",
    "data_gene_panel_VICC-01-T7.txt\n",
    "data_gene_panel_VICC-02-XTV2.txt\n",
    "data_gene_panel_VICC-02-XTV3.txt\n",
    "data_gene_panel_VICC-02-XTV4.txt\n",
    "data_gene_panel_WAKE-CA-01.txt\n",
    "data_gene_panel_WAKE-CA-NGSQ3.txt\n",
    "data_gene_panel_WAKE-CLINICAL-AB1.txt\n",
    "data_gene_panel_WAKE-CLINICAL-AB2.txt\n",
    "data_gene_panel_WAKE-CLINICAL-AB3.txt\n",
    "data_gene_panel_WAKE-CLINICAL-CF2.txt\n",
    "data_gene_panel_WAKE-CLINICAL-CF3.txt\n",
    "data_gene_panel_WAKE-CLINICAL-D2.txt\n",
    "data_gene_panel_WAKE-CLINICAL-DX1.txt\n",
    "data_gene_panel_WAKE-CLINICAL-R2D2.txt\n",
    "data_gene_panel_WAKE-CLINICAL-R2.txt\n",
    "data_gene_panel_WAKE-CLINICAL-T5A.txt\n",
    "data_gene_panel_WAKE-CLINICAL-T7.txt\n",
    "data_gene_panel_YALE-HSM-V1.txt\n",
    "data_gene_panel_YALE-OCP-V2.txt\n",
    "data_gene_panel_YALE-OCP-V3.txt\"\n",
    "\n",
    "# Then we split the string into string elements, so that we have each file name as an element in a list\n",
    "gene_panels_list <- strsplit(gene_panels_list, '\\n')\n",
    "\n",
    "# We update the list with indexing into the first column, because there is only one column.\n",
    "# This will make looping through the names easier\n",
    "gene_panels_list <- gene_panels_list[[1]]"
   ]
  },
  {
   "cell_type": "code",
   "execution_count": 6,
   "id": "79a4443a",
   "metadata": {
    "scrolled": true
   },
   "outputs": [
    {
     "name": "stderr",
     "output_type": "stream",
     "text": [
      "Warning message in readLines(panel_file_path):\n",
      "“incomplete final line found on '../../data/genie_v15/gene_panels/data_gene_panel_CHOP-COMPT.txt'”\n",
      "Warning message in readLines(panel_file_path):\n",
      "“incomplete final line found on '../../data/genie_v15/gene_panels/data_gene_panel_CHOP-COMPT-V2.txt'”\n",
      "Warning message in readLines(panel_file_path):\n",
      "“incomplete final line found on '../../data/genie_v15/gene_panels/data_gene_panel_CHOP-FUSIP.txt'”\n",
      "Warning message in readLines(panel_file_path):\n",
      "“incomplete final line found on '../../data/genie_v15/gene_panels/data_gene_panel_CHOP-HEMEP.txt'”\n",
      "Warning message in readLines(panel_file_path):\n",
      "“incomplete final line found on '../../data/genie_v15/gene_panels/data_gene_panel_CHOP-STNGS.txt'”\n",
      "Warning message in readLines(panel_file_path):\n",
      "“incomplete final line found on '../../data/genie_v15/gene_panels/data_gene_panel_CHOP-STNGS-V2.txt'”\n",
      "Warning message in readLines(panel_file_path):\n",
      "“incomplete final line found on '../../data/genie_v15/gene_panels/data_gene_panel_COLU-CCCP-V1.txt'”\n",
      "Warning message in readLines(panel_file_path):\n",
      "“incomplete final line found on '../../data/genie_v15/gene_panels/data_gene_panel_COLU-CCCP-V2.txt'”\n",
      "Warning message in readLines(panel_file_path):\n",
      "“incomplete final line found on '../../data/genie_v15/gene_panels/data_gene_panel_COLU-CSTP-V1.txt'”\n",
      "Warning message in readLines(panel_file_path):\n",
      "“incomplete final line found on '../../data/genie_v15/gene_panels/data_gene_panel_COLU-CSTP-V2.txt'”\n",
      "Warning message in readLines(panel_file_path):\n",
      "“incomplete final line found on '../../data/genie_v15/gene_panels/data_gene_panel_COLU-TSACP-V1.txt'”\n",
      "Warning message in readLines(panel_file_path):\n",
      "“incomplete final line found on '../../data/genie_v15/gene_panels/data_gene_panel_CRUK-TS.txt'”\n",
      "Warning message in readLines(panel_file_path):\n",
      "“incomplete final line found on '../../data/genie_v15/gene_panels/data_gene_panel_DFCI-ONCOPANEL-1.txt'”\n",
      "Warning message in readLines(panel_file_path):\n",
      "“incomplete final line found on '../../data/genie_v15/gene_panels/data_gene_panel_DFCI-ONCOPANEL-2.txt'”\n",
      "Warning message in readLines(panel_file_path):\n",
      "“incomplete final line found on '../../data/genie_v15/gene_panels/data_gene_panel_DFCI-ONCOPANEL-3.1.txt'”\n",
      "Warning message in readLines(panel_file_path):\n",
      "“incomplete final line found on '../../data/genie_v15/gene_panels/data_gene_panel_DFCI-ONCOPANEL-3.txt'”\n",
      "Warning message in readLines(panel_file_path):\n",
      "“incomplete final line found on '../../data/genie_v15/gene_panels/data_gene_panel_DUKE-F1-DX1.txt'”\n",
      "Warning message in readLines(panel_file_path):\n",
      "“incomplete final line found on '../../data/genie_v15/gene_panels/data_gene_panel_DUKE-F1-T5A.txt'”\n",
      "Warning message in readLines(panel_file_path):\n",
      "“incomplete final line found on '../../data/genie_v15/gene_panels/data_gene_panel_DUKE-F1-T7.txt'”\n",
      "Warning message in readLines(panel_file_path):\n",
      "“incomplete final line found on '../../data/genie_v15/gene_panels/data_gene_panel_GRCC-CHP2.txt'”\n",
      "Warning message in readLines(panel_file_path):\n",
      "“incomplete final line found on '../../data/genie_v15/gene_panels/data_gene_panel_GRCC-CP1.txt'”\n",
      "Warning message in readLines(panel_file_path):\n",
      "“incomplete final line found on '../../data/genie_v15/gene_panels/data_gene_panel_GRCC-MOSC3.txt'”\n",
      "Warning message in readLines(panel_file_path):\n",
      "“incomplete final line found on '../../data/genie_v15/gene_panels/data_gene_panel_GRCC-MOSC4.txt'”\n",
      "Warning message in readLines(panel_file_path):\n",
      "“incomplete final line found on '../../data/genie_v15/gene_panels/data_gene_panel_GRCC-OCAV3.txt'”\n",
      "Warning message in readLines(panel_file_path):\n",
      "“incomplete final line found on '../../data/genie_v15/gene_panels/data_gene_panel_GRCC-SAFIR02.txt'”\n",
      "Warning message in readLines(panel_file_path):\n",
      "“incomplete final line found on '../../data/genie_v15/gene_panels/data_gene_panel_JHU-500STP.txt'”\n",
      "Warning message in readLines(panel_file_path):\n",
      "“incomplete final line found on '../../data/genie_v15/gene_panels/data_gene_panel_JHU-50GP.txt'”\n",
      "Warning message in readLines(panel_file_path):\n",
      "“incomplete final line found on '../../data/genie_v15/gene_panels/data_gene_panel_MDA-409-V1.txt'”\n",
      "Warning message in readLines(panel_file_path):\n",
      "“incomplete final line found on '../../data/genie_v15/gene_panels/data_gene_panel_MDA-46-V1.txt'”\n",
      "Warning message in readLines(panel_file_path):\n",
      "“incomplete final line found on '../../data/genie_v15/gene_panels/data_gene_panel_MDA-50-V1.txt'”\n",
      "Warning message in readLines(panel_file_path):\n",
      "“incomplete final line found on '../../data/genie_v15/gene_panels/data_gene_panel_MSK-ACCESS129.txt'”\n",
      "Warning message in readLines(panel_file_path):\n",
      "“incomplete final line found on '../../data/genie_v15/gene_panels/data_gene_panel_MSK-IMPACT341.txt'”\n",
      "Warning message in readLines(panel_file_path):\n",
      "“incomplete final line found on '../../data/genie_v15/gene_panels/data_gene_panel_MSK-IMPACT410.txt'”\n",
      "Warning message in readLines(panel_file_path):\n",
      "“incomplete final line found on '../../data/genie_v15/gene_panels/data_gene_panel_MSK-IMPACT468.txt'”\n",
      "Warning message in readLines(panel_file_path):\n",
      "“incomplete final line found on '../../data/genie_v15/gene_panels/data_gene_panel_MSK-IMPACT505.txt'”\n",
      "Warning message in readLines(panel_file_path):\n",
      "“incomplete final line found on '../../data/genie_v15/gene_panels/data_gene_panel_MSK-IMPACT-HEME-400.txt'”\n",
      "Warning message in readLines(panel_file_path):\n",
      "“incomplete final line found on '../../data/genie_v15/gene_panels/data_gene_panel_MSK-IMPACT-HEME-468.txt'”\n",
      "Warning message in readLines(panel_file_path):\n",
      "“incomplete final line found on '../../data/genie_v15/gene_panels/data_gene_panel_NKI-CHPV2-NGS.txt'”\n",
      "Warning message in readLines(panel_file_path):\n",
      "“incomplete final line found on '../../data/genie_v15/gene_panels/data_gene_panel_NKI-CHP-V2-PLUS.txt'”\n",
      "Warning message in readLines(panel_file_path):\n",
      "“incomplete final line found on '../../data/genie_v15/gene_panels/data_gene_panel_NKI-CHPV2-SOCV2-NGS.txt'”\n",
      "Warning message in readLines(panel_file_path):\n",
      "“incomplete final line found on '../../data/genie_v15/gene_panels/data_gene_panel_NKI-PATH-NGS.txt'”\n",
      "Warning message in readLines(panel_file_path):\n",
      "“incomplete final line found on '../../data/genie_v15/gene_panels/data_gene_panel_NKI-TSACP-MISEQ-NGS.txt'”\n",
      "Warning message in readLines(panel_file_path):\n",
      "“incomplete final line found on '../../data/genie_v15/gene_panels/data_gene_panel_PROV-FOCUS-V1.txt'”\n",
      "Warning message in readLines(panel_file_path):\n",
      "“incomplete final line found on '../../data/genie_v15/gene_panels/data_gene_panel_PROV-TSO500HT-V2.txt'”\n",
      "Warning message in readLines(panel_file_path):\n",
      "“incomplete final line found on '../../data/genie_v15/gene_panels/data_gene_panel_PROV-TST170-V1.txt'”\n",
      "Warning message in readLines(panel_file_path):\n",
      "“incomplete final line found on '../../data/genie_v15/gene_panels/data_gene_panel_SCI-PMP68-V1.txt'”\n",
      "Warning message in readLines(panel_file_path):\n",
      "“incomplete final line found on '../../data/genie_v15/gene_panels/data_gene_panel_UCHI-ONCOHEME55-V1.txt'”\n",
      "Warning message in readLines(panel_file_path):\n",
      "“incomplete final line found on '../../data/genie_v15/gene_panels/data_gene_panel_UCHI-ONCOSCREEN50-V1.txt'”\n",
      "Warning message in readLines(panel_file_path):\n",
      "“incomplete final line found on '../../data/genie_v15/gene_panels/data_gene_panel_UCSF-IDTV5-TN.txt'”\n",
      "Warning message in readLines(panel_file_path):\n",
      "“incomplete final line found on '../../data/genie_v15/gene_panels/data_gene_panel_UCSF-IDTV5-TO.txt'”\n",
      "Warning message in readLines(panel_file_path):\n",
      "“incomplete final line found on '../../data/genie_v15/gene_panels/data_gene_panel_UCSF-NIMV4-TN.txt'”\n",
      "Warning message in readLines(panel_file_path):\n",
      "“incomplete final line found on '../../data/genie_v15/gene_panels/data_gene_panel_UCSF-NIMV4-TO.txt'”\n",
      "Warning message in readLines(panel_file_path):\n",
      "“incomplete final line found on '../../data/genie_v15/gene_panels/data_gene_panel_UHN-48-V1.txt'”\n",
      "Warning message in readLines(panel_file_path):\n",
      "“incomplete final line found on '../../data/genie_v15/gene_panels/data_gene_panel_UHN-50-V2.txt'”\n",
      "Warning message in readLines(panel_file_path):\n",
      "“incomplete final line found on '../../data/genie_v15/gene_panels/data_gene_panel_UHN-54-V1.txt'”\n",
      "Warning message in readLines(panel_file_path):\n",
      "“incomplete final line found on '../../data/genie_v15/gene_panels/data_gene_panel_UHN-555-BLADDER-V1.txt'”\n"
     ]
    },
    {
     "name": "stderr",
     "output_type": "stream",
     "text": [
      "Warning message in readLines(panel_file_path):\n",
      "“incomplete final line found on '../../data/genie_v15/gene_panels/data_gene_panel_UHN-555-BREAST-V1.txt'”\n",
      "Warning message in readLines(panel_file_path):\n",
      "“incomplete final line found on '../../data/genie_v15/gene_panels/data_gene_panel_UHN-555-GLIOMA-V1.txt'”\n",
      "Warning message in readLines(panel_file_path):\n",
      "“incomplete final line found on '../../data/genie_v15/gene_panels/data_gene_panel_UHN-555-GYNE-V1.txt'”\n",
      "Warning message in readLines(panel_file_path):\n",
      "“incomplete final line found on '../../data/genie_v15/gene_panels/data_gene_panel_UHN-555-HEAD-NECK-V1.txt'”\n",
      "Warning message in readLines(panel_file_path):\n",
      "“incomplete final line found on '../../data/genie_v15/gene_panels/data_gene_panel_UHN-555-LUNG-V1.txt'”\n",
      "Warning message in readLines(panel_file_path):\n",
      "“incomplete final line found on '../../data/genie_v15/gene_panels/data_gene_panel_UHN-555-MELANOMA-V1.txt'”\n",
      "Warning message in readLines(panel_file_path):\n",
      "“incomplete final line found on '../../data/genie_v15/gene_panels/data_gene_panel_UHN-555-PAN-GI-V1.txt'”\n",
      "Warning message in readLines(panel_file_path):\n",
      "“incomplete final line found on '../../data/genie_v15/gene_panels/data_gene_panel_UHN-555-PROSTATE-V1.txt'”\n",
      "Warning message in readLines(panel_file_path):\n",
      "“incomplete final line found on '../../data/genie_v15/gene_panels/data_gene_panel_UHN-555-RENAL-V1.txt'”\n",
      "Warning message in readLines(panel_file_path):\n",
      "“incomplete final line found on '../../data/genie_v15/gene_panels/data_gene_panel_UHN-555-V1.txt'”\n",
      "Warning message in readLines(panel_file_path):\n",
      "“incomplete final line found on '../../data/genie_v15/gene_panels/data_gene_panel_UHN-555-V2.txt'”\n",
      "Warning message in readLines(panel_file_path):\n",
      "“incomplete final line found on '../../data/genie_v15/gene_panels/data_gene_panel_UHN-OCA-V3.txt'”\n",
      "Warning message in readLines(panel_file_path):\n",
      "“incomplete final line found on '../../data/genie_v15/gene_panels/data_gene_panel_UHN-TSO500-V1.txt'”\n",
      "Warning message in readLines(panel_file_path):\n",
      "“incomplete final line found on '../../data/genie_v15/gene_panels/data_gene_panel_VHIO-300.txt'”\n",
      "Warning message in readLines(panel_file_path):\n",
      "“incomplete final line found on '../../data/genie_v15/gene_panels/data_gene_panel_VHIO-BILIARY-V01.txt'”\n",
      "Warning message in readLines(panel_file_path):\n",
      "“incomplete final line found on '../../data/genie_v15/gene_panels/data_gene_panel_VHIO-BRAIN-V01.txt'”\n",
      "Warning message in readLines(panel_file_path):\n",
      "“incomplete final line found on '../../data/genie_v15/gene_panels/data_gene_panel_VHIO-BREAST-V01.txt'”\n",
      "Warning message in readLines(panel_file_path):\n",
      "“incomplete final line found on '../../data/genie_v15/gene_panels/data_gene_panel_VHIO-BREAST-V02.txt'”\n",
      "Warning message in readLines(panel_file_path):\n",
      "“incomplete final line found on '../../data/genie_v15/gene_panels/data_gene_panel_VHIO-COLORECTAL-V01.txt'”\n",
      "Warning message in readLines(panel_file_path):\n",
      "“incomplete final line found on '../../data/genie_v15/gene_panels/data_gene_panel_VHIO-ENDOMETRIUM-V01.txt'”\n",
      "Warning message in readLines(panel_file_path):\n",
      "“incomplete final line found on '../../data/genie_v15/gene_panels/data_gene_panel_VHIO-GASTRIC-V01.txt'”\n",
      "Warning message in readLines(panel_file_path):\n",
      "“incomplete final line found on '../../data/genie_v15/gene_panels/data_gene_panel_VHIO-GENERAL-V01.txt'”\n",
      "Warning message in readLines(panel_file_path):\n",
      "“incomplete final line found on '../../data/genie_v15/gene_panels/data_gene_panel_VHIO-HEAD-NECK-V01.txt'”\n",
      "Warning message in readLines(panel_file_path):\n",
      "“incomplete final line found on '../../data/genie_v15/gene_panels/data_gene_panel_VHIO-KIDNEY-V01.txt'”\n",
      "Warning message in readLines(panel_file_path):\n",
      "“incomplete final line found on '../../data/genie_v15/gene_panels/data_gene_panel_VHIO-LUNG-V01.txt'”\n",
      "Warning message in readLines(panel_file_path):\n",
      "“incomplete final line found on '../../data/genie_v15/gene_panels/data_gene_panel_VHIO-OVARY-V01.txt'”\n",
      "Warning message in readLines(panel_file_path):\n",
      "“incomplete final line found on '../../data/genie_v15/gene_panels/data_gene_panel_VHIO-PANCREAS-V01.txt'”\n",
      "Warning message in readLines(panel_file_path):\n",
      "“incomplete final line found on '../../data/genie_v15/gene_panels/data_gene_panel_VHIO-PAROTIDE-V01.txt'”\n",
      "Warning message in readLines(panel_file_path):\n",
      "“incomplete final line found on '../../data/genie_v15/gene_panels/data_gene_panel_VHIO-SKIN-V01.txt'”\n",
      "Warning message in readLines(panel_file_path):\n",
      "“incomplete final line found on '../../data/genie_v15/gene_panels/data_gene_panel_VHIO-URINARY-BLADDER-V01.txt'”\n",
      "Warning message in readLines(panel_file_path):\n",
      "“incomplete final line found on '../../data/genie_v15/gene_panels/data_gene_panel_VICC-01-D2.txt'”\n",
      "Warning message in readLines(panel_file_path):\n",
      "“incomplete final line found on '../../data/genie_v15/gene_panels/data_gene_panel_VICC-01-DX1.txt'”\n",
      "Warning message in readLines(panel_file_path):\n",
      "“incomplete final line found on '../../data/genie_v15/gene_panels/data_gene_panel_VICC-01-MYELOID.txt'”\n",
      "Warning message in readLines(panel_file_path):\n",
      "“incomplete final line found on '../../data/genie_v15/gene_panels/data_gene_panel_VICC-01-SOLIDTUMOR.txt'”\n",
      "Warning message in readLines(panel_file_path):\n",
      "“incomplete final line found on '../../data/genie_v15/gene_panels/data_gene_panel_VICC-01-T4B.txt'”\n",
      "Warning message in readLines(panel_file_path):\n",
      "“incomplete final line found on '../../data/genie_v15/gene_panels/data_gene_panel_VICC-01-T5A.txt'”\n",
      "Warning message in readLines(panel_file_path):\n",
      "“incomplete final line found on '../../data/genie_v15/gene_panels/data_gene_panel_VICC-01-T6B.txt'”\n",
      "Warning message in readLines(panel_file_path):\n",
      "“incomplete final line found on '../../data/genie_v15/gene_panels/data_gene_panel_VICC-01-T7.txt'”\n",
      "Warning message in readLines(panel_file_path):\n",
      "“incomplete final line found on '../../data/genie_v15/gene_panels/data_gene_panel_VICC-02-XTV2.txt'”\n",
      "Warning message in readLines(panel_file_path):\n",
      "“incomplete final line found on '../../data/genie_v15/gene_panels/data_gene_panel_VICC-02-XTV3.txt'”\n",
      "Warning message in readLines(panel_file_path):\n",
      "“incomplete final line found on '../../data/genie_v15/gene_panels/data_gene_panel_VICC-02-XTV4.txt'”\n",
      "Warning message in readLines(panel_file_path):\n",
      "“incomplete final line found on '../../data/genie_v15/gene_panels/data_gene_panel_WAKE-CA-01.txt'”\n",
      "Warning message in readLines(panel_file_path):\n",
      "“incomplete final line found on '../../data/genie_v15/gene_panels/data_gene_panel_WAKE-CA-NGSQ3.txt'”\n",
      "Warning message in readLines(panel_file_path):\n",
      "“incomplete final line found on '../../data/genie_v15/gene_panels/data_gene_panel_WAKE-CLINICAL-AB1.txt'”\n",
      "Warning message in readLines(panel_file_path):\n",
      "“incomplete final line found on '../../data/genie_v15/gene_panels/data_gene_panel_WAKE-CLINICAL-AB2.txt'”\n",
      "Warning message in readLines(panel_file_path):\n",
      "“incomplete final line found on '../../data/genie_v15/gene_panels/data_gene_panel_WAKE-CLINICAL-AB3.txt'”\n",
      "Warning message in readLines(panel_file_path):\n",
      "“incomplete final line found on '../../data/genie_v15/gene_panels/data_gene_panel_WAKE-CLINICAL-CF2.txt'”\n",
      "Warning message in readLines(panel_file_path):\n",
      "“incomplete final line found on '../../data/genie_v15/gene_panels/data_gene_panel_WAKE-CLINICAL-CF3.txt'”\n",
      "Warning message in readLines(panel_file_path):\n",
      "“incomplete final line found on '../../data/genie_v15/gene_panels/data_gene_panel_WAKE-CLINICAL-D2.txt'”\n",
      "Warning message in readLines(panel_file_path):\n",
      "“incomplete final line found on '../../data/genie_v15/gene_panels/data_gene_panel_WAKE-CLINICAL-DX1.txt'”\n",
      "Warning message in readLines(panel_file_path):\n",
      "“incomplete final line found on '../../data/genie_v15/gene_panels/data_gene_panel_WAKE-CLINICAL-R2D2.txt'”\n",
      "Warning message in readLines(panel_file_path):\n",
      "“incomplete final line found on '../../data/genie_v15/gene_panels/data_gene_panel_WAKE-CLINICAL-R2.txt'”\n",
      "Warning message in readLines(panel_file_path):\n",
      "“incomplete final line found on '../../data/genie_v15/gene_panels/data_gene_panel_WAKE-CLINICAL-T5A.txt'”\n",
      "Warning message in readLines(panel_file_path):\n",
      "“incomplete final line found on '../../data/genie_v15/gene_panels/data_gene_panel_WAKE-CLINICAL-T7.txt'”\n",
      "Warning message in readLines(panel_file_path):\n",
      "“incomplete final line found on '../../data/genie_v15/gene_panels/data_gene_panel_YALE-HSM-V1.txt'”\n"
     ]
    },
    {
     "name": "stderr",
     "output_type": "stream",
     "text": [
      "Warning message in readLines(panel_file_path):\n",
      "“incomplete final line found on '../../data/genie_v15/gene_panels/data_gene_panel_YALE-OCP-V2.txt'”\n",
      "Warning message in readLines(panel_file_path):\n",
      "“incomplete final line found on '../../data/genie_v15/gene_panels/data_gene_panel_YALE-OCP-V3.txt'”\n"
     ]
    }
   ],
   "source": [
    "panel_name_list <- list()\n",
    "\n",
    "for (panel in gene_panels_list) {\n",
    "    # We extract the panel name (removing 'data_gene_panel_' and '.txt')\n",
    "    panel_name <- substr(panel, 17, nchar(panel)-4)\n",
    "    # We also have to replace '-' with '_' for R to use it as a variable name later\n",
    "    panel_name <- gsub(\"-\", \"_\", panel_name)\n",
    "    \n",
    "    # We save the name of each panel in a list\n",
    "    panel_name_list[[length(panel_name_list)+1]] <- panel_name\n",
    "    \n",
    "    # We define the panel file path\n",
    "    panel_file_path <- paste(\"../../data/genie_v15/gene_panels/\", panel, sep=\"\")\n",
    "    \n",
    "    # We read in the file as lines to a temporary file\n",
    "    tmp <- readLines(panel_file_path)\n",
    "    \n",
    "    # Then, we assign the panel name to the third line in our temporary file\n",
    "    # The third line contains the gene names, seperated by tabs\n",
    "    # Again we index into the results first column [[1]]\n",
    "    # And we remove the first element, which is the tittle 'gene_list'\n",
    "    assign(panel_name, (strsplit(tmp[3], '\\t')[[1]][-1]))\n",
    "}\n",
    "\n",
    "panel_elements_list <- list(CHOP_COMPT,CHOP_COMPT_V2,CHOP_FUSIP,CHOP_HEMEP,CHOP_STNGS,CHOP_STNGS_V2,COLU_CCCP_V1,COLU_CCCP_V2,COLU_CSTP_V1,COLU_CSTP_V2,COLU_TSACP_V1,CRUK_TS,DFCI_ONCOPANEL_1,DFCI_ONCOPANEL_2,DFCI_ONCOPANEL_3.1,DFCI_ONCOPANEL_3,DUKE_F1_DX1,DUKE_F1_T5A,DUKE_F1_T7,GRCC_CHP2,GRCC_CP1,GRCC_MOSC3,GRCC_MOSC4,GRCC_OCAV3,GRCC_SAFIR02,JHU_500STP,JHU_50GP,MDA_409_V1,MDA_46_V1,MDA_50_V1,MSK_ACCESS129,MSK_IMPACT341,MSK_IMPACT410,MSK_IMPACT468,MSK_IMPACT505,MSK_IMPACT_HEME_400,MSK_IMPACT_HEME_468,NKI_CHPV2_NGS,NKI_CHP_V2_PLUS,NKI_CHPV2_SOCV2_NGS,NKI_PATH_NGS,NKI_TSACP_MISEQ_NGS,PROV_FOCUS_V1,PROV_TSO500HT_V2,PROV_TST170_V1,SCI_PMP68_V1,UCHI_ONCOHEME55_V1,UCHI_ONCOSCREEN50_V1,UCSF_IDTV5_TN,UCSF_IDTV5_TO,UCSF_NIMV4_TN,UCSF_NIMV4_TO,UHN_48_V1,UHN_50_V2,UHN_54_V1,UHN_555_BLADDER_V1,UHN_555_BREAST_V1,UHN_555_GLIOMA_V1,UHN_555_GYNE_V1,UHN_555_HEAD_NECK_V1,UHN_555_LUNG_V1,UHN_555_MELANOMA_V1,UHN_555_PAN_GI_V1,UHN_555_PROSTATE_V1,UHN_555_RENAL_V1,UHN_555_V1,UHN_555_V2,UHN_OCA_V3,UHN_TSO500_V1,VHIO_300,VHIO_BILIARY_V01,VHIO_BRAIN_V01,VHIO_BREAST_V01,VHIO_BREAST_V02,VHIO_COLORECTAL_V01,VHIO_ENDOMETRIUM_V01,VHIO_GASTRIC_V01,VHIO_GENERAL_V01,VHIO_HEAD_NECK_V01,VHIO_KIDNEY_V01,VHIO_LUNG_V01,VHIO_OVARY_V01,VHIO_PANCREAS_V01,VHIO_PAROTIDE_V01,VHIO_SKIN_V01,VHIO_URINARY_BLADDER_V01,VICC_01_D2,VICC_01_DX1,VICC_01_MYELOID,VICC_01_SOLIDTUMOR,VICC_01_T4B,VICC_01_T5A,VICC_01_T6B,VICC_01_T7,VICC_02_XTV2,VICC_02_XTV3,VICC_02_XTV4,WAKE_CA_01,WAKE_CA_NGSQ3,WAKE_CLINICAL_AB1,WAKE_CLINICAL_AB2,WAKE_CLINICAL_AB3,WAKE_CLINICAL_CF2,WAKE_CLINICAL_CF3,WAKE_CLINICAL_D2,WAKE_CLINICAL_DX1,WAKE_CLINICAL_R2D2,WAKE_CLINICAL_R2,WAKE_CLINICAL_T5A,WAKE_CLINICAL_T7,YALE_HSM_V1,YALE_OCP_V2,YALE_OCP_V3)"
   ]
  },
  {
   "cell_type": "markdown",
   "id": "bb77d913",
   "metadata": {},
   "source": [
    "## Panel weight"
   ]
  },
  {
   "cell_type": "code",
   "execution_count": 7,
   "id": "6460d2ae",
   "metadata": {},
   "outputs": [
    {
     "data": {
      "text/html": [
       "<table class=\"dataframe\">\n",
       "<caption>A data.frame: 6 × 11</caption>\n",
       "<thead>\n",
       "\t<tr><th></th><th scope=col>PATIENT_ID</th><th scope=col>SAMPLE_ID</th><th scope=col>AGE_AT_SEQ_REPORT</th><th scope=col>ONCOTREE_CODE</th><th scope=col>SAMPLE_TYPE</th><th scope=col>SEQ_ASSAY_ID</th><th scope=col>CANCER_TYPE</th><th scope=col>CANCER_TYPE_DETAILED</th><th scope=col>SAMPLE_TYPE_DETAILED</th><th scope=col>SEX</th><th scope=col>age_interval</th></tr>\n",
       "\t<tr><th></th><th scope=col>&lt;chr&gt;</th><th scope=col>&lt;chr&gt;</th><th scope=col>&lt;chr&gt;</th><th scope=col>&lt;chr&gt;</th><th scope=col>&lt;chr&gt;</th><th scope=col>&lt;chr&gt;</th><th scope=col>&lt;chr&gt;</th><th scope=col>&lt;chr&gt;</th><th scope=col>&lt;chr&gt;</th><th scope=col>&lt;chr&gt;</th><th scope=col>&lt;fct&gt;</th></tr>\n",
       "</thead>\n",
       "<tbody>\n",
       "\t<tr><th scope=row>2</th><td>GENIE-VICC-102225</td><td>GENIE-VICC-102225-unk-1</td><td>31</td><td><span style=white-space:pre-wrap>READ  </span></td><td>Metastasis</td><td>VICC-01-T7 </td><td><span style=white-space:pre-wrap>Colorectal Cancer         </span></td><td><span style=white-space:pre-wrap>Rectal Adenocarcinoma           </span></td><td>Metastasis site unspecified</td><td>Female</td><td><span style=white-space:pre-wrap>&lt;45    </span></td></tr>\n",
       "\t<tr><th scope=row>3</th><td>GENIE-VICC-102424</td><td>GENIE-VICC-102424-unk-1</td><td>63</td><td>SCCNOS</td><td>Metastasis</td><td>VICC-01-T7 </td><td>Cancer of Unknown Primary </td><td>Squamous Cell Carcinoma, NOS    </td><td>Metastasis site unspecified</td><td>Female</td><td>[55-65[</td></tr>\n",
       "\t<tr><th scope=row>4</th><td>GENIE-VICC-102966</td><td>GENIE-VICC-102966-unk-1</td><td>64</td><td>LUAD  </td><td>Metastasis</td><td>VICC-01-T7 </td><td>Non-Small Cell Lung Cancer</td><td>Lung Adenocarcinoma             </td><td>Metastasis site unspecified</td><td>Male  </td><td>[55-65[</td></tr>\n",
       "\t<tr><th scope=row>5</th><td>GENIE-VICC-103244</td><td>GENIE-VICC-103244-unk-1</td><td>50</td><td>IDC   </td><td>Primary   </td><td>VICC-01-T5A</td><td>Breast Cancer             </td><td>Breast Invasive Ductal Carcinoma</td><td>Primary tumor              </td><td>Female</td><td>[45-55[</td></tr>\n",
       "\t<tr><th scope=row>6</th><td>GENIE-VICC-103477</td><td>GENIE-VICC-103477-unk-1</td><td>40</td><td><span style=white-space:pre-wrap>MRLS  </span></td><td><span style=white-space:pre-wrap>Primary   </span></td><td>VICC-01-D2 </td><td><span style=white-space:pre-wrap>Soft Tissue Sarcoma       </span></td><td><span style=white-space:pre-wrap>Myxoid/Round-Cell Liposarcoma   </span></td><td><span style=white-space:pre-wrap>Primary tumor              </span></td><td><span style=white-space:pre-wrap>Male  </span></td><td><span style=white-space:pre-wrap>&lt;45    </span></td></tr>\n",
       "\t<tr><th scope=row>7</th><td>GENIE-VICC-104193</td><td>GENIE-VICC-104193-unk-1</td><td>55</td><td>IDC   </td><td>Metastasis</td><td>VICC-01-T5A</td><td>Breast Cancer             </td><td>Breast Invasive Ductal Carcinoma</td><td>Local recurrence           </td><td>Female</td><td>[55-65[</td></tr>\n",
       "</tbody>\n",
       "</table>\n"
      ],
      "text/latex": [
       "A data.frame: 6 × 11\n",
       "\\begin{tabular}{r|lllllllllll}\n",
       "  & PATIENT\\_ID & SAMPLE\\_ID & AGE\\_AT\\_SEQ\\_REPORT & ONCOTREE\\_CODE & SAMPLE\\_TYPE & SEQ\\_ASSAY\\_ID & CANCER\\_TYPE & CANCER\\_TYPE\\_DETAILED & SAMPLE\\_TYPE\\_DETAILED & SEX & age\\_interval\\\\\n",
       "  & <chr> & <chr> & <chr> & <chr> & <chr> & <chr> & <chr> & <chr> & <chr> & <chr> & <fct>\\\\\n",
       "\\hline\n",
       "\t2 & GENIE-VICC-102225 & GENIE-VICC-102225-unk-1 & 31 & READ   & Metastasis & VICC-01-T7  & Colorectal Cancer          & Rectal Adenocarcinoma            & Metastasis site unspecified & Female & <45    \\\\\n",
       "\t3 & GENIE-VICC-102424 & GENIE-VICC-102424-unk-1 & 63 & SCCNOS & Metastasis & VICC-01-T7  & Cancer of Unknown Primary  & Squamous Cell Carcinoma, NOS     & Metastasis site unspecified & Female & {[}55-65{[}\\\\\n",
       "\t4 & GENIE-VICC-102966 & GENIE-VICC-102966-unk-1 & 64 & LUAD   & Metastasis & VICC-01-T7  & Non-Small Cell Lung Cancer & Lung Adenocarcinoma              & Metastasis site unspecified & Male   & {[}55-65{[}\\\\\n",
       "\t5 & GENIE-VICC-103244 & GENIE-VICC-103244-unk-1 & 50 & IDC    & Primary    & VICC-01-T5A & Breast Cancer              & Breast Invasive Ductal Carcinoma & Primary tumor               & Female & {[}45-55{[}\\\\\n",
       "\t6 & GENIE-VICC-103477 & GENIE-VICC-103477-unk-1 & 40 & MRLS   & Primary    & VICC-01-D2  & Soft Tissue Sarcoma        & Myxoid/Round-Cell Liposarcoma    & Primary tumor               & Male   & <45    \\\\\n",
       "\t7 & GENIE-VICC-104193 & GENIE-VICC-104193-unk-1 & 55 & IDC    & Metastasis & VICC-01-T5A & Breast Cancer              & Breast Invasive Ductal Carcinoma & Local recurrence            & Female & {[}55-65{[}\\\\\n",
       "\\end{tabular}\n"
      ],
      "text/markdown": [
       "\n",
       "A data.frame: 6 × 11\n",
       "\n",
       "| <!--/--> | PATIENT_ID &lt;chr&gt; | SAMPLE_ID &lt;chr&gt; | AGE_AT_SEQ_REPORT &lt;chr&gt; | ONCOTREE_CODE &lt;chr&gt; | SAMPLE_TYPE &lt;chr&gt; | SEQ_ASSAY_ID &lt;chr&gt; | CANCER_TYPE &lt;chr&gt; | CANCER_TYPE_DETAILED &lt;chr&gt; | SAMPLE_TYPE_DETAILED &lt;chr&gt; | SEX &lt;chr&gt; | age_interval &lt;fct&gt; |\n",
       "|---|---|---|---|---|---|---|---|---|---|---|---|\n",
       "| 2 | GENIE-VICC-102225 | GENIE-VICC-102225-unk-1 | 31 | READ   | Metastasis | VICC-01-T7  | Colorectal Cancer          | Rectal Adenocarcinoma            | Metastasis site unspecified | Female | &lt;45     |\n",
       "| 3 | GENIE-VICC-102424 | GENIE-VICC-102424-unk-1 | 63 | SCCNOS | Metastasis | VICC-01-T7  | Cancer of Unknown Primary  | Squamous Cell Carcinoma, NOS     | Metastasis site unspecified | Female | [55-65[ |\n",
       "| 4 | GENIE-VICC-102966 | GENIE-VICC-102966-unk-1 | 64 | LUAD   | Metastasis | VICC-01-T7  | Non-Small Cell Lung Cancer | Lung Adenocarcinoma              | Metastasis site unspecified | Male   | [55-65[ |\n",
       "| 5 | GENIE-VICC-103244 | GENIE-VICC-103244-unk-1 | 50 | IDC    | Primary    | VICC-01-T5A | Breast Cancer              | Breast Invasive Ductal Carcinoma | Primary tumor               | Female | [45-55[ |\n",
       "| 6 | GENIE-VICC-103477 | GENIE-VICC-103477-unk-1 | 40 | MRLS   | Primary    | VICC-01-D2  | Soft Tissue Sarcoma        | Myxoid/Round-Cell Liposarcoma    | Primary tumor               | Male   | &lt;45     |\n",
       "| 7 | GENIE-VICC-104193 | GENIE-VICC-104193-unk-1 | 55 | IDC    | Metastasis | VICC-01-T5A | Breast Cancer              | Breast Invasive Ductal Carcinoma | Local recurrence            | Female | [55-65[ |\n",
       "\n"
      ],
      "text/plain": [
       "  PATIENT_ID        SAMPLE_ID               AGE_AT_SEQ_REPORT ONCOTREE_CODE\n",
       "2 GENIE-VICC-102225 GENIE-VICC-102225-unk-1 31                READ         \n",
       "3 GENIE-VICC-102424 GENIE-VICC-102424-unk-1 63                SCCNOS       \n",
       "4 GENIE-VICC-102966 GENIE-VICC-102966-unk-1 64                LUAD         \n",
       "5 GENIE-VICC-103244 GENIE-VICC-103244-unk-1 50                IDC          \n",
       "6 GENIE-VICC-103477 GENIE-VICC-103477-unk-1 40                MRLS         \n",
       "7 GENIE-VICC-104193 GENIE-VICC-104193-unk-1 55                IDC          \n",
       "  SAMPLE_TYPE SEQ_ASSAY_ID CANCER_TYPE               \n",
       "2 Metastasis  VICC-01-T7   Colorectal Cancer         \n",
       "3 Metastasis  VICC-01-T7   Cancer of Unknown Primary \n",
       "4 Metastasis  VICC-01-T7   Non-Small Cell Lung Cancer\n",
       "5 Primary     VICC-01-T5A  Breast Cancer             \n",
       "6 Primary     VICC-01-D2   Soft Tissue Sarcoma       \n",
       "7 Metastasis  VICC-01-T5A  Breast Cancer             \n",
       "  CANCER_TYPE_DETAILED             SAMPLE_TYPE_DETAILED        SEX   \n",
       "2 Rectal Adenocarcinoma            Metastasis site unspecified Female\n",
       "3 Squamous Cell Carcinoma, NOS     Metastasis site unspecified Female\n",
       "4 Lung Adenocarcinoma              Metastasis site unspecified Male  \n",
       "5 Breast Invasive Ductal Carcinoma Primary tumor               Female\n",
       "6 Myxoid/Round-Cell Liposarcoma    Primary tumor               Male  \n",
       "7 Breast Invasive Ductal Carcinoma Local recurrence            Female\n",
       "  age_interval\n",
       "2 <45         \n",
       "3 [55-65[     \n",
       "4 [55-65[     \n",
       "5 [45-55[     \n",
       "6 <45         \n",
       "7 [55-65[     "
      ]
     },
     "metadata": {},
     "output_type": "display_data"
    }
   ],
   "source": [
    "# We set the age intercals in our sample data\n",
    "# Creating the age-interval column\n",
    "sample_data$age_interval <- '<45'\n",
    "sample_data$age_interval[sample_data$AGE_AT_SEQ_REPORT>=45] <- '[45-55['\n",
    "sample_data$age_interval[sample_data$AGE_AT_SEQ_REPORT>=55] <- '[55-65['\n",
    "sample_data$age_interval[sample_data$AGE_AT_SEQ_REPORT>=65] <- '[65-75['\n",
    "sample_data$age_interval[sample_data$AGE_AT_SEQ_REPORT>=75] <- '>=75'\n",
    "\n",
    "# We create a set order to the age-intervals\n",
    "age_interval_levels <- c('<45',\n",
    "                         '[45-55[',\n",
    "                         '[55-65[',\n",
    "                         '[65-75[',\n",
    "                         '>=75')\n",
    "\n",
    "# And use them to make age-interval a factor in our pathogen data\n",
    "sample_data$age_interval <- factor(sample_data$age_interval, levels=age_interval_levels)\n",
    "\n",
    "cancers_of_interest <- c('Bladder Cancer',\n",
    "'Breast Cancer',\n",
    "'Cancer of Unknown Primary',\n",
    "'Colorectal Cancer',\n",
    "'Endometrial Cancer',\n",
    "'Esophagogastric Cancer',\n",
    "'Glioma',\n",
    "'Head and Neck Cancer',\n",
    "'Hepatobiliary Cancer',\n",
    "'Mature B-Cell Neoplasms',\n",
    "'Melanoma',\n",
    "'Non-Small Cell Lung Cancer',\n",
    "'Ovarian Cancer',\n",
    "'Pancreatic Cancer',\n",
    "'Prostate Cancer',\n",
    "'Renal Cell Carcinoma',\n",
    "'Soft Tissue Sarcoma',\n",
    "'Thyroid Cancer')\n",
    "\n",
    "# We only keep the cancers-of-interest. The ones we know have enough data for the linear regression.\n",
    "sample_data <- sample_data[which(sample_data$CANCER_TYPE %in% cancers_of_interest),]\n",
    "\n",
    "# We only keep the data-points where the sex is known\n",
    "sample_data <- sample_data[which(sample_data$SEX %in% c('Male', 'Female')),]\n",
    "\n",
    "# We only keep the data-points where the sample-type is either Primary or metastasis\n",
    "sample_data <- sample_data[which(sample_data$SAMPLE_TYPE %in% c('Primary', 'Metastasis')),]\n",
    "\n",
    "# We remove any rows with NA values\n",
    "sample_data <- na.omit(sample_data)\n",
    "\n",
    "head(sample_data)"
   ]
  },
  {
   "cell_type": "code",
   "execution_count": 8,
   "id": "ad9a65bd",
   "metadata": {},
   "outputs": [
    {
     "name": "stderr",
     "output_type": "stream",
     "text": [
      "\u001b[1m\u001b[22m`summarise()` has grouped output by 'age_interval', 'SEX', 'SAMPLE_TYPE', 'CANCER_TYPE'. You can override using the\n",
      "`.groups` argument.\n"
     ]
    },
    {
     "data": {
      "text/html": [
       "<style>\n",
       ".list-inline {list-style: none; margin:0; padding: 0}\n",
       ".list-inline>li {display: inline-block}\n",
       ".list-inline>li:not(:last-child)::after {content: \"\\00b7\"; padding: 0 .5ex}\n",
       "</style>\n",
       "<ol class=list-inline><li>9940</li><li>6</li></ol>\n"
      ],
      "text/latex": [
       "\\begin{enumerate*}\n",
       "\\item 9940\n",
       "\\item 6\n",
       "\\end{enumerate*}\n"
      ],
      "text/markdown": [
       "1. 9940\n",
       "2. 6\n",
       "\n",
       "\n"
      ],
      "text/plain": [
       "[1] 9940    6"
      ]
     },
     "metadata": {},
     "output_type": "display_data"
    },
    {
     "data": {
      "text/html": [
       "<table class=\"dataframe\">\n",
       "<caption>A grouped_df: 6 × 6</caption>\n",
       "<thead>\n",
       "\t<tr><th scope=col>age_interval</th><th scope=col>SEX</th><th scope=col>SAMPLE_TYPE</th><th scope=col>CANCER_TYPE</th><th scope=col>SEQ_ASSAY_ID</th><th scope=col>n</th></tr>\n",
       "\t<tr><th scope=col>&lt;fct&gt;</th><th scope=col>&lt;chr&gt;</th><th scope=col>&lt;chr&gt;</th><th scope=col>&lt;chr&gt;</th><th scope=col>&lt;chr&gt;</th><th scope=col>&lt;int&gt;</th></tr>\n",
       "</thead>\n",
       "<tbody>\n",
       "\t<tr><td>&lt;45</td><td>Female</td><td>Metastasis</td><td>Bladder Cancer</td><td><span style=white-space:pre-wrap>COLU-CSTP-V2       </span></td><td>1</td></tr>\n",
       "\t<tr><td>&lt;45</td><td>Female</td><td>Metastasis</td><td>Bladder Cancer</td><td>DFCI-ONCOPANEL-3.1 </td><td>2</td></tr>\n",
       "\t<tr><td>&lt;45</td><td>Female</td><td>Metastasis</td><td>Bladder Cancer</td><td><span style=white-space:pre-wrap>DUKE-F1-T7         </span></td><td>1</td></tr>\n",
       "\t<tr><td>&lt;45</td><td>Female</td><td>Metastasis</td><td>Bladder Cancer</td><td><span style=white-space:pre-wrap>MSK-IMPACT410      </span></td><td>2</td></tr>\n",
       "\t<tr><td>&lt;45</td><td>Female</td><td>Metastasis</td><td>Bladder Cancer</td><td><span style=white-space:pre-wrap>MSK-IMPACT468      </span></td><td>1</td></tr>\n",
       "\t<tr><td>&lt;45</td><td>Female</td><td>Metastasis</td><td>Bladder Cancer</td><td>NKI-TSACP-MISEQ-NGS</td><td>1</td></tr>\n",
       "</tbody>\n",
       "</table>\n"
      ],
      "text/latex": [
       "A grouped\\_df: 6 × 6\n",
       "\\begin{tabular}{llllll}\n",
       " age\\_interval & SEX & SAMPLE\\_TYPE & CANCER\\_TYPE & SEQ\\_ASSAY\\_ID & n\\\\\n",
       " <fct> & <chr> & <chr> & <chr> & <chr> & <int>\\\\\n",
       "\\hline\n",
       "\t <45 & Female & Metastasis & Bladder Cancer & COLU-CSTP-V2        & 1\\\\\n",
       "\t <45 & Female & Metastasis & Bladder Cancer & DFCI-ONCOPANEL-3.1  & 2\\\\\n",
       "\t <45 & Female & Metastasis & Bladder Cancer & DUKE-F1-T7          & 1\\\\\n",
       "\t <45 & Female & Metastasis & Bladder Cancer & MSK-IMPACT410       & 2\\\\\n",
       "\t <45 & Female & Metastasis & Bladder Cancer & MSK-IMPACT468       & 1\\\\\n",
       "\t <45 & Female & Metastasis & Bladder Cancer & NKI-TSACP-MISEQ-NGS & 1\\\\\n",
       "\\end{tabular}\n"
      ],
      "text/markdown": [
       "\n",
       "A grouped_df: 6 × 6\n",
       "\n",
       "| age_interval &lt;fct&gt; | SEX &lt;chr&gt; | SAMPLE_TYPE &lt;chr&gt; | CANCER_TYPE &lt;chr&gt; | SEQ_ASSAY_ID &lt;chr&gt; | n &lt;int&gt; |\n",
       "|---|---|---|---|---|---|\n",
       "| &lt;45 | Female | Metastasis | Bladder Cancer | COLU-CSTP-V2        | 1 |\n",
       "| &lt;45 | Female | Metastasis | Bladder Cancer | DFCI-ONCOPANEL-3.1  | 2 |\n",
       "| &lt;45 | Female | Metastasis | Bladder Cancer | DUKE-F1-T7          | 1 |\n",
       "| &lt;45 | Female | Metastasis | Bladder Cancer | MSK-IMPACT410       | 2 |\n",
       "| &lt;45 | Female | Metastasis | Bladder Cancer | MSK-IMPACT468       | 1 |\n",
       "| &lt;45 | Female | Metastasis | Bladder Cancer | NKI-TSACP-MISEQ-NGS | 1 |\n",
       "\n"
      ],
      "text/plain": [
       "  age_interval SEX    SAMPLE_TYPE CANCER_TYPE    SEQ_ASSAY_ID        n\n",
       "1 <45          Female Metastasis  Bladder Cancer COLU-CSTP-V2        1\n",
       "2 <45          Female Metastasis  Bladder Cancer DFCI-ONCOPANEL-3.1  2\n",
       "3 <45          Female Metastasis  Bladder Cancer DUKE-F1-T7          1\n",
       "4 <45          Female Metastasis  Bladder Cancer MSK-IMPACT410       2\n",
       "5 <45          Female Metastasis  Bladder Cancer MSK-IMPACT468       1\n",
       "6 <45          Female Metastasis  Bladder Cancer NKI-TSACP-MISEQ-NGS 1"
      ]
     },
     "metadata": {},
     "output_type": "display_data"
    }
   ],
   "source": [
    "# We find out how many times each panel was used in each age-group\n",
    "panel_weight <- sample_data %>%\n",
    "  group_by(age_interval,SEX,SAMPLE_TYPE,CANCER_TYPE,SEQ_ASSAY_ID)  %>%\n",
    "  summarise(n = n())\n",
    "\n",
    "# checking the result\n",
    "dim(panel_weight)\n",
    "head(panel_weight)"
   ]
  },
  {
   "cell_type": "code",
   "execution_count": 9,
   "id": "b2d881cb",
   "metadata": {},
   "outputs": [],
   "source": [
    "# We define the panel-element-list\n",
    "panel_elements_list <- list(CHOP_COMPT,CHOP_COMPT_V2,CHOP_FUSIP,CHOP_HEMEP,CHOP_STNGS,CHOP_STNGS_V2,COLU_CCCP_V1,COLU_CCCP_V2,COLU_CSTP_V1,COLU_CSTP_V2,COLU_TSACP_V1,CRUK_TS,DFCI_ONCOPANEL_1,DFCI_ONCOPANEL_2,DFCI_ONCOPANEL_3.1,DFCI_ONCOPANEL_3,DUKE_F1_DX1,DUKE_F1_T5A,DUKE_F1_T7,GRCC_CHP2,GRCC_CP1,GRCC_MOSC3,GRCC_MOSC4,GRCC_OCAV3,GRCC_SAFIR02,JHU_500STP,JHU_50GP,MDA_409_V1,MDA_46_V1,MDA_50_V1,MSK_ACCESS129,MSK_IMPACT341,MSK_IMPACT410,MSK_IMPACT468,MSK_IMPACT505,MSK_IMPACT_HEME_400,MSK_IMPACT_HEME_468,NKI_CHPV2_NGS,NKI_CHP_V2_PLUS,NKI_CHPV2_SOCV2_NGS,NKI_PATH_NGS,NKI_TSACP_MISEQ_NGS,PROV_FOCUS_V1,PROV_TSO500HT_V2,PROV_TST170_V1,SCI_PMP68_V1,UCHI_ONCOHEME55_V1,UCHI_ONCOSCREEN50_V1,UCSF_IDTV5_TN,UCSF_IDTV5_TO,UCSF_NIMV4_TN,UCSF_NIMV4_TO,UHN_48_V1,UHN_50_V2,UHN_54_V1,UHN_555_BLADDER_V1,UHN_555_BREAST_V1,UHN_555_GLIOMA_V1,UHN_555_GYNE_V1,UHN_555_HEAD_NECK_V1,UHN_555_LUNG_V1,UHN_555_MELANOMA_V1,UHN_555_PAN_GI_V1,UHN_555_PROSTATE_V1,UHN_555_RENAL_V1,UHN_555_V1,UHN_555_V2,UHN_OCA_V3,UHN_TSO500_V1,VHIO_300,VHIO_BILIARY_V01,VHIO_BRAIN_V01,VHIO_BREAST_V01,VHIO_BREAST_V02,VHIO_COLORECTAL_V01,VHIO_ENDOMETRIUM_V01,VHIO_GASTRIC_V01,VHIO_GENERAL_V01,VHIO_HEAD_NECK_V01,VHIO_KIDNEY_V01,VHIO_LUNG_V01,VHIO_OVARY_V01,VHIO_PANCREAS_V01,VHIO_PAROTIDE_V01,VHIO_SKIN_V01,VHIO_URINARY_BLADDER_V01,VICC_01_D2,VICC_01_DX1,VICC_01_MYELOID,VICC_01_SOLIDTUMOR,VICC_01_T4B,VICC_01_T5A,VICC_01_T6B,VICC_01_T7,VICC_02_XTV2,VICC_02_XTV3,VICC_02_XTV4,WAKE_CA_01,WAKE_CA_NGSQ3,WAKE_CLINICAL_AB1,WAKE_CLINICAL_AB2,WAKE_CLINICAL_AB3,WAKE_CLINICAL_CF2,WAKE_CLINICAL_CF3,WAKE_CLINICAL_D2,WAKE_CLINICAL_DX1,WAKE_CLINICAL_R2D2,WAKE_CLINICAL_R2,WAKE_CLINICAL_T5A,WAKE_CLINICAL_T7,YALE_HSM_V1,YALE_OCP_V2,YALE_OCP_V3)\n",
    "\n",
    "# To use the panel name, we need to change it a bit\n",
    "panel_name_list <- gsub('_', '-', panel_name_list) "
   ]
  },
  {
   "cell_type": "code",
   "execution_count": 10,
   "id": "b0d7d61b",
   "metadata": {},
   "outputs": [],
   "source": [
    "#cancer-specific-gene-weights function\n",
    "# We manually give it the cancer-type, sample-type and sex\n",
    "# This is giong to take more manual coding, but will reduce the time complexity\n",
    "# We also give it the dataframe for the resulting gene-weights and the original panel-weight dataframe\n",
    "\n",
    "csgw_function <- function(panel_weight, cancer, sample_type, sex){\n",
    "    \n",
    "    # We create the empty table for our resutls\n",
    "    gene_weighted_table <- data.frame(Hugo_Symbol = character(0),\n",
    "                      CANCER_TYPE = character(0),\n",
    "                      age_interval = character(0),\n",
    "                      SEX = character(0),\n",
    "                      SAMPLE_TYPE = character(0),\n",
    "                      gene_panel_count = integer(0))\n",
    "    \n",
    "    # We make a slightly smaller dataframe that matches our criterion\n",
    "    tmp1 <- panel_weight[which(panel_weight$CANCER_TYPE==cancer & panel_weight$SAMPLE_TYPE==sample_type & panel_weight$SEX==sex),]\n",
    "    \n",
    "    # We loop through each age interval\n",
    "    for (age in age_interval_levels){\n",
    "\n",
    "        # We further define our search with the age-interval\n",
    "        # We give it a number so that when it loops back we  can refer to this dataframe\n",
    "        tmp2 <- tmp1[which(tmp1$age_interval==age),]\n",
    "\n",
    "        # And then we loop through each panel-name in the form of an index\n",
    "        for (panel_index in c(1:length(panel_name_list))) {\n",
    "\n",
    "            # We get the panel name\n",
    "            panel_name <- panel_name_list[panel_index]\n",
    "\n",
    "            # If the panel name is in our temporary-dataframe we go through it\n",
    "            # We use the temporary dataframes to try and speed up the process.\n",
    "            # This uses more time re-defining the dataframe, and more memory,\n",
    "            # but should look through less combinations of age, sex, cancer_type and assay.\n",
    "            if (panel_name %in% unique(tmp2$SEQ_ASSAY_ID)){\n",
    "                \n",
    "                # We get the genes in our panel\n",
    "                panel_genes <- panel_elements_list[[panel_index]]\n",
    "\n",
    "                # And how often that panel has been used inside our specific age-sex-cancer_type group\n",
    "                panel_count <- as.integer(tmp2[which(tmp2$SEQ_ASSAY_ID == panel_name),6])\n",
    "\n",
    "                for (gene in panel_genes){\n",
    "                    \n",
    "                    # If the panel has not been used in the age-group it will have a NA value\n",
    "                    if (is.na(panel_count)){\n",
    "                        # To avoid NA values, we set the panel_count to 0\n",
    "                        panel_count <- 0\n",
    "                    }\n",
    "\n",
    "                    # If the gene is not already in the dataframe, we add it\n",
    "                    if (!(gene %in% gene_weighted_table$Hugo_Symbol[which(gene_weighted_table$age_interval==age & gene_weighted_table$CANCER_TYPE==cancer & gene_weighted_table$SEX==sex & gene_weighted_table$SAMPLE_TYPE==sample_type)])){\n",
    "                        # We initiate the new gene with the weight of the panel\n",
    "                        gene_weighted_table[nrow(gene_weighted_table) + 1,] = c(gene, cancer, age, sex, sample_type, panel_count)\n",
    "                    }\n",
    "                    # If it already exists, we update the count with the weight of the panel\n",
    "                    else{\n",
    "                        row_index = gene_weighted_table[which(gene_weighted_table$age_interval==age & gene_weighted_table$CANCER_TYPE==cancer & gene_weighted_table$SEX==sex & gene_weighted_table$SAMPLE_TYPE==sample_type),7]\n",
    "                        gene_weighted_table$gene_panel_count[row_index] <- as.integer(gene_weighted_table$gene_panel_count[row_index]) + panel_count\n",
    "                    }\n",
    "                }\n",
    "            }\n",
    "        }\n",
    "    }\n",
    "    \n",
    "    return(gene_weighted_table)\n",
    "}\n"
   ]
  },
  {
   "cell_type": "markdown",
   "id": "f742dd58",
   "metadata": {},
   "source": [
    "### Per-cancer analysis\n",
    "\n",
    "We run the panel-weight function once per cancer. This is done in a more manual way, rather than a for-loop to avoid an algorithmic complexity of O(n^4), which was way too high. This takes a while, but will hopefully be worth it."
   ]
  },
  {
   "cell_type": "code",
   "execution_count": 11,
   "id": "618459ba",
   "metadata": {
    "scrolled": true
   },
   "outputs": [],
   "source": [
    "# Then we call the function on the first cancer-type\n",
    "# panel_weight, cancer_type, sample_type, sex, gene_weighted_table\n",
    "gene_weighted_table1 <- csgw_function(panel_weight, 'Colorectal Cancer', 'Primary', 'Male')\n",
    "gene_weighted_table2 <- csgw_function(panel_weight, 'Colorectal Cancer', 'Primary', 'Female')\n",
    "gene_weighted_table3 <- csgw_function(panel_weight, 'Colorectal Cancer', 'Metastasis', 'Male')\n",
    "gene_weighted_table4 <- csgw_function(panel_weight, 'Colorectal Cancer', 'Metastasis', 'Female')\n",
    "\n",
    "gene_weighted_table1 <- bind_rows(gene_weighted_table1, gene_weighted_table2, gene_weighted_table3, gene_weighted_table4)\n",
    "\n",
    "write.csv(gene_weighted_table1, \"../../derived_data/cancer_specific_gene_weights/csgw_Colorectal_Cancer.csv\", row.names=TRUE)"
   ]
  },
  {
   "cell_type": "code",
   "execution_count": 12,
   "id": "9a526bbb",
   "metadata": {
    "scrolled": true
   },
   "outputs": [],
   "source": [
    "# Then we call the function on the first cancer-type\n",
    "# panel_weight, cancer_type, sample_type, sex, gene_weighted_table\n",
    "gene_weighted_table1 <- csgw_function(panel_weight, 'Cancer of Unknown Primary', 'Primary', 'Male')\n",
    "gene_weighted_table2 <- csgw_function(panel_weight, 'Cancer of Unknown Primary', 'Primary', 'Female')\n",
    "gene_weighted_table3 <- csgw_function(panel_weight, 'Cancer of Unknown Primary', 'Metastasis', 'Male')\n",
    "gene_weighted_table4 <- csgw_function(panel_weight, 'Cancer of Unknown Primary', 'Metastasis', 'Female')\n",
    "\n",
    "gene_weighted_table1 <- bind_rows(gene_weighted_table1, gene_weighted_table2, gene_weighted_table3, gene_weighted_table4)\n",
    "\n",
    "write.csv(gene_weighted_table1, \"../../derived_data/cancer_specific_gene_weights/csgw_Cancer_of_Unknown_Primary.csv\", row.names=TRUE)"
   ]
  },
  {
   "cell_type": "code",
   "execution_count": 13,
   "id": "a6916275",
   "metadata": {
    "scrolled": true
   },
   "outputs": [],
   "source": [
    "# Then we call the function on the first cancer-type\n",
    "# panel_weight, cancer_type, sample_type, sex, gene_weighted_table\n",
    "gene_weighted_table1 <- csgw_function(panel_weight, 'Non-Small Cell Lung Cancer', 'Primary', 'Male')\n",
    "gene_weighted_table2 <- csgw_function(panel_weight, 'Non-Small Cell Lung Cancer', 'Primary', 'Female')\n",
    "gene_weighted_table3 <- csgw_function(panel_weight, 'Non-Small Cell Lung Cancer', 'Metastasis', 'Male')\n",
    "gene_weighted_table4 <- csgw_function(panel_weight, 'Non-Small Cell Lung Cancer', 'Metastasis', 'Female')\n",
    "\n",
    "gene_weighted_table1 <- bind_rows(gene_weighted_table1, gene_weighted_table2, gene_weighted_table3, gene_weighted_table4)\n",
    "\n",
    "write.csv(gene_weighted_table1, \"../../derived_data/cancer_specific_gene_weights/csgw_Non_Small_Cell_Lung_Cancer.csv\", row.names=TRUE)"
   ]
  },
  {
   "cell_type": "code",
   "execution_count": null,
   "id": "872bc9ca",
   "metadata": {
    "scrolled": true
   },
   "outputs": [],
   "source": [
    "# Then we call the function on the first cancer-type\n",
    "# panel_weight, cancer_type, sample_type, sex, gene_weighted_table\n",
    "gene_weighted_table1 <- csgw_function(panel_weight, 'Breast Cancer', 'Primary', 'Male')\n",
    "gene_weighted_table2 <- csgw_function(panel_weight, 'Breast Cancer', 'Primary', 'Female')\n",
    "gene_weighted_table3 <- csgw_function(panel_weight, 'Breast Cancer', 'Metastasis', 'Male')\n",
    "gene_weighted_table4 <- csgw_function(panel_weight, 'Breast Cancer', 'Metastasis', 'Female')\n",
    "\n",
    "gene_weighted_table1 <- bind_rows(gene_weighted_table1, gene_weighted_table2, gene_weighted_table3, gene_weighted_table4)\n",
    "\n",
    "write.csv(gene_weighted_table1, \"../../derived_data/cancer_specific_gene_weights/csgw_Breast_Cancer.csv\", row.names=TRUE)"
   ]
  },
  {
   "cell_type": "code",
   "execution_count": null,
   "id": "0ebff2a1",
   "metadata": {
    "scrolled": true
   },
   "outputs": [],
   "source": [
    "# Then we call the function on the first cancer-type\n",
    "# panel_weight, cancer_type, sample_type, sex, gene_weighted_table\n",
    "gene_weighted_table1 <- csgw_function(panel_weight, 'Soft Tissue Sarcoma', 'Primary', 'Male')\n",
    "gene_weighted_table2 <- csgw_function(panel_weight, 'Soft Tissue Sarcoma', 'Primary', 'Female')\n",
    "gene_weighted_table3 <- csgw_function(panel_weight, 'Soft Tissue Sarcoma', 'Metastasis', 'Male')\n",
    "gene_weighted_table4 <- csgw_function(panel_weight, 'Soft Tissue Sarcoma', 'Metastasis', 'Female')\n",
    "\n",
    "gene_weighted_table1 <- bind_rows(gene_weighted_table1, gene_weighted_table2, gene_weighted_table3, gene_weighted_table4)\n",
    "\n",
    "write.csv(gene_weighted_table1, \"../../derived_data/cancer_specific_gene_weights/csgw_Soft_Tissue_Sarcoma.csv\", row.names=TRUE)"
   ]
  },
  {
   "cell_type": "code",
   "execution_count": null,
   "id": "b9758424",
   "metadata": {
    "scrolled": true
   },
   "outputs": [],
   "source": [
    "# Then we call the function on the first cancer-type\n",
    "# panel_weight, cancer_type, sample_type, sex, gene_weighted_table\n",
    "gene_weighted_table1 <- csgw_function(panel_weight, 'Pancreatic Cancer', 'Primary', 'Male')\n",
    "gene_weighted_table2 <- csgw_function(panel_weight, 'Pancreatic Cancer', 'Primary', 'Female')\n",
    "gene_weighted_table3 <- csgw_function(panel_weight, 'Pancreatic Cancer', 'Metastasis', 'Male')\n",
    "gene_weighted_table4 <- csgw_function(panel_weight, 'Pancreatic Cancer', 'Metastasis', 'Female')\n",
    "\n",
    "gene_weighted_table1 <- bind_rows(gene_weighted_table1, gene_weighted_table2, gene_weighted_table3, gene_weighted_table4)\n",
    "\n",
    "write.csv(gene_weighted_table1, \"../../derived_data/cancer_specific_gene_weights/csgw_Pancreatic_Cancer.csv\", row.names=TRUE)"
   ]
  },
  {
   "cell_type": "code",
   "execution_count": null,
   "id": "1dc94a35",
   "metadata": {
    "scrolled": true
   },
   "outputs": [],
   "source": [
    "# Then we call the function on the first cancer-type\n",
    "# panel_weight, cancer_type, sample_type, sex, gene_weighted_table\n",
    "gene_weighted_table1 <- csgw_function(panel_weight, 'Melanoma', 'Primary', 'Male')\n",
    "gene_weighted_table2 <- csgw_function(panel_weight, 'Melanoma', 'Primary', 'Female')\n",
    "gene_weighted_table3 <- csgw_function(panel_weight, 'Melanoma', 'Metastasis', 'Male')\n",
    "gene_weighted_table4 <- csgw_function(panel_weight, 'Melanoma', 'Metastasis', 'Female')\n",
    "\n",
    "gene_weighted_table1 <- bind_rows(gene_weighted_table1, gene_weighted_table2, gene_weighted_table3, gene_weighted_table4)\n",
    "\n",
    "write.csv(gene_weighted_table1, \"../../derived_data/cancer_specific_gene_weights/csgw_Melanoma.csv\", row.names=TRUE)"
   ]
  },
  {
   "cell_type": "code",
   "execution_count": null,
   "id": "4ac72b30",
   "metadata": {
    "scrolled": true
   },
   "outputs": [],
   "source": [
    "# Then we call the function on the first cancer-type\n",
    "# panel_weight, cancer_type, sample_type, sex, gene_weighted_table\n",
    "gene_weighted_table2 <- csgw_function(panel_weight, 'Endometrial Cancer', 'Primary', 'Female')\n",
    "gene_weighted_table4 <- csgw_function(panel_weight, 'Endometrial Cancer', 'Metastasis', 'Female')\n",
    "\n",
    "gene_weighted_table1 <- bind_rows(gene_weighted_table2, gene_weighted_table4)\n",
    "\n",
    "write.csv(gene_weighted_table1, \"../../derived_data/cancer_specific_gene_weights/csgw_Endometrial_Cancer.csv\", row.names=TRUE)"
   ]
  },
  {
   "cell_type": "code",
   "execution_count": null,
   "id": "01f77f0d",
   "metadata": {
    "scrolled": true
   },
   "outputs": [],
   "source": [
    "# Then we call the function on the first cancer-type\n",
    "# panel_weight, cancer_type, sample_type, sex, gene_weighted_table\n",
    "gene_weighted_table1 <- csgw_function(panel_weight, 'Head and Neck Cancer', 'Primary', 'Male')\n",
    "gene_weighted_table2 <- csgw_function(panel_weight, 'Head and Neck Cancer', 'Primary', 'Female')\n",
    "gene_weighted_table3 <- csgw_function(panel_weight, 'Head and Neck Cancer', 'Metastasis', 'Male')\n",
    "gene_weighted_table4 <- csgw_function(panel_weight, 'Head and Neck Cancer', 'Metastasis', 'Female')\n",
    "\n",
    "gene_weighted_table1 <- bind_rows(gene_weighted_table1, gene_weighted_table2, gene_weighted_table3, gene_weighted_table4)\n",
    "\n",
    "write.csv(gene_weighted_table1, \"../../derived_data/cancer_specific_gene_weights/csgw_Head_and_Neck_Cancer.csv\", row.names=TRUE)"
   ]
  },
  {
   "cell_type": "code",
   "execution_count": null,
   "id": "4d06b957",
   "metadata": {
    "scrolled": true
   },
   "outputs": [],
   "source": [
    "# Then we call the function on the first cancer-type\n",
    "# panel_weight, cancer_type, sample_type, sex, gene_weighted_table\n",
    "gene_weighted_table2 <- csgw_function(panel_weight, 'Ovarian Cancer', 'Primary', 'Female')\n",
    "gene_weighted_table4 <- csgw_function(panel_weight, 'Ovarian Cancer', 'Metastasis', 'Female')\n",
    "\n",
    "gene_weighted_table1 <- bind_rows(gene_weighted_table2, gene_weighted_table4)\n",
    "\n",
    "write.csv(gene_weighted_table1, \"../../derived_data/cancer_specific_gene_weights/csgw_Ovarian_Cancer.csv\", row.names=TRUE)"
   ]
  },
  {
   "cell_type": "code",
   "execution_count": null,
   "id": "9cb8b370",
   "metadata": {
    "scrolled": true
   },
   "outputs": [],
   "source": [
    "# Then we call the function on the first cancer-type\n",
    "# panel_weight, cancer_type, sample_type, sex, gene_weighted_table\n",
    "gene_weighted_table1 <- csgw_function(panel_weight, 'Esophagogastric Cancer', 'Primary', 'Male')\n",
    "gene_weighted_table2 <- csgw_function(panel_weight, 'Esophagogastric Cancer', 'Primary', 'Female')\n",
    "gene_weighted_table3 <- csgw_function(panel_weight, 'Esophagogastric Cancer', 'Metastasis', 'Male')\n",
    "gene_weighted_table4 <- csgw_function(panel_weight, 'Esophagogastric Cancer', 'Metastasis', 'Female')\n",
    "\n",
    "gene_weighted_table1 <- bind_rows(gene_weighted_table1, gene_weighted_table2, gene_weighted_table3, gene_weighted_table4)\n",
    "\n",
    "write.csv(gene_weighted_table1, \"../../derived_data/cancer_specific_gene_weights/csgw_Esophagogastric_Cancer.csv\", row.names=TRUE)"
   ]
  },
  {
   "cell_type": "code",
   "execution_count": null,
   "id": "546a1627",
   "metadata": {
    "scrolled": true
   },
   "outputs": [],
   "source": [
    "# Then we call the function on the first cancer-type\n",
    "# panel_weight, cancer_type, sample_type, sex, gene_weighted_table\n",
    "gene_weighted_table1 <- csgw_function(panel_weight, 'Thyroid Cancer', 'Primary', 'Male')\n",
    "gene_weighted_table2 <- csgw_function(panel_weight, 'Thyroid Cancer', 'Primary', 'Female')\n",
    "gene_weighted_table3 <- csgw_function(panel_weight, 'Thyroid Cancer', 'Metastasis', 'Male')\n",
    "gene_weighted_table4 <- csgw_function(panel_weight, 'Thyroid Cancer', 'Metastasis', 'Female')\n",
    "\n",
    "gene_weighted_table1 <- bind_rows(gene_weighted_table1, gene_weighted_table2, gene_weighted_table3, gene_weighted_table4)\n",
    "\n",
    "write.csv(gene_weighted_table1, \"../../derived_data/cancer_specific_gene_weights/csgw_Thyroid_Cancer.csv\", row.names=TRUE)"
   ]
  },
  {
   "cell_type": "code",
   "execution_count": null,
   "id": "0b1130af",
   "metadata": {
    "scrolled": true
   },
   "outputs": [],
   "source": [
    "# Then we call the function on the first cancer-type\n",
    "# panel_weight, cancer_type, sample_type, sex, gene_weighted_table\n",
    "gene_weighted_table1 <- csgw_function(panel_weight, 'Hepatobiliary Cancer', 'Primary', 'Male')\n",
    "gene_weighted_table2 <- csgw_function(panel_weight, 'Hepatobiliary Cancer', 'Primary', 'Female')\n",
    "gene_weighted_table3 <- csgw_function(panel_weight, 'Hepatobiliary Cancer', 'Metastasis', 'Male')\n",
    "gene_weighted_table4 <- csgw_function(panel_weight, 'Hepatobiliary Cancer', 'Metastasis', 'Female')\n",
    "\n",
    "gene_weighted_table1 <- bind_rows(gene_weighted_table1, gene_weighted_table2, gene_weighted_table3, gene_weighted_table4)\n",
    "\n",
    "write.csv(gene_weighted_table1, \"../../derived_data/cancer_specific_gene_weights/csgw_Hepatobiliary_Cancer.csv\", row.names=TRUE)"
   ]
  },
  {
   "cell_type": "code",
   "execution_count": null,
   "id": "701da1b4",
   "metadata": {
    "scrolled": true
   },
   "outputs": [],
   "source": [
    "# Then we call the function on the first cancer-type\n",
    "# panel_weight, cancer_type, sample_type, sex, gene_weighted_table\n",
    "gene_weighted_table1 <- csgw_function(panel_weight, 'Renal Cell Carcinoma', 'Primary', 'Male')\n",
    "gene_weighted_table2 <- csgw_function(panel_weight, 'Renal Cell Carcinoma', 'Primary', 'Female')\n",
    "gene_weighted_table3 <- csgw_function(panel_weight, 'Renal Cell Carcinoma', 'Metastasis', 'Male')\n",
    "gene_weighted_table4 <- csgw_function(panel_weight, 'Renal Cell Carcinoma', 'Metastasis', 'Female')\n",
    "\n",
    "gene_weighted_table1 <- bind_rows(gene_weighted_table1, gene_weighted_table2, gene_weighted_table3, gene_weighted_table4)\n",
    "\n",
    "write.csv(gene_weighted_table1, \"../../derived_data/cancer_specific_gene_weights/csgw_Renal_Cell_Carcinoma.csv\", row.names=TRUE)"
   ]
  },
  {
   "cell_type": "code",
   "execution_count": null,
   "id": "1750fd86",
   "metadata": {
    "scrolled": true
   },
   "outputs": [],
   "source": [
    "# Then we call the function on the first cancer-type\n",
    "# panel_weight, cancer_type, sample_type, sex, gene_weighted_table\n",
    "gene_weighted_table1 <- csgw_function(panel_weight, 'Glioma', 'Primary', 'Male')\n",
    "gene_weighted_table2 <- csgw_function(panel_weight, 'Glioma', 'Primary', 'Female')\n",
    "gene_weighted_table3 <- csgw_function(panel_weight, 'Glioma', 'Metastasis', 'Male')\n",
    "gene_weighted_table4 <- csgw_function(panel_weight, 'Glioma', 'Metastasis', 'Female')\n",
    "\n",
    "gene_weighted_table1 <- bind_rows(gene_weighted_table1, gene_weighted_table2, gene_weighted_table3, gene_weighted_table4)\n",
    "\n",
    "write.csv(gene_weighted_table1, \"../../derived_data/cancer_specific_gene_weights/csgw_Glioma.csv\", row.names=TRUE)"
   ]
  },
  {
   "cell_type": "code",
   "execution_count": null,
   "id": "69765955",
   "metadata": {
    "scrolled": true
   },
   "outputs": [],
   "source": [
    "# Then we call the function on the first cancer-type\n",
    "# panel_weight, cancer_type, sample_type, sex, gene_weighted_table\n",
    "gene_weighted_table1 <- csgw_function(panel_weight, 'Prostate Cancer', 'Primary', 'Male')\n",
    "gene_weighted_table3 <- csgw_function(panel_weight, 'Prostate Cancer', 'Metastasis', 'Male')\n",
    "\n",
    "gene_weighted_table1 <- bind_rows(gene_weighted_table1, gene_weighted_table3)\n",
    "\n",
    "write.csv(gene_weighted_table1, \"../../derived_data/cancer_specific_gene_weights/csgw_Prostate_Cancer.csv\", row.names=TRUE)"
   ]
  },
  {
   "cell_type": "code",
   "execution_count": null,
   "id": "f848892d",
   "metadata": {
    "scrolled": true
   },
   "outputs": [],
   "source": [
    "# Then we call the function on the first cancer-type\n",
    "# panel_weight, cancer_type, sample_type, sex, gene_weighted_table\n",
    "gene_weighted_table1 <- csgw_function(panel_weight, 'Bladder Cancer', 'Primary', 'Male')\n",
    "gene_weighted_table2 <- csgw_function(panel_weight, 'Bladder Cancer', 'Primary', 'Female')\n",
    "gene_weighted_table3 <- csgw_function(panel_weight, 'Bladder Cancer', 'Metastasis', 'Male')\n",
    "gene_weighted_table4 <- csgw_function(panel_weight, 'Bladder Cancer', 'Metastasis', 'Female')\n",
    "\n",
    "gene_weighted_table1 <- bind_rows(gene_weighted_table1, gene_weighted_table2, gene_weighted_table3, gene_weighted_table4)\n",
    "\n",
    "write.csv(gene_weighted_table1, \"../../derived_data/cancer_specific_gene_weights/csgw_Bladder_Cancer.csv\", row.names=TRUE)"
   ]
  },
  {
   "cell_type": "code",
   "execution_count": null,
   "id": "721fa7df",
   "metadata": {
    "scrolled": true
   },
   "outputs": [],
   "source": [
    "# Then we call the function on the first cancer-type\n",
    "# panel_weight, cancer_type, sample_type, sex, gene_weighted_table\n",
    "gene_weighted_table1 <- csgw_function(panel_weight, 'Mature B-Cell Neoplasms', 'Primary', 'Male')\n",
    "gene_weighted_table2 <- csgw_function(panel_weight, 'Mature B-Cell Neoplasms', 'Primary', 'Female')\n",
    "gene_weighted_table3 <- csgw_function(panel_weight, 'Mature B-Cell Neoplasms', 'Metastasis', 'Male')\n",
    "gene_weighted_table4 <- csgw_function(panel_weight, 'Mature B-Cell Neoplasms', 'Metastasis', 'Female')\n",
    "\n",
    "gene_weighted_table1 <- bind_rows(gene_weighted_table1, gene_weighted_table2, gene_weighted_table3, gene_weighted_table4)\n",
    "\n",
    "write.csv(gene_weighted_table1, \"../../derived_data/cancer_specific_gene_weights/csgw_Mature_B_Cell_Neoplasms.csv\", row.names=TRUE)"
   ]
  },
  {
   "cell_type": "code",
   "execution_count": null,
   "id": "1005a9c7",
   "metadata": {},
   "outputs": [],
   "source": [
    "#unique(sample_data$CANCER_TYPE)"
   ]
  },
  {
   "cell_type": "markdown",
   "id": "50316696",
   "metadata": {},
   "source": [
    "#### Number of individuals in each age-interval"
   ]
  },
  {
   "cell_type": "code",
   "execution_count": null,
   "id": "800811ef",
   "metadata": {},
   "outputs": [],
   "source": [
    "# We create a table containing the number of individials in each group\n",
    "n_age_cancer_interval <- sample_data %>% group_by(age_interval,SEX,SAMPLE_TYPE,CANCER_TYPE) %>% summarise(n=n())\n",
    "\n",
    "head(n_age_cancer_interval)"
   ]
  },
  {
   "cell_type": "code",
   "execution_count": 17,
   "id": "e136a09d",
   "metadata": {},
   "outputs": [
    {
     "data": {
      "text/html": [
       "<table class=\"dataframe\">\n",
       "<caption>A data.frame: 6 × 11</caption>\n",
       "<thead>\n",
       "\t<tr><th></th><th scope=col>PATIENT_ID</th><th scope=col>SAMPLE_ID</th><th scope=col>AGE_AT_SEQ_REPORT</th><th scope=col>ONCOTREE_CODE</th><th scope=col>SAMPLE_TYPE</th><th scope=col>SEQ_ASSAY_ID</th><th scope=col>CANCER_TYPE</th><th scope=col>CANCER_TYPE_DETAILED</th><th scope=col>SAMPLE_TYPE_DETAILED</th><th scope=col>SEX</th><th scope=col>age_interval</th></tr>\n",
       "\t<tr><th></th><th scope=col>&lt;chr&gt;</th><th scope=col>&lt;chr&gt;</th><th scope=col>&lt;chr&gt;</th><th scope=col>&lt;chr&gt;</th><th scope=col>&lt;chr&gt;</th><th scope=col>&lt;chr&gt;</th><th scope=col>&lt;chr&gt;</th><th scope=col>&lt;chr&gt;</th><th scope=col>&lt;chr&gt;</th><th scope=col>&lt;chr&gt;</th><th scope=col>&lt;fct&gt;</th></tr>\n",
       "</thead>\n",
       "<tbody>\n",
       "\t<tr><th scope=row>2</th><td>GENIE-VICC-102225</td><td>GENIE-VICC-102225-unk-1</td><td>31</td><td><span style=white-space:pre-wrap>READ  </span></td><td>Metastasis</td><td>VICC-01-T7 </td><td><span style=white-space:pre-wrap>Colorectal Cancer         </span></td><td><span style=white-space:pre-wrap>Rectal Adenocarcinoma           </span></td><td>Metastasis site unspecified</td><td>Female</td><td><span style=white-space:pre-wrap>&lt;45    </span></td></tr>\n",
       "\t<tr><th scope=row>3</th><td>GENIE-VICC-102424</td><td>GENIE-VICC-102424-unk-1</td><td>63</td><td>SCCNOS</td><td>Metastasis</td><td>VICC-01-T7 </td><td>Cancer of Unknown Primary </td><td>Squamous Cell Carcinoma, NOS    </td><td>Metastasis site unspecified</td><td>Female</td><td>[55-65[</td></tr>\n",
       "\t<tr><th scope=row>4</th><td>GENIE-VICC-102966</td><td>GENIE-VICC-102966-unk-1</td><td>64</td><td>LUAD  </td><td>Metastasis</td><td>VICC-01-T7 </td><td>Non-Small Cell Lung Cancer</td><td>Lung Adenocarcinoma             </td><td>Metastasis site unspecified</td><td>Male  </td><td>[55-65[</td></tr>\n",
       "\t<tr><th scope=row>5</th><td>GENIE-VICC-103244</td><td>GENIE-VICC-103244-unk-1</td><td>50</td><td>IDC   </td><td>Primary   </td><td>VICC-01-T5A</td><td>Breast Cancer             </td><td>Breast Invasive Ductal Carcinoma</td><td>Primary tumor              </td><td>Female</td><td>[45-55[</td></tr>\n",
       "\t<tr><th scope=row>6</th><td>GENIE-VICC-103477</td><td>GENIE-VICC-103477-unk-1</td><td>40</td><td><span style=white-space:pre-wrap>MRLS  </span></td><td><span style=white-space:pre-wrap>Primary   </span></td><td>VICC-01-D2 </td><td><span style=white-space:pre-wrap>Soft Tissue Sarcoma       </span></td><td><span style=white-space:pre-wrap>Myxoid/Round-Cell Liposarcoma   </span></td><td><span style=white-space:pre-wrap>Primary tumor              </span></td><td><span style=white-space:pre-wrap>Male  </span></td><td><span style=white-space:pre-wrap>&lt;45    </span></td></tr>\n",
       "\t<tr><th scope=row>7</th><td>GENIE-VICC-104193</td><td>GENIE-VICC-104193-unk-1</td><td>55</td><td>IDC   </td><td>Metastasis</td><td>VICC-01-T5A</td><td>Breast Cancer             </td><td>Breast Invasive Ductal Carcinoma</td><td>Local recurrence           </td><td>Female</td><td>[55-65[</td></tr>\n",
       "</tbody>\n",
       "</table>\n"
      ],
      "text/latex": [
       "A data.frame: 6 × 11\n",
       "\\begin{tabular}{r|lllllllllll}\n",
       "  & PATIENT\\_ID & SAMPLE\\_ID & AGE\\_AT\\_SEQ\\_REPORT & ONCOTREE\\_CODE & SAMPLE\\_TYPE & SEQ\\_ASSAY\\_ID & CANCER\\_TYPE & CANCER\\_TYPE\\_DETAILED & SAMPLE\\_TYPE\\_DETAILED & SEX & age\\_interval\\\\\n",
       "  & <chr> & <chr> & <chr> & <chr> & <chr> & <chr> & <chr> & <chr> & <chr> & <chr> & <fct>\\\\\n",
       "\\hline\n",
       "\t2 & GENIE-VICC-102225 & GENIE-VICC-102225-unk-1 & 31 & READ   & Metastasis & VICC-01-T7  & Colorectal Cancer          & Rectal Adenocarcinoma            & Metastasis site unspecified & Female & <45    \\\\\n",
       "\t3 & GENIE-VICC-102424 & GENIE-VICC-102424-unk-1 & 63 & SCCNOS & Metastasis & VICC-01-T7  & Cancer of Unknown Primary  & Squamous Cell Carcinoma, NOS     & Metastasis site unspecified & Female & {[}55-65{[}\\\\\n",
       "\t4 & GENIE-VICC-102966 & GENIE-VICC-102966-unk-1 & 64 & LUAD   & Metastasis & VICC-01-T7  & Non-Small Cell Lung Cancer & Lung Adenocarcinoma              & Metastasis site unspecified & Male   & {[}55-65{[}\\\\\n",
       "\t5 & GENIE-VICC-103244 & GENIE-VICC-103244-unk-1 & 50 & IDC    & Primary    & VICC-01-T5A & Breast Cancer              & Breast Invasive Ductal Carcinoma & Primary tumor               & Female & {[}45-55{[}\\\\\n",
       "\t6 & GENIE-VICC-103477 & GENIE-VICC-103477-unk-1 & 40 & MRLS   & Primary    & VICC-01-D2  & Soft Tissue Sarcoma        & Myxoid/Round-Cell Liposarcoma    & Primary tumor               & Male   & <45    \\\\\n",
       "\t7 & GENIE-VICC-104193 & GENIE-VICC-104193-unk-1 & 55 & IDC    & Metastasis & VICC-01-T5A & Breast Cancer              & Breast Invasive Ductal Carcinoma & Local recurrence            & Female & {[}55-65{[}\\\\\n",
       "\\end{tabular}\n"
      ],
      "text/markdown": [
       "\n",
       "A data.frame: 6 × 11\n",
       "\n",
       "| <!--/--> | PATIENT_ID &lt;chr&gt; | SAMPLE_ID &lt;chr&gt; | AGE_AT_SEQ_REPORT &lt;chr&gt; | ONCOTREE_CODE &lt;chr&gt; | SAMPLE_TYPE &lt;chr&gt; | SEQ_ASSAY_ID &lt;chr&gt; | CANCER_TYPE &lt;chr&gt; | CANCER_TYPE_DETAILED &lt;chr&gt; | SAMPLE_TYPE_DETAILED &lt;chr&gt; | SEX &lt;chr&gt; | age_interval &lt;fct&gt; |\n",
       "|---|---|---|---|---|---|---|---|---|---|---|---|\n",
       "| 2 | GENIE-VICC-102225 | GENIE-VICC-102225-unk-1 | 31 | READ   | Metastasis | VICC-01-T7  | Colorectal Cancer          | Rectal Adenocarcinoma            | Metastasis site unspecified | Female | &lt;45     |\n",
       "| 3 | GENIE-VICC-102424 | GENIE-VICC-102424-unk-1 | 63 | SCCNOS | Metastasis | VICC-01-T7  | Cancer of Unknown Primary  | Squamous Cell Carcinoma, NOS     | Metastasis site unspecified | Female | [55-65[ |\n",
       "| 4 | GENIE-VICC-102966 | GENIE-VICC-102966-unk-1 | 64 | LUAD   | Metastasis | VICC-01-T7  | Non-Small Cell Lung Cancer | Lung Adenocarcinoma              | Metastasis site unspecified | Male   | [55-65[ |\n",
       "| 5 | GENIE-VICC-103244 | GENIE-VICC-103244-unk-1 | 50 | IDC    | Primary    | VICC-01-T5A | Breast Cancer              | Breast Invasive Ductal Carcinoma | Primary tumor               | Female | [45-55[ |\n",
       "| 6 | GENIE-VICC-103477 | GENIE-VICC-103477-unk-1 | 40 | MRLS   | Primary    | VICC-01-D2  | Soft Tissue Sarcoma        | Myxoid/Round-Cell Liposarcoma    | Primary tumor               | Male   | &lt;45     |\n",
       "| 7 | GENIE-VICC-104193 | GENIE-VICC-104193-unk-1 | 55 | IDC    | Metastasis | VICC-01-T5A | Breast Cancer              | Breast Invasive Ductal Carcinoma | Local recurrence            | Female | [55-65[ |\n",
       "\n"
      ],
      "text/plain": [
       "  PATIENT_ID        SAMPLE_ID               AGE_AT_SEQ_REPORT ONCOTREE_CODE\n",
       "2 GENIE-VICC-102225 GENIE-VICC-102225-unk-1 31                READ         \n",
       "3 GENIE-VICC-102424 GENIE-VICC-102424-unk-1 63                SCCNOS       \n",
       "4 GENIE-VICC-102966 GENIE-VICC-102966-unk-1 64                LUAD         \n",
       "5 GENIE-VICC-103244 GENIE-VICC-103244-unk-1 50                IDC          \n",
       "6 GENIE-VICC-103477 GENIE-VICC-103477-unk-1 40                MRLS         \n",
       "7 GENIE-VICC-104193 GENIE-VICC-104193-unk-1 55                IDC          \n",
       "  SAMPLE_TYPE SEQ_ASSAY_ID CANCER_TYPE               \n",
       "2 Metastasis  VICC-01-T7   Colorectal Cancer         \n",
       "3 Metastasis  VICC-01-T7   Cancer of Unknown Primary \n",
       "4 Metastasis  VICC-01-T7   Non-Small Cell Lung Cancer\n",
       "5 Primary     VICC-01-T5A  Breast Cancer             \n",
       "6 Primary     VICC-01-D2   Soft Tissue Sarcoma       \n",
       "7 Metastasis  VICC-01-T5A  Breast Cancer             \n",
       "  CANCER_TYPE_DETAILED             SAMPLE_TYPE_DETAILED        SEX   \n",
       "2 Rectal Adenocarcinoma            Metastasis site unspecified Female\n",
       "3 Squamous Cell Carcinoma, NOS     Metastasis site unspecified Female\n",
       "4 Lung Adenocarcinoma              Metastasis site unspecified Male  \n",
       "5 Breast Invasive Ductal Carcinoma Primary tumor               Female\n",
       "6 Myxoid/Round-Cell Liposarcoma    Primary tumor               Male  \n",
       "7 Breast Invasive Ductal Carcinoma Local recurrence            Female\n",
       "  age_interval\n",
       "2 <45         \n",
       "3 [55-65[     \n",
       "4 [55-65[     \n",
       "5 [45-55[     \n",
       "6 <45         \n",
       "7 [55-65[     "
      ]
     },
     "metadata": {},
     "output_type": "display_data"
    }
   ],
   "source": [
    "head(sample_data)"
   ]
  },
  {
   "cell_type": "code",
   "execution_count": 31,
   "id": "18111a2f",
   "metadata": {},
   "outputs": [],
   "source": [
    "# We save the results\n",
    "write.csv(n_age_cancer_interval, \"../../derived_data/cancer_specific_gene_weights/individuals_in_each_group.csv\", row.names=TRUE)"
   ]
  }
 ],
 "metadata": {
  "kernelspec": {
   "display_name": "R",
   "language": "R",
   "name": "ir"
  },
  "language_info": {
   "codemirror_mode": "r",
   "file_extension": ".r",
   "mimetype": "text/x-r-source",
   "name": "R",
   "pygments_lexer": "r",
   "version": "4.2.2"
  }
 },
 "nbformat": 4,
 "nbformat_minor": 5
}
