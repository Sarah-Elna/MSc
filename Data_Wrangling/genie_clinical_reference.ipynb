{
 "cells": [
  {
   "cell_type": "markdown",
   "id": "4d374c8e",
   "metadata": {},
   "source": [
    "# Genie clinical data"
   ]
  },
  {
   "cell_type": "markdown",
   "id": "242f2659",
   "metadata": {},
   "source": [
    "## Setup"
   ]
  },
  {
   "cell_type": "markdown",
   "id": "139e30e7",
   "metadata": {},
   "source": [
    "Loading packages"
   ]
  },
  {
   "cell_type": "code",
   "execution_count": 1,
   "id": "9a984d63",
   "metadata": {},
   "outputs": [
    {
     "name": "stderr",
     "output_type": "stream",
     "text": [
      "Warning message:\n",
      "“package ‘ggplot2’ was built under R version 4.2.3”\n",
      "Warning message:\n",
      "“package ‘dplyr’ was built under R version 4.2.3”\n",
      "\n",
      "Attaching package: ‘dplyr’\n",
      "\n",
      "\n",
      "The following objects are masked from ‘package:stats’:\n",
      "\n",
      "    filter, lag\n",
      "\n",
      "\n",
      "The following objects are masked from ‘package:base’:\n",
      "\n",
      "    intersect, setdiff, setequal, union\n",
      "\n",
      "\n"
     ]
    }
   ],
   "source": [
    "library(\"ggplot2\")\n",
    "library(\"dplyr\")"
   ]
  },
  {
   "cell_type": "markdown",
   "id": "cf7b2581",
   "metadata": {},
   "source": [
    "## Get data"
   ]
  },
  {
   "cell_type": "code",
   "execution_count": 2,
   "id": "9bd7abee",
   "metadata": {},
   "outputs": [],
   "source": [
    "patient_data <- read.table(\"../../data/genie_v15/data_clinical_patient.txt\", sep=\"\\t\", quote=\"\", head=TRUE)\n",
    "sample_data <- read.table(\"../../data/genie_v15/data_clinical_sample.txt\", sep=\"\\t\", quote=\"\", head=TRUE)"
   ]
  },
  {
   "cell_type": "markdown",
   "id": "ebcfe7d3",
   "metadata": {},
   "source": [
    "We start by examining the patient_data."
   ]
  },
  {
   "cell_type": "code",
   "execution_count": 3,
   "id": "b186945f",
   "metadata": {},
   "outputs": [
    {
     "data": {
      "text/html": [
       "<style>\n",
       ".list-inline {list-style: none; margin:0; padding: 0}\n",
       ".list-inline>li {display: inline-block}\n",
       ".list-inline>li:not(:last-child)::after {content: \"\\00b7\"; padding: 0 .5ex}\n",
       "</style>\n",
       "<ol class=list-inline><li>172005</li><li>10</li></ol>\n"
      ],
      "text/latex": [
       "\\begin{enumerate*}\n",
       "\\item 172005\n",
       "\\item 10\n",
       "\\end{enumerate*}\n"
      ],
      "text/markdown": [
       "1. 172005\n",
       "2. 10\n",
       "\n",
       "\n"
      ],
      "text/plain": [
       "[1] 172005     10"
      ]
     },
     "metadata": {},
     "output_type": "display_data"
    },
    {
     "data": {
      "text/html": [
       "172005"
      ],
      "text/latex": [
       "172005"
      ],
      "text/markdown": [
       "172005"
      ],
      "text/plain": [
       "[1] 172005"
      ]
     },
     "metadata": {},
     "output_type": "display_data"
    },
    {
     "data": {
      "text/html": [
       "<table class=\"dataframe\">\n",
       "<caption>A data.frame: 6 × 10</caption>\n",
       "<thead>\n",
       "\t<tr><th></th><th scope=col>PATIENT_ID</th><th scope=col>SEX</th><th scope=col>PRIMARY_RACE</th><th scope=col>ETHNICITY</th><th scope=col>CENTER</th><th scope=col>INT_CONTACT</th><th scope=col>INT_DOD</th><th scope=col>YEAR_CONTACT</th><th scope=col>DEAD</th><th scope=col>YEAR_DEATH</th></tr>\n",
       "\t<tr><th></th><th scope=col>&lt;chr&gt;</th><th scope=col>&lt;chr&gt;</th><th scope=col>&lt;chr&gt;</th><th scope=col>&lt;chr&gt;</th><th scope=col>&lt;chr&gt;</th><th scope=col>&lt;chr&gt;</th><th scope=col>&lt;chr&gt;</th><th scope=col>&lt;chr&gt;</th><th scope=col>&lt;chr&gt;</th><th scope=col>&lt;chr&gt;</th></tr>\n",
       "</thead>\n",
       "<tbody>\n",
       "\t<tr><th scope=row>1</th><td>GENIE-VICC-101416</td><td>Female</td><td>White  </td><td>Non-Spanish/non-Hispanic</td><td>VICC</td><td>19225</td><td>Not Applicable</td><td>2014</td><td>False</td><td>Not Applicable</td></tr>\n",
       "\t<tr><th scope=row>2</th><td>GENIE-VICC-102225</td><td>Female</td><td>White  </td><td>Non-Spanish/non-Hispanic</td><td>VICC</td><td>12057</td><td>12487         </td><td>2015</td><td>True </td><td>2017          </td></tr>\n",
       "\t<tr><th scope=row>3</th><td>GENIE-VICC-102424</td><td>Female</td><td>White  </td><td>Non-Spanish/non-Hispanic</td><td>VICC</td><td>23505</td><td>23625         </td><td>2016</td><td>True </td><td>2016          </td></tr>\n",
       "\t<tr><th scope=row>4</th><td>GENIE-VICC-102966</td><td>Male  </td><td>White  </td><td>Non-Spanish/non-Hispanic</td><td>VICC</td><td>23426</td><td>23430         </td><td>2015</td><td>True </td><td>2015          </td></tr>\n",
       "\t<tr><th scope=row>5</th><td>GENIE-VICC-103244</td><td>Female</td><td>Unknown</td><td>Unknown                 </td><td>VICC</td><td>18267</td><td>18311         </td><td>2014</td><td>True </td><td>2014          </td></tr>\n",
       "\t<tr><th scope=row>6</th><td>GENIE-VICC-103477</td><td>Male  </td><td>Unknown</td><td>Non-Spanish/non-Hispanic</td><td>VICC</td><td>14626</td><td>14646         </td><td>2014</td><td>True </td><td>2014          </td></tr>\n",
       "</tbody>\n",
       "</table>\n"
      ],
      "text/latex": [
       "A data.frame: 6 × 10\n",
       "\\begin{tabular}{r|llllllllll}\n",
       "  & PATIENT\\_ID & SEX & PRIMARY\\_RACE & ETHNICITY & CENTER & INT\\_CONTACT & INT\\_DOD & YEAR\\_CONTACT & DEAD & YEAR\\_DEATH\\\\\n",
       "  & <chr> & <chr> & <chr> & <chr> & <chr> & <chr> & <chr> & <chr> & <chr> & <chr>\\\\\n",
       "\\hline\n",
       "\t1 & GENIE-VICC-101416 & Female & White   & Non-Spanish/non-Hispanic & VICC & 19225 & Not Applicable & 2014 & False & Not Applicable\\\\\n",
       "\t2 & GENIE-VICC-102225 & Female & White   & Non-Spanish/non-Hispanic & VICC & 12057 & 12487          & 2015 & True  & 2017          \\\\\n",
       "\t3 & GENIE-VICC-102424 & Female & White   & Non-Spanish/non-Hispanic & VICC & 23505 & 23625          & 2016 & True  & 2016          \\\\\n",
       "\t4 & GENIE-VICC-102966 & Male   & White   & Non-Spanish/non-Hispanic & VICC & 23426 & 23430          & 2015 & True  & 2015          \\\\\n",
       "\t5 & GENIE-VICC-103244 & Female & Unknown & Unknown                  & VICC & 18267 & 18311          & 2014 & True  & 2014          \\\\\n",
       "\t6 & GENIE-VICC-103477 & Male   & Unknown & Non-Spanish/non-Hispanic & VICC & 14626 & 14646          & 2014 & True  & 2014          \\\\\n",
       "\\end{tabular}\n"
      ],
      "text/markdown": [
       "\n",
       "A data.frame: 6 × 10\n",
       "\n",
       "| <!--/--> | PATIENT_ID &lt;chr&gt; | SEX &lt;chr&gt; | PRIMARY_RACE &lt;chr&gt; | ETHNICITY &lt;chr&gt; | CENTER &lt;chr&gt; | INT_CONTACT &lt;chr&gt; | INT_DOD &lt;chr&gt; | YEAR_CONTACT &lt;chr&gt; | DEAD &lt;chr&gt; | YEAR_DEATH &lt;chr&gt; |\n",
       "|---|---|---|---|---|---|---|---|---|---|---|\n",
       "| 1 | GENIE-VICC-101416 | Female | White   | Non-Spanish/non-Hispanic | VICC | 19225 | Not Applicable | 2014 | False | Not Applicable |\n",
       "| 2 | GENIE-VICC-102225 | Female | White   | Non-Spanish/non-Hispanic | VICC | 12057 | 12487          | 2015 | True  | 2017           |\n",
       "| 3 | GENIE-VICC-102424 | Female | White   | Non-Spanish/non-Hispanic | VICC | 23505 | 23625          | 2016 | True  | 2016           |\n",
       "| 4 | GENIE-VICC-102966 | Male   | White   | Non-Spanish/non-Hispanic | VICC | 23426 | 23430          | 2015 | True  | 2015           |\n",
       "| 5 | GENIE-VICC-103244 | Female | Unknown | Unknown                  | VICC | 18267 | 18311          | 2014 | True  | 2014           |\n",
       "| 6 | GENIE-VICC-103477 | Male   | Unknown | Non-Spanish/non-Hispanic | VICC | 14626 | 14646          | 2014 | True  | 2014           |\n",
       "\n"
      ],
      "text/plain": [
       "  PATIENT_ID        SEX    PRIMARY_RACE ETHNICITY                CENTER\n",
       "1 GENIE-VICC-101416 Female White        Non-Spanish/non-Hispanic VICC  \n",
       "2 GENIE-VICC-102225 Female White        Non-Spanish/non-Hispanic VICC  \n",
       "3 GENIE-VICC-102424 Female White        Non-Spanish/non-Hispanic VICC  \n",
       "4 GENIE-VICC-102966 Male   White        Non-Spanish/non-Hispanic VICC  \n",
       "5 GENIE-VICC-103244 Female Unknown      Unknown                  VICC  \n",
       "6 GENIE-VICC-103477 Male   Unknown      Non-Spanish/non-Hispanic VICC  \n",
       "  INT_CONTACT INT_DOD        YEAR_CONTACT DEAD  YEAR_DEATH    \n",
       "1 19225       Not Applicable 2014         False Not Applicable\n",
       "2 12057       12487          2015         True  2017          \n",
       "3 23505       23625          2016         True  2016          \n",
       "4 23426       23430          2015         True  2015          \n",
       "5 18267       18311          2014         True  2014          \n",
       "6 14626       14646          2014         True  2014          "
      ]
     },
     "metadata": {},
     "output_type": "display_data"
    }
   ],
   "source": [
    "#number of rows and columnd\n",
    "dim(patient_data)\n",
    "# number of unique patient id\n",
    "length(unique(patient_data$PATIENT_ID))\n",
    "\n",
    "head(patient_data)"
   ]
  },
  {
   "cell_type": "markdown",
   "id": "392976e8",
   "metadata": {},
   "source": [
    "Then we can examine the sample data."
   ]
  },
  {
   "cell_type": "code",
   "execution_count": 4,
   "id": "c71a8a65",
   "metadata": {},
   "outputs": [
    {
     "data": {
      "text/html": [
       "<style>\n",
       ".list-inline {list-style: none; margin:0; padding: 0}\n",
       ".list-inline>li {display: inline-block}\n",
       ".list-inline>li:not(:last-child)::after {content: \"\\00b7\"; padding: 0 .5ex}\n",
       "</style>\n",
       "<ol class=list-inline><li>198041</li><li>9</li></ol>\n"
      ],
      "text/latex": [
       "\\begin{enumerate*}\n",
       "\\item 198041\n",
       "\\item 9\n",
       "\\end{enumerate*}\n"
      ],
      "text/markdown": [
       "1. 198041\n",
       "2. 9\n",
       "\n",
       "\n"
      ],
      "text/plain": [
       "[1] 198041      9"
      ]
     },
     "metadata": {},
     "output_type": "display_data"
    },
    {
     "data": {
      "text/html": [
       "198041"
      ],
      "text/latex": [
       "198041"
      ],
      "text/markdown": [
       "198041"
      ],
      "text/plain": [
       "[1] 198041"
      ]
     },
     "metadata": {},
     "output_type": "display_data"
    },
    {
     "data": {
      "text/html": [
       "<table class=\"dataframe\">\n",
       "<caption>A data.frame: 6 × 9</caption>\n",
       "<thead>\n",
       "\t<tr><th></th><th scope=col>PATIENT_ID</th><th scope=col>SAMPLE_ID</th><th scope=col>AGE_AT_SEQ_REPORT</th><th scope=col>ONCOTREE_CODE</th><th scope=col>SAMPLE_TYPE</th><th scope=col>SEQ_ASSAY_ID</th><th scope=col>CANCER_TYPE</th><th scope=col>CANCER_TYPE_DETAILED</th><th scope=col>SAMPLE_TYPE_DETAILED</th></tr>\n",
       "\t<tr><th></th><th scope=col>&lt;chr&gt;</th><th scope=col>&lt;chr&gt;</th><th scope=col>&lt;chr&gt;</th><th scope=col>&lt;chr&gt;</th><th scope=col>&lt;chr&gt;</th><th scope=col>&lt;chr&gt;</th><th scope=col>&lt;chr&gt;</th><th scope=col>&lt;chr&gt;</th><th scope=col>&lt;chr&gt;</th></tr>\n",
       "</thead>\n",
       "<tbody>\n",
       "\t<tr><th scope=row>1</th><td>GENIE-VICC-101416</td><td>GENIE-VICC-101416-unk-1</td><td>52</td><td>MAAP  </td><td>Primary   </td><td>VICC-01-T7 </td><td>Appendiceal Cancer        </td><td>Mucinous Adenocarcinoma of the Appendix</td><td>Primary tumor              </td></tr>\n",
       "\t<tr><th scope=row>2</th><td>GENIE-VICC-102225</td><td>GENIE-VICC-102225-unk-1</td><td>31</td><td>READ  </td><td>Metastasis</td><td>VICC-01-T7 </td><td>Colorectal Cancer         </td><td>Rectal Adenocarcinoma                  </td><td>Metastasis site unspecified</td></tr>\n",
       "\t<tr><th scope=row>3</th><td>GENIE-VICC-102424</td><td>GENIE-VICC-102424-unk-1</td><td>63</td><td>SCCNOS</td><td>Metastasis</td><td>VICC-01-T7 </td><td>Cancer of Unknown Primary </td><td>Squamous Cell Carcinoma, NOS           </td><td>Metastasis site unspecified</td></tr>\n",
       "\t<tr><th scope=row>4</th><td>GENIE-VICC-102966</td><td>GENIE-VICC-102966-unk-1</td><td>64</td><td>LUAD  </td><td>Metastasis</td><td>VICC-01-T7 </td><td>Non-Small Cell Lung Cancer</td><td>Lung Adenocarcinoma                    </td><td>Metastasis site unspecified</td></tr>\n",
       "\t<tr><th scope=row>5</th><td>GENIE-VICC-103244</td><td>GENIE-VICC-103244-unk-1</td><td>50</td><td>IDC   </td><td>Primary   </td><td>VICC-01-T5A</td><td>Breast Cancer             </td><td>Breast Invasive Ductal Carcinoma       </td><td>Primary tumor              </td></tr>\n",
       "\t<tr><th scope=row>6</th><td>GENIE-VICC-103477</td><td>GENIE-VICC-103477-unk-1</td><td>40</td><td>MRLS  </td><td>Primary   </td><td>VICC-01-D2 </td><td>Soft Tissue Sarcoma       </td><td>Myxoid/Round-Cell Liposarcoma          </td><td>Primary tumor              </td></tr>\n",
       "</tbody>\n",
       "</table>\n"
      ],
      "text/latex": [
       "A data.frame: 6 × 9\n",
       "\\begin{tabular}{r|lllllllll}\n",
       "  & PATIENT\\_ID & SAMPLE\\_ID & AGE\\_AT\\_SEQ\\_REPORT & ONCOTREE\\_CODE & SAMPLE\\_TYPE & SEQ\\_ASSAY\\_ID & CANCER\\_TYPE & CANCER\\_TYPE\\_DETAILED & SAMPLE\\_TYPE\\_DETAILED\\\\\n",
       "  & <chr> & <chr> & <chr> & <chr> & <chr> & <chr> & <chr> & <chr> & <chr>\\\\\n",
       "\\hline\n",
       "\t1 & GENIE-VICC-101416 & GENIE-VICC-101416-unk-1 & 52 & MAAP   & Primary    & VICC-01-T7  & Appendiceal Cancer         & Mucinous Adenocarcinoma of the Appendix & Primary tumor              \\\\\n",
       "\t2 & GENIE-VICC-102225 & GENIE-VICC-102225-unk-1 & 31 & READ   & Metastasis & VICC-01-T7  & Colorectal Cancer          & Rectal Adenocarcinoma                   & Metastasis site unspecified\\\\\n",
       "\t3 & GENIE-VICC-102424 & GENIE-VICC-102424-unk-1 & 63 & SCCNOS & Metastasis & VICC-01-T7  & Cancer of Unknown Primary  & Squamous Cell Carcinoma, NOS            & Metastasis site unspecified\\\\\n",
       "\t4 & GENIE-VICC-102966 & GENIE-VICC-102966-unk-1 & 64 & LUAD   & Metastasis & VICC-01-T7  & Non-Small Cell Lung Cancer & Lung Adenocarcinoma                     & Metastasis site unspecified\\\\\n",
       "\t5 & GENIE-VICC-103244 & GENIE-VICC-103244-unk-1 & 50 & IDC    & Primary    & VICC-01-T5A & Breast Cancer              & Breast Invasive Ductal Carcinoma        & Primary tumor              \\\\\n",
       "\t6 & GENIE-VICC-103477 & GENIE-VICC-103477-unk-1 & 40 & MRLS   & Primary    & VICC-01-D2  & Soft Tissue Sarcoma        & Myxoid/Round-Cell Liposarcoma           & Primary tumor              \\\\\n",
       "\\end{tabular}\n"
      ],
      "text/markdown": [
       "\n",
       "A data.frame: 6 × 9\n",
       "\n",
       "| <!--/--> | PATIENT_ID &lt;chr&gt; | SAMPLE_ID &lt;chr&gt; | AGE_AT_SEQ_REPORT &lt;chr&gt; | ONCOTREE_CODE &lt;chr&gt; | SAMPLE_TYPE &lt;chr&gt; | SEQ_ASSAY_ID &lt;chr&gt; | CANCER_TYPE &lt;chr&gt; | CANCER_TYPE_DETAILED &lt;chr&gt; | SAMPLE_TYPE_DETAILED &lt;chr&gt; |\n",
       "|---|---|---|---|---|---|---|---|---|---|\n",
       "| 1 | GENIE-VICC-101416 | GENIE-VICC-101416-unk-1 | 52 | MAAP   | Primary    | VICC-01-T7  | Appendiceal Cancer         | Mucinous Adenocarcinoma of the Appendix | Primary tumor               |\n",
       "| 2 | GENIE-VICC-102225 | GENIE-VICC-102225-unk-1 | 31 | READ   | Metastasis | VICC-01-T7  | Colorectal Cancer          | Rectal Adenocarcinoma                   | Metastasis site unspecified |\n",
       "| 3 | GENIE-VICC-102424 | GENIE-VICC-102424-unk-1 | 63 | SCCNOS | Metastasis | VICC-01-T7  | Cancer of Unknown Primary  | Squamous Cell Carcinoma, NOS            | Metastasis site unspecified |\n",
       "| 4 | GENIE-VICC-102966 | GENIE-VICC-102966-unk-1 | 64 | LUAD   | Metastasis | VICC-01-T7  | Non-Small Cell Lung Cancer | Lung Adenocarcinoma                     | Metastasis site unspecified |\n",
       "| 5 | GENIE-VICC-103244 | GENIE-VICC-103244-unk-1 | 50 | IDC    | Primary    | VICC-01-T5A | Breast Cancer              | Breast Invasive Ductal Carcinoma        | Primary tumor               |\n",
       "| 6 | GENIE-VICC-103477 | GENIE-VICC-103477-unk-1 | 40 | MRLS   | Primary    | VICC-01-D2  | Soft Tissue Sarcoma        | Myxoid/Round-Cell Liposarcoma           | Primary tumor               |\n",
       "\n"
      ],
      "text/plain": [
       "  PATIENT_ID        SAMPLE_ID               AGE_AT_SEQ_REPORT ONCOTREE_CODE\n",
       "1 GENIE-VICC-101416 GENIE-VICC-101416-unk-1 52                MAAP         \n",
       "2 GENIE-VICC-102225 GENIE-VICC-102225-unk-1 31                READ         \n",
       "3 GENIE-VICC-102424 GENIE-VICC-102424-unk-1 63                SCCNOS       \n",
       "4 GENIE-VICC-102966 GENIE-VICC-102966-unk-1 64                LUAD         \n",
       "5 GENIE-VICC-103244 GENIE-VICC-103244-unk-1 50                IDC          \n",
       "6 GENIE-VICC-103477 GENIE-VICC-103477-unk-1 40                MRLS         \n",
       "  SAMPLE_TYPE SEQ_ASSAY_ID CANCER_TYPE               \n",
       "1 Primary     VICC-01-T7   Appendiceal Cancer        \n",
       "2 Metastasis  VICC-01-T7   Colorectal Cancer         \n",
       "3 Metastasis  VICC-01-T7   Cancer of Unknown Primary \n",
       "4 Metastasis  VICC-01-T7   Non-Small Cell Lung Cancer\n",
       "5 Primary     VICC-01-T5A  Breast Cancer             \n",
       "6 Primary     VICC-01-D2   Soft Tissue Sarcoma       \n",
       "  CANCER_TYPE_DETAILED                    SAMPLE_TYPE_DETAILED       \n",
       "1 Mucinous Adenocarcinoma of the Appendix Primary tumor              \n",
       "2 Rectal Adenocarcinoma                   Metastasis site unspecified\n",
       "3 Squamous Cell Carcinoma, NOS            Metastasis site unspecified\n",
       "4 Lung Adenocarcinoma                     Metastasis site unspecified\n",
       "5 Breast Invasive Ductal Carcinoma        Primary tumor              \n",
       "6 Myxoid/Round-Cell Liposarcoma           Primary tumor              "
      ]
     },
     "metadata": {},
     "output_type": "display_data"
    }
   ],
   "source": [
    "#number of rows and columns\n",
    "dim(sample_data)\n",
    "# number of unique patient id\n",
    "length(unique(sample_data$SAMPLE_ID))\n",
    "\n",
    "head(sample_data)"
   ]
  },
  {
   "cell_type": "markdown",
   "id": "2e68d0ed",
   "metadata": {},
   "source": [
    "Having everything in one table would be nice, so we merge by Patient_ID."
   ]
  },
  {
   "cell_type": "code",
   "execution_count": 5,
   "id": "f5193b2e",
   "metadata": {},
   "outputs": [
    {
     "data": {
      "text/html": [
       "198041"
      ],
      "text/latex": [
       "198041"
      ],
      "text/markdown": [
       "198041"
      ],
      "text/plain": [
       "[1] 198041"
      ]
     },
     "metadata": {},
     "output_type": "display_data"
    },
    {
     "data": {
      "text/html": [
       "172005"
      ],
      "text/latex": [
       "172005"
      ],
      "text/markdown": [
       "172005"
      ],
      "text/plain": [
       "[1] 172005"
      ]
     },
     "metadata": {},
     "output_type": "display_data"
    },
    {
     "data": {
      "text/html": [
       "18"
      ],
      "text/latex": [
       "18"
      ],
      "text/markdown": [
       "18"
      ],
      "text/plain": [
       "[1] 18"
      ]
     },
     "metadata": {},
     "output_type": "display_data"
    },
    {
     "data": {
      "text/html": [
       "<table class=\"dataframe\">\n",
       "<caption>A data.frame: 6 × 18</caption>\n",
       "<thead>\n",
       "\t<tr><th></th><th scope=col>PATIENT_ID</th><th scope=col>SEX</th><th scope=col>PRIMARY_RACE</th><th scope=col>ETHNICITY</th><th scope=col>CENTER</th><th scope=col>INT_CONTACT</th><th scope=col>INT_DOD</th><th scope=col>YEAR_CONTACT</th><th scope=col>DEAD</th><th scope=col>YEAR_DEATH</th><th scope=col>SAMPLE_ID</th><th scope=col>AGE_AT_SEQ_REPORT</th><th scope=col>ONCOTREE_CODE</th><th scope=col>SAMPLE_TYPE</th><th scope=col>SEQ_ASSAY_ID</th><th scope=col>CANCER_TYPE</th><th scope=col>CANCER_TYPE_DETAILED</th><th scope=col>SAMPLE_TYPE_DETAILED</th></tr>\n",
       "\t<tr><th></th><th scope=col>&lt;chr&gt;</th><th scope=col>&lt;chr&gt;</th><th scope=col>&lt;chr&gt;</th><th scope=col>&lt;chr&gt;</th><th scope=col>&lt;chr&gt;</th><th scope=col>&lt;chr&gt;</th><th scope=col>&lt;chr&gt;</th><th scope=col>&lt;chr&gt;</th><th scope=col>&lt;chr&gt;</th><th scope=col>&lt;chr&gt;</th><th scope=col>&lt;chr&gt;</th><th scope=col>&lt;chr&gt;</th><th scope=col>&lt;chr&gt;</th><th scope=col>&lt;chr&gt;</th><th scope=col>&lt;chr&gt;</th><th scope=col>&lt;chr&gt;</th><th scope=col>&lt;chr&gt;</th><th scope=col>&lt;chr&gt;</th></tr>\n",
       "</thead>\n",
       "<tbody>\n",
       "\t<tr><th scope=row>1</th><td>GENIE-CHOP-C1002819</td><td>Female</td><td>White</td><td>Non-Spanish/non-Hispanic</td><td>CHOP</td><td><span style=white-space:pre-wrap>&lt;6570  </span></td><td>Unknown</td><td><span style=white-space:pre-wrap>2022   </span></td><td>False</td><td>Unknown</td><td>GENIE-CHOP-C1002819-BS79B4V9EZ</td><td>&lt;18</td><td>UNKNOWN</td><td><span style=white-space:pre-wrap>Primary   </span></td><td>CHOP-STNGS</td><td><span style=white-space:pre-wrap>UNKNOWN        </span></td><td><span style=white-space:pre-wrap>UNKNOWN               </span></td><td><span style=white-space:pre-wrap>Primary tumor   </span></td></tr>\n",
       "\t<tr><th scope=row>2</th><td>GENIE-CHOP-C1002942</td><td>Female</td><td>White</td><td>Non-Spanish/non-Hispanic</td><td>CHOP</td><td>Unknown</td><td><span style=white-space:pre-wrap>&lt;6570  </span></td><td>Unknown</td><td>True </td><td><span style=white-space:pre-wrap>2018   </span></td><td>GENIE-CHOP-C1002942-BS7MEH2Z48</td><td>&lt;18</td><td><span style=white-space:pre-wrap>AML    </span></td><td>Metastasis</td><td>CHOP-HEMEP</td><td><span style=white-space:pre-wrap>Leukemia       </span></td><td>Acute Myeloid Leukemia</td><td>Local recurrence</td></tr>\n",
       "\t<tr><th scope=row>3</th><td>GENIE-CHOP-C1002942</td><td>Female</td><td>White</td><td>Non-Spanish/non-Hispanic</td><td>CHOP</td><td>Unknown</td><td><span style=white-space:pre-wrap>&lt;6570  </span></td><td>Unknown</td><td>True </td><td><span style=white-space:pre-wrap>2018   </span></td><td>GENIE-CHOP-C1002942-BS3YSSSEPK</td><td>&lt;18</td><td><span style=white-space:pre-wrap>AML    </span></td><td>Metastasis</td><td>CHOP-HEMEP</td><td><span style=white-space:pre-wrap>Leukemia       </span></td><td>Acute Myeloid Leukemia</td><td>Local recurrence</td></tr>\n",
       "\t<tr><th scope=row>4</th><td>GENIE-CHOP-C1003065</td><td><span style=white-space:pre-wrap>Male  </span></td><td>White</td><td>Non-Spanish/non-Hispanic</td><td>CHOP</td><td><span style=white-space:pre-wrap>&lt;6570  </span></td><td>Unknown</td><td><span style=white-space:pre-wrap>2022   </span></td><td>FALSE</td><td>Unknown</td><td>GENIE-CHOP-C1003065-BS66P79BWX</td><td>&lt;18</td><td><span style=white-space:pre-wrap>MBL    </span></td><td><span style=white-space:pre-wrap>Primary   </span></td><td>CHOP-STNGS</td><td>Embryonal Tumor</td><td><span style=white-space:pre-wrap>Medulloblastoma       </span></td><td><span style=white-space:pre-wrap>Primary tumor   </span></td></tr>\n",
       "\t<tr><th scope=row>5</th><td>GENIE-CHOP-C1003065</td><td><span style=white-space:pre-wrap>Male  </span></td><td>White</td><td>Non-Spanish/non-Hispanic</td><td>CHOP</td><td><span style=white-space:pre-wrap>&lt;6570  </span></td><td>Unknown</td><td><span style=white-space:pre-wrap>2022   </span></td><td>FALSE</td><td>Unknown</td><td>GENIE-CHOP-C1003065-BSTECFMMGC</td><td>&lt;18</td><td><span style=white-space:pre-wrap>MBL    </span></td><td><span style=white-space:pre-wrap>Primary   </span></td><td>CHOP-STNGS</td><td>Embryonal Tumor</td><td><span style=white-space:pre-wrap>Medulloblastoma       </span></td><td><span style=white-space:pre-wrap>Primary tumor   </span></td></tr>\n",
       "\t<tr><th scope=row>6</th><td>GENIE-CHOP-C1003188</td><td>Female</td><td>White</td><td>Non-Spanish/non-Hispanic</td><td>CHOP</td><td><span style=white-space:pre-wrap>7224   </span></td><td>Unknown</td><td><span style=white-space:pre-wrap>2022   </span></td><td>FALSE</td><td>Unknown</td><td>GENIE-CHOP-C1003188-BSHKNH1HNP</td><td>&lt;18</td><td><span style=white-space:pre-wrap>MBL    </span></td><td><span style=white-space:pre-wrap>Primary   </span></td><td>CHOP-STNGS</td><td>Embryonal Tumor</td><td><span style=white-space:pre-wrap>Medulloblastoma       </span></td><td><span style=white-space:pre-wrap>Primary tumor   </span></td></tr>\n",
       "</tbody>\n",
       "</table>\n"
      ],
      "text/latex": [
       "A data.frame: 6 × 18\n",
       "\\begin{tabular}{r|llllllllllllllllll}\n",
       "  & PATIENT\\_ID & SEX & PRIMARY\\_RACE & ETHNICITY & CENTER & INT\\_CONTACT & INT\\_DOD & YEAR\\_CONTACT & DEAD & YEAR\\_DEATH & SAMPLE\\_ID & AGE\\_AT\\_SEQ\\_REPORT & ONCOTREE\\_CODE & SAMPLE\\_TYPE & SEQ\\_ASSAY\\_ID & CANCER\\_TYPE & CANCER\\_TYPE\\_DETAILED & SAMPLE\\_TYPE\\_DETAILED\\\\\n",
       "  & <chr> & <chr> & <chr> & <chr> & <chr> & <chr> & <chr> & <chr> & <chr> & <chr> & <chr> & <chr> & <chr> & <chr> & <chr> & <chr> & <chr> & <chr>\\\\\n",
       "\\hline\n",
       "\t1 & GENIE-CHOP-C1002819 & Female & White & Non-Spanish/non-Hispanic & CHOP & <6570   & Unknown & 2022    & False & Unknown & GENIE-CHOP-C1002819-BS79B4V9EZ & <18 & UNKNOWN & Primary    & CHOP-STNGS & UNKNOWN         & UNKNOWN                & Primary tumor   \\\\\n",
       "\t2 & GENIE-CHOP-C1002942 & Female & White & Non-Spanish/non-Hispanic & CHOP & Unknown & <6570   & Unknown & True  & 2018    & GENIE-CHOP-C1002942-BS7MEH2Z48 & <18 & AML     & Metastasis & CHOP-HEMEP & Leukemia        & Acute Myeloid Leukemia & Local recurrence\\\\\n",
       "\t3 & GENIE-CHOP-C1002942 & Female & White & Non-Spanish/non-Hispanic & CHOP & Unknown & <6570   & Unknown & True  & 2018    & GENIE-CHOP-C1002942-BS3YSSSEPK & <18 & AML     & Metastasis & CHOP-HEMEP & Leukemia        & Acute Myeloid Leukemia & Local recurrence\\\\\n",
       "\t4 & GENIE-CHOP-C1003065 & Male   & White & Non-Spanish/non-Hispanic & CHOP & <6570   & Unknown & 2022    & FALSE & Unknown & GENIE-CHOP-C1003065-BS66P79BWX & <18 & MBL     & Primary    & CHOP-STNGS & Embryonal Tumor & Medulloblastoma        & Primary tumor   \\\\\n",
       "\t5 & GENIE-CHOP-C1003065 & Male   & White & Non-Spanish/non-Hispanic & CHOP & <6570   & Unknown & 2022    & FALSE & Unknown & GENIE-CHOP-C1003065-BSTECFMMGC & <18 & MBL     & Primary    & CHOP-STNGS & Embryonal Tumor & Medulloblastoma        & Primary tumor   \\\\\n",
       "\t6 & GENIE-CHOP-C1003188 & Female & White & Non-Spanish/non-Hispanic & CHOP & 7224    & Unknown & 2022    & FALSE & Unknown & GENIE-CHOP-C1003188-BSHKNH1HNP & <18 & MBL     & Primary    & CHOP-STNGS & Embryonal Tumor & Medulloblastoma        & Primary tumor   \\\\\n",
       "\\end{tabular}\n"
      ],
      "text/markdown": [
       "\n",
       "A data.frame: 6 × 18\n",
       "\n",
       "| <!--/--> | PATIENT_ID &lt;chr&gt; | SEX &lt;chr&gt; | PRIMARY_RACE &lt;chr&gt; | ETHNICITY &lt;chr&gt; | CENTER &lt;chr&gt; | INT_CONTACT &lt;chr&gt; | INT_DOD &lt;chr&gt; | YEAR_CONTACT &lt;chr&gt; | DEAD &lt;chr&gt; | YEAR_DEATH &lt;chr&gt; | SAMPLE_ID &lt;chr&gt; | AGE_AT_SEQ_REPORT &lt;chr&gt; | ONCOTREE_CODE &lt;chr&gt; | SAMPLE_TYPE &lt;chr&gt; | SEQ_ASSAY_ID &lt;chr&gt; | CANCER_TYPE &lt;chr&gt; | CANCER_TYPE_DETAILED &lt;chr&gt; | SAMPLE_TYPE_DETAILED &lt;chr&gt; |\n",
       "|---|---|---|---|---|---|---|---|---|---|---|---|---|---|---|---|---|---|---|\n",
       "| 1 | GENIE-CHOP-C1002819 | Female | White | Non-Spanish/non-Hispanic | CHOP | &lt;6570   | Unknown | 2022    | False | Unknown | GENIE-CHOP-C1002819-BS79B4V9EZ | &lt;18 | UNKNOWN | Primary    | CHOP-STNGS | UNKNOWN         | UNKNOWN                | Primary tumor    |\n",
       "| 2 | GENIE-CHOP-C1002942 | Female | White | Non-Spanish/non-Hispanic | CHOP | Unknown | &lt;6570   | Unknown | True  | 2018    | GENIE-CHOP-C1002942-BS7MEH2Z48 | &lt;18 | AML     | Metastasis | CHOP-HEMEP | Leukemia        | Acute Myeloid Leukemia | Local recurrence |\n",
       "| 3 | GENIE-CHOP-C1002942 | Female | White | Non-Spanish/non-Hispanic | CHOP | Unknown | &lt;6570   | Unknown | True  | 2018    | GENIE-CHOP-C1002942-BS3YSSSEPK | &lt;18 | AML     | Metastasis | CHOP-HEMEP | Leukemia        | Acute Myeloid Leukemia | Local recurrence |\n",
       "| 4 | GENIE-CHOP-C1003065 | Male   | White | Non-Spanish/non-Hispanic | CHOP | &lt;6570   | Unknown | 2022    | FALSE | Unknown | GENIE-CHOP-C1003065-BS66P79BWX | &lt;18 | MBL     | Primary    | CHOP-STNGS | Embryonal Tumor | Medulloblastoma        | Primary tumor    |\n",
       "| 5 | GENIE-CHOP-C1003065 | Male   | White | Non-Spanish/non-Hispanic | CHOP | &lt;6570   | Unknown | 2022    | FALSE | Unknown | GENIE-CHOP-C1003065-BSTECFMMGC | &lt;18 | MBL     | Primary    | CHOP-STNGS | Embryonal Tumor | Medulloblastoma        | Primary tumor    |\n",
       "| 6 | GENIE-CHOP-C1003188 | Female | White | Non-Spanish/non-Hispanic | CHOP | 7224    | Unknown | 2022    | FALSE | Unknown | GENIE-CHOP-C1003188-BSHKNH1HNP | &lt;18 | MBL     | Primary    | CHOP-STNGS | Embryonal Tumor | Medulloblastoma        | Primary tumor    |\n",
       "\n"
      ],
      "text/plain": [
       "  PATIENT_ID          SEX    PRIMARY_RACE ETHNICITY                CENTER\n",
       "1 GENIE-CHOP-C1002819 Female White        Non-Spanish/non-Hispanic CHOP  \n",
       "2 GENIE-CHOP-C1002942 Female White        Non-Spanish/non-Hispanic CHOP  \n",
       "3 GENIE-CHOP-C1002942 Female White        Non-Spanish/non-Hispanic CHOP  \n",
       "4 GENIE-CHOP-C1003065 Male   White        Non-Spanish/non-Hispanic CHOP  \n",
       "5 GENIE-CHOP-C1003065 Male   White        Non-Spanish/non-Hispanic CHOP  \n",
       "6 GENIE-CHOP-C1003188 Female White        Non-Spanish/non-Hispanic CHOP  \n",
       "  INT_CONTACT INT_DOD YEAR_CONTACT DEAD  YEAR_DEATH\n",
       "1 <6570       Unknown 2022         False Unknown   \n",
       "2 Unknown     <6570   Unknown      True  2018      \n",
       "3 Unknown     <6570   Unknown      True  2018      \n",
       "4 <6570       Unknown 2022         FALSE Unknown   \n",
       "5 <6570       Unknown 2022         FALSE Unknown   \n",
       "6 7224        Unknown 2022         FALSE Unknown   \n",
       "  SAMPLE_ID                      AGE_AT_SEQ_REPORT ONCOTREE_CODE SAMPLE_TYPE\n",
       "1 GENIE-CHOP-C1002819-BS79B4V9EZ <18               UNKNOWN       Primary    \n",
       "2 GENIE-CHOP-C1002942-BS7MEH2Z48 <18               AML           Metastasis \n",
       "3 GENIE-CHOP-C1002942-BS3YSSSEPK <18               AML           Metastasis \n",
       "4 GENIE-CHOP-C1003065-BS66P79BWX <18               MBL           Primary    \n",
       "5 GENIE-CHOP-C1003065-BSTECFMMGC <18               MBL           Primary    \n",
       "6 GENIE-CHOP-C1003188-BSHKNH1HNP <18               MBL           Primary    \n",
       "  SEQ_ASSAY_ID CANCER_TYPE     CANCER_TYPE_DETAILED   SAMPLE_TYPE_DETAILED\n",
       "1 CHOP-STNGS   UNKNOWN         UNKNOWN                Primary tumor       \n",
       "2 CHOP-HEMEP   Leukemia        Acute Myeloid Leukemia Local recurrence    \n",
       "3 CHOP-HEMEP   Leukemia        Acute Myeloid Leukemia Local recurrence    \n",
       "4 CHOP-STNGS   Embryonal Tumor Medulloblastoma        Primary tumor       \n",
       "5 CHOP-STNGS   Embryonal Tumor Medulloblastoma        Primary tumor       \n",
       "6 CHOP-STNGS   Embryonal Tumor Medulloblastoma        Primary tumor       "
      ]
     },
     "metadata": {},
     "output_type": "display_data"
    }
   ],
   "source": [
    "full_table <- merge(patient_data, sample_data, by='PATIENT_ID')\n",
    "\n",
    "#number of rows\n",
    "nrow(full_table)\n",
    "# number of unique patient id\n",
    "length(unique(full_table[[\"PATIENT_ID\"]]))\n",
    "# number of columns\n",
    "ncol(full_table)\n",
    "\n",
    "head(full_table)"
   ]
  },
  {
   "cell_type": "code",
   "execution_count": 6,
   "id": "d1cc13e4",
   "metadata": {},
   "outputs": [],
   "source": [
    "full_table <- as.data.frame(full_table)"
   ]
  },
  {
   "cell_type": "markdown",
   "id": "47aa53ed",
   "metadata": {},
   "source": [
    "Now that we have the data merged, we can examine some basic aspects of the data."
   ]
  },
  {
   "cell_type": "code",
   "execution_count": 7,
   "id": "07fcba5e",
   "metadata": {},
   "outputs": [
    {
     "data": {
      "text/plain": [
       "\n",
       " Female    Male   Other Unknown \n",
       " 104828   92313       3     897 "
      ]
     },
     "metadata": {},
     "output_type": "display_data"
    },
    {
     "data": {
      "image/png": "[encoded data removed]",
      "text/plain": [
       "plot without title"
      ]
     },
     "metadata": {
      "image/png": {
       "height": 420,
       "width": 420
      }
     },
     "output_type": "display_data"
    }
   ],
   "source": [
    "ggplot(full_table, aes(x=SEX)) + geom_bar() + scale_x_discrete(guide = guide_axis(angle = -45))\n",
    "\n",
    "table(full_table$SEX)"
   ]
  },
  {
   "cell_type": "markdown",
   "id": "4bcad3bc",
   "metadata": {},
   "source": [
    "There are around 100.000 Male and Female, and 900 Other/Unknown."
   ]
  },
  {
   "cell_type": "code",
   "execution_count": 8,
   "id": "c14ab168",
   "metadata": {},
   "outputs": [
    {
     "data": {
      "text/plain": [
       "\n",
       "           Asian            Black  Native American   Not Applicable \n",
       "           11530            11632              382               50 \n",
       "   Not Collected            Other Pacific Islander          Unknown \n",
       "            7668            10107              175            15380 \n",
       "           White \n",
       "          141117 "
      ]
     },
     "metadata": {},
     "output_type": "display_data"
    },
    {
     "data": {
      "image/png": "[encoded data removed]",
      "text/plain": [
       "plot without title"
      ]
     },
     "metadata": {
      "image/png": {
       "height": 420,
       "width": 420
      }
     },
     "output_type": "display_data"
    }
   ],
   "source": [
    "ggplot(full_table, aes(x=PRIMARY_RACE)) + geom_bar() + scale_x_discrete(guide = guide_axis(angle = -45))\n",
    "\n",
    "table(full_table$PRIMARY_RACE)"
   ]
  },
  {
   "cell_type": "markdown",
   "id": "e38f3fff",
   "metadata": {},
   "source": [
    "The races seem to be very skewed, with a high overrepresentation of White, and many unidentified (Unkown/Other/Not Collected/Not Applicable).\n",
    "\n",
    "* White - 141117\n",
    "* Asian - 11530\n",
    "* Black - 11632\n",
    "* Native American - 382\n",
    "* Other Pacific Islander - 175\n",
    "* Unkown/Other/Not Collected/Not Applicable - 33205"
   ]
  },
  {
   "cell_type": "code",
   "execution_count": 9,
   "id": "8571f96c",
   "metadata": {},
   "outputs": [
    {
     "data": {
      "image/png": "[encoded data removed]",
      "text/plain": [
       "plot without title"
      ]
     },
     "metadata": {
      "image/png": {
       "height": 420,
       "width": 420
      }
     },
     "output_type": "display_data"
    }
   ],
   "source": [
    "ggplot(full_table, aes(x=CENTER)) + geom_bar() + scale_x_discrete(guide = guide_axis(angle = -45))"
   ]
  },
  {
   "cell_type": "code",
   "execution_count": 10,
   "id": "c755f372",
   "metadata": {},
   "outputs": [
    {
     "data": {
      "text/plain": [
       "\n",
       "                      False         FALSE Not Collected  Not Released \n",
       "         3852         51964         61212           939           502 \n",
       "         True          TRUE       Unknown \n",
       "        35167         42548          1857 "
      ]
     },
     "metadata": {},
     "output_type": "display_data"
    },
    {
     "data": {
      "image/png": "[encoded data removed]",
      "text/plain": [
       "plot without title"
      ]
     },
     "metadata": {
      "image/png": {
       "height": 420,
       "width": 420
      }
     },
     "output_type": "display_data"
    }
   ],
   "source": [
    "ggplot(full_table, aes(x=DEAD)) + geom_bar() + scale_x_discrete(guide = guide_axis(angle = -45))\n",
    "\n",
    "table(full_table$DEAD)"
   ]
  },
  {
   "cell_type": "markdown",
   "id": "4818b42a",
   "metadata": {},
   "source": [
    "This needs to be unified in True/False"
   ]
  },
  {
   "cell_type": "code",
   "execution_count": 11,
   "id": "01a5a5a3",
   "metadata": {},
   "outputs": [
    {
     "data": {
      "image/png": "[encoded data removed]",
      "text/plain": [
       "plot without title"
      ]
     },
     "metadata": {
      "image/png": {
       "height": 420,
       "width": 420
      }
     },
     "output_type": "display_data"
    }
   ],
   "source": [
    "ggplot(full_table, aes(x=AGE_AT_SEQ_REPORT)) + geom_bar() + scale_x_discrete(guide = guide_axis(angle = -90))"
   ]
  },
  {
   "cell_type": "code",
   "execution_count": 12,
   "id": "6438f18b",
   "metadata": {},
   "outputs": [
    {
     "data": {
      "image/png": "[encoded data removed]",
      "text/plain": [
       "plot without title"
      ]
     },
     "metadata": {
      "image/png": {
       "height": 420,
       "width": 420
      }
     },
     "output_type": "display_data"
    }
   ],
   "source": [
    "ggplot(full_table, aes(x=SAMPLE_TYPE)) + geom_bar() + scale_x_discrete(guide = guide_axis(angle = -45))"
   ]
  },
  {
   "cell_type": "code",
   "execution_count": 13,
   "id": "a14c1b42",
   "metadata": {},
   "outputs": [
    {
     "data": {
      "image/png": "[encoded data removed]",
      "text/plain": [
       "plot without title"
      ]
     },
     "metadata": {
      "image/png": {
       "height": 420,
       "width": 420
      }
     },
     "output_type": "display_data"
    }
   ],
   "source": [
    "ggplot(full_table, aes(x=SAMPLE_TYPE_DETAILED)) + geom_bar() + scale_x_discrete(guide = guide_axis(angle = -45))"
   ]
  },
  {
   "cell_type": "code",
   "execution_count": 14,
   "id": "b48af5a0",
   "metadata": {},
   "outputs": [
    {
     "data": {
      "image/png": "[encoded data removed]",
      "text/plain": [
       "plot without title"
      ]
     },
     "metadata": {
      "image/png": {
       "height": 420,
       "width": 420
      }
     },
     "output_type": "display_data"
    }
   ],
   "source": [
    "ggplot(full_table, aes(x=CANCER_TYPE)) + geom_bar() + scale_x_discrete(guide = guide_axis(angle = -90))"
   ]
  },
  {
   "cell_type": "markdown",
   "id": "51de733d",
   "metadata": {},
   "source": [
    "## Data Wrangling"
   ]
  },
  {
   "cell_type": "markdown",
   "id": "71e26e60",
   "metadata": {},
   "source": [
    "I want the data to be represented in a uniform way. I want Other/Unknown and the like will be replaced with NA, and TRUE/True or FALSE/False will be only written in one way. For age, I want it as an integer, and therefore replace '<18' with 0 and '>89' with 100. I also want to rename the columns, but that is more of an asthetic preference. Finally, I want to create two new columns, one for 'Child'/'Young'/'Midlle_Aged'/'Old' and one in five year intervals."
   ]
  },
  {
   "cell_type": "markdown",
   "id": "6dbb6321",
   "metadata": {},
   "source": [
    "### Reference table"
   ]
  },
  {
   "cell_type": "code",
   "execution_count": 15,
   "id": "f24ee7ac",
   "metadata": {},
   "outputs": [],
   "source": [
    "colnames(full_table)[colnames(full_table) == 'PATIENT_ID'] <- 'patient_id'\n",
    "colnames(full_table)[colnames(full_table) == 'SEX'] <- 'sex'\n",
    "colnames(full_table)[colnames(full_table) == 'PRIMARY_RACE'] <- 'race'\n",
    "colnames(full_table)[colnames(full_table) == 'CENTER'] <- 'center'\n",
    "colnames(full_table)[colnames(full_table) == 'DEAD'] <- 'dead'\n",
    "colnames(full_table)[colnames(full_table) == 'SAMPLE_ID'] <- 'sample_id'\n",
    "colnames(full_table)[colnames(full_table) == 'AGE_AT_SEQ_REPORT'] <- 'age'\n",
    "colnames(full_table)[colnames(full_table) == 'ONCOTREE_CODE'] <- 'oncotree_code'\n",
    "colnames(full_table)[colnames(full_table) == 'SAMPLE_TYPE'] <- 'sample_type'\n",
    "colnames(full_table)[colnames(full_table) == 'SEQ_ASSAY_ID'] <- 'sequence_assay_ID'\n",
    "colnames(full_table)[colnames(full_table) == 'CANCER_TYPE'] <- 'cancer_type'\n",
    "colnames(full_table)[colnames(full_table) == 'SAMPLE_TYPE_DETAILED'] <- 'sample_type_detail'"
   ]
  },
  {
   "cell_type": "code",
   "execution_count": 16,
   "id": "d8ffee37",
   "metadata": {},
   "outputs": [],
   "source": [
    "full_table <- full_table[c('patient_id',\n",
    "                           'sex',\n",
    "                           'race',\n",
    "                           'center',\n",
    "                           'dead',\n",
    "                           'sample_id',\n",
    "                           'age',\n",
    "                           'oncotree_code',\n",
    "                           'sample_type',\n",
    "                           'sequence_assay_ID',\n",
    "                           'cancer_type',\n",
    "                           'sample_type_detail')]"
   ]
  },
  {
   "cell_type": "markdown",
   "id": "06e3e2bb",
   "metadata": {},
   "source": [
    "### Sex"
   ]
  },
  {
   "cell_type": "code",
   "execution_count": 17,
   "id": "af1c44a6",
   "metadata": {},
   "outputs": [
    {
     "data": {
      "text/plain": [
       "sex\n",
       "Female   Male \n",
       "104828  92313 "
      ]
     },
     "metadata": {},
     "output_type": "display_data"
    }
   ],
   "source": [
    "full_table['sex'][full_table['sex'] == 'Unknown'] <- NA\n",
    "full_table['sex'][full_table['sex'] == 'Other'] <- NA\n",
    "table(full_table['sex'])"
   ]
  },
  {
   "cell_type": "markdown",
   "id": "9690624d",
   "metadata": {},
   "source": [
    "### Race"
   ]
  },
  {
   "cell_type": "code",
   "execution_count": 18,
   "id": "d54ac111",
   "metadata": {},
   "outputs": [
    {
     "data": {
      "text/plain": [
       "race\n",
       "           Asian            Black  Native American Pacific Islander \n",
       "           11530            11632              382              175 \n",
       "           White \n",
       "          141117 "
      ]
     },
     "metadata": {},
     "output_type": "display_data"
    }
   ],
   "source": [
    "full_table['race'][full_table['race'] == 'Unknown'] <- NA\n",
    "full_table['race'][full_table['race'] == 'Other'] <- NA\n",
    "full_table['race'][full_table['race'] == 'Not Collected'] <- NA\n",
    "full_table['race'][full_table['race'] == 'Not Applicable'] <- NA\n",
    "table(full_table['race'])"
   ]
  },
  {
   "cell_type": "markdown",
   "id": "a59a206a",
   "metadata": {},
   "source": [
    "### Dead"
   ]
  },
  {
   "cell_type": "code",
   "execution_count": 19,
   "id": "c7423a0c",
   "metadata": {},
   "outputs": [],
   "source": [
    "full_table['dead'][full_table['dead'] == 'TRUE'] <- 'True'\n",
    "full_table['dead'][full_table['dead'] == 'FALSE'] <- 'False'\n",
    "full_table['dead'][full_table['dead'] == ''] <- NA\n",
    "full_table['dead'][full_table['dead'] == 'Not Collected'] <- NA\n",
    "full_table['dead'][full_table['dead'] == 'Not Released'] <- NA\n",
    "full_table['dead'][full_table['dead'] == 'Unknown'] <- NA"
   ]
  },
  {
   "cell_type": "code",
   "execution_count": 20,
   "id": "d00bc631",
   "metadata": {},
   "outputs": [
    {
     "data": {
      "text/plain": [
       "dead\n",
       " False   True \n",
       "113176  77715 "
      ]
     },
     "metadata": {},
     "output_type": "display_data"
    }
   ],
   "source": [
    "table(full_table['dead'])"
   ]
  },
  {
   "cell_type": "markdown",
   "id": "5633fcc1",
   "metadata": {},
   "source": [
    "### Age"
   ]
  },
  {
   "cell_type": "code",
   "execution_count": 21,
   "id": "51e82459",
   "metadata": {},
   "outputs": [],
   "source": [
    "full_table['age'][full_table['age'] == '<18'] <- '0'\n",
    "full_table['age'][full_table['age'] == '>89'] <- '100'\n",
    "full_table['age'][full_table['age'] == 'Unknown'] <- NA\n",
    "\n",
    "full_table$age <- as.integer(full_table$age) "
   ]
  },
  {
   "cell_type": "code",
   "execution_count": 22,
   "id": "b191e796",
   "metadata": {},
   "outputs": [
    {
     "data": {
      "text/plain": [
       "age\n",
       "   0   17   18   19   20   21   22   23   24   25   26   27   28   29   30   31 \n",
       "5739    5 3146  429  387  403  420  394  446  514  561  555  639  676  729  836 \n",
       "  32   33   34   35   36   37   38   39   40   41   42   43   44   45   46   47 \n",
       " 869  962 1023 1107 1129 1245 1295 1353 1487 1526 1624 1760 1797 2062 2203 2273 \n",
       "  48   49   50   51   52   53   54   55   56   57   58   59   60   61   62   63 \n",
       "2541 2800 2877 3237 3396 3570 3774 4126 4276 4425 4736 4864 5144 5230 5356 5430 \n",
       "  64   65   66   67   68   69   70   71   72   73   74   75   76   77   78   79 \n",
       "5626 5883 5917 5927 5838 5694 5552 5247 5169 5005 4645 4159 3830 3416 3135 2835 \n",
       "  80   81   82   83   84   85   86   87   88  100 \n",
       "2289 2018 1814 1490 1349 1025  881  654  515 1517 "
      ]
     },
     "metadata": {},
     "output_type": "display_data"
    }
   ],
   "source": [
    "table(full_table['age'])"
   ]
  },
  {
   "cell_type": "markdown",
   "id": "afa88558",
   "metadata": {},
   "source": [
    "### Oncotree Code"
   ]
  },
  {
   "cell_type": "code",
   "execution_count": 23,
   "id": "8d31fa3b",
   "metadata": {},
   "outputs": [],
   "source": [
    "full_table['oncotree_code'][full_table['oncotree_code'] == 'UNKNOWN'] <- NA "
   ]
  },
  {
   "cell_type": "markdown",
   "id": "75ec949c",
   "metadata": {},
   "source": [
    "### Cancer type"
   ]
  },
  {
   "cell_type": "code",
   "execution_count": 24,
   "id": "902b0fbd",
   "metadata": {},
   "outputs": [],
   "source": [
    "full_table['cancer_type'][full_table['cancer_type'] == 'UNKNOWN'] <- NA"
   ]
  },
  {
   "cell_type": "markdown",
   "id": "f646be1f",
   "metadata": {},
   "source": [
    "### Population\n",
    "\n",
    "The centers where the data was collected are not all American, some are in Europe. Because of this, we add a column to our data that adds the short-hand AMR to Admixed American populations, for all centers, and then changes the population value to NFE (Non finish Europeans) for the centers in:\n",
    "* NKI - Netherlands\n",
    "* GRCC - France\n",
    "* UHN - Canada\n",
    "* CRUK - England\n",
    "* VHIO - Spain"
   ]
  },
  {
   "cell_type": "code",
   "execution_count": 25,
   "id": "94569247",
   "metadata": {},
   "outputs": [],
   "source": [
    "full_table['population'] <- 'AMR'\n",
    "full_table['population'][full_table['center'] == 'NKI'] <- 'NFE'\n",
    "full_table['population'][full_table['center'] == 'GRCC'] <- 'NFE'\n",
    "full_table['population'][full_table['center'] == 'CRUK'] <- 'NFE'\n",
    "full_table['population'][full_table['center'] == 'VHIO'] <- 'NFE'"
   ]
  },
  {
   "cell_type": "markdown",
   "id": "0727684c",
   "metadata": {},
   "source": [
    "### Age Group"
   ]
  },
  {
   "cell_type": "code",
   "execution_count": 26,
   "id": "0fcc1465",
   "metadata": {},
   "outputs": [
    {
     "data": {
      "text/plain": [
       "\n",
       "      Child Middle Aged         Old       Young \n",
       "       6979       84653       85804       20605 "
      ]
     },
     "metadata": {},
     "output_type": "display_data"
    }
   ],
   "source": [
    "full_table$age_group <- 'Child'\n",
    "full_table$age_group[full_table$age>=18] <- 'Young'\n",
    "full_table$age_group[full_table$age>=41] <- 'Middle Aged'\n",
    "full_table$age_group[full_table$age>=65] <- 'Old'\n",
    "\n",
    "table(full_table$age_group)"
   ]
  },
  {
   "cell_type": "markdown",
   "id": "c87107ec",
   "metadata": {},
   "source": [
    "### Age Interval"
   ]
  },
  {
   "cell_type": "code",
   "execution_count": 27,
   "id": "d95afe0e",
   "metadata": {},
   "outputs": [
    {
     "data": {
      "text/plain": [
       "\n",
       "[45-55[ [55-65[ [65-75[     <45    >=70 \n",
       "  28733   49213   54877   34291   30927 "
      ]
     },
     "metadata": {},
     "output_type": "display_data"
    }
   ],
   "source": [
    "full_table$age_interval <- '<45'\n",
    "full_table$age_interval[full_table$age>=45] <- '[45-55['\n",
    "full_table$age_interval[full_table$age>=55] <- '[55-65['\n",
    "full_table$age_interval[full_table$age>=65] <- '[65-75['\n",
    "full_table$age_interval[full_table$age>=75] <- '>=70'\n",
    "\n",
    "table(full_table$age_interval)"
   ]
  },
  {
   "cell_type": "code",
   "execution_count": 28,
   "id": "3c34bffc",
   "metadata": {},
   "outputs": [
    {
     "data": {
      "text/html": [
       "<table class=\"dataframe\">\n",
       "<caption>A data.frame: 6 × 15</caption>\n",
       "<thead>\n",
       "\t<tr><th></th><th scope=col>patient_id</th><th scope=col>sex</th><th scope=col>race</th><th scope=col>center</th><th scope=col>dead</th><th scope=col>sample_id</th><th scope=col>age</th><th scope=col>oncotree_code</th><th scope=col>sample_type</th><th scope=col>sequence_assay_ID</th><th scope=col>cancer_type</th><th scope=col>sample_type_detail</th><th scope=col>population</th><th scope=col>age_group</th><th scope=col>age_interval</th></tr>\n",
       "\t<tr><th></th><th scope=col>&lt;chr&gt;</th><th scope=col>&lt;chr&gt;</th><th scope=col>&lt;chr&gt;</th><th scope=col>&lt;chr&gt;</th><th scope=col>&lt;chr&gt;</th><th scope=col>&lt;chr&gt;</th><th scope=col>&lt;int&gt;</th><th scope=col>&lt;chr&gt;</th><th scope=col>&lt;chr&gt;</th><th scope=col>&lt;chr&gt;</th><th scope=col>&lt;chr&gt;</th><th scope=col>&lt;chr&gt;</th><th scope=col>&lt;chr&gt;</th><th scope=col>&lt;chr&gt;</th><th scope=col>&lt;chr&gt;</th></tr>\n",
       "</thead>\n",
       "<tbody>\n",
       "\t<tr><th scope=row>1</th><td>GENIE-CHOP-C1002819</td><td>Female</td><td>White</td><td>CHOP</td><td>False</td><td>GENIE-CHOP-C1002819-BS79B4V9EZ</td><td>0</td><td>NA </td><td><span style=white-space:pre-wrap>Primary   </span></td><td>CHOP-STNGS</td><td><span style=white-space:pre-wrap>NA             </span></td><td><span style=white-space:pre-wrap>Primary tumor   </span></td><td>AMR</td><td>Child</td><td>&lt;45</td></tr>\n",
       "\t<tr><th scope=row>2</th><td>GENIE-CHOP-C1002942</td><td>Female</td><td>White</td><td>CHOP</td><td>True </td><td>GENIE-CHOP-C1002942-BS7MEH2Z48</td><td>0</td><td>AML</td><td>Metastasis</td><td>CHOP-HEMEP</td><td><span style=white-space:pre-wrap>Leukemia       </span></td><td>Local recurrence</td><td>AMR</td><td>Child</td><td>&lt;45</td></tr>\n",
       "\t<tr><th scope=row>3</th><td>GENIE-CHOP-C1002942</td><td>Female</td><td>White</td><td>CHOP</td><td>True </td><td>GENIE-CHOP-C1002942-BS3YSSSEPK</td><td>0</td><td>AML</td><td>Metastasis</td><td>CHOP-HEMEP</td><td><span style=white-space:pre-wrap>Leukemia       </span></td><td>Local recurrence</td><td>AMR</td><td>Child</td><td>&lt;45</td></tr>\n",
       "\t<tr><th scope=row>4</th><td>GENIE-CHOP-C1003065</td><td><span style=white-space:pre-wrap>Male  </span></td><td>White</td><td>CHOP</td><td>False</td><td>GENIE-CHOP-C1003065-BS66P79BWX</td><td>0</td><td>MBL</td><td><span style=white-space:pre-wrap>Primary   </span></td><td>CHOP-STNGS</td><td>Embryonal Tumor</td><td><span style=white-space:pre-wrap>Primary tumor   </span></td><td>AMR</td><td>Child</td><td>&lt;45</td></tr>\n",
       "\t<tr><th scope=row>5</th><td>GENIE-CHOP-C1003065</td><td><span style=white-space:pre-wrap>Male  </span></td><td>White</td><td>CHOP</td><td>False</td><td>GENIE-CHOP-C1003065-BSTECFMMGC</td><td>0</td><td>MBL</td><td><span style=white-space:pre-wrap>Primary   </span></td><td>CHOP-STNGS</td><td>Embryonal Tumor</td><td><span style=white-space:pre-wrap>Primary tumor   </span></td><td>AMR</td><td>Child</td><td>&lt;45</td></tr>\n",
       "\t<tr><th scope=row>6</th><td>GENIE-CHOP-C1003188</td><td>Female</td><td>White</td><td>CHOP</td><td>False</td><td>GENIE-CHOP-C1003188-BSHKNH1HNP</td><td>0</td><td>MBL</td><td><span style=white-space:pre-wrap>Primary   </span></td><td>CHOP-STNGS</td><td>Embryonal Tumor</td><td><span style=white-space:pre-wrap>Primary tumor   </span></td><td>AMR</td><td>Child</td><td>&lt;45</td></tr>\n",
       "</tbody>\n",
       "</table>\n"
      ],
      "text/latex": [
       "A data.frame: 6 × 15\n",
       "\\begin{tabular}{r|lllllllllllllll}\n",
       "  & patient\\_id & sex & race & center & dead & sample\\_id & age & oncotree\\_code & sample\\_type & sequence\\_assay\\_ID & cancer\\_type & sample\\_type\\_detail & population & age\\_group & age\\_interval\\\\\n",
       "  & <chr> & <chr> & <chr> & <chr> & <chr> & <chr> & <int> & <chr> & <chr> & <chr> & <chr> & <chr> & <chr> & <chr> & <chr>\\\\\n",
       "\\hline\n",
       "\t1 & GENIE-CHOP-C1002819 & Female & White & CHOP & False & GENIE-CHOP-C1002819-BS79B4V9EZ & 0 & NA  & Primary    & CHOP-STNGS & NA              & Primary tumor    & AMR & Child & <45\\\\\n",
       "\t2 & GENIE-CHOP-C1002942 & Female & White & CHOP & True  & GENIE-CHOP-C1002942-BS7MEH2Z48 & 0 & AML & Metastasis & CHOP-HEMEP & Leukemia        & Local recurrence & AMR & Child & <45\\\\\n",
       "\t3 & GENIE-CHOP-C1002942 & Female & White & CHOP & True  & GENIE-CHOP-C1002942-BS3YSSSEPK & 0 & AML & Metastasis & CHOP-HEMEP & Leukemia        & Local recurrence & AMR & Child & <45\\\\\n",
       "\t4 & GENIE-CHOP-C1003065 & Male   & White & CHOP & False & GENIE-CHOP-C1003065-BS66P79BWX & 0 & MBL & Primary    & CHOP-STNGS & Embryonal Tumor & Primary tumor    & AMR & Child & <45\\\\\n",
       "\t5 & GENIE-CHOP-C1003065 & Male   & White & CHOP & False & GENIE-CHOP-C1003065-BSTECFMMGC & 0 & MBL & Primary    & CHOP-STNGS & Embryonal Tumor & Primary tumor    & AMR & Child & <45\\\\\n",
       "\t6 & GENIE-CHOP-C1003188 & Female & White & CHOP & False & GENIE-CHOP-C1003188-BSHKNH1HNP & 0 & MBL & Primary    & CHOP-STNGS & Embryonal Tumor & Primary tumor    & AMR & Child & <45\\\\\n",
       "\\end{tabular}\n"
      ],
      "text/markdown": [
       "\n",
       "A data.frame: 6 × 15\n",
       "\n",
       "| <!--/--> | patient_id &lt;chr&gt; | sex &lt;chr&gt; | race &lt;chr&gt; | center &lt;chr&gt; | dead &lt;chr&gt; | sample_id &lt;chr&gt; | age &lt;int&gt; | oncotree_code &lt;chr&gt; | sample_type &lt;chr&gt; | sequence_assay_ID &lt;chr&gt; | cancer_type &lt;chr&gt; | sample_type_detail &lt;chr&gt; | population &lt;chr&gt; | age_group &lt;chr&gt; | age_interval &lt;chr&gt; |\n",
       "|---|---|---|---|---|---|---|---|---|---|---|---|---|---|---|---|\n",
       "| 1 | GENIE-CHOP-C1002819 | Female | White | CHOP | False | GENIE-CHOP-C1002819-BS79B4V9EZ | 0 | NA  | Primary    | CHOP-STNGS | NA              | Primary tumor    | AMR | Child | &lt;45 |\n",
       "| 2 | GENIE-CHOP-C1002942 | Female | White | CHOP | True  | GENIE-CHOP-C1002942-BS7MEH2Z48 | 0 | AML | Metastasis | CHOP-HEMEP | Leukemia        | Local recurrence | AMR | Child | &lt;45 |\n",
       "| 3 | GENIE-CHOP-C1002942 | Female | White | CHOP | True  | GENIE-CHOP-C1002942-BS3YSSSEPK | 0 | AML | Metastasis | CHOP-HEMEP | Leukemia        | Local recurrence | AMR | Child | &lt;45 |\n",
       "| 4 | GENIE-CHOP-C1003065 | Male   | White | CHOP | False | GENIE-CHOP-C1003065-BS66P79BWX | 0 | MBL | Primary    | CHOP-STNGS | Embryonal Tumor | Primary tumor    | AMR | Child | &lt;45 |\n",
       "| 5 | GENIE-CHOP-C1003065 | Male   | White | CHOP | False | GENIE-CHOP-C1003065-BSTECFMMGC | 0 | MBL | Primary    | CHOP-STNGS | Embryonal Tumor | Primary tumor    | AMR | Child | &lt;45 |\n",
       "| 6 | GENIE-CHOP-C1003188 | Female | White | CHOP | False | GENIE-CHOP-C1003188-BSHKNH1HNP | 0 | MBL | Primary    | CHOP-STNGS | Embryonal Tumor | Primary tumor    | AMR | Child | &lt;45 |\n",
       "\n"
      ],
      "text/plain": [
       "  patient_id          sex    race  center dead  sample_id                     \n",
       "1 GENIE-CHOP-C1002819 Female White CHOP   False GENIE-CHOP-C1002819-BS79B4V9EZ\n",
       "2 GENIE-CHOP-C1002942 Female White CHOP   True  GENIE-CHOP-C1002942-BS7MEH2Z48\n",
       "3 GENIE-CHOP-C1002942 Female White CHOP   True  GENIE-CHOP-C1002942-BS3YSSSEPK\n",
       "4 GENIE-CHOP-C1003065 Male   White CHOP   False GENIE-CHOP-C1003065-BS66P79BWX\n",
       "5 GENIE-CHOP-C1003065 Male   White CHOP   False GENIE-CHOP-C1003065-BSTECFMMGC\n",
       "6 GENIE-CHOP-C1003188 Female White CHOP   False GENIE-CHOP-C1003188-BSHKNH1HNP\n",
       "  age oncotree_code sample_type sequence_assay_ID cancer_type    \n",
       "1 0   NA            Primary     CHOP-STNGS        NA             \n",
       "2 0   AML           Metastasis  CHOP-HEMEP        Leukemia       \n",
       "3 0   AML           Metastasis  CHOP-HEMEP        Leukemia       \n",
       "4 0   MBL           Primary     CHOP-STNGS        Embryonal Tumor\n",
       "5 0   MBL           Primary     CHOP-STNGS        Embryonal Tumor\n",
       "6 0   MBL           Primary     CHOP-STNGS        Embryonal Tumor\n",
       "  sample_type_detail population age_group age_interval\n",
       "1 Primary tumor      AMR        Child     <45         \n",
       "2 Local recurrence   AMR        Child     <45         \n",
       "3 Local recurrence   AMR        Child     <45         \n",
       "4 Primary tumor      AMR        Child     <45         \n",
       "5 Primary tumor      AMR        Child     <45         \n",
       "6 Primary tumor      AMR        Child     <45         "
      ]
     },
     "metadata": {},
     "output_type": "display_data"
    }
   ],
   "source": [
    "head(full_table)"
   ]
  },
  {
   "cell_type": "code",
   "execution_count": 29,
   "id": "46fd12fc",
   "metadata": {},
   "outputs": [
    {
     "name": "stderr",
     "output_type": "stream",
     "text": [
      "Warning message:\n",
      "“\u001b[1m\u001b[22mRemoved 1235 rows containing non-finite outside the scale range (`stat_boxplot()`).”\n",
      "Warning message:\n",
      "“\u001b[1m\u001b[22mRemoved 65218 rows containing missing values or values outside the scale range (`stat_boxplot()`).”\n"
     ]
    },
    {
     "data": {
      "image/png": "[encoded data removed]",
      "text/plain": [
       "plot without title"
      ]
     },
     "metadata": {
      "image/png": {
       "height": 420,
       "width": 420
      }
     },
     "output_type": "display_data"
    },
    {
     "data": {
      "image/png": "[encoded data removed]",
      "text/plain": [
       "plot without title"
      ]
     },
     "metadata": {
      "image/png": {
       "height": 420,
       "width": 420
      }
     },
     "output_type": "display_data"
    }
   ],
   "source": [
    "ggplot(full_table, aes(age_group, age)) + geom_boxplot() +\n",
    " scale_x_discrete(limits = c('Child', 'Young', 'Middle Aged', 'Old'))\n",
    "\n",
    "ggplot(full_table, aes(age_interval, age)) + geom_boxplot() +\n",
    " scale_x_discrete(limits = c('<20','[45-55[','[55-65[','[65-75[','>=75'))"
   ]
  },
  {
   "cell_type": "markdown",
   "id": "dcbab912",
   "metadata": {},
   "source": [
    "### NA"
   ]
  },
  {
   "cell_type": "markdown",
   "id": "60e0e1e0",
   "metadata": {},
   "source": [
    "How many datapoints are left after removing NA from the sex column?"
   ]
  },
  {
   "cell_type": "code",
   "execution_count": 30,
   "id": "181b38c2",
   "metadata": {},
   "outputs": [],
   "source": [
    "ref_table_no_na <- na.omit(full_table)"
   ]
  },
  {
   "cell_type": "code",
   "execution_count": 31,
   "id": "7dbe049d",
   "metadata": {},
   "outputs": [
    {
     "data": {
      "text/html": [
       "198041"
      ],
      "text/latex": [
       "198041"
      ],
      "text/markdown": [
       "198041"
      ],
      "text/plain": [
       "[1] 198041"
      ]
     },
     "metadata": {},
     "output_type": "display_data"
    },
    {
     "data": {
      "text/html": [
       "172005"
      ],
      "text/latex": [
       "172005"
      ],
      "text/markdown": [
       "172005"
      ],
      "text/plain": [
       "[1] 172005"
      ]
     },
     "metadata": {},
     "output_type": "display_data"
    },
    {
     "data": {
      "text/html": [
       "157017"
      ],
      "text/latex": [
       "157017"
      ],
      "text/markdown": [
       "157017"
      ],
      "text/plain": [
       "[1] 157017"
      ]
     },
     "metadata": {},
     "output_type": "display_data"
    },
    {
     "data": {
      "text/html": [
       "135859"
      ],
      "text/latex": [
       "135859"
      ],
      "text/markdown": [
       "135859"
      ],
      "text/plain": [
       "[1] 135859"
      ]
     },
     "metadata": {},
     "output_type": "display_data"
    }
   ],
   "source": [
    "nrow(full_table)\n",
    "length(unique(full_table$patient_id))\n",
    "\n",
    "nrow(ref_table_no_na)\n",
    "length(unique(ref_table_no_na$patient_id))"
   ]
  },
  {
   "cell_type": "code",
   "execution_count": 32,
   "id": "aa309fa4",
   "metadata": {},
   "outputs": [],
   "source": [
    "cancer_of_interest <- c('Bladder Cancer',\n",
    "                        'Breast Cancer',\n",
    "                        'Colorectal Cancer',\n",
    "                        'Endometrial Cancer',\n",
    "                        'Esophagogastric Cancer',\n",
    "                        'Glioma',\n",
    "                        'Head and Neck Cancer',\n",
    "                        'Hepatobiliary Cancer',\n",
    "                        'Mature B-Cell Neoplasms',\n",
    "                        'Melanoma',\n",
    "                        'Non-Small Cell Lung Cancer',\n",
    "                        'Ovarian Cancer',\n",
    "                        'Pancreatic Cancer',\n",
    "                        'Prostate Cancer',\n",
    "                        'Renal Cell Carcinoma',\n",
    "                        'Soft Tissue Sarcoma',\n",
    "                        'Thyroid Cancer')\n",
    "\n",
    "sex_of_interest <- c('Female', 'Male')\n",
    "sample_of_interest <- c('Primary', 'Metastasis')"
   ]
  },
  {
   "cell_type": "code",
   "execution_count": 33,
   "id": "6fda28a5",
   "metadata": {
    "scrolled": false
   },
   "outputs": [
    {
     "data": {
      "text/html": [
       "109530"
      ],
      "text/latex": [
       "109530"
      ],
      "text/markdown": [
       "109530"
      ],
      "text/plain": [
       "[1] 109530"
      ]
     },
     "metadata": {},
     "output_type": "display_data"
    },
    {
     "data": {
      "text/html": [
       "99536"
      ],
      "text/latex": [
       "99536"
      ],
      "text/markdown": [
       "99536"
      ],
      "text/plain": [
       "[1] 99536"
      ]
     },
     "metadata": {},
     "output_type": "display_data"
    }
   ],
   "source": [
    "test <- ref_table_no_na %>% filter(cancer_type %in% cancer_of_interest)\n",
    "test <- test %>% filter(sex %in% sex_of_interest)\n",
    "test <- test %>% filter(sample_type %in% sample_of_interest)\n",
    "\n",
    "nrow(test)\n",
    "length(unique(test$patient_id))\n",
    "\n",
    "#test %>% group_by(cancer_type, sex, sample_type) %>% summarise(n=n())\n",
    "\n",
    "#ref_table_no_na %>% filter(sex %in% sex_of_interest) %>% filter(sample_type %in% sample_of_interest) %>% group_by(sex, sample_type) %>% summarise(n=n())"
   ]
  },
  {
   "cell_type": "code",
   "execution_count": 34,
   "id": "b8938a8a",
   "metadata": {},
   "outputs": [
    {
     "data": {
      "text/html": [
       "<table class=\"dataframe\">\n",
       "<caption>A tibble: 18 × 2</caption>\n",
       "<thead>\n",
       "\t<tr><th scope=col>cancer_type</th><th scope=col>n</th></tr>\n",
       "\t<tr><th scope=col>&lt;chr&gt;</th><th scope=col>&lt;int&gt;</th></tr>\n",
       "</thead>\n",
       "<tbody>\n",
       "\t<tr><td>Bladder Cancer            </td><td> 3827</td></tr>\n",
       "\t<tr><td>Breast Cancer             </td><td>10380</td></tr>\n",
       "\t<tr><td>Cancer of Unknown Primary </td><td> 3352</td></tr>\n",
       "\t<tr><td>Colorectal Cancer         </td><td>13011</td></tr>\n",
       "\t<tr><td>Endometrial Cancer        </td><td> 4743</td></tr>\n",
       "\t<tr><td>Esophagogastric Cancer    </td><td> 4035</td></tr>\n",
       "\t<tr><td>Glioma                    </td><td> 7666</td></tr>\n",
       "\t<tr><td>Head and Neck Cancer      </td><td> 1757</td></tr>\n",
       "\t<tr><td>Hepatobiliary Cancer      </td><td> 2861</td></tr>\n",
       "\t<tr><td>Mature B-Cell Neoplasms   </td><td> 2835</td></tr>\n",
       "\t<tr><td>Melanoma                  </td><td> 4974</td></tr>\n",
       "\t<tr><td>Non-Small Cell Lung Cancer</td><td>19011</td></tr>\n",
       "\t<tr><td>Ovarian Cancer            </td><td> 5347</td></tr>\n",
       "\t<tr><td>Pancreatic Cancer         </td><td> 6635</td></tr>\n",
       "\t<tr><td>Prostate Cancer           </td><td> 4942</td></tr>\n",
       "\t<tr><td>Renal Cell Carcinoma      </td><td> 2212</td></tr>\n",
       "\t<tr><td>Soft Tissue Sarcoma       </td><td> 3956</td></tr>\n",
       "\t<tr><td>Thyroid Cancer            </td><td> 2033</td></tr>\n",
       "</tbody>\n",
       "</table>\n"
      ],
      "text/latex": [
       "A tibble: 18 × 2\n",
       "\\begin{tabular}{ll}\n",
       " cancer\\_type & n\\\\\n",
       " <chr> & <int>\\\\\n",
       "\\hline\n",
       "\t Bladder Cancer             &  3827\\\\\n",
       "\t Breast Cancer              & 10380\\\\\n",
       "\t Cancer of Unknown Primary  &  3352\\\\\n",
       "\t Colorectal Cancer          & 13011\\\\\n",
       "\t Endometrial Cancer         &  4743\\\\\n",
       "\t Esophagogastric Cancer     &  4035\\\\\n",
       "\t Glioma                     &  7666\\\\\n",
       "\t Head and Neck Cancer       &  1757\\\\\n",
       "\t Hepatobiliary Cancer       &  2861\\\\\n",
       "\t Mature B-Cell Neoplasms    &  2835\\\\\n",
       "\t Melanoma                   &  4974\\\\\n",
       "\t Non-Small Cell Lung Cancer & 19011\\\\\n",
       "\t Ovarian Cancer             &  5347\\\\\n",
       "\t Pancreatic Cancer          &  6635\\\\\n",
       "\t Prostate Cancer            &  4942\\\\\n",
       "\t Renal Cell Carcinoma       &  2212\\\\\n",
       "\t Soft Tissue Sarcoma        &  3956\\\\\n",
       "\t Thyroid Cancer             &  2033\\\\\n",
       "\\end{tabular}\n"
      ],
      "text/markdown": [
       "\n",
       "A tibble: 18 × 2\n",
       "\n",
       "| cancer_type &lt;chr&gt; | n &lt;int&gt; |\n",
       "|---|---|\n",
       "| Bladder Cancer             |  3827 |\n",
       "| Breast Cancer              | 10380 |\n",
       "| Cancer of Unknown Primary  |  3352 |\n",
       "| Colorectal Cancer          | 13011 |\n",
       "| Endometrial Cancer         |  4743 |\n",
       "| Esophagogastric Cancer     |  4035 |\n",
       "| Glioma                     |  7666 |\n",
       "| Head and Neck Cancer       |  1757 |\n",
       "| Hepatobiliary Cancer       |  2861 |\n",
       "| Mature B-Cell Neoplasms    |  2835 |\n",
       "| Melanoma                   |  4974 |\n",
       "| Non-Small Cell Lung Cancer | 19011 |\n",
       "| Ovarian Cancer             |  5347 |\n",
       "| Pancreatic Cancer          |  6635 |\n",
       "| Prostate Cancer            |  4942 |\n",
       "| Renal Cell Carcinoma       |  2212 |\n",
       "| Soft Tissue Sarcoma        |  3956 |\n",
       "| Thyroid Cancer             |  2033 |\n",
       "\n"
      ],
      "text/plain": [
       "   cancer_type                n    \n",
       "1  Bladder Cancer              3827\n",
       "2  Breast Cancer              10380\n",
       "3  Cancer of Unknown Primary   3352\n",
       "4  Colorectal Cancer          13011\n",
       "5  Endometrial Cancer          4743\n",
       "6  Esophagogastric Cancer      4035\n",
       "7  Glioma                      7666\n",
       "8  Head and Neck Cancer        1757\n",
       "9  Hepatobiliary Cancer        2861\n",
       "10 Mature B-Cell Neoplasms     2835\n",
       "11 Melanoma                    4974\n",
       "12 Non-Small Cell Lung Cancer 19011\n",
       "13 Ovarian Cancer              5347\n",
       "14 Pancreatic Cancer           6635\n",
       "15 Prostate Cancer             4942\n",
       "16 Renal Cell Carcinoma        2212\n",
       "17 Soft Tissue Sarcoma         3956\n",
       "18 Thyroid Cancer              2033"
      ]
     },
     "metadata": {},
     "output_type": "display_data"
    }
   ],
   "source": [
    "# How many individuals in each cancer?\n",
    "test <- ref_table_no_na\n",
    "test <- test %>% filter(sex %in% sex_of_interest)\n",
    "test <- test %>% filter(sample_type %in% sample_of_interest)\n",
    "\n",
    "test2 <- test %>% group_by(cancer_type) %>% summarize(n = n_distinct(patient_id))\n",
    "\n",
    "test2 %>% filter(n>=1500)"
   ]
  },
  {
   "cell_type": "code",
   "execution_count": 38,
   "id": "25bac04e",
   "metadata": {},
   "outputs": [
    {
     "name": "stderr",
     "output_type": "stream",
     "text": [
      "\u001b[1m\u001b[22m`summarise()` has grouped output by 'cancer_type', 'sex'. You can override using the `.groups` argument.\n"
     ]
    },
    {
     "data": {
      "text/html": [
       "<table class=\"dataframe\">\n",
       "<caption>A grouped_df: 4 × 4</caption>\n",
       "<thead>\n",
       "\t<tr><th scope=col>cancer_type</th><th scope=col>sex</th><th scope=col>sample_type</th><th scope=col>n</th></tr>\n",
       "\t<tr><th scope=col>&lt;chr&gt;</th><th scope=col>&lt;chr&gt;</th><th scope=col>&lt;chr&gt;</th><th scope=col>&lt;int&gt;</th></tr>\n",
       "</thead>\n",
       "<tbody>\n",
       "\t<tr><td>Mature B-Cell Neoplasms</td><td>Female</td><td>Metastasis</td><td> 255</td></tr>\n",
       "\t<tr><td>Mature B-Cell Neoplasms</td><td>Female</td><td>Primary   </td><td> 979</td></tr>\n",
       "\t<tr><td>Mature B-Cell Neoplasms</td><td>Male  </td><td>Metastasis</td><td> 308</td></tr>\n",
       "\t<tr><td>Mature B-Cell Neoplasms</td><td>Male  </td><td>Primary   </td><td>1378</td></tr>\n",
       "</tbody>\n",
       "</table>\n"
      ],
      "text/latex": [
       "A grouped\\_df: 4 × 4\n",
       "\\begin{tabular}{llll}\n",
       " cancer\\_type & sex & sample\\_type & n\\\\\n",
       " <chr> & <chr> & <chr> & <int>\\\\\n",
       "\\hline\n",
       "\t Mature B-Cell Neoplasms & Female & Metastasis &  255\\\\\n",
       "\t Mature B-Cell Neoplasms & Female & Primary    &  979\\\\\n",
       "\t Mature B-Cell Neoplasms & Male   & Metastasis &  308\\\\\n",
       "\t Mature B-Cell Neoplasms & Male   & Primary    & 1378\\\\\n",
       "\\end{tabular}\n"
      ],
      "text/markdown": [
       "\n",
       "A grouped_df: 4 × 4\n",
       "\n",
       "| cancer_type &lt;chr&gt; | sex &lt;chr&gt; | sample_type &lt;chr&gt; | n &lt;int&gt; |\n",
       "|---|---|---|---|\n",
       "| Mature B-Cell Neoplasms | Female | Metastasis |  255 |\n",
       "| Mature B-Cell Neoplasms | Female | Primary    |  979 |\n",
       "| Mature B-Cell Neoplasms | Male   | Metastasis |  308 |\n",
       "| Mature B-Cell Neoplasms | Male   | Primary    | 1378 |\n",
       "\n"
      ],
      "text/plain": [
       "  cancer_type             sex    sample_type n   \n",
       "1 Mature B-Cell Neoplasms Female Metastasis   255\n",
       "2 Mature B-Cell Neoplasms Female Primary      979\n",
       "3 Mature B-Cell Neoplasms Male   Metastasis   308\n",
       "4 Mature B-Cell Neoplasms Male   Primary     1378"
      ]
     },
     "metadata": {},
     "output_type": "display_data"
    }
   ],
   "source": [
    "test <- ref_table_no_na %>% filter(cancer_type == 'Mature B-Cell Neoplasms')\n",
    "test <- test %>% filter(sex %in% sex_of_interest)\n",
    "test <- test %>% filter(sample_type %in% sample_of_interest)\n",
    "\n",
    "test %>% group_by(cancer_type, sex, sample_type) %>% summarize(n = n_distinct(patient_id))"
   ]
  },
  {
   "cell_type": "code",
   "execution_count": 36,
   "id": "c7098792",
   "metadata": {},
   "outputs": [
    {
     "name": "stderr",
     "output_type": "stream",
     "text": [
      "\u001b[1m\u001b[22m`summarise()` has grouped output by 'sex'. You can override using the `.groups` argument.\n"
     ]
    },
    {
     "data": {
      "text/html": [
       "<table class=\"dataframe\">\n",
       "<caption>A grouped_df: 4 × 3</caption>\n",
       "<thead>\n",
       "\t<tr><th scope=col>sex</th><th scope=col>sample_type</th><th scope=col>n</th></tr>\n",
       "\t<tr><th scope=col>&lt;chr&gt;</th><th scope=col>&lt;chr&gt;</th><th scope=col>&lt;int&gt;</th></tr>\n",
       "</thead>\n",
       "<tbody>\n",
       "\t<tr><td>Female</td><td>Metastasis</td><td>25543</td></tr>\n",
       "\t<tr><td>Female</td><td>Primary   </td><td>40772</td></tr>\n",
       "\t<tr><td>Male  </td><td>Metastasis</td><td>20304</td></tr>\n",
       "\t<tr><td>Male  </td><td>Primary   </td><td>36989</td></tr>\n",
       "</tbody>\n",
       "</table>\n"
      ],
      "text/latex": [
       "A grouped\\_df: 4 × 3\n",
       "\\begin{tabular}{lll}\n",
       " sex & sample\\_type & n\\\\\n",
       " <chr> & <chr> & <int>\\\\\n",
       "\\hline\n",
       "\t Female & Metastasis & 25543\\\\\n",
       "\t Female & Primary    & 40772\\\\\n",
       "\t Male   & Metastasis & 20304\\\\\n",
       "\t Male   & Primary    & 36989\\\\\n",
       "\\end{tabular}\n"
      ],
      "text/markdown": [
       "\n",
       "A grouped_df: 4 × 3\n",
       "\n",
       "| sex &lt;chr&gt; | sample_type &lt;chr&gt; | n &lt;int&gt; |\n",
       "|---|---|---|\n",
       "| Female | Metastasis | 25543 |\n",
       "| Female | Primary    | 40772 |\n",
       "| Male   | Metastasis | 20304 |\n",
       "| Male   | Primary    | 36989 |\n",
       "\n"
      ],
      "text/plain": [
       "  sex    sample_type n    \n",
       "1 Female Metastasis  25543\n",
       "2 Female Primary     40772\n",
       "3 Male   Metastasis  20304\n",
       "4 Male   Primary     36989"
      ]
     },
     "metadata": {},
     "output_type": "display_data"
    }
   ],
   "source": [
    "# How many individuals in each group in the general dataset?\n",
    "test <- ref_table_no_na\n",
    "test <- test %>% filter(sex %in% sex_of_interest)\n",
    "test <- test %>% filter(sample_type %in% sample_of_interest)\n",
    "\n",
    "test %>% group_by(sex, sample_type) %>% summarize(n = n_distinct(patient_id))"
   ]
  },
  {
   "cell_type": "markdown",
   "id": "33293799",
   "metadata": {},
   "source": [
    "# Results"
   ]
  },
  {
   "cell_type": "markdown",
   "id": "3fd8131c",
   "metadata": {},
   "source": [
    "We have created a clean dataframe containing 198.041 elements (172005 unique IDs). In the clean dataset we have limited our data to 15 columns:\n",
    "* 'patient_id'\n",
    "* 'sex'\n",
    "* 'race'\n",
    "* 'center'\n",
    "* 'dead' (True/False/NA)\n",
    "* 'sample_id'\n",
    "* 'age'\n",
    "* 'oncotree_code'\n",
    "* 'sample_type'\n",
    "* 'sequence_assay_ID'\n",
    "* 'cancer_type'\n",
    "* 'sample_type_detail'\n",
    "* 'population'\n",
    "* 'age_group'\n",
    "* 'age_interval'\n",
    "\n",
    "Sex had been limited to Female and Male and NA.\n",
    "Race has been limited to White/Black/Asian/Native American/Pacific Islander/NA.\n",
    "Dead has been re-formatted, so that all True/TRUE and False/FALSE are written as True and False. Dead is therefore limited to True/False/NA.\n",
    "Age has been made an integer, with 0 and 100 representing <18 and >89, respectively.\n",
    "Oncotree code and Cancer type have changed UNKNOWN to NA.\n",
    "Two additional columns have been created. The first is called age_group and contains four age groups; Child, Young, Middle Aged and Old with individuals belonging to ages <18, 18-40, 41-64 or 65+, respectively. The other new column is called age_interval and contains five-year intervals from <20 to >=90, with individual ages matching herein.\n",
    "\n",
    "If we remove all rows containing one NA or more, there remaines 157.017 elements (135.859 unique IDs).\n",
    "\n",
    "We will now save both of these tables as comma seperated files."
   ]
  },
  {
   "cell_type": "code",
   "execution_count": 37,
   "id": "a067718b",
   "metadata": {},
   "outputs": [],
   "source": [
    "write.csv(full_table, \"../../derived_data/genie_v15/clean_reference.csv\", row.names=TRUE)\n",
    "write.csv(ref_table_no_na, \"../../derived_data/genie_v15/filtered_reference.csv\", row.names=TRUE)"
   ]
  }
 ],
 "metadata": {
  "kernelspec": {
   "display_name": "R",
   "language": "R",
   "name": "ir"
  },
  "language_info": {
   "codemirror_mode": "r",
   "file_extension": ".r",
   "mimetype": "text/x-r-source",
   "name": "R",
   "pygments_lexer": "r",
   "version": "4.2.2"
  }
 },
 "nbformat": 4,
 "nbformat_minor": 5
}
