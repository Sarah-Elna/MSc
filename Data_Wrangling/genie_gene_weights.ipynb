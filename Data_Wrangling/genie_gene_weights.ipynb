{
 "cells": [
  {
   "cell_type": "markdown",
   "id": "6736e0c9",
   "metadata": {},
   "source": [
    "# Gene weights\n",
    "\n",
    "Our samples are distributed across multiple gene panels, each panel containing different target genes. To figure out how these genes are distributed across our panels, and the panels are distributed accross out samples, we have to examine this.\n",
    "\n",
    "In *clinical_sample.txt* there is *Sequence Assay ID* which is an ID for the gene panel being used. In the gene_panels folder, there is one file containing a list of the genes being targeted for each panel type.\n",
    "\n",
    "The goal of this script is to find the weight of each gene in the dataset based on this information."
   ]
  },
  {
   "cell_type": "markdown",
   "id": "3fe09e31",
   "metadata": {},
   "source": [
    "### Setup"
   ]
  },
  {
   "cell_type": "code",
   "execution_count": 1,
   "id": "e0a336d8",
   "metadata": {},
   "outputs": [
    {
     "name": "stderr",
     "output_type": "stream",
     "text": [
      "Warning message:\n",
      "“package ‘ggplot2’ was built under R version 4.2.3”\n"
     ]
    }
   ],
   "source": [
    "library(\"ggplot2\")\n",
    "library(stringr)\n",
    "library(data.table)"
   ]
  },
  {
   "cell_type": "markdown",
   "id": "d7122575",
   "metadata": {},
   "source": [
    "## Gene panels\n",
    "\n",
    "We start by looking at the gene panel data."
   ]
  },
  {
   "cell_type": "markdown",
   "id": "d3f4f575",
   "metadata": {},
   "source": [
    "### Loading in the data\n",
    "\n",
    "I would like to start by loading in the gene_panel data."
   ]
  },
  {
   "cell_type": "code",
   "execution_count": 2,
   "id": "c14cdcd4",
   "metadata": {},
   "outputs": [],
   "source": [
    "# We create a list of all the files in the gene_panel folder and save it as a string\n",
    "gene_panels_list <- \"data_gene_panel_CHOP-COMPT.txt\n",
    "data_gene_panel_CHOP-COMPT-V2.txt\n",
    "data_gene_panel_CHOP-FUSIP.txt\n",
    "data_gene_panel_CHOP-HEMEP.txt\n",
    "data_gene_panel_CHOP-STNGS.txt\n",
    "data_gene_panel_CHOP-STNGS-V2.txt\n",
    "data_gene_panel_COLU-CCCP-V1.txt\n",
    "data_gene_panel_COLU-CCCP-V2.txt\n",
    "data_gene_panel_COLU-CSTP-V1.txt\n",
    "data_gene_panel_COLU-CSTP-V2.txt\n",
    "data_gene_panel_COLU-TSACP-V1.txt\n",
    "data_gene_panel_CRUK-TS.txt\n",
    "data_gene_panel_DFCI-ONCOPANEL-1.txt\n",
    "data_gene_panel_DFCI-ONCOPANEL-2.txt\n",
    "data_gene_panel_DFCI-ONCOPANEL-3.1.txt\n",
    "data_gene_panel_DFCI-ONCOPANEL-3.txt\n",
    "data_gene_panel_DUKE-F1-DX1.txt\n",
    "data_gene_panel_DUKE-F1-T5A.txt\n",
    "data_gene_panel_DUKE-F1-T7.txt\n",
    "data_gene_panel_GRCC-CHP2.txt\n",
    "data_gene_panel_GRCC-CP1.txt\n",
    "data_gene_panel_GRCC-MOSC3.txt\n",
    "data_gene_panel_GRCC-MOSC4.txt\n",
    "data_gene_panel_GRCC-OCAV3.txt\n",
    "data_gene_panel_GRCC-SAFIR02.txt\n",
    "data_gene_panel_JHU-500STP.txt\n",
    "data_gene_panel_JHU-50GP.txt\n",
    "data_gene_panel_MDA-409-V1.txt\n",
    "data_gene_panel_MDA-46-V1.txt\n",
    "data_gene_panel_MDA-50-V1.txt\n",
    "data_gene_panel_MSK-ACCESS129.txt\n",
    "data_gene_panel_MSK-IMPACT341.txt\n",
    "data_gene_panel_MSK-IMPACT410.txt\n",
    "data_gene_panel_MSK-IMPACT468.txt\n",
    "data_gene_panel_MSK-IMPACT505.txt\n",
    "data_gene_panel_MSK-IMPACT-HEME-400.txt\n",
    "data_gene_panel_MSK-IMPACT-HEME-468.txt\n",
    "data_gene_panel_NKI-CHPV2-NGS.txt\n",
    "data_gene_panel_NKI-CHP-V2-PLUS.txt\n",
    "data_gene_panel_NKI-CHPV2-SOCV2-NGS.txt\n",
    "data_gene_panel_NKI-PATH-NGS.txt\n",
    "data_gene_panel_NKI-TSACP-MISEQ-NGS.txt\n",
    "data_gene_panel_PROV-FOCUS-V1.txt\n",
    "data_gene_panel_PROV-TSO500HT-V2.txt\n",
    "data_gene_panel_PROV-TST170-V1.txt\n",
    "data_gene_panel_SCI-PMP68-V1.txt\n",
    "data_gene_panel_UCHI-ONCOHEME55-V1.txt\n",
    "data_gene_panel_UCHI-ONCOSCREEN50-V1.txt\n",
    "data_gene_panel_UCSF-IDTV5-TN.txt\n",
    "data_gene_panel_UCSF-IDTV5-TO.txt\n",
    "data_gene_panel_UCSF-NIMV4-TN.txt\n",
    "data_gene_panel_UCSF-NIMV4-TO.txt\n",
    "data_gene_panel_UHN-48-V1.txt\n",
    "data_gene_panel_UHN-50-V2.txt\n",
    "data_gene_panel_UHN-54-V1.txt\n",
    "data_gene_panel_UHN-555-BLADDER-V1.txt\n",
    "data_gene_panel_UHN-555-BREAST-V1.txt\n",
    "data_gene_panel_UHN-555-GLIOMA-V1.txt\n",
    "data_gene_panel_UHN-555-GYNE-V1.txt\n",
    "data_gene_panel_UHN-555-HEAD-NECK-V1.txt\n",
    "data_gene_panel_UHN-555-LUNG-V1.txt\n",
    "data_gene_panel_UHN-555-MELANOMA-V1.txt\n",
    "data_gene_panel_UHN-555-PAN-GI-V1.txt\n",
    "data_gene_panel_UHN-555-PROSTATE-V1.txt\n",
    "data_gene_panel_UHN-555-RENAL-V1.txt\n",
    "data_gene_panel_UHN-555-V1.txt\n",
    "data_gene_panel_UHN-555-V2.txt\n",
    "data_gene_panel_UHN-OCA-V3.txt\n",
    "data_gene_panel_UHN-TSO500-V1.txt\n",
    "data_gene_panel_VHIO-300.txt\n",
    "data_gene_panel_VHIO-BILIARY-V01.txt\n",
    "data_gene_panel_VHIO-BRAIN-V01.txt\n",
    "data_gene_panel_VHIO-BREAST-V01.txt\n",
    "data_gene_panel_VHIO-BREAST-V02.txt\n",
    "data_gene_panel_VHIO-COLORECTAL-V01.txt\n",
    "data_gene_panel_VHIO-ENDOMETRIUM-V01.txt\n",
    "data_gene_panel_VHIO-GASTRIC-V01.txt\n",
    "data_gene_panel_VHIO-GENERAL-V01.txt\n",
    "data_gene_panel_VHIO-HEAD-NECK-V01.txt\n",
    "data_gene_panel_VHIO-KIDNEY-V01.txt\n",
    "data_gene_panel_VHIO-LUNG-V01.txt\n",
    "data_gene_panel_VHIO-OVARY-V01.txt\n",
    "data_gene_panel_VHIO-PANCREAS-V01.txt\n",
    "data_gene_panel_VHIO-PAROTIDE-V01.txt\n",
    "data_gene_panel_VHIO-SKIN-V01.txt\n",
    "data_gene_panel_VHIO-URINARY-BLADDER-V01.txt\n",
    "data_gene_panel_VICC-01-D2.txt\n",
    "data_gene_panel_VICC-01-DX1.txt\n",
    "data_gene_panel_VICC-01-MYELOID.txt\n",
    "data_gene_panel_VICC-01-SOLIDTUMOR.txt\n",
    "data_gene_panel_VICC-01-T4B.txt\n",
    "data_gene_panel_VICC-01-T5A.txt\n",
    "data_gene_panel_VICC-01-T6B.txt\n",
    "data_gene_panel_VICC-01-T7.txt\n",
    "data_gene_panel_VICC-02-XTV2.txt\n",
    "data_gene_panel_VICC-02-XTV3.txt\n",
    "data_gene_panel_VICC-02-XTV4.txt\n",
    "data_gene_panel_WAKE-CA-01.txt\n",
    "data_gene_panel_WAKE-CA-NGSQ3.txt\n",
    "data_gene_panel_WAKE-CLINICAL-AB1.txt\n",
    "data_gene_panel_WAKE-CLINICAL-AB2.txt\n",
    "data_gene_panel_WAKE-CLINICAL-AB3.txt\n",
    "data_gene_panel_WAKE-CLINICAL-CF2.txt\n",
    "data_gene_panel_WAKE-CLINICAL-CF3.txt\n",
    "data_gene_panel_WAKE-CLINICAL-D2.txt\n",
    "data_gene_panel_WAKE-CLINICAL-DX1.txt\n",
    "data_gene_panel_WAKE-CLINICAL-R2D2.txt\n",
    "data_gene_panel_WAKE-CLINICAL-R2.txt\n",
    "data_gene_panel_WAKE-CLINICAL-T5A.txt\n",
    "data_gene_panel_WAKE-CLINICAL-T7.txt\n",
    "data_gene_panel_YALE-HSM-V1.txt\n",
    "data_gene_panel_YALE-OCP-V2.txt\n",
    "data_gene_panel_YALE-OCP-V3.txt\"\n",
    "\n",
    "# Then we split the string into string elements, so that we have each file name as an element in a list\n",
    "gene_panels_list <- strsplit(gene_panels_list, '\\n')\n",
    "\n",
    "# We update the list with indexing into the first column, because there is only one column.\n",
    "# This will make looping through the names easier\n",
    "gene_panels_list <- gene_panels_list[[1]]\n",
    "\n",
    "## Just to see how many panels we have, we get the length of our new list\n",
    "#length(gene_panels_list)"
   ]
  },
  {
   "cell_type": "code",
   "execution_count": 3,
   "id": "51bbb59c",
   "metadata": {},
   "outputs": [
    {
     "name": "stderr",
     "output_type": "stream",
     "text": [
      "Warning message in readLines(panel_file_path):\n",
      "“incomplete final line found on '../../data/genie_v15/gene_panels/data_gene_panel_CHOP-COMPT.txt'”\n",
      "Warning message in readLines(panel_file_path):\n",
      "“incomplete final line found on '../../data/genie_v15/gene_panels/data_gene_panel_CHOP-COMPT-V2.txt'”\n",
      "Warning message in readLines(panel_file_path):\n",
      "“incomplete final line found on '../../data/genie_v15/gene_panels/data_gene_panel_CHOP-FUSIP.txt'”\n",
      "Warning message in readLines(panel_file_path):\n",
      "“incomplete final line found on '../../data/genie_v15/gene_panels/data_gene_panel_CHOP-HEMEP.txt'”\n",
      "Warning message in readLines(panel_file_path):\n",
      "“incomplete final line found on '../../data/genie_v15/gene_panels/data_gene_panel_CHOP-STNGS.txt'”\n",
      "Warning message in readLines(panel_file_path):\n",
      "“incomplete final line found on '../../data/genie_v15/gene_panels/data_gene_panel_CHOP-STNGS-V2.txt'”\n",
      "Warning message in readLines(panel_file_path):\n",
      "“incomplete final line found on '../../data/genie_v15/gene_panels/data_gene_panel_COLU-CCCP-V1.txt'”\n",
      "Warning message in readLines(panel_file_path):\n",
      "“incomplete final line found on '../../data/genie_v15/gene_panels/data_gene_panel_COLU-CCCP-V2.txt'”\n",
      "Warning message in readLines(panel_file_path):\n",
      "“incomplete final line found on '../../data/genie_v15/gene_panels/data_gene_panel_COLU-CSTP-V1.txt'”\n",
      "Warning message in readLines(panel_file_path):\n",
      "“incomplete final line found on '../../data/genie_v15/gene_panels/data_gene_panel_COLU-CSTP-V2.txt'”\n",
      "Warning message in readLines(panel_file_path):\n",
      "“incomplete final line found on '../../data/genie_v15/gene_panels/data_gene_panel_COLU-TSACP-V1.txt'”\n",
      "Warning message in readLines(panel_file_path):\n",
      "“incomplete final line found on '../../data/genie_v15/gene_panels/data_gene_panel_CRUK-TS.txt'”\n",
      "Warning message in readLines(panel_file_path):\n",
      "“incomplete final line found on '../../data/genie_v15/gene_panels/data_gene_panel_DFCI-ONCOPANEL-1.txt'”\n",
      "Warning message in readLines(panel_file_path):\n",
      "“incomplete final line found on '../../data/genie_v15/gene_panels/data_gene_panel_DFCI-ONCOPANEL-2.txt'”\n",
      "Warning message in readLines(panel_file_path):\n",
      "“incomplete final line found on '../../data/genie_v15/gene_panels/data_gene_panel_DFCI-ONCOPANEL-3.1.txt'”\n",
      "Warning message in readLines(panel_file_path):\n",
      "“incomplete final line found on '../../data/genie_v15/gene_panels/data_gene_panel_DFCI-ONCOPANEL-3.txt'”\n",
      "Warning message in readLines(panel_file_path):\n",
      "“incomplete final line found on '../../data/genie_v15/gene_panels/data_gene_panel_DUKE-F1-DX1.txt'”\n",
      "Warning message in readLines(panel_file_path):\n",
      "“incomplete final line found on '../../data/genie_v15/gene_panels/data_gene_panel_DUKE-F1-T5A.txt'”\n",
      "Warning message in readLines(panel_file_path):\n",
      "“incomplete final line found on '../../data/genie_v15/gene_panels/data_gene_panel_DUKE-F1-T7.txt'”\n",
      "Warning message in readLines(panel_file_path):\n",
      "“incomplete final line found on '../../data/genie_v15/gene_panels/data_gene_panel_GRCC-CHP2.txt'”\n",
      "Warning message in readLines(panel_file_path):\n",
      "“incomplete final line found on '../../data/genie_v15/gene_panels/data_gene_panel_GRCC-CP1.txt'”\n",
      "Warning message in readLines(panel_file_path):\n",
      "“incomplete final line found on '../../data/genie_v15/gene_panels/data_gene_panel_GRCC-MOSC3.txt'”\n",
      "Warning message in readLines(panel_file_path):\n",
      "“incomplete final line found on '../../data/genie_v15/gene_panels/data_gene_panel_GRCC-MOSC4.txt'”\n",
      "Warning message in readLines(panel_file_path):\n",
      "“incomplete final line found on '../../data/genie_v15/gene_panels/data_gene_panel_GRCC-OCAV3.txt'”\n",
      "Warning message in readLines(panel_file_path):\n",
      "“incomplete final line found on '../../data/genie_v15/gene_panels/data_gene_panel_GRCC-SAFIR02.txt'”\n",
      "Warning message in readLines(panel_file_path):\n",
      "“incomplete final line found on '../../data/genie_v15/gene_panels/data_gene_panel_JHU-500STP.txt'”\n",
      "Warning message in readLines(panel_file_path):\n",
      "“incomplete final line found on '../../data/genie_v15/gene_panels/data_gene_panel_JHU-50GP.txt'”\n",
      "Warning message in readLines(panel_file_path):\n",
      "“incomplete final line found on '../../data/genie_v15/gene_panels/data_gene_panel_MDA-409-V1.txt'”\n",
      "Warning message in readLines(panel_file_path):\n",
      "“incomplete final line found on '../../data/genie_v15/gene_panels/data_gene_panel_MDA-46-V1.txt'”\n",
      "Warning message in readLines(panel_file_path):\n",
      "“incomplete final line found on '../../data/genie_v15/gene_panels/data_gene_panel_MDA-50-V1.txt'”\n",
      "Warning message in readLines(panel_file_path):\n",
      "“incomplete final line found on '../../data/genie_v15/gene_panels/data_gene_panel_MSK-ACCESS129.txt'”\n",
      "Warning message in readLines(panel_file_path):\n",
      "“incomplete final line found on '../../data/genie_v15/gene_panels/data_gene_panel_MSK-IMPACT341.txt'”\n",
      "Warning message in readLines(panel_file_path):\n",
      "“incomplete final line found on '../../data/genie_v15/gene_panels/data_gene_panel_MSK-IMPACT410.txt'”\n",
      "Warning message in readLines(panel_file_path):\n",
      "“incomplete final line found on '../../data/genie_v15/gene_panels/data_gene_panel_MSK-IMPACT468.txt'”\n",
      "Warning message in readLines(panel_file_path):\n",
      "“incomplete final line found on '../../data/genie_v15/gene_panels/data_gene_panel_MSK-IMPACT505.txt'”\n",
      "Warning message in readLines(panel_file_path):\n",
      "“incomplete final line found on '../../data/genie_v15/gene_panels/data_gene_panel_MSK-IMPACT-HEME-400.txt'”\n",
      "Warning message in readLines(panel_file_path):\n",
      "“incomplete final line found on '../../data/genie_v15/gene_panels/data_gene_panel_MSK-IMPACT-HEME-468.txt'”\n",
      "Warning message in readLines(panel_file_path):\n",
      "“incomplete final line found on '../../data/genie_v15/gene_panels/data_gene_panel_NKI-CHPV2-NGS.txt'”\n",
      "Warning message in readLines(panel_file_path):\n",
      "“incomplete final line found on '../../data/genie_v15/gene_panels/data_gene_panel_NKI-CHP-V2-PLUS.txt'”\n",
      "Warning message in readLines(panel_file_path):\n",
      "“incomplete final line found on '../../data/genie_v15/gene_panels/data_gene_panel_NKI-CHPV2-SOCV2-NGS.txt'”\n",
      "Warning message in readLines(panel_file_path):\n",
      "“incomplete final line found on '../../data/genie_v15/gene_panels/data_gene_panel_NKI-PATH-NGS.txt'”\n",
      "Warning message in readLines(panel_file_path):\n",
      "“incomplete final line found on '../../data/genie_v15/gene_panels/data_gene_panel_NKI-TSACP-MISEQ-NGS.txt'”\n",
      "Warning message in readLines(panel_file_path):\n",
      "“incomplete final line found on '../../data/genie_v15/gene_panels/data_gene_panel_PROV-FOCUS-V1.txt'”\n",
      "Warning message in readLines(panel_file_path):\n",
      "“incomplete final line found on '../../data/genie_v15/gene_panels/data_gene_panel_PROV-TSO500HT-V2.txt'”\n",
      "Warning message in readLines(panel_file_path):\n",
      "“incomplete final line found on '../../data/genie_v15/gene_panels/data_gene_panel_PROV-TST170-V1.txt'”\n",
      "Warning message in readLines(panel_file_path):\n",
      "“incomplete final line found on '../../data/genie_v15/gene_panels/data_gene_panel_SCI-PMP68-V1.txt'”\n",
      "Warning message in readLines(panel_file_path):\n",
      "“incomplete final line found on '../../data/genie_v15/gene_panels/data_gene_panel_UCHI-ONCOHEME55-V1.txt'”\n",
      "Warning message in readLines(panel_file_path):\n",
      "“incomplete final line found on '../../data/genie_v15/gene_panels/data_gene_panel_UCHI-ONCOSCREEN50-V1.txt'”\n",
      "Warning message in readLines(panel_file_path):\n",
      "“incomplete final line found on '../../data/genie_v15/gene_panels/data_gene_panel_UCSF-IDTV5-TN.txt'”\n",
      "Warning message in readLines(panel_file_path):\n",
      "“incomplete final line found on '../../data/genie_v15/gene_panels/data_gene_panel_UCSF-IDTV5-TO.txt'”\n",
      "Warning message in readLines(panel_file_path):\n",
      "“incomplete final line found on '../../data/genie_v15/gene_panels/data_gene_panel_UCSF-NIMV4-TN.txt'”\n",
      "Warning message in readLines(panel_file_path):\n",
      "“incomplete final line found on '../../data/genie_v15/gene_panels/data_gene_panel_UCSF-NIMV4-TO.txt'”\n",
      "Warning message in readLines(panel_file_path):\n",
      "“incomplete final line found on '../../data/genie_v15/gene_panels/data_gene_panel_UHN-48-V1.txt'”\n",
      "Warning message in readLines(panel_file_path):\n",
      "“incomplete final line found on '../../data/genie_v15/gene_panels/data_gene_panel_UHN-50-V2.txt'”\n",
      "Warning message in readLines(panel_file_path):\n",
      "“incomplete final line found on '../../data/genie_v15/gene_panels/data_gene_panel_UHN-54-V1.txt'”\n",
      "Warning message in readLines(panel_file_path):\n",
      "“incomplete final line found on '../../data/genie_v15/gene_panels/data_gene_panel_UHN-555-BLADDER-V1.txt'”\n"
     ]
    },
    {
     "name": "stderr",
     "output_type": "stream",
     "text": [
      "Warning message in readLines(panel_file_path):\n",
      "“incomplete final line found on '../../data/genie_v15/gene_panels/data_gene_panel_UHN-555-BREAST-V1.txt'”\n",
      "Warning message in readLines(panel_file_path):\n",
      "“incomplete final line found on '../../data/genie_v15/gene_panels/data_gene_panel_UHN-555-GLIOMA-V1.txt'”\n",
      "Warning message in readLines(panel_file_path):\n",
      "“incomplete final line found on '../../data/genie_v15/gene_panels/data_gene_panel_UHN-555-GYNE-V1.txt'”\n",
      "Warning message in readLines(panel_file_path):\n",
      "“incomplete final line found on '../../data/genie_v15/gene_panels/data_gene_panel_UHN-555-HEAD-NECK-V1.txt'”\n",
      "Warning message in readLines(panel_file_path):\n",
      "“incomplete final line found on '../../data/genie_v15/gene_panels/data_gene_panel_UHN-555-LUNG-V1.txt'”\n",
      "Warning message in readLines(panel_file_path):\n",
      "“incomplete final line found on '../../data/genie_v15/gene_panels/data_gene_panel_UHN-555-MELANOMA-V1.txt'”\n",
      "Warning message in readLines(panel_file_path):\n",
      "“incomplete final line found on '../../data/genie_v15/gene_panels/data_gene_panel_UHN-555-PAN-GI-V1.txt'”\n",
      "Warning message in readLines(panel_file_path):\n",
      "“incomplete final line found on '../../data/genie_v15/gene_panels/data_gene_panel_UHN-555-PROSTATE-V1.txt'”\n",
      "Warning message in readLines(panel_file_path):\n",
      "“incomplete final line found on '../../data/genie_v15/gene_panels/data_gene_panel_UHN-555-RENAL-V1.txt'”\n",
      "Warning message in readLines(panel_file_path):\n",
      "“incomplete final line found on '../../data/genie_v15/gene_panels/data_gene_panel_UHN-555-V1.txt'”\n",
      "Warning message in readLines(panel_file_path):\n",
      "“incomplete final line found on '../../data/genie_v15/gene_panels/data_gene_panel_UHN-555-V2.txt'”\n",
      "Warning message in readLines(panel_file_path):\n",
      "“incomplete final line found on '../../data/genie_v15/gene_panels/data_gene_panel_UHN-OCA-V3.txt'”\n",
      "Warning message in readLines(panel_file_path):\n",
      "“incomplete final line found on '../../data/genie_v15/gene_panels/data_gene_panel_UHN-TSO500-V1.txt'”\n",
      "Warning message in readLines(panel_file_path):\n",
      "“incomplete final line found on '../../data/genie_v15/gene_panels/data_gene_panel_VHIO-300.txt'”\n",
      "Warning message in readLines(panel_file_path):\n",
      "“incomplete final line found on '../../data/genie_v15/gene_panels/data_gene_panel_VHIO-BILIARY-V01.txt'”\n",
      "Warning message in readLines(panel_file_path):\n",
      "“incomplete final line found on '../../data/genie_v15/gene_panels/data_gene_panel_VHIO-BRAIN-V01.txt'”\n",
      "Warning message in readLines(panel_file_path):\n",
      "“incomplete final line found on '../../data/genie_v15/gene_panels/data_gene_panel_VHIO-BREAST-V01.txt'”\n",
      "Warning message in readLines(panel_file_path):\n",
      "“incomplete final line found on '../../data/genie_v15/gene_panels/data_gene_panel_VHIO-BREAST-V02.txt'”\n",
      "Warning message in readLines(panel_file_path):\n",
      "“incomplete final line found on '../../data/genie_v15/gene_panels/data_gene_panel_VHIO-COLORECTAL-V01.txt'”\n",
      "Warning message in readLines(panel_file_path):\n",
      "“incomplete final line found on '../../data/genie_v15/gene_panels/data_gene_panel_VHIO-ENDOMETRIUM-V01.txt'”\n",
      "Warning message in readLines(panel_file_path):\n",
      "“incomplete final line found on '../../data/genie_v15/gene_panels/data_gene_panel_VHIO-GASTRIC-V01.txt'”\n",
      "Warning message in readLines(panel_file_path):\n",
      "“incomplete final line found on '../../data/genie_v15/gene_panels/data_gene_panel_VHIO-GENERAL-V01.txt'”\n",
      "Warning message in readLines(panel_file_path):\n",
      "“incomplete final line found on '../../data/genie_v15/gene_panels/data_gene_panel_VHIO-HEAD-NECK-V01.txt'”\n",
      "Warning message in readLines(panel_file_path):\n",
      "“incomplete final line found on '../../data/genie_v15/gene_panels/data_gene_panel_VHIO-KIDNEY-V01.txt'”\n",
      "Warning message in readLines(panel_file_path):\n",
      "“incomplete final line found on '../../data/genie_v15/gene_panels/data_gene_panel_VHIO-LUNG-V01.txt'”\n",
      "Warning message in readLines(panel_file_path):\n",
      "“incomplete final line found on '../../data/genie_v15/gene_panels/data_gene_panel_VHIO-OVARY-V01.txt'”\n",
      "Warning message in readLines(panel_file_path):\n",
      "“incomplete final line found on '../../data/genie_v15/gene_panels/data_gene_panel_VHIO-PANCREAS-V01.txt'”\n",
      "Warning message in readLines(panel_file_path):\n",
      "“incomplete final line found on '../../data/genie_v15/gene_panels/data_gene_panel_VHIO-PAROTIDE-V01.txt'”\n",
      "Warning message in readLines(panel_file_path):\n",
      "“incomplete final line found on '../../data/genie_v15/gene_panels/data_gene_panel_VHIO-SKIN-V01.txt'”\n",
      "Warning message in readLines(panel_file_path):\n",
      "“incomplete final line found on '../../data/genie_v15/gene_panels/data_gene_panel_VHIO-URINARY-BLADDER-V01.txt'”\n",
      "Warning message in readLines(panel_file_path):\n",
      "“incomplete final line found on '../../data/genie_v15/gene_panels/data_gene_panel_VICC-01-D2.txt'”\n",
      "Warning message in readLines(panel_file_path):\n",
      "“incomplete final line found on '../../data/genie_v15/gene_panels/data_gene_panel_VICC-01-DX1.txt'”\n",
      "Warning message in readLines(panel_file_path):\n",
      "“incomplete final line found on '../../data/genie_v15/gene_panels/data_gene_panel_VICC-01-MYELOID.txt'”\n",
      "Warning message in readLines(panel_file_path):\n",
      "“incomplete final line found on '../../data/genie_v15/gene_panels/data_gene_panel_VICC-01-SOLIDTUMOR.txt'”\n",
      "Warning message in readLines(panel_file_path):\n",
      "“incomplete final line found on '../../data/genie_v15/gene_panels/data_gene_panel_VICC-01-T4B.txt'”\n",
      "Warning message in readLines(panel_file_path):\n",
      "“incomplete final line found on '../../data/genie_v15/gene_panels/data_gene_panel_VICC-01-T5A.txt'”\n",
      "Warning message in readLines(panel_file_path):\n",
      "“incomplete final line found on '../../data/genie_v15/gene_panels/data_gene_panel_VICC-01-T6B.txt'”\n",
      "Warning message in readLines(panel_file_path):\n",
      "“incomplete final line found on '../../data/genie_v15/gene_panels/data_gene_panel_VICC-01-T7.txt'”\n",
      "Warning message in readLines(panel_file_path):\n",
      "“incomplete final line found on '../../data/genie_v15/gene_panels/data_gene_panel_VICC-02-XTV2.txt'”\n",
      "Warning message in readLines(panel_file_path):\n",
      "“incomplete final line found on '../../data/genie_v15/gene_panels/data_gene_panel_VICC-02-XTV3.txt'”\n",
      "Warning message in readLines(panel_file_path):\n",
      "“incomplete final line found on '../../data/genie_v15/gene_panels/data_gene_panel_VICC-02-XTV4.txt'”\n",
      "Warning message in readLines(panel_file_path):\n",
      "“incomplete final line found on '../../data/genie_v15/gene_panels/data_gene_panel_WAKE-CA-01.txt'”\n",
      "Warning message in readLines(panel_file_path):\n",
      "“incomplete final line found on '../../data/genie_v15/gene_panels/data_gene_panel_WAKE-CA-NGSQ3.txt'”\n",
      "Warning message in readLines(panel_file_path):\n",
      "“incomplete final line found on '../../data/genie_v15/gene_panels/data_gene_panel_WAKE-CLINICAL-AB1.txt'”\n",
      "Warning message in readLines(panel_file_path):\n",
      "“incomplete final line found on '../../data/genie_v15/gene_panels/data_gene_panel_WAKE-CLINICAL-AB2.txt'”\n",
      "Warning message in readLines(panel_file_path):\n",
      "“incomplete final line found on '../../data/genie_v15/gene_panels/data_gene_panel_WAKE-CLINICAL-AB3.txt'”\n",
      "Warning message in readLines(panel_file_path):\n",
      "“incomplete final line found on '../../data/genie_v15/gene_panels/data_gene_panel_WAKE-CLINICAL-CF2.txt'”\n",
      "Warning message in readLines(panel_file_path):\n",
      "“incomplete final line found on '../../data/genie_v15/gene_panels/data_gene_panel_WAKE-CLINICAL-CF3.txt'”\n",
      "Warning message in readLines(panel_file_path):\n",
      "“incomplete final line found on '../../data/genie_v15/gene_panels/data_gene_panel_WAKE-CLINICAL-D2.txt'”\n",
      "Warning message in readLines(panel_file_path):\n",
      "“incomplete final line found on '../../data/genie_v15/gene_panels/data_gene_panel_WAKE-CLINICAL-DX1.txt'”\n",
      "Warning message in readLines(panel_file_path):\n",
      "“incomplete final line found on '../../data/genie_v15/gene_panels/data_gene_panel_WAKE-CLINICAL-R2D2.txt'”\n",
      "Warning message in readLines(panel_file_path):\n",
      "“incomplete final line found on '../../data/genie_v15/gene_panels/data_gene_panel_WAKE-CLINICAL-R2.txt'”\n",
      "Warning message in readLines(panel_file_path):\n",
      "“incomplete final line found on '../../data/genie_v15/gene_panels/data_gene_panel_WAKE-CLINICAL-T5A.txt'”\n",
      "Warning message in readLines(panel_file_path):\n",
      "“incomplete final line found on '../../data/genie_v15/gene_panels/data_gene_panel_WAKE-CLINICAL-T7.txt'”\n",
      "Warning message in readLines(panel_file_path):\n",
      "“incomplete final line found on '../../data/genie_v15/gene_panels/data_gene_panel_YALE-HSM-V1.txt'”\n"
     ]
    },
    {
     "name": "stderr",
     "output_type": "stream",
     "text": [
      "Warning message in readLines(panel_file_path):\n",
      "“incomplete final line found on '../../data/genie_v15/gene_panels/data_gene_panel_YALE-OCP-V2.txt'”\n",
      "Warning message in readLines(panel_file_path):\n",
      "“incomplete final line found on '../../data/genie_v15/gene_panels/data_gene_panel_YALE-OCP-V3.txt'”\n"
     ]
    }
   ],
   "source": [
    "# Because there are so many elements, a loop is usefull\n",
    "# We are not interested in manually loading in and formatting each file\n",
    "\n",
    "# We create a panel name list for later\n",
    "panel_name_list <- list()\n",
    "\n",
    "for (panel in gene_panels_list) {\n",
    "    # We extract the panel name (removing 'data_gene_panel_' and '.txt')\n",
    "    panel_name <- substr(panel, 17, nchar(panel)-4)\n",
    "    # We also have to replace '-' with '_' for R to use it as a variable name later\n",
    "    panel_name <- gsub(\"-\", \"_\", panel_name)\n",
    "    \n",
    "    # We save the name of each panel in a list\n",
    "    panel_name_list[[length(panel_name_list)+1]] <- panel_name\n",
    "    \n",
    "    # We define the panel file path\n",
    "    panel_file_path <- paste(\"../../data/genie_v15/gene_panels/\", panel, sep=\"\")\n",
    "    \n",
    "    # We read in the file as lines to a temporary file\n",
    "    tmp <- readLines(panel_file_path)\n",
    "    \n",
    "    # Then, we assign the panel name to the third line in our temporary file\n",
    "    # The third line contains the gene names, seperated by tabs\n",
    "    # Again we index into the results first column [[1]]\n",
    "    # And we remove the first element, which is the tittle 'gene_list'\n",
    "    assign(panel_name, (strsplit(tmp[3], '\\t')[[1]][-1]))\n",
    "}"
   ]
  },
  {
   "cell_type": "code",
   "execution_count": 4,
   "id": "66f94c1d",
   "metadata": {},
   "outputs": [
    {
     "data": {
      "text/html": [
       "113"
      ],
      "text/latex": [
       "113"
      ],
      "text/markdown": [
       "113"
      ],
      "text/plain": [
       "[1] 113"
      ]
     },
     "metadata": {},
     "output_type": "display_data"
    },
    {
     "data": {
      "text/html": [
       "<ol>\n",
       "\t<li>'CHOP_COMPT'</li>\n",
       "</ol>\n"
      ],
      "text/latex": [
       "\\begin{enumerate}\n",
       "\\item 'CHOP\\_COMPT'\n",
       "\\end{enumerate}\n"
      ],
      "text/markdown": [
       "1. 'CHOP_COMPT'\n",
       "\n",
       "\n"
      ],
      "text/plain": [
       "[[1]]\n",
       "[1] \"CHOP_COMPT\"\n"
      ]
     },
     "metadata": {},
     "output_type": "display_data"
    },
    {
     "data": {
      "text/html": [
       "<style>\n",
       ".list-inline {list-style: none; margin:0; padding: 0}\n",
       ".list-inline>li {display: inline-block}\n",
       ".list-inline>li:not(:last-child)::after {content: \"\\00b7\"; padding: 0 .5ex}\n",
       "</style>\n",
       "<ol class=list-inline><li>'MUTYH'</li><li>'FGF19'</li><li>'DDR2'</li><li>'HRAS'</li><li>'CDKN2A'</li><li>'TP53'</li></ol>\n"
      ],
      "text/latex": [
       "\\begin{enumerate*}\n",
       "\\item 'MUTYH'\n",
       "\\item 'FGF19'\n",
       "\\item 'DDR2'\n",
       "\\item 'HRAS'\n",
       "\\item 'CDKN2A'\n",
       "\\item 'TP53'\n",
       "\\end{enumerate*}\n"
      ],
      "text/markdown": [
       "1. 'MUTYH'\n",
       "2. 'FGF19'\n",
       "3. 'DDR2'\n",
       "4. 'HRAS'\n",
       "5. 'CDKN2A'\n",
       "6. 'TP53'\n",
       "\n",
       "\n"
      ],
      "text/plain": [
       "[1] \"MUTYH\"  \"FGF19\"  \"DDR2\"   \"HRAS\"   \"CDKN2A\" \"TP53\"  "
      ]
     },
     "metadata": {},
     "output_type": "display_data"
    }
   ],
   "source": [
    "## To verify that it worked, I want\n",
    "# 1) The length of the panel list\n",
    "length(panel_name_list)\n",
    "\n",
    "# The first name on the panel list\n",
    "panel_name_list[1]\n",
    "\n",
    "# And the head of the first element in the panel list\n",
    "head(CHOP_COMPT)\n",
    "\n",
    "# It seems to have worked :-D"
   ]
  },
  {
   "cell_type": "markdown",
   "id": "53b9f311",
   "metadata": {},
   "source": [
    "### Weights\n",
    "\n",
    "\n",
    "Now that the data has been succesfully loaded, we want to figure out how many times each gene is present across the panels."
   ]
  },
  {
   "cell_type": "code",
   "execution_count": 5,
   "id": "2431c304",
   "metadata": {},
   "outputs": [],
   "source": [
    "## I want to print this, so that I can copy it to the next code chunck, and remove the quotation marks, making it easy to create a list\n",
    "#tmp <- paste(panel_name_list, collapse=\",\")\n",
    "#print(tmp)"
   ]
  },
  {
   "cell_type": "code",
   "execution_count": 6,
   "id": "27e752f0",
   "metadata": {},
   "outputs": [],
   "source": [
    "# I create the list with acctual elements, not the names of those elements\n",
    "panel_elements_list <- list(CHOP_COMPT,CHOP_COMPT_V2,CHOP_FUSIP,CHOP_HEMEP,CHOP_STNGS,CHOP_STNGS_V2,COLU_CCCP_V1,COLU_CCCP_V2,COLU_CSTP_V1,COLU_CSTP_V2,COLU_TSACP_V1,CRUK_TS,DFCI_ONCOPANEL_1,DFCI_ONCOPANEL_2,DFCI_ONCOPANEL_3.1,DFCI_ONCOPANEL_3,DUKE_F1_DX1,DUKE_F1_T5A,DUKE_F1_T7,GRCC_CHP2,GRCC_CP1,GRCC_MOSC3,GRCC_MOSC4,GRCC_OCAV3,GRCC_SAFIR02,JHU_500STP,JHU_50GP,MDA_409_V1,MDA_46_V1,MDA_50_V1,MSK_ACCESS129,MSK_IMPACT341,MSK_IMPACT410,MSK_IMPACT468,MSK_IMPACT505,MSK_IMPACT_HEME_400,MSK_IMPACT_HEME_468,NKI_CHPV2_NGS,NKI_CHP_V2_PLUS,NKI_CHPV2_SOCV2_NGS,NKI_PATH_NGS,NKI_TSACP_MISEQ_NGS,PROV_FOCUS_V1,PROV_TSO500HT_V2,PROV_TST170_V1,SCI_PMP68_V1,UCHI_ONCOHEME55_V1,UCHI_ONCOSCREEN50_V1,UCSF_IDTV5_TN,UCSF_IDTV5_TO,UCSF_NIMV4_TN,UCSF_NIMV4_TO,UHN_48_V1,UHN_50_V2,UHN_54_V1,UHN_555_BLADDER_V1,UHN_555_BREAST_V1,UHN_555_GLIOMA_V1,UHN_555_GYNE_V1,UHN_555_HEAD_NECK_V1,UHN_555_LUNG_V1,UHN_555_MELANOMA_V1,UHN_555_PAN_GI_V1,UHN_555_PROSTATE_V1,UHN_555_RENAL_V1,UHN_555_V1,UHN_555_V2,UHN_OCA_V3,UHN_TSO500_V1,VHIO_300,VHIO_BILIARY_V01,VHIO_BRAIN_V01,VHIO_BREAST_V01,VHIO_BREAST_V02,VHIO_COLORECTAL_V01,VHIO_ENDOMETRIUM_V01,VHIO_GASTRIC_V01,VHIO_GENERAL_V01,VHIO_HEAD_NECK_V01,VHIO_KIDNEY_V01,VHIO_LUNG_V01,VHIO_OVARY_V01,VHIO_PANCREAS_V01,VHIO_PAROTIDE_V01,VHIO_SKIN_V01,VHIO_URINARY_BLADDER_V01,VICC_01_D2,VICC_01_DX1,VICC_01_MYELOID,VICC_01_SOLIDTUMOR,VICC_01_T4B,VICC_01_T5A,VICC_01_T6B,VICC_01_T7,VICC_02_XTV2,VICC_02_XTV3,VICC_02_XTV4,WAKE_CA_01,WAKE_CA_NGSQ3,WAKE_CLINICAL_AB1,WAKE_CLINICAL_AB2,WAKE_CLINICAL_AB3,WAKE_CLINICAL_CF2,WAKE_CLINICAL_CF3,WAKE_CLINICAL_D2,WAKE_CLINICAL_DX1,WAKE_CLINICAL_R2D2,WAKE_CLINICAL_R2,WAKE_CLINICAL_T5A,WAKE_CLINICAL_T7,YALE_HSM_V1,YALE_OCP_V2,YALE_OCP_V3)\n",
    "\n",
    "## Checking if it works\n",
    "#panel_elements_list[[1]][1]"
   ]
  },
  {
   "cell_type": "markdown",
   "id": "a01fd5c4",
   "metadata": {},
   "source": [
    "I would like to create a data.table wherein gene names are in the first column and counts are in the next column.\n",
    "\n",
    "To acchieve this I would like to start by creating an empty matrix, and then loop though gene panels, and the genes listed in each panel. If the gene already has a row, we simply +1 to the count. If not, we must create the row with a value of 1. When this data.frame has been creates, I would like to save it. After that we can create a new column containing max-normalized weights."
   ]
  },
  {
   "cell_type": "code",
   "execution_count": 7,
   "id": "05f37d0f",
   "metadata": {},
   "outputs": [],
   "source": [
    "# We create an empty table wherein we can store gene names and a count of their occurance in the files\n",
    "gene_count_table <- data.frame(genes = character(0), count = numeric(0))\n",
    "\n",
    "# We run through each panel, and each gene in that pannel\n",
    "for (panel in panel_elements_list) {\n",
    "    for (gene in panel) {\n",
    "        # If the gene is not already in the dataframe, we add it with a count of one\n",
    "        if (!(gene %in% gene_count_table$genes)){\n",
    "            gene_count_table[nrow(gene_count_table) + 1,] = c(gene, 1)\n",
    "            }\n",
    "        # If it already exists, we update the count with one\n",
    "        else{\n",
    "            row_index = which(gene_count_table$genes == gene)\n",
    "            gene_count_table$count[row_index] <- as.integer(gene_count_table$count[row_index]) + 1\n",
    "        }\n",
    "    }\n",
    "}"
   ]
  },
  {
   "cell_type": "code",
   "execution_count": 8,
   "id": "80a9c886",
   "metadata": {},
   "outputs": [
    {
     "data": {
      "image/png": "[encoded data removed]",
      "text/plain": [
       "plot without title"
      ]
     },
     "metadata": {
      "image/png": {
       "height": 420,
       "width": 420
      }
     },
     "output_type": "display_data"
    }
   ],
   "source": [
    "# We get the highest value \n",
    "gene_count_max <- max(as.numeric(gene_count_table$count))\n",
    "\n",
    "# And normalize based on the max value\n",
    "gene_count_table$weight <- (as.numeric(gene_count_table$count) / gene_count_max)\n",
    "\n",
    "# We define the position based on a list sorted by weight\n",
    "positions <- gene_count_table[order(gene_count_table$weight), 1]\n",
    "\n",
    "# Then we plot the weights, as a sanity check to see if\n",
    "# 1) The distibution is the same as before normalisation, and\n",
    "# 2) That the values lie between 0 and 1\n",
    "ggplot(gene_count_table, aes(x = genes, y = weight)) +\n",
    " geom_bar(stat=\"identity\") +\n",
    " scale_x_discrete(limits = positions)"
   ]
  },
  {
   "cell_type": "markdown",
   "id": "3c0916cf",
   "metadata": {},
   "source": [
    "We save the results in a .csv file for potential later use."
   ]
  },
  {
   "cell_type": "code",
   "execution_count": 9,
   "id": "9228abd5",
   "metadata": {},
   "outputs": [],
   "source": [
    "write.csv(gene_count_table, \"../../derived_data/genie_v15/gene_weights.csv\", row.names=TRUE)"
   ]
  },
  {
   "cell_type": "markdown",
   "id": "18442e06",
   "metadata": {},
   "source": [
    "## Panels\n",
    "\n",
    "Ideally I would like to account for how often a panel is used. We start by making a vector containing weights of each type of pannel. So, that is the goal of the next section."
   ]
  },
  {
   "cell_type": "markdown",
   "id": "017fc650",
   "metadata": {},
   "source": [
    "#### Loading the data"
   ]
  },
  {
   "cell_type": "code",
   "execution_count": 10,
   "id": "29bf4609",
   "metadata": {},
   "outputs": [
    {
     "data": {
      "text/html": [
       "<style>\n",
       ".list-inline {list-style: none; margin:0; padding: 0}\n",
       ".list-inline>li {display: inline-block}\n",
       ".list-inline>li:not(:last-child)::after {content: \"\\00b7\"; padding: 0 .5ex}\n",
       "</style>\n",
       "<ol class=list-inline><li>198041</li><li>9</li></ol>\n"
      ],
      "text/latex": [
       "\\begin{enumerate*}\n",
       "\\item 198041\n",
       "\\item 9\n",
       "\\end{enumerate*}\n"
      ],
      "text/markdown": [
       "1. 198041\n",
       "2. 9\n",
       "\n",
       "\n"
      ],
      "text/plain": [
       "[1] 198041      9"
      ]
     },
     "metadata": {},
     "output_type": "display_data"
    },
    {
     "data": {
      "text/html": [
       "<table class=\"dataframe\">\n",
       "<caption>A data.frame: 6 × 9</caption>\n",
       "<thead>\n",
       "\t<tr><th></th><th scope=col>PATIENT_ID</th><th scope=col>SAMPLE_ID</th><th scope=col>AGE_AT_SEQ_REPORT</th><th scope=col>ONCOTREE_CODE</th><th scope=col>SAMPLE_TYPE</th><th scope=col>SEQ_ASSAY_ID</th><th scope=col>CANCER_TYPE</th><th scope=col>CANCER_TYPE_DETAILED</th><th scope=col>SAMPLE_TYPE_DETAILED</th></tr>\n",
       "\t<tr><th></th><th scope=col>&lt;chr&gt;</th><th scope=col>&lt;chr&gt;</th><th scope=col>&lt;chr&gt;</th><th scope=col>&lt;chr&gt;</th><th scope=col>&lt;chr&gt;</th><th scope=col>&lt;chr&gt;</th><th scope=col>&lt;chr&gt;</th><th scope=col>&lt;chr&gt;</th><th scope=col>&lt;chr&gt;</th></tr>\n",
       "</thead>\n",
       "<tbody>\n",
       "\t<tr><th scope=row>1</th><td>GENIE-VICC-101416</td><td>GENIE-VICC-101416-unk-1</td><td>52</td><td>MAAP  </td><td>Primary   </td><td>VICC-01-T7 </td><td>Appendiceal Cancer        </td><td>Mucinous Adenocarcinoma of the Appendix</td><td>Primary tumor              </td></tr>\n",
       "\t<tr><th scope=row>2</th><td>GENIE-VICC-102225</td><td>GENIE-VICC-102225-unk-1</td><td>31</td><td>READ  </td><td>Metastasis</td><td>VICC-01-T7 </td><td>Colorectal Cancer         </td><td>Rectal Adenocarcinoma                  </td><td>Metastasis site unspecified</td></tr>\n",
       "\t<tr><th scope=row>3</th><td>GENIE-VICC-102424</td><td>GENIE-VICC-102424-unk-1</td><td>63</td><td>SCCNOS</td><td>Metastasis</td><td>VICC-01-T7 </td><td>Cancer of Unknown Primary </td><td>Squamous Cell Carcinoma, NOS           </td><td>Metastasis site unspecified</td></tr>\n",
       "\t<tr><th scope=row>4</th><td>GENIE-VICC-102966</td><td>GENIE-VICC-102966-unk-1</td><td>64</td><td>LUAD  </td><td>Metastasis</td><td>VICC-01-T7 </td><td>Non-Small Cell Lung Cancer</td><td>Lung Adenocarcinoma                    </td><td>Metastasis site unspecified</td></tr>\n",
       "\t<tr><th scope=row>5</th><td>GENIE-VICC-103244</td><td>GENIE-VICC-103244-unk-1</td><td>50</td><td>IDC   </td><td>Primary   </td><td>VICC-01-T5A</td><td>Breast Cancer             </td><td>Breast Invasive Ductal Carcinoma       </td><td>Primary tumor              </td></tr>\n",
       "\t<tr><th scope=row>6</th><td>GENIE-VICC-103477</td><td>GENIE-VICC-103477-unk-1</td><td>40</td><td>MRLS  </td><td>Primary   </td><td>VICC-01-D2 </td><td>Soft Tissue Sarcoma       </td><td>Myxoid/Round-Cell Liposarcoma          </td><td>Primary tumor              </td></tr>\n",
       "</tbody>\n",
       "</table>\n"
      ],
      "text/latex": [
       "A data.frame: 6 × 9\n",
       "\\begin{tabular}{r|lllllllll}\n",
       "  & PATIENT\\_ID & SAMPLE\\_ID & AGE\\_AT\\_SEQ\\_REPORT & ONCOTREE\\_CODE & SAMPLE\\_TYPE & SEQ\\_ASSAY\\_ID & CANCER\\_TYPE & CANCER\\_TYPE\\_DETAILED & SAMPLE\\_TYPE\\_DETAILED\\\\\n",
       "  & <chr> & <chr> & <chr> & <chr> & <chr> & <chr> & <chr> & <chr> & <chr>\\\\\n",
       "\\hline\n",
       "\t1 & GENIE-VICC-101416 & GENIE-VICC-101416-unk-1 & 52 & MAAP   & Primary    & VICC-01-T7  & Appendiceal Cancer         & Mucinous Adenocarcinoma of the Appendix & Primary tumor              \\\\\n",
       "\t2 & GENIE-VICC-102225 & GENIE-VICC-102225-unk-1 & 31 & READ   & Metastasis & VICC-01-T7  & Colorectal Cancer          & Rectal Adenocarcinoma                   & Metastasis site unspecified\\\\\n",
       "\t3 & GENIE-VICC-102424 & GENIE-VICC-102424-unk-1 & 63 & SCCNOS & Metastasis & VICC-01-T7  & Cancer of Unknown Primary  & Squamous Cell Carcinoma, NOS            & Metastasis site unspecified\\\\\n",
       "\t4 & GENIE-VICC-102966 & GENIE-VICC-102966-unk-1 & 64 & LUAD   & Metastasis & VICC-01-T7  & Non-Small Cell Lung Cancer & Lung Adenocarcinoma                     & Metastasis site unspecified\\\\\n",
       "\t5 & GENIE-VICC-103244 & GENIE-VICC-103244-unk-1 & 50 & IDC    & Primary    & VICC-01-T5A & Breast Cancer              & Breast Invasive Ductal Carcinoma        & Primary tumor              \\\\\n",
       "\t6 & GENIE-VICC-103477 & GENIE-VICC-103477-unk-1 & 40 & MRLS   & Primary    & VICC-01-D2  & Soft Tissue Sarcoma        & Myxoid/Round-Cell Liposarcoma           & Primary tumor              \\\\\n",
       "\\end{tabular}\n"
      ],
      "text/markdown": [
       "\n",
       "A data.frame: 6 × 9\n",
       "\n",
       "| <!--/--> | PATIENT_ID &lt;chr&gt; | SAMPLE_ID &lt;chr&gt; | AGE_AT_SEQ_REPORT &lt;chr&gt; | ONCOTREE_CODE &lt;chr&gt; | SAMPLE_TYPE &lt;chr&gt; | SEQ_ASSAY_ID &lt;chr&gt; | CANCER_TYPE &lt;chr&gt; | CANCER_TYPE_DETAILED &lt;chr&gt; | SAMPLE_TYPE_DETAILED &lt;chr&gt; |\n",
       "|---|---|---|---|---|---|---|---|---|---|\n",
       "| 1 | GENIE-VICC-101416 | GENIE-VICC-101416-unk-1 | 52 | MAAP   | Primary    | VICC-01-T7  | Appendiceal Cancer         | Mucinous Adenocarcinoma of the Appendix | Primary tumor               |\n",
       "| 2 | GENIE-VICC-102225 | GENIE-VICC-102225-unk-1 | 31 | READ   | Metastasis | VICC-01-T7  | Colorectal Cancer          | Rectal Adenocarcinoma                   | Metastasis site unspecified |\n",
       "| 3 | GENIE-VICC-102424 | GENIE-VICC-102424-unk-1 | 63 | SCCNOS | Metastasis | VICC-01-T7  | Cancer of Unknown Primary  | Squamous Cell Carcinoma, NOS            | Metastasis site unspecified |\n",
       "| 4 | GENIE-VICC-102966 | GENIE-VICC-102966-unk-1 | 64 | LUAD   | Metastasis | VICC-01-T7  | Non-Small Cell Lung Cancer | Lung Adenocarcinoma                     | Metastasis site unspecified |\n",
       "| 5 | GENIE-VICC-103244 | GENIE-VICC-103244-unk-1 | 50 | IDC    | Primary    | VICC-01-T5A | Breast Cancer              | Breast Invasive Ductal Carcinoma        | Primary tumor               |\n",
       "| 6 | GENIE-VICC-103477 | GENIE-VICC-103477-unk-1 | 40 | MRLS   | Primary    | VICC-01-D2  | Soft Tissue Sarcoma        | Myxoid/Round-Cell Liposarcoma           | Primary tumor               |\n",
       "\n"
      ],
      "text/plain": [
       "  PATIENT_ID        SAMPLE_ID               AGE_AT_SEQ_REPORT ONCOTREE_CODE\n",
       "1 GENIE-VICC-101416 GENIE-VICC-101416-unk-1 52                MAAP         \n",
       "2 GENIE-VICC-102225 GENIE-VICC-102225-unk-1 31                READ         \n",
       "3 GENIE-VICC-102424 GENIE-VICC-102424-unk-1 63                SCCNOS       \n",
       "4 GENIE-VICC-102966 GENIE-VICC-102966-unk-1 64                LUAD         \n",
       "5 GENIE-VICC-103244 GENIE-VICC-103244-unk-1 50                IDC          \n",
       "6 GENIE-VICC-103477 GENIE-VICC-103477-unk-1 40                MRLS         \n",
       "  SAMPLE_TYPE SEQ_ASSAY_ID CANCER_TYPE               \n",
       "1 Primary     VICC-01-T7   Appendiceal Cancer        \n",
       "2 Metastasis  VICC-01-T7   Colorectal Cancer         \n",
       "3 Metastasis  VICC-01-T7   Cancer of Unknown Primary \n",
       "4 Metastasis  VICC-01-T7   Non-Small Cell Lung Cancer\n",
       "5 Primary     VICC-01-T5A  Breast Cancer             \n",
       "6 Primary     VICC-01-D2   Soft Tissue Sarcoma       \n",
       "  CANCER_TYPE_DETAILED                    SAMPLE_TYPE_DETAILED       \n",
       "1 Mucinous Adenocarcinoma of the Appendix Primary tumor              \n",
       "2 Rectal Adenocarcinoma                   Metastasis site unspecified\n",
       "3 Squamous Cell Carcinoma, NOS            Metastasis site unspecified\n",
       "4 Lung Adenocarcinoma                     Metastasis site unspecified\n",
       "5 Breast Invasive Ductal Carcinoma        Primary tumor              \n",
       "6 Myxoid/Round-Cell Liposarcoma           Primary tumor              "
      ]
     },
     "metadata": {},
     "output_type": "display_data"
    }
   ],
   "source": [
    "sample_data <- read.table(\"../../data/genie_v15/data_clinical_sample.txt\", sep=\"\\t\", quote=\"\", head=TRUE)\n",
    "dim(sample_data)\n",
    "head(sample_data)"
   ]
  },
  {
   "cell_type": "markdown",
   "id": "0bb84697",
   "metadata": {},
   "source": [
    "#### Weights\n",
    "\n",
    "Calculating the weights for each type of panel."
   ]
  },
  {
   "cell_type": "code",
   "execution_count": 11,
   "id": "6ea33d5c",
   "metadata": {},
   "outputs": [
    {
     "data": {
      "text/html": [
       "<table class=\"dataframe\">\n",
       "<caption>A data.frame: 6 × 2</caption>\n",
       "<thead>\n",
       "\t<tr><th></th><th scope=col>panel</th><th scope=col>count</th></tr>\n",
       "\t<tr><th></th><th scope=col>&lt;chr&gt;</th><th scope=col>&lt;dbl&gt;</th></tr>\n",
       "</thead>\n",
       "<tbody>\n",
       "\t<tr><th scope=row>1</th><td>VICC-01-T7     </td><td>1623</td></tr>\n",
       "\t<tr><th scope=row>2</th><td>VICC-01-T5A    </td><td> 401</td></tr>\n",
       "\t<tr><th scope=row>3</th><td>VICC-01-D2     </td><td> 160</td></tr>\n",
       "\t<tr><th scope=row>4</th><td>VICC-01-MYELOID</td><td>1784</td></tr>\n",
       "\t<tr><th scope=row>5</th><td>VICC-01-T4B    </td><td>  28</td></tr>\n",
       "\t<tr><th scope=row>6</th><td>VICC-02-XTV4   </td><td> 449</td></tr>\n",
       "</tbody>\n",
       "</table>\n"
      ],
      "text/latex": [
       "A data.frame: 6 × 2\n",
       "\\begin{tabular}{r|ll}\n",
       "  & panel & count\\\\\n",
       "  & <chr> & <dbl>\\\\\n",
       "\\hline\n",
       "\t1 & VICC-01-T7      & 1623\\\\\n",
       "\t2 & VICC-01-T5A     &  401\\\\\n",
       "\t3 & VICC-01-D2      &  160\\\\\n",
       "\t4 & VICC-01-MYELOID & 1784\\\\\n",
       "\t5 & VICC-01-T4B     &   28\\\\\n",
       "\t6 & VICC-02-XTV4    &  449\\\\\n",
       "\\end{tabular}\n"
      ],
      "text/markdown": [
       "\n",
       "A data.frame: 6 × 2\n",
       "\n",
       "| <!--/--> | panel &lt;chr&gt; | count &lt;dbl&gt; |\n",
       "|---|---|---|\n",
       "| 1 | VICC-01-T7      | 1623 |\n",
       "| 2 | VICC-01-T5A     |  401 |\n",
       "| 3 | VICC-01-D2      |  160 |\n",
       "| 4 | VICC-01-MYELOID | 1784 |\n",
       "| 5 | VICC-01-T4B     |   28 |\n",
       "| 6 | VICC-02-XTV4    |  449 |\n",
       "\n"
      ],
      "text/plain": [
       "  panel           count\n",
       "1 VICC-01-T7      1623 \n",
       "2 VICC-01-T5A      401 \n",
       "3 VICC-01-D2       160 \n",
       "4 VICC-01-MYELOID 1784 \n",
       "5 VICC-01-T4B       28 \n",
       "6 VICC-02-XTV4     449 "
      ]
     },
     "metadata": {},
     "output_type": "display_data"
    },
    {
     "data": {
      "text/html": [
       "<style>\n",
       ".list-inline {list-style: none; margin:0; padding: 0}\n",
       ".list-inline>li {display: inline-block}\n",
       ".list-inline>li:not(:last-child)::after {content: \"\\00b7\"; padding: 0 .5ex}\n",
       "</style>\n",
       "<ol class=list-inline><li>113</li><li>2</li></ol>\n"
      ],
      "text/latex": [
       "\\begin{enumerate*}\n",
       "\\item 113\n",
       "\\item 2\n",
       "\\end{enumerate*}\n"
      ],
      "text/markdown": [
       "1. 113\n",
       "2. 2\n",
       "\n",
       "\n"
      ],
      "text/plain": [
       "[1] 113   2"
      ]
     },
     "metadata": {},
     "output_type": "display_data"
    }
   ],
   "source": [
    "# Creating the empty dataframe\n",
    "panel_count_table <- data.frame(panel = character(0), count = numeric(0))\n",
    "\n",
    "# Getting the unique IDs of each sequence assay\n",
    "panel_name_list <- unique(sample_data$SEQ_ASSAY_ID)\n",
    "\n",
    "# Running through each panel\n",
    "for (name in panel_name_list){\n",
    "    # Finding the number of matches\n",
    "    matches <- length(which(sample_data$SEQ_ASSAY_ID == name))\n",
    "    # adding the name of the panel and the number of occurances to the table\n",
    "    panel_count_table[nrow(panel_count_table) + 1,] <- list(name, matches)\n",
    "}\n",
    "\n",
    "# Examining the result\n",
    "head(panel_count_table)\n",
    "dim(panel_count_table)"
   ]
  },
  {
   "cell_type": "code",
   "execution_count": 12,
   "id": "449ea1d0",
   "metadata": {},
   "outputs": [
    {
     "data": {
      "image/png": "[encoded data removed]",
      "text/plain": [
       "plot without title"
      ]
     },
     "metadata": {
      "image/png": {
       "height": 420,
       "width": 420
      }
     },
     "output_type": "display_data"
    }
   ],
   "source": [
    "# We get the sum \n",
    "panel_sum <- sum(as.numeric(panel_count_table$count))\n",
    "\n",
    "# And normalize based on the sum value\n",
    "panel_count_table$weight <- (as.numeric(panel_count_table$count) / panel_sum)\n",
    "\n",
    "# We define the position based on a list sorted by weight\n",
    "positions <- panel_count_table[order(panel_count_table$weight), 1]\n",
    "\n",
    "# Then we plot the weights, as a sanity check to see if\n",
    "# 1) The distibution is the same as before normalisation, and\n",
    "# 2) That the values lie between 0 and 1\n",
    "ggplot(panel_count_table, aes(x = panel, y = weight)) +\n",
    " geom_bar(stat=\"identity\") +\n",
    " scale_x_discrete(limits = positions)"
   ]
  },
  {
   "cell_type": "code",
   "execution_count": 13,
   "id": "f2186cbe",
   "metadata": {},
   "outputs": [
    {
     "data": {
      "text/html": [
       "'MSK-IMPACT468'"
      ],
      "text/latex": [
       "'MSK-IMPACT468'"
      ],
      "text/markdown": [
       "'MSK-IMPACT468'"
      ],
      "text/plain": [
       "[1] \"MSK-IMPACT468\""
      ]
     },
     "metadata": {},
     "output_type": "display_data"
    },
    {
     "data": {
      "text/html": [
       "36610"
      ],
      "text/latex": [
       "36610"
      ],
      "text/markdown": [
       "36610"
      ],
      "text/plain": [
       "[1] 36610"
      ]
     },
     "metadata": {},
     "output_type": "display_data"
    },
    {
     "data": {
      "text/html": [
       "'WAKE-CLINICAL-AB3'"
      ],
      "text/latex": [
       "'WAKE-CLINICAL-AB3'"
      ],
      "text/markdown": [
       "'WAKE-CLINICAL-AB3'"
      ],
      "text/plain": [
       "[1] \"WAKE-CLINICAL-AB3\""
      ]
     },
     "metadata": {},
     "output_type": "display_data"
    },
    {
     "data": {
      "text/html": [
       "1"
      ],
      "text/latex": [
       "1"
      ],
      "text/markdown": [
       "1"
      ],
      "text/plain": [
       "[1] 1"
      ]
     },
     "metadata": {},
     "output_type": "display_data"
    }
   ],
   "source": [
    "positions[113]\n",
    "max(panel_count_table$count)\n",
    "\n",
    "positions[1]\n",
    "min(panel_count_table$count)"
   ]
  },
  {
   "cell_type": "markdown",
   "id": "0332572c",
   "metadata": {},
   "source": [
    "The panel that is most often used is MSK-IMPACT468, with 36.610 instances in sample_data$SEQ_ASSAY_ID. We save the results in a .csv file for later use."
   ]
  },
  {
   "cell_type": "code",
   "execution_count": 14,
   "id": "d8a4e8cf",
   "metadata": {},
   "outputs": [],
   "source": [
    "write.csv(panel_count_table, \"../../derived_data/genie_v15/panel_weights.csv\", row.names=TRUE)"
   ]
  },
  {
   "cell_type": "markdown",
   "id": "60c148d1",
   "metadata": {},
   "source": [
    "## Combining panel and gene\n",
    "\n",
    "To combine panel and gene information and get a truer weight for each gene, I want to match the weight of each gene being added to a new table by which panel it comes from. Basically:\n",
    "\n",
    "    for panel in panel_list:\n",
    "        for gene in panel:\n",
    "            table[gene] += panel_count\n",
    "        \n",
    "This weight should account for the skew in which pannels were being used, and the resulting distribution of genes could be interesting. Because floats are quite tricky, we start by using panel_count as weights for each gene, and then we max-normalize.\n",
    "\n",
    "In case a gene is only in one panel, but that panl is widely used, it should have a low weight which would not have been seen in the previous distribution. Vise-versa, a gene prevalent among the panels, but those panels being used very infrequently, should have a low weight."
   ]
  },
  {
   "cell_type": "code",
   "execution_count": 15,
   "id": "70245b79",
   "metadata": {},
   "outputs": [
    {
     "name": "stdout",
     "output_type": "stream",
     "text": [
      "[1] 320\n",
      "[1] 7\n",
      "[1] 465\n",
      "[1] 215\n",
      "[1] 601\n",
      "[1] 4\n",
      "[1] 775\n",
      "[1] 3\n",
      "[1] 1855\n",
      "[1] 1293\n",
      "[1] 621\n",
      "[1] 2035\n",
      "[1] 3079\n",
      "[1] 8371\n",
      "[1] 17121\n",
      "[1] 6795\n",
      "[1] 1970\n",
      "[1] 85\n",
      "[1] 1061\n",
      "[1] 106\n",
      "[1] 27\n",
      "[1] 799\n",
      "[1] 318\n",
      "[1] 133\n",
      "[1] 8\n",
      "[1] 2094\n",
      "[1] 6663\n",
      "[1] 506\n",
      "[1] 1474\n",
      "[1] 1872\n",
      "[1] NA\n",
      "[1] 2823\n",
      "[1] 10014\n",
      "[1] 36610\n",
      "[1] 20731\n",
      "[1] 13733\n",
      "[1] 6069\n",
      "[1] 96\n",
      "[1] 236\n",
      "[1] 2156\n",
      "[1] 44\n",
      "[1] 931\n",
      "[1] 959\n",
      "[1] 11868\n",
      "[1] 489\n",
      "[1] 801\n",
      "[1] 303\n",
      "[1] 199\n",
      "[1] 1286\n",
      "[1] 5969\n",
      "[1] 2089\n",
      "[1] 2336\n",
      "[1] 1528\n",
      "[1] 97\n",
      "[1] 1131\n",
      "[1] 4\n",
      "[1] 54\n",
      "[1] 9\n",
      "[1] 259\n",
      "[1] 34\n",
      "[1] 26\n",
      "[1] 10\n",
      "[1] 117\n",
      "[1] 13\n",
      "[1] 8\n",
      "[1] 491\n",
      "[1] 213\n",
      "[1] 929\n",
      "[1] 590\n",
      "[1] 677\n",
      "[1] 44\n",
      "[1] 50\n",
      "[1] 64\n",
      "[1] 117\n",
      "[1] 256\n",
      "[1] 34\n",
      "[1] 73\n",
      "[1] 94\n",
      "[1] 76\n",
      "[1] 29\n",
      "[1] 82\n",
      "[1] 97\n",
      "[1] 185\n",
      "[1] 18\n",
      "[1] 20\n",
      "[1] 29\n",
      "[1] 160\n",
      "[1] 191\n",
      "[1] 1784\n",
      "[1] 1036\n",
      "[1] 28\n",
      "[1] 401\n",
      "[1] 5\n",
      "[1] 1623\n",
      "[1] 26\n",
      "[1] 273\n",
      "[1] 449\n",
      "[1] 259\n",
      "[1] 301\n",
      "[1] 12\n",
      "[1] 1\n",
      "[1] 1\n",
      "[1] 2\n",
      "[1] 20\n",
      "[1] 4\n",
      "[1] 809\n",
      "[1] 108\n",
      "[1] 3\n",
      "[1] 13\n",
      "[1] 882\n",
      "[1] 266\n",
      "[1] 49\n",
      "[1] 1069\n"
     ]
    },
    {
     "data": {
      "text/html": [
       "<table class=\"dataframe\">\n",
       "<caption>A data.frame: 6 × 2</caption>\n",
       "<thead>\n",
       "\t<tr><th></th><th scope=col>genes</th><th scope=col>gene_panel_count</th></tr>\n",
       "\t<tr><th></th><th scope=col>&lt;chr&gt;</th><th scope=col>&lt;int&gt;</th></tr>\n",
       "</thead>\n",
       "<tbody>\n",
       "\t<tr><th scope=row>1</th><td>MUTYH </td><td>164582</td></tr>\n",
       "\t<tr><th scope=row>2</th><td>FGF19 </td><td>129945</td></tr>\n",
       "\t<tr><th scope=row>3</th><td>DDR2  </td><td>170899</td></tr>\n",
       "\t<tr><th scope=row>4</th><td>HRAS  </td><td>195323</td></tr>\n",
       "\t<tr><th scope=row>5</th><td>CDKN2A</td><td>194828</td></tr>\n",
       "\t<tr><th scope=row>6</th><td>TP53  </td><td>196219</td></tr>\n",
       "</tbody>\n",
       "</table>\n"
      ],
      "text/latex": [
       "A data.frame: 6 × 2\n",
       "\\begin{tabular}{r|ll}\n",
       "  & genes & gene\\_panel\\_count\\\\\n",
       "  & <chr> & <int>\\\\\n",
       "\\hline\n",
       "\t1 & MUTYH  & 164582\\\\\n",
       "\t2 & FGF19  & 129945\\\\\n",
       "\t3 & DDR2   & 170899\\\\\n",
       "\t4 & HRAS   & 195323\\\\\n",
       "\t5 & CDKN2A & 194828\\\\\n",
       "\t6 & TP53   & 196219\\\\\n",
       "\\end{tabular}\n"
      ],
      "text/markdown": [
       "\n",
       "A data.frame: 6 × 2\n",
       "\n",
       "| <!--/--> | genes &lt;chr&gt; | gene_panel_count &lt;int&gt; |\n",
       "|---|---|---|\n",
       "| 1 | MUTYH  | 164582 |\n",
       "| 2 | FGF19  | 129945 |\n",
       "| 3 | DDR2   | 170899 |\n",
       "| 4 | HRAS   | 195323 |\n",
       "| 5 | CDKN2A | 194828 |\n",
       "| 6 | TP53   | 196219 |\n",
       "\n"
      ],
      "text/plain": [
       "  genes  gene_panel_count\n",
       "1 MUTYH  164582          \n",
       "2 FGF19  129945          \n",
       "3 DDR2   170899          \n",
       "4 HRAS   195323          \n",
       "5 CDKN2A 194828          \n",
       "6 TP53   196219          "
      ]
     },
     "metadata": {},
     "output_type": "display_data"
    },
    {
     "data": {
      "text/html": [
       "<style>\n",
       ".list-inline {list-style: none; margin:0; padding: 0}\n",
       ".list-inline>li {display: inline-block}\n",
       ".list-inline>li:not(:last-child)::after {content: \"\\00b7\"; padding: 0 .5ex}\n",
       "</style>\n",
       "<ol class=list-inline><li>2249</li><li>2</li></ol>\n"
      ],
      "text/latex": [
       "\\begin{enumerate*}\n",
       "\\item 2249\n",
       "\\item 2\n",
       "\\end{enumerate*}\n"
      ],
      "text/markdown": [
       "1. 2249\n",
       "2. 2\n",
       "\n",
       "\n"
      ],
      "text/plain": [
       "[1] 2249    2"
      ]
     },
     "metadata": {},
     "output_type": "display_data"
    }
   ],
   "source": [
    "# weight of panels in: panel_count_table\n",
    " \n",
    "# We need the name of each panel in the order they exist in panel_elements_list to look them up in panel_count_table\n",
    "panel_name_list <- list(\"CHOP_COMPT\", \"CHOP_COMPT_V2\", \"CHOP_FUSIP\", \"CHOP_HEMEP\", \"CHOP_STNGS\", \"CHOP_STNGS_V2\", \"COLU_CCCP_V1\", \"COLU_CCCP_V2\", \"COLU_CSTP_V1\", \"COLU_CSTP_V2\", \"COLU_TSACP_V1\", \"CRUK_TS\", \"DFCI_ONCOPANEL_1\", \"DFCI_ONCOPANEL_2\", \"DFCI_ONCOPANEL_3.1\", \"DFCI_ONCOPANEL_3\", \"DUKE_F1_DX1\", \"DUKE_F1_T5A\", \"DUKE_F1_T7\", \"GRCC_CHP2\", \"GRCC_CP1\", \"GRCC_MOSC3\", \"GRCC_MOSC4\", \"GRCC_OCAV3\", \"GRCC_SAFIR02\", \"JHU_500STP\", \"JHU_50GP\", \"MDA_409_V1\", \"MDA_46_V1\", \"MDA_50_V1\", \"MSK_ACCESS129\", \"MSK_IMPACT341\", \"MSK_IMPACT410\", \"MSK_IMPACT468\", \"MSK_IMPACT505\", \"MSK_IMPACT_HEME_400\", \"MSK_IMPACT_HEME_468\", \"NKI_CHPV2_NGS\", \"NKI_CHP_V2_PLUS\", \"NKI_CHPV2_SOCV2_NGS\", \"NKI_PATH_NGS\", \"NKI_TSACP_MISEQ_NGS\", \"PROV_FOCUS_V1\", \"PROV_TSO500HT_V2\", \"PROV_TST170_V1\", \"SCI_PMP68_V1\", \"UCHI_ONCOHEME55_V1\", \"UCHI_ONCOSCREEN50_V1\", \"UCSF_IDTV5_TN\", \"UCSF_IDTV5_TO\", \"UCSF_NIMV4_TN\", \"UCSF_NIMV4_TO\", \"UHN_48_V1\", \"UHN_50_V2\", \"UHN_54_V1\", \"UHN_555_BLADDER_V1\", \"UHN_555_BREAST_V1\", \"UHN_555_GLIOMA_V1\", \"UHN_555_GYNE_V1\", \"UHN_555_HEAD_NECK_V1\", \"UHN_555_LUNG_V1\", \"UHN_555_MELANOMA_V1\", \"UHN_555_PAN_GI_V1\", \"UHN_555_PROSTATE_V1\", \"UHN_555_RENAL_V1\", \"UHN_555_V1\", \"UHN_555_V2\", \"UHN_OCA_V3\", \"UHN_TSO500_V1\", \"VHIO_300\", \"VHIO_BILIARY_V01\", \"VHIO_BRAIN_V01\", \"VHIO_BREAST_V01\", \"VHIO_BREAST_V02\", \"VHIO_COLORECTAL_V01\", \"VHIO_ENDOMETRIUM_V01\", \"VHIO_GASTRIC_V01\", \"VHIO_GENERAL_V01\", \"VHIO_HEAD_NECK_V01\", \"VHIO_KIDNEY_V01\", \"VHIO_LUNG_V01\", \"VHIO_OVARY_V01\", \"VHIO_PANCREAS_V01\", \"VHIO_PAROTIDE_V01\", \"VHIO_SKIN_V01\", \"VHIO_URINARY_BLADDER_V01\", \"VICC_01_D2\", \"VICC_01_DX1\", \"VICC_01_MYELOID\", \"VICC_01_SOLIDTUMOR\", \"VICC_01_T4B\", \"VICC_01_T5A\", \"VICC_01_T6B\", \"VICC_01_T7\", \"VICC_02_XTV2\", \"VICC_02_XTV3\", \"VICC_02_XTV4\", \"WAKE_CA_01\", \"WAKE_CA_NGSQ3\", \"WAKE_CLINICAL_AB1\", \"WAKE_CLINICAL_AB2\", \"WAKE_CLINICAL_AB3\", \"WAKE_CLINICAL_CF2\", \"WAKE_CLINICAL_CF3\", \"WAKE_CLINICAL_D2\", \"WAKE_CLINICAL_DX1\", \"WAKE_CLINICAL_R2D2\", \"WAKE_CLINICAL_R2\", \"WAKE_CLINICAL_T5A\", \"WAKE_CLINICAL_T7\", \"YALE_HSM_V1\", \"YALE_OCP_V2\", \"YALE_OCP_V3\")\n",
    "panel_name_list <- gsub('_', '-', panel_name_list) \n",
    "\n",
    "# We create an empty table wherein we can store gene names and a count of their occurance in the files\n",
    "gene_weighted_table <- data.frame(genes = character(0), gene_panel_count = integer(0))\n",
    "\n",
    "# To make addition easier, we make sure that the panel_count_table column is numeric\n",
    "panel_count_table$count <- as.integer(panel_count_table$count)\n",
    "\n",
    "# We run through each panel, and each gene in that pannel\n",
    "for (i in 1:length(panel_elements_list)) {\n",
    "    # we get the panel name as a string\n",
    "    panel_name <- panel_name_list[i]\n",
    "    # we find the index in pamel_count_table where our panel is saved\n",
    "    panel_index <- match(panel_name, panel_count_table$panel)\n",
    "    # We use the index to get the weight of that panel\n",
    "    panel_count <- as.integer(panel_count_table$count[panel_index])\n",
    "    print(panel_count)\n",
    "    for (gene in panel_elements_list[[i]]) {\n",
    "        if (is.na(panel_count)){\n",
    "            panel_count <- 0\n",
    "        }\n",
    "        # If the gene is not already in the dataframe, we add it\n",
    "        if (!(gene %in% gene_weighted_table$genes)){\n",
    "            # We initiate the new gene with the weight of the panel\n",
    "            gene_weighted_table[nrow(gene_weighted_table) + 1,] = c(gene, panel_count)\n",
    "            }\n",
    "        # If it already exists, we update the count with the weight of the panel\n",
    "        else{\n",
    "            row_index = which(gene_weighted_table$genes == gene)\n",
    "            gene_weighted_table$gene_panel_count[row_index] <- as.integer(gene_weighted_table$gene_panel_count[row_index]) + panel_count\n",
    "        }\n",
    "    }\n",
    "}\n",
    "\n",
    "gene_weighted_table$gene_panel_count <- as.integer(gene_weighted_table$gene_panel_count)\n",
    "\n",
    "head(gene_weighted_table)\n",
    "dim(gene_weighted_table)"
   ]
  },
  {
   "cell_type": "code",
   "execution_count": 16,
   "id": "f9141ac0",
   "metadata": {},
   "outputs": [
    {
     "data": {
      "text/html": [
       "197587"
      ],
      "text/latex": [
       "197587"
      ],
      "text/markdown": [
       "197587"
      ],
      "text/plain": [
       "[1] 197587"
      ]
     },
     "metadata": {},
     "output_type": "display_data"
    },
    {
     "data": {
      "text/html": [
       "0.997707545407264"
      ],
      "text/latex": [
       "0.997707545407264"
      ],
      "text/markdown": [
       "0.997707545407264"
      ],
      "text/plain": [
       "[1] 0.9977075"
      ]
     },
     "metadata": {},
     "output_type": "display_data"
    },
    {
     "data": {
      "text/html": [
       "1"
      ],
      "text/latex": [
       "1"
      ],
      "text/markdown": [
       "1"
      ],
      "text/plain": [
       "[1] 1"
      ]
     },
     "metadata": {},
     "output_type": "display_data"
    }
   ],
   "source": [
    "max(as.integer(gene_weighted_table$gene_panel_count))\n",
    "max(gene_weighted_table$gene_panel_count)/198041\n",
    "(max(gene_weighted_table$gene_panel_count)/198041)/0.997707545407264"
   ]
  },
  {
   "cell_type": "code",
   "execution_count": 17,
   "id": "0a22dacd",
   "metadata": {},
   "outputs": [],
   "source": [
    "# We make the gene_panel_count into a numeric vector, so that we can find the max easily\n",
    "gene_weighted_table$gene_panel_count <- as.numeric(gene_weighted_table$gene_panel_count)\n",
    "\n",
    "# We create our gene_panel weights by normalizing over the number of samples\n",
    "# Doing this, each gene weight will represent which percentage of samples it has been tested on\n",
    "gene_weighted_table$gene_panel_weight <- gene_weighted_table$gene_panel_count / 197587"
   ]
  },
  {
   "cell_type": "code",
   "execution_count": 18,
   "id": "9b6970f4",
   "metadata": {},
   "outputs": [
    {
     "data": {
      "image/png": "[encoded data removed]",
      "text/plain": [
       "plot without title"
      ]
     },
     "metadata": {
      "image/png": {
       "height": 420,
       "width": 420
      }
     },
     "output_type": "display_data"
    }
   ],
   "source": [
    "# We define the position based on a list sorted by weight\n",
    "positions <- gene_weighted_table[order(as.numeric(gene_weighted_table$gene_panel_weight)), 1]\n",
    "\n",
    "# Then we plot the weights, as a sanity check to see if\n",
    "ggplot(gene_weighted_table, aes(x = genes, y = gene_panel_weight)) +\n",
    " geom_bar(stat=\"identity\") +\n",
    " scale_x_discrete(limits = positions)"
   ]
  },
  {
   "cell_type": "markdown",
   "id": "e44ea1da",
   "metadata": {},
   "source": [
    "#### Results\n",
    "\n",
    "We have managed to create weights based off of the frequency of use of each panel and what genes are in each panel. "
   ]
  },
  {
   "cell_type": "code",
   "execution_count": 19,
   "id": "59ca00de",
   "metadata": {},
   "outputs": [],
   "source": [
    "write.csv(gene_weighted_table, \"../../derived_data/genie_v15/gene_panel_weights.csv\", row.names=TRUE)"
   ]
  },
  {
   "cell_type": "code",
   "execution_count": 20,
   "id": "902791e3",
   "metadata": {},
   "outputs": [],
   "source": [
    "# This is an error check, to see if any panel_weights are NA values\n",
    "err <- which(is.na(gene_weighted_table$panel_weight))\n",
    "for (idx in err){\n",
    "    gene_err <- gene_weighted_table$gene[idx]\n",
    "    for (idx2 in gene_err){\n",
    "        print(gene_count_table$weight[idx])\n",
    "        }\n",
    "}"
   ]
  },
  {
   "cell_type": "markdown",
   "id": "20d7fadf",
   "metadata": {},
   "source": [
    "To check how many genes have a weight higher or equal to 75%, we can use:"
   ]
  },
  {
   "cell_type": "code",
   "execution_count": 24,
   "id": "f679bc1b",
   "metadata": {},
   "outputs": [
    {
     "name": "stdout",
     "output_type": "stream",
     "text": [
      "[1] 2249\n",
      "[1] 354\n",
      "[1] 209\n"
     ]
    }
   ],
   "source": [
    "print(length(unique(gene_weighted_table$genes)))\n",
    "\n",
    "count = 0\n",
    "\n",
    "for (weight in gene_weighted_table$gene_panel_weight){\n",
    "    if (weight >= 0.5){\n",
    "        count = count + 1\n",
    "    }\n",
    "}\n",
    "\n",
    "print(count)\n",
    "\n",
    "count = 0\n",
    "\n",
    "for (weight in gene_weighted_table$gene_panel_weight){\n",
    "    if (weight >= 0.75){\n",
    "        count = count + 1\n",
    "    }\n",
    "}\n",
    "\n",
    "print(count)"
   ]
  },
  {
   "cell_type": "code",
   "execution_count": 22,
   "id": "682f10ab",
   "metadata": {},
   "outputs": [],
   "source": [
    "# I would like to save a list of all the genes with a weight higher or equal to 0.75\n",
    "g_75 <- gene_weighted_table[which(gene_weighted_table$gene_panel_weight >= 0.75), 1]\n",
    "# And 0.50\n",
    "g_50 <- gene_weighted_table[which(gene_weighted_table$gene_panel_weight >= 0.50), 1]\n",
    "# So that is done here :-)\n",
    "write.csv(g_75, \"../../derived_data/genie_v15/gene_weights_75.csv\", row.names=FALSE)\n",
    "write.csv(g_50, \"../../derived_data/genie_v15/gene_weights_50.csv\", row.names=FALSE)"
   ]
  },
  {
   "cell_type": "markdown",
   "id": "4df13771",
   "metadata": {},
   "source": [
    "To check which genes are in the top 10:"
   ]
  },
  {
   "cell_type": "code",
   "execution_count": 23,
   "id": "fb81a018",
   "metadata": {},
   "outputs": [
    {
     "data": {
      "text/html": [
       "<style>\n",
       ".list-inline {list-style: none; margin:0; padding: 0}\n",
       ".list-inline>li {display: inline-block}\n",
       ".list-inline>li:not(:last-child)::after {content: \"\\00b7\"; padding: 0 .5ex}\n",
       "</style>\n",
       "<ol class=list-inline><li>'BRAF'</li><li>'KRAS'</li><li>'NRAS'</li><li>'TP53'</li><li>'PTEN'</li><li>'HRAS'</li><li>'CDKN2A'</li><li>'IDH1'</li><li>'KIT'</li><li>'FBXW7'</li></ol>\n"
      ],
      "text/latex": [
       "\\begin{enumerate*}\n",
       "\\item 'BRAF'\n",
       "\\item 'KRAS'\n",
       "\\item 'NRAS'\n",
       "\\item 'TP53'\n",
       "\\item 'PTEN'\n",
       "\\item 'HRAS'\n",
       "\\item 'CDKN2A'\n",
       "\\item 'IDH1'\n",
       "\\item 'KIT'\n",
       "\\item 'FBXW7'\n",
       "\\end{enumerate*}\n"
      ],
      "text/markdown": [
       "1. 'BRAF'\n",
       "2. 'KRAS'\n",
       "3. 'NRAS'\n",
       "4. 'TP53'\n",
       "5. 'PTEN'\n",
       "6. 'HRAS'\n",
       "7. 'CDKN2A'\n",
       "8. 'IDH1'\n",
       "9. 'KIT'\n",
       "10. 'FBXW7'\n",
       "\n",
       "\n"
      ],
      "text/plain": [
       " [1] \"BRAF\"   \"KRAS\"   \"NRAS\"   \"TP53\"   \"PTEN\"   \"HRAS\"   \"CDKN2A\" \"IDH1\"  \n",
       " [9] \"KIT\"    \"FBXW7\" "
      ]
     },
     "metadata": {},
     "output_type": "display_data"
    }
   ],
   "source": [
    "sorted_gene_weighted_table <- gene_weighted_table[order(-gene_weighted_table$gene_panel_weight), ]\n",
    "\n",
    "sorted_gene_weighted_table[1:10, 1]"
   ]
  }
 ],
 "metadata": {
  "kernelspec": {
   "display_name": "R",
   "language": "R",
   "name": "ir"
  },
  "language_info": {
   "codemirror_mode": "r",
   "file_extension": ".r",
   "mimetype": "text/x-r-source",
   "name": "R",
   "pygments_lexer": "r",
   "version": "4.2.2"
  }
 },
 "nbformat": 4,
 "nbformat_minor": 5
}
