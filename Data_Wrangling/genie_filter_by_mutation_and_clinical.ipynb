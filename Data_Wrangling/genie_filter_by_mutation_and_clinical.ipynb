{
 "cells": [
  {
   "cell_type": "markdown",
   "id": "77f52ba7",
   "metadata": {},
   "source": [
    "# Genie filter data by mutation and clinical data\n",
    "\n",
    "I wat to create a master-table conaining my clinical & pathogen information in one table.\n",
    "\n",
    "Later, I wat to see how much data is left when restricting the mutations to the ones with a weight >=50% or >=75%."
   ]
  },
  {
   "cell_type": "markdown",
   "id": "e5746eb0",
   "metadata": {},
   "source": [
    "## Setup"
   ]
  },
  {
   "cell_type": "code",
   "execution_count": 1,
   "id": "0d788373",
   "metadata": {},
   "outputs": [
    {
     "name": "stderr",
     "output_type": "stream",
     "text": [
      "Warning message:\n",
      "“package ‘ggplot2’ was built under R version 4.2.3”\n",
      "Warning message:\n",
      "“package ‘dplyr’ was built under R version 4.2.3”\n"
     ]
    }
   ],
   "source": [
    "library(\"ggplot2\")\n",
    "library(dplyr, warn.conflicts = FALSE)"
   ]
  },
  {
   "cell_type": "markdown",
   "id": "c0aa5c89",
   "metadata": {},
   "source": [
    "## Get data"
   ]
  },
  {
   "cell_type": "code",
   "execution_count": 2,
   "id": "6625db4a",
   "metadata": {},
   "outputs": [],
   "source": [
    "clinical <- read.csv(\"../../derived_data/genie_v15/clean_reference.csv\", header=TRUE, stringsAsFactors=FALSE)\n",
    "mutation <- read.csv(\"../../derived_data/genie_v15/mutation_pathogen_filter.csv\", header=TRUE, stringsAsFactors=FALSE)\n",
    "g_75 <- read.csv(\"../../derived_data/genie_v15/gene_weights_75.csv\", header=FALSE)\n",
    "g_50 <- read.csv(\"../../derived_data/genie_v15/gene_weights_50.csv\", header=FALSE)"
   ]
  },
  {
   "cell_type": "code",
   "execution_count": 3,
   "id": "bf59cb42",
   "metadata": {},
   "outputs": [
    {
     "data": {
      "text/html": [
       "<style>\n",
       ".list-inline {list-style: none; margin:0; padding: 0}\n",
       ".list-inline>li {display: inline-block}\n",
       ".list-inline>li:not(:last-child)::after {content: \"\\00b7\"; padding: 0 .5ex}\n",
       "</style>\n",
       "<ol class=list-inline><li>198041</li><li>15</li></ol>\n"
      ],
      "text/latex": [
       "\\begin{enumerate*}\n",
       "\\item 198041\n",
       "\\item 15\n",
       "\\end{enumerate*}\n"
      ],
      "text/markdown": [
       "1. 198041\n",
       "2. 15\n",
       "\n",
       "\n"
      ],
      "text/plain": [
       "[1] 198041     15"
      ]
     },
     "metadata": {},
     "output_type": "display_data"
    },
    {
     "data": {
      "text/html": [
       "<table class=\"dataframe\">\n",
       "<caption>A data.frame: 6 × 15</caption>\n",
       "<thead>\n",
       "\t<tr><th></th><th scope=col>patient_id</th><th scope=col>sex</th><th scope=col>race</th><th scope=col>center</th><th scope=col>dead</th><th scope=col>sample_id</th><th scope=col>age</th><th scope=col>oncotree_code</th><th scope=col>sample_type</th><th scope=col>sequence_assay_ID</th><th scope=col>cancer_type</th><th scope=col>sample_type_detail</th><th scope=col>population</th><th scope=col>age_group</th><th scope=col>age_interval</th></tr>\n",
       "\t<tr><th></th><th scope=col>&lt;chr&gt;</th><th scope=col>&lt;chr&gt;</th><th scope=col>&lt;chr&gt;</th><th scope=col>&lt;chr&gt;</th><th scope=col>&lt;chr&gt;</th><th scope=col>&lt;chr&gt;</th><th scope=col>&lt;int&gt;</th><th scope=col>&lt;chr&gt;</th><th scope=col>&lt;chr&gt;</th><th scope=col>&lt;chr&gt;</th><th scope=col>&lt;chr&gt;</th><th scope=col>&lt;chr&gt;</th><th scope=col>&lt;chr&gt;</th><th scope=col>&lt;chr&gt;</th><th scope=col>&lt;chr&gt;</th></tr>\n",
       "</thead>\n",
       "<tbody>\n",
       "\t<tr><th scope=row>1</th><td>GENIE-CHOP-C1002819</td><td>Female</td><td>White</td><td>CHOP</td><td>False</td><td>GENIE-CHOP-C1002819-BS79B4V9EZ</td><td>0</td><td>NA </td><td><span style=white-space:pre-wrap>Primary   </span></td><td>CHOP-STNGS</td><td><span style=white-space:pre-wrap>NA             </span></td><td><span style=white-space:pre-wrap>Primary tumor   </span></td><td>AMR</td><td>Child</td><td>&lt;45</td></tr>\n",
       "\t<tr><th scope=row>2</th><td>GENIE-CHOP-C1002942</td><td>Female</td><td>White</td><td>CHOP</td><td>True </td><td>GENIE-CHOP-C1002942-BS7MEH2Z48</td><td>0</td><td>AML</td><td>Metastasis</td><td>CHOP-HEMEP</td><td><span style=white-space:pre-wrap>Leukemia       </span></td><td>Local recurrence</td><td>AMR</td><td>Child</td><td>&lt;45</td></tr>\n",
       "\t<tr><th scope=row>3</th><td>GENIE-CHOP-C1002942</td><td>Female</td><td>White</td><td>CHOP</td><td>True </td><td>GENIE-CHOP-C1002942-BS3YSSSEPK</td><td>0</td><td>AML</td><td>Metastasis</td><td>CHOP-HEMEP</td><td><span style=white-space:pre-wrap>Leukemia       </span></td><td>Local recurrence</td><td>AMR</td><td>Child</td><td>&lt;45</td></tr>\n",
       "\t<tr><th scope=row>4</th><td>GENIE-CHOP-C1003065</td><td><span style=white-space:pre-wrap>Male  </span></td><td>White</td><td>CHOP</td><td>False</td><td>GENIE-CHOP-C1003065-BS66P79BWX</td><td>0</td><td>MBL</td><td><span style=white-space:pre-wrap>Primary   </span></td><td>CHOP-STNGS</td><td>Embryonal Tumor</td><td><span style=white-space:pre-wrap>Primary tumor   </span></td><td>AMR</td><td>Child</td><td>&lt;45</td></tr>\n",
       "\t<tr><th scope=row>5</th><td>GENIE-CHOP-C1003065</td><td><span style=white-space:pre-wrap>Male  </span></td><td>White</td><td>CHOP</td><td>False</td><td>GENIE-CHOP-C1003065-BSTECFMMGC</td><td>0</td><td>MBL</td><td><span style=white-space:pre-wrap>Primary   </span></td><td>CHOP-STNGS</td><td>Embryonal Tumor</td><td><span style=white-space:pre-wrap>Primary tumor   </span></td><td>AMR</td><td>Child</td><td>&lt;45</td></tr>\n",
       "\t<tr><th scope=row>6</th><td>GENIE-CHOP-C1003188</td><td>Female</td><td>White</td><td>CHOP</td><td>False</td><td>GENIE-CHOP-C1003188-BSHKNH1HNP</td><td>0</td><td>MBL</td><td><span style=white-space:pre-wrap>Primary   </span></td><td>CHOP-STNGS</td><td>Embryonal Tumor</td><td><span style=white-space:pre-wrap>Primary tumor   </span></td><td>AMR</td><td>Child</td><td>&lt;45</td></tr>\n",
       "</tbody>\n",
       "</table>\n"
      ],
      "text/latex": [
       "A data.frame: 6 × 15\n",
       "\\begin{tabular}{r|lllllllllllllll}\n",
       "  & patient\\_id & sex & race & center & dead & sample\\_id & age & oncotree\\_code & sample\\_type & sequence\\_assay\\_ID & cancer\\_type & sample\\_type\\_detail & population & age\\_group & age\\_interval\\\\\n",
       "  & <chr> & <chr> & <chr> & <chr> & <chr> & <chr> & <int> & <chr> & <chr> & <chr> & <chr> & <chr> & <chr> & <chr> & <chr>\\\\\n",
       "\\hline\n",
       "\t1 & GENIE-CHOP-C1002819 & Female & White & CHOP & False & GENIE-CHOP-C1002819-BS79B4V9EZ & 0 & NA  & Primary    & CHOP-STNGS & NA              & Primary tumor    & AMR & Child & <45\\\\\n",
       "\t2 & GENIE-CHOP-C1002942 & Female & White & CHOP & True  & GENIE-CHOP-C1002942-BS7MEH2Z48 & 0 & AML & Metastasis & CHOP-HEMEP & Leukemia        & Local recurrence & AMR & Child & <45\\\\\n",
       "\t3 & GENIE-CHOP-C1002942 & Female & White & CHOP & True  & GENIE-CHOP-C1002942-BS3YSSSEPK & 0 & AML & Metastasis & CHOP-HEMEP & Leukemia        & Local recurrence & AMR & Child & <45\\\\\n",
       "\t4 & GENIE-CHOP-C1003065 & Male   & White & CHOP & False & GENIE-CHOP-C1003065-BS66P79BWX & 0 & MBL & Primary    & CHOP-STNGS & Embryonal Tumor & Primary tumor    & AMR & Child & <45\\\\\n",
       "\t5 & GENIE-CHOP-C1003065 & Male   & White & CHOP & False & GENIE-CHOP-C1003065-BSTECFMMGC & 0 & MBL & Primary    & CHOP-STNGS & Embryonal Tumor & Primary tumor    & AMR & Child & <45\\\\\n",
       "\t6 & GENIE-CHOP-C1003188 & Female & White & CHOP & False & GENIE-CHOP-C1003188-BSHKNH1HNP & 0 & MBL & Primary    & CHOP-STNGS & Embryonal Tumor & Primary tumor    & AMR & Child & <45\\\\\n",
       "\\end{tabular}\n"
      ],
      "text/markdown": [
       "\n",
       "A data.frame: 6 × 15\n",
       "\n",
       "| <!--/--> | patient_id &lt;chr&gt; | sex &lt;chr&gt; | race &lt;chr&gt; | center &lt;chr&gt; | dead &lt;chr&gt; | sample_id &lt;chr&gt; | age &lt;int&gt; | oncotree_code &lt;chr&gt; | sample_type &lt;chr&gt; | sequence_assay_ID &lt;chr&gt; | cancer_type &lt;chr&gt; | sample_type_detail &lt;chr&gt; | population &lt;chr&gt; | age_group &lt;chr&gt; | age_interval &lt;chr&gt; |\n",
       "|---|---|---|---|---|---|---|---|---|---|---|---|---|---|---|---|\n",
       "| 1 | GENIE-CHOP-C1002819 | Female | White | CHOP | False | GENIE-CHOP-C1002819-BS79B4V9EZ | 0 | NA  | Primary    | CHOP-STNGS | NA              | Primary tumor    | AMR | Child | &lt;45 |\n",
       "| 2 | GENIE-CHOP-C1002942 | Female | White | CHOP | True  | GENIE-CHOP-C1002942-BS7MEH2Z48 | 0 | AML | Metastasis | CHOP-HEMEP | Leukemia        | Local recurrence | AMR | Child | &lt;45 |\n",
       "| 3 | GENIE-CHOP-C1002942 | Female | White | CHOP | True  | GENIE-CHOP-C1002942-BS3YSSSEPK | 0 | AML | Metastasis | CHOP-HEMEP | Leukemia        | Local recurrence | AMR | Child | &lt;45 |\n",
       "| 4 | GENIE-CHOP-C1003065 | Male   | White | CHOP | False | GENIE-CHOP-C1003065-BS66P79BWX | 0 | MBL | Primary    | CHOP-STNGS | Embryonal Tumor | Primary tumor    | AMR | Child | &lt;45 |\n",
       "| 5 | GENIE-CHOP-C1003065 | Male   | White | CHOP | False | GENIE-CHOP-C1003065-BSTECFMMGC | 0 | MBL | Primary    | CHOP-STNGS | Embryonal Tumor | Primary tumor    | AMR | Child | &lt;45 |\n",
       "| 6 | GENIE-CHOP-C1003188 | Female | White | CHOP | False | GENIE-CHOP-C1003188-BSHKNH1HNP | 0 | MBL | Primary    | CHOP-STNGS | Embryonal Tumor | Primary tumor    | AMR | Child | &lt;45 |\n",
       "\n"
      ],
      "text/plain": [
       "  patient_id          sex    race  center dead  sample_id                     \n",
       "1 GENIE-CHOP-C1002819 Female White CHOP   False GENIE-CHOP-C1002819-BS79B4V9EZ\n",
       "2 GENIE-CHOP-C1002942 Female White CHOP   True  GENIE-CHOP-C1002942-BS7MEH2Z48\n",
       "3 GENIE-CHOP-C1002942 Female White CHOP   True  GENIE-CHOP-C1002942-BS3YSSSEPK\n",
       "4 GENIE-CHOP-C1003065 Male   White CHOP   False GENIE-CHOP-C1003065-BS66P79BWX\n",
       "5 GENIE-CHOP-C1003065 Male   White CHOP   False GENIE-CHOP-C1003065-BSTECFMMGC\n",
       "6 GENIE-CHOP-C1003188 Female White CHOP   False GENIE-CHOP-C1003188-BSHKNH1HNP\n",
       "  age oncotree_code sample_type sequence_assay_ID cancer_type    \n",
       "1 0   NA            Primary     CHOP-STNGS        NA             \n",
       "2 0   AML           Metastasis  CHOP-HEMEP        Leukemia       \n",
       "3 0   AML           Metastasis  CHOP-HEMEP        Leukemia       \n",
       "4 0   MBL           Primary     CHOP-STNGS        Embryonal Tumor\n",
       "5 0   MBL           Primary     CHOP-STNGS        Embryonal Tumor\n",
       "6 0   MBL           Primary     CHOP-STNGS        Embryonal Tumor\n",
       "  sample_type_detail population age_group age_interval\n",
       "1 Primary tumor      AMR        Child     <45         \n",
       "2 Local recurrence   AMR        Child     <45         \n",
       "3 Local recurrence   AMR        Child     <45         \n",
       "4 Primary tumor      AMR        Child     <45         \n",
       "5 Primary tumor      AMR        Child     <45         \n",
       "6 Primary tumor      AMR        Child     <45         "
      ]
     },
     "metadata": {},
     "output_type": "display_data"
    },
    {
     "data": {
      "text/html": [
       "<style>\n",
       ".list-inline {list-style: none; margin:0; padding: 0}\n",
       ".list-inline>li {display: inline-block}\n",
       ".list-inline>li:not(:last-child)::after {content: \"\\00b7\"; padding: 0 .5ex}\n",
       "</style>\n",
       "<ol class=list-inline><li>1840311</li><li>9</li></ol>\n"
      ],
      "text/latex": [
       "\\begin{enumerate*}\n",
       "\\item 1840311\n",
       "\\item 9\n",
       "\\end{enumerate*}\n"
      ],
      "text/markdown": [
       "1. 1840311\n",
       "2. 9\n",
       "\n",
       "\n"
      ],
      "text/plain": [
       "[1] 1840311       9"
      ]
     },
     "metadata": {},
     "output_type": "display_data"
    },
    {
     "data": {
      "text/html": [
       "<table class=\"dataframe\">\n",
       "<caption>A data.frame: 6 × 9</caption>\n",
       "<thead>\n",
       "\t<tr><th></th><th scope=col>Hugo_Symbol</th><th scope=col>Tumor_Sample_Barcode</th><th scope=col>SIFT_Prediction</th><th scope=col>Polyphen_Prediction</th><th scope=col>Variant_Classification</th><th scope=col>gnomAD_AMR_AF</th><th scope=col>gnomAD_NFE_AF</th><th scope=col>Population</th><th scope=col>Pathogen</th></tr>\n",
       "\t<tr><th></th><th scope=col>&lt;chr&gt;</th><th scope=col>&lt;chr&gt;</th><th scope=col>&lt;chr&gt;</th><th scope=col>&lt;chr&gt;</th><th scope=col>&lt;chr&gt;</th><th scope=col>&lt;dbl&gt;</th><th scope=col>&lt;dbl&gt;</th><th scope=col>&lt;chr&gt;</th><th scope=col>&lt;int&gt;</th></tr>\n",
       "</thead>\n",
       "<tbody>\n",
       "\t<tr><th scope=row>1</th><td>KRAS  </td><td>GENIE-JHU-00006-00185</td><td>deleterious</td><td>probably_damaging</td><td>Missense_Mutation</td><td>0.00000e+00</td><td>0.00000e+00</td><td>AMR</td><td>1</td></tr>\n",
       "\t<tr><th scope=row>2</th><td>BRAF  </td><td>GENIE-JHU-00006-00185</td><td>deleterious</td><td>probably_damaging</td><td>Missense_Mutation</td><td>0.00000e+00</td><td>0.00000e+00</td><td>AMR</td><td>1</td></tr>\n",
       "\t<tr><th scope=row>3</th><td>EGFR  </td><td>GENIE-JHU-00006-00185</td><td>deleterious</td><td>probably_damaging</td><td>Missense_Mutation</td><td>2.89101e-05</td><td>3.51673e-05</td><td>AMR</td><td>1</td></tr>\n",
       "\t<tr><th scope=row>4</th><td>TP53  </td><td>GENIE-JHU-00006-00185</td><td>tolerated  </td><td>possibly_damaging</td><td>Missense_Mutation</td><td>0.00000e+00</td><td>2.64271e-05</td><td>AMR</td><td>0</td></tr>\n",
       "\t<tr><th scope=row>5</th><td>NRAS  </td><td>GENIE-JHU-00006-00185</td><td>tolerated  </td><td>benign           </td><td>Missense_Mutation</td><td>         NA</td><td>         NA</td><td>AMR</td><td>0</td></tr>\n",
       "\t<tr><th scope=row>6</th><td>PIK3CA</td><td>GENIE-JHU-00006-00185</td><td>tolerated  </td><td>benign           </td><td>Missense_Mutation</td><td>         NA</td><td>         NA</td><td>AMR</td><td>0</td></tr>\n",
       "</tbody>\n",
       "</table>\n"
      ],
      "text/latex": [
       "A data.frame: 6 × 9\n",
       "\\begin{tabular}{r|lllllllll}\n",
       "  & Hugo\\_Symbol & Tumor\\_Sample\\_Barcode & SIFT\\_Prediction & Polyphen\\_Prediction & Variant\\_Classification & gnomAD\\_AMR\\_AF & gnomAD\\_NFE\\_AF & Population & Pathogen\\\\\n",
       "  & <chr> & <chr> & <chr> & <chr> & <chr> & <dbl> & <dbl> & <chr> & <int>\\\\\n",
       "\\hline\n",
       "\t1 & KRAS   & GENIE-JHU-00006-00185 & deleterious & probably\\_damaging & Missense\\_Mutation & 0.00000e+00 & 0.00000e+00 & AMR & 1\\\\\n",
       "\t2 & BRAF   & GENIE-JHU-00006-00185 & deleterious & probably\\_damaging & Missense\\_Mutation & 0.00000e+00 & 0.00000e+00 & AMR & 1\\\\\n",
       "\t3 & EGFR   & GENIE-JHU-00006-00185 & deleterious & probably\\_damaging & Missense\\_Mutation & 2.89101e-05 & 3.51673e-05 & AMR & 1\\\\\n",
       "\t4 & TP53   & GENIE-JHU-00006-00185 & tolerated   & possibly\\_damaging & Missense\\_Mutation & 0.00000e+00 & 2.64271e-05 & AMR & 0\\\\\n",
       "\t5 & NRAS   & GENIE-JHU-00006-00185 & tolerated   & benign            & Missense\\_Mutation &          NA &          NA & AMR & 0\\\\\n",
       "\t6 & PIK3CA & GENIE-JHU-00006-00185 & tolerated   & benign            & Missense\\_Mutation &          NA &          NA & AMR & 0\\\\\n",
       "\\end{tabular}\n"
      ],
      "text/markdown": [
       "\n",
       "A data.frame: 6 × 9\n",
       "\n",
       "| <!--/--> | Hugo_Symbol &lt;chr&gt; | Tumor_Sample_Barcode &lt;chr&gt; | SIFT_Prediction &lt;chr&gt; | Polyphen_Prediction &lt;chr&gt; | Variant_Classification &lt;chr&gt; | gnomAD_AMR_AF &lt;dbl&gt; | gnomAD_NFE_AF &lt;dbl&gt; | Population &lt;chr&gt; | Pathogen &lt;int&gt; |\n",
       "|---|---|---|---|---|---|---|---|---|---|\n",
       "| 1 | KRAS   | GENIE-JHU-00006-00185 | deleterious | probably_damaging | Missense_Mutation | 0.00000e+00 | 0.00000e+00 | AMR | 1 |\n",
       "| 2 | BRAF   | GENIE-JHU-00006-00185 | deleterious | probably_damaging | Missense_Mutation | 0.00000e+00 | 0.00000e+00 | AMR | 1 |\n",
       "| 3 | EGFR   | GENIE-JHU-00006-00185 | deleterious | probably_damaging | Missense_Mutation | 2.89101e-05 | 3.51673e-05 | AMR | 1 |\n",
       "| 4 | TP53   | GENIE-JHU-00006-00185 | tolerated   | possibly_damaging | Missense_Mutation | 0.00000e+00 | 2.64271e-05 | AMR | 0 |\n",
       "| 5 | NRAS   | GENIE-JHU-00006-00185 | tolerated   | benign            | Missense_Mutation |          NA |          NA | AMR | 0 |\n",
       "| 6 | PIK3CA | GENIE-JHU-00006-00185 | tolerated   | benign            | Missense_Mutation |          NA |          NA | AMR | 0 |\n",
       "\n"
      ],
      "text/plain": [
       "  Hugo_Symbol Tumor_Sample_Barcode  SIFT_Prediction Polyphen_Prediction\n",
       "1 KRAS        GENIE-JHU-00006-00185 deleterious     probably_damaging  \n",
       "2 BRAF        GENIE-JHU-00006-00185 deleterious     probably_damaging  \n",
       "3 EGFR        GENIE-JHU-00006-00185 deleterious     probably_damaging  \n",
       "4 TP53        GENIE-JHU-00006-00185 tolerated       possibly_damaging  \n",
       "5 NRAS        GENIE-JHU-00006-00185 tolerated       benign             \n",
       "6 PIK3CA      GENIE-JHU-00006-00185 tolerated       benign             \n",
       "  Variant_Classification gnomAD_AMR_AF gnomAD_NFE_AF Population Pathogen\n",
       "1 Missense_Mutation      0.00000e+00   0.00000e+00   AMR        1       \n",
       "2 Missense_Mutation      0.00000e+00   0.00000e+00   AMR        1       \n",
       "3 Missense_Mutation      2.89101e-05   3.51673e-05   AMR        1       \n",
       "4 Missense_Mutation      0.00000e+00   2.64271e-05   AMR        0       \n",
       "5 Missense_Mutation               NA            NA   AMR        0       \n",
       "6 Missense_Mutation               NA            NA   AMR        0       "
      ]
     },
     "metadata": {},
     "output_type": "display_data"
    },
    {
     "data": {
      "text/html": [
       "<style>\n",
       ".list-inline {list-style: none; margin:0; padding: 0}\n",
       ".list-inline>li {display: inline-block}\n",
       ".list-inline>li:not(:last-child)::after {content: \"\\00b7\"; padding: 0 .5ex}\n",
       "</style>\n",
       "<ol class=list-inline><li>210</li><li>1</li></ol>\n"
      ],
      "text/latex": [
       "\\begin{enumerate*}\n",
       "\\item 210\n",
       "\\item 1\n",
       "\\end{enumerate*}\n"
      ],
      "text/markdown": [
       "1. 210\n",
       "2. 1\n",
       "\n",
       "\n"
      ],
      "text/plain": [
       "[1] 210   1"
      ]
     },
     "metadata": {},
     "output_type": "display_data"
    },
    {
     "data": {
      "text/html": [
       "<style>\n",
       ".list-inline {list-style: none; margin:0; padding: 0}\n",
       ".list-inline>li {display: inline-block}\n",
       ".list-inline>li:not(:last-child)::after {content: \"\\00b7\"; padding: 0 .5ex}\n",
       "</style>\n",
       "<ol class=list-inline><li>355</li><li>1</li></ol>\n"
      ],
      "text/latex": [
       "\\begin{enumerate*}\n",
       "\\item 355\n",
       "\\item 1\n",
       "\\end{enumerate*}\n"
      ],
      "text/markdown": [
       "1. 355\n",
       "2. 1\n",
       "\n",
       "\n"
      ],
      "text/plain": [
       "[1] 355   1"
      ]
     },
     "metadata": {},
     "output_type": "display_data"
    }
   ],
   "source": [
    "# Removing the first column\n",
    "mutation <- dplyr::select(mutation, -X)\n",
    "clinical <- dplyr::select(clinical, -X)\n",
    "\n",
    "# Sanity check\n",
    "dim(clinical)\n",
    "head(clinical)\n",
    "\n",
    "dim(mutation)\n",
    "head(mutation)\n",
    "\n",
    "dim(g_75)\n",
    "dim(g_50)"
   ]
  },
  {
   "cell_type": "markdown",
   "id": "1d8beed1",
   "metadata": {},
   "source": [
    "## Filter\n",
    "\n",
    "How much data is left if I only choose mutaions that are pathogens and only choose clinical data where all the values are known?"
   ]
  },
  {
   "cell_type": "code",
   "execution_count": 4,
   "id": "aaf53ae8",
   "metadata": {},
   "outputs": [
    {
     "data": {
      "text/plain": [
       "\n",
       "     1 \n",
       "734800 "
      ]
     },
     "metadata": {},
     "output_type": "display_data"
    }
   ],
   "source": [
    "# All mutations where the Pathogen column has a value of 1, is estimated to be a pathogen\n",
    "pathogen <- mutation[mutation$Pathogen == 1,]\n",
    "\n",
    "# Checking how many there are, but also making sure that the pahogen colum only contains 1s.\n",
    "table(pathogen$Pathogen)"
   ]
  },
  {
   "cell_type": "code",
   "execution_count": 5,
   "id": "3697e2e2",
   "metadata": {},
   "outputs": [
    {
     "data": {
      "text/html": [
       "<style>\n",
       ".list-inline {list-style: none; margin:0; padding: 0}\n",
       ".list-inline>li {display: inline-block}\n",
       ".list-inline>li:not(:last-child)::after {content: \"\\00b7\"; padding: 0 .5ex}\n",
       "</style>\n",
       "<ol class=list-inline><li>157017</li><li>15</li></ol>\n"
      ],
      "text/latex": [
       "\\begin{enumerate*}\n",
       "\\item 157017\n",
       "\\item 15\n",
       "\\end{enumerate*}\n"
      ],
      "text/markdown": [
       "1. 157017\n",
       "2. 15\n",
       "\n",
       "\n"
      ],
      "text/plain": [
       "[1] 157017     15"
      ]
     },
     "metadata": {},
     "output_type": "display_data"
    }
   ],
   "source": [
    "# Omitting all rows where there is one or more NA values\n",
    "clean_clin <- na.omit(clinical)\n",
    "\n",
    "# Checking how many rows there are left.\n",
    "dim(clean_clin)"
   ]
  },
  {
   "cell_type": "code",
   "execution_count": 6,
   "id": "9a1f1f6d",
   "metadata": {},
   "outputs": [
    {
     "data": {
      "text/html": [
       "<style>\n",
       ".list-inline {list-style: none; margin:0; padding: 0}\n",
       ".list-inline>li {display: inline-block}\n",
       ".list-inline>li:not(:last-child)::after {content: \"\\00b7\"; padding: 0 .5ex}\n",
       "</style>\n",
       "<ol class=list-inline><li>'patient_id'</li><li>'sex'</li><li>'race'</li><li>'center'</li><li>'dead'</li><li>'sample_id'</li><li>'age'</li><li>'oncotree_code'</li><li>'sample_type'</li><li>'sequence_assay_ID'</li><li>'cancer_type'</li><li>'sample_type_detail'</li><li>'population'</li><li>'age_group'</li><li>'age_interval'</li></ol>\n"
      ],
      "text/latex": [
       "\\begin{enumerate*}\n",
       "\\item 'patient\\_id'\n",
       "\\item 'sex'\n",
       "\\item 'race'\n",
       "\\item 'center'\n",
       "\\item 'dead'\n",
       "\\item 'sample\\_id'\n",
       "\\item 'age'\n",
       "\\item 'oncotree\\_code'\n",
       "\\item 'sample\\_type'\n",
       "\\item 'sequence\\_assay\\_ID'\n",
       "\\item 'cancer\\_type'\n",
       "\\item 'sample\\_type\\_detail'\n",
       "\\item 'population'\n",
       "\\item 'age\\_group'\n",
       "\\item 'age\\_interval'\n",
       "\\end{enumerate*}\n"
      ],
      "text/markdown": [
       "1. 'patient_id'\n",
       "2. 'sex'\n",
       "3. 'race'\n",
       "4. 'center'\n",
       "5. 'dead'\n",
       "6. 'sample_id'\n",
       "7. 'age'\n",
       "8. 'oncotree_code'\n",
       "9. 'sample_type'\n",
       "10. 'sequence_assay_ID'\n",
       "11. 'cancer_type'\n",
       "12. 'sample_type_detail'\n",
       "13. 'population'\n",
       "14. 'age_group'\n",
       "15. 'age_interval'\n",
       "\n",
       "\n"
      ],
      "text/plain": [
       " [1] \"patient_id\"         \"sex\"                \"race\"              \n",
       " [4] \"center\"             \"dead\"               \"sample_id\"         \n",
       " [7] \"age\"                \"oncotree_code\"      \"sample_type\"       \n",
       "[10] \"sequence_assay_ID\"  \"cancer_type\"        \"sample_type_detail\"\n",
       "[13] \"population\"         \"age_group\"          \"age_interval\"      "
      ]
     },
     "metadata": {},
     "output_type": "display_data"
    }
   ],
   "source": [
    "colnames(clean_clin)"
   ]
  },
  {
   "cell_type": "code",
   "execution_count": 7,
   "id": "51050cce",
   "metadata": {},
   "outputs": [
    {
     "data": {
      "text/html": [
       "118853"
      ],
      "text/latex": [
       "118853"
      ],
      "text/markdown": [
       "118853"
      ],
      "text/plain": [
       "[1] 118853"
      ]
     },
     "metadata": {},
     "output_type": "display_data"
    },
    {
     "data": {
      "text/html": [
       "132975"
      ],
      "text/latex": [
       "132975"
      ],
      "text/markdown": [
       "132975"
      ],
      "text/plain": [
       "[1] 132975"
      ]
     },
     "metadata": {},
     "output_type": "display_data"
    },
    {
     "name": "stderr",
     "output_type": "stream",
     "text": [
      "\u001b[1m\u001b[22m`summarise()` has grouped output by 'sex'. You can override using the `.groups` argument.\n"
     ]
    },
    {
     "data": {
      "text/html": [
       "<table class=\"dataframe\">\n",
       "<caption>A grouped_df: 4 × 3</caption>\n",
       "<thead>\n",
       "\t<tr><th scope=col>sex</th><th scope=col>sample_type</th><th scope=col>n</th></tr>\n",
       "\t<tr><th scope=col>&lt;chr&gt;</th><th scope=col>&lt;chr&gt;</th><th scope=col>&lt;int&gt;</th></tr>\n",
       "</thead>\n",
       "<tbody>\n",
       "\t<tr><td>Female</td><td>Metastasis</td><td>27772</td></tr>\n",
       "\t<tr><td>Female</td><td>Primary   </td><td>43460</td></tr>\n",
       "\t<tr><td>Male  </td><td>Metastasis</td><td>22088</td></tr>\n",
       "\t<tr><td>Male  </td><td>Primary   </td><td>39655</td></tr>\n",
       "</tbody>\n",
       "</table>\n"
      ],
      "text/latex": [
       "A grouped\\_df: 4 × 3\n",
       "\\begin{tabular}{lll}\n",
       " sex & sample\\_type & n\\\\\n",
       " <chr> & <chr> & <int>\\\\\n",
       "\\hline\n",
       "\t Female & Metastasis & 27772\\\\\n",
       "\t Female & Primary    & 43460\\\\\n",
       "\t Male   & Metastasis & 22088\\\\\n",
       "\t Male   & Primary    & 39655\\\\\n",
       "\\end{tabular}\n"
      ],
      "text/markdown": [
       "\n",
       "A grouped_df: 4 × 3\n",
       "\n",
       "| sex &lt;chr&gt; | sample_type &lt;chr&gt; | n &lt;int&gt; |\n",
       "|---|---|---|\n",
       "| Female | Metastasis | 27772 |\n",
       "| Female | Primary    | 43460 |\n",
       "| Male   | Metastasis | 22088 |\n",
       "| Male   | Primary    | 39655 |\n",
       "\n"
      ],
      "text/plain": [
       "  sex    sample_type n    \n",
       "1 Female Metastasis  27772\n",
       "2 Female Primary     43460\n",
       "3 Male   Metastasis  22088\n",
       "4 Male   Primary     39655"
      ]
     },
     "metadata": {},
     "output_type": "display_data"
    }
   ],
   "source": [
    "# We only keep the data-points where the sex is known\n",
    "clean_clin <- clean_clin[which(clean_clin$sex %in% c('Male', 'Female')),]\n",
    "\n",
    "# We only keep the data-points where the sample-type is either Primary or metastasis\n",
    "clean_clin <- clean_clin[which(clean_clin$sample_type %in% c('Primary', 'Metastasis')),]\n",
    "\n",
    "# We remove any rows with NA values\n",
    "clean_clin <- na.omit(clean_clin)\n",
    "\n",
    "length(unique(clean_clin$patient_id))\n",
    "length(unique(clean_clin$sample_id))\n",
    "\n",
    "clean_clin %>%\n",
    "  group_by(sex,sample_type)  %>%\n",
    "  summarise(n = n())"
   ]
  },
  {
   "cell_type": "code",
   "execution_count": 8,
   "id": "9de95764",
   "metadata": {},
   "outputs": [
    {
     "data": {
      "text/html": [
       "<style>\n",
       ".list-inline {list-style: none; margin:0; padding: 0}\n",
       ".list-inline>li {display: inline-block}\n",
       ".list-inline>li:not(:last-child)::after {content: \"\\00b7\"; padding: 0 .5ex}\n",
       "</style>\n",
       "<ol class=list-inline><li>3086</li><li>15</li></ol>\n"
      ],
      "text/latex": [
       "\\begin{enumerate*}\n",
       "\\item 3086\n",
       "\\item 15\n",
       "\\end{enumerate*}\n"
      ],
      "text/markdown": [
       "1. 3086\n",
       "2. 15\n",
       "\n",
       "\n"
      ],
      "text/plain": [
       "[1] 3086   15"
      ]
     },
     "metadata": {},
     "output_type": "display_data"
    }
   ],
   "source": [
    "dim(clean_clin[which(clean_clin$age == 0 | clean_clin$age == 100),])"
   ]
  },
  {
   "cell_type": "markdown",
   "id": "aa0e68ff",
   "metadata": {},
   "source": [
    "## Left-join\n",
    "\n",
    "There are 734.800 pathogenic mutations and 157.017 individuals where all clinincal information is present. I wat to merge the two dataframes by 'sample_id' in the clinical data and 'Tumor_Sample_Barcode' in the mutational data."
   ]
  },
  {
   "cell_type": "code",
   "execution_count": 6,
   "id": "e789da4d",
   "metadata": {},
   "outputs": [],
   "source": [
    "# Rename Tumor_Sample_Barcode to sample_id\n",
    "pathogen <- rename(pathogen, sample_id = Tumor_Sample_Barcode)\n",
    "\n",
    "# left-join clinical and pathogen data by sample_id column\n",
    "pathogen <- left_join(pathogen, clean_clin, join_by(sample_id))\n",
    "\n",
    "# Clinical data is in columns 10-23, so if they are empty we are not interested in them\n",
    "# complete.case returns a TRUE/FALSE vector, so all rows that have NA in column 10-23 return FALSE\n",
    "# We only keep the rows that return TRUE\n",
    "pathogen <- pathogen[complete.cases(pathogen[ , 10:23]),]"
   ]
  },
  {
   "cell_type": "code",
   "execution_count": 7,
   "id": "58f3ff7f",
   "metadata": {},
   "outputs": [
    {
     "data": {
      "text/html": [
       "<style>\n",
       ".list-inline {list-style: none; margin:0; padding: 0}\n",
       ".list-inline>li {display: inline-block}\n",
       ".list-inline>li:not(:last-child)::after {content: \"\\00b7\"; padding: 0 .5ex}\n",
       "</style>\n",
       "<ol class=list-inline><li>618196</li><li>23</li></ol>\n"
      ],
      "text/latex": [
       "\\begin{enumerate*}\n",
       "\\item 618196\n",
       "\\item 23\n",
       "\\end{enumerate*}\n"
      ],
      "text/markdown": [
       "1. 618196\n",
       "2. 23\n",
       "\n",
       "\n"
      ],
      "text/plain": [
       "[1] 618196     23"
      ]
     },
     "metadata": {},
     "output_type": "display_data"
    },
    {
     "data": {
      "text/html": [
       "124738"
      ],
      "text/latex": [
       "124738"
      ],
      "text/markdown": [
       "124738"
      ],
      "text/plain": [
       "[1] 124738"
      ]
     },
     "metadata": {},
     "output_type": "display_data"
    },
    {
     "data": {
      "text/html": [
       "110611"
      ],
      "text/latex": [
       "110611"
      ],
      "text/markdown": [
       "110611"
      ],
      "text/plain": [
       "[1] 110611"
      ]
     },
     "metadata": {},
     "output_type": "display_data"
    }
   ],
   "source": [
    "# Check dimensions after filtering\n",
    "dim(pathogen)\n",
    "\n",
    "# Check how many samples are left\n",
    "length(unique(pathogen$sample_id))\n",
    "# Check how many patients are left\n",
    "length(unique(pathogen$patient_id))"
   ]
  },
  {
   "cell_type": "code",
   "execution_count": 9,
   "id": "e8e5df46",
   "metadata": {},
   "outputs": [
    {
     "data": {
      "text/html": [
       "84.1311921611323"
      ],
      "text/latex": [
       "84.1311921611323"
      ],
      "text/markdown": [
       "84.1311921611323"
      ],
      "text/plain": [
       "[1] 84.13119"
      ]
     },
     "metadata": {},
     "output_type": "display_data"
    },
    {
     "data": {
      "text/html": [
       "33.5919309290658"
      ],
      "text/latex": [
       "33.5919309290658"
      ],
      "text/markdown": [
       "33.5919309290658"
      ],
      "text/plain": [
       "[1] 33.59193"
      ]
     },
     "metadata": {},
     "output_type": "display_data"
    }
   ],
   "source": [
    "(618196/734800)*100\n",
    "(618196/1840311)*100"
   ]
  },
  {
   "cell_type": "markdown",
   "id": "cfca87fb",
   "metadata": {},
   "source": [
    "Of the 1.840.311 mutations, 734.800 are pathogens, and of those pathogens 618.196 have all their clinical data. This coresponds to ~84% of all pathogens and 34% of all the mutations."
   ]
  },
  {
   "cell_type": "markdown",
   "id": "140d1e42",
   "metadata": {},
   "source": [
    "## Mutation filter"
   ]
  },
  {
   "cell_type": "code",
   "execution_count": 10,
   "id": "26b9bec3",
   "metadata": {},
   "outputs": [
    {
     "data": {
      "text/html": [
       "<table class=\"dataframe\">\n",
       "<caption>A data.frame: 6 × 23</caption>\n",
       "<thead>\n",
       "\t<tr><th></th><th scope=col>Hugo_Symbol</th><th scope=col>sample_id</th><th scope=col>SIFT_Prediction</th><th scope=col>Polyphen_Prediction</th><th scope=col>Variant_Classification</th><th scope=col>gnomAD_AMR_AF</th><th scope=col>gnomAD_NFE_AF</th><th scope=col>Population</th><th scope=col>Pathogen</th><th scope=col>patient_id</th><th scope=col>⋯</th><th scope=col>dead</th><th scope=col>age</th><th scope=col>oncotree_code</th><th scope=col>sample_type</th><th scope=col>sequence_assay_ID</th><th scope=col>cancer_type</th><th scope=col>sample_type_detail</th><th scope=col>population</th><th scope=col>age_group</th><th scope=col>age_interval</th></tr>\n",
       "\t<tr><th></th><th scope=col>&lt;chr&gt;</th><th scope=col>&lt;chr&gt;</th><th scope=col>&lt;chr&gt;</th><th scope=col>&lt;chr&gt;</th><th scope=col>&lt;chr&gt;</th><th scope=col>&lt;dbl&gt;</th><th scope=col>&lt;dbl&gt;</th><th scope=col>&lt;chr&gt;</th><th scope=col>&lt;int&gt;</th><th scope=col>&lt;chr&gt;</th><th scope=col>⋯</th><th scope=col>&lt;chr&gt;</th><th scope=col>&lt;int&gt;</th><th scope=col>&lt;chr&gt;</th><th scope=col>&lt;chr&gt;</th><th scope=col>&lt;chr&gt;</th><th scope=col>&lt;chr&gt;</th><th scope=col>&lt;chr&gt;</th><th scope=col>&lt;chr&gt;</th><th scope=col>&lt;chr&gt;</th><th scope=col>&lt;chr&gt;</th></tr>\n",
       "</thead>\n",
       "<tbody>\n",
       "\t<tr><th scope=row>1</th><td>KRAS  </td><td>GENIE-JHU-00006-00185</td><td>deleterious</td><td>probably_damaging</td><td>Missense_Mutation</td><td>0.00000e+00</td><td>0.00000e+00</td><td>AMR</td><td>1</td><td>GENIE-JHU-00006</td><td>⋯</td><td>False</td><td>61</td><td>LUAD</td><td>Primary</td><td>JHU-50GP</td><td>Non-Small Cell Lung Cancer</td><td>Primary tumor</td><td>AMR</td><td>Middle Aged</td><td>[60-65[</td></tr>\n",
       "\t<tr><th scope=row>2</th><td>BRAF  </td><td>GENIE-JHU-00006-00185</td><td>deleterious</td><td>probably_damaging</td><td>Missense_Mutation</td><td>0.00000e+00</td><td>0.00000e+00</td><td>AMR</td><td>1</td><td>GENIE-JHU-00006</td><td>⋯</td><td>False</td><td>61</td><td>LUAD</td><td>Primary</td><td>JHU-50GP</td><td>Non-Small Cell Lung Cancer</td><td>Primary tumor</td><td>AMR</td><td>Middle Aged</td><td>[60-65[</td></tr>\n",
       "\t<tr><th scope=row>3</th><td>EGFR  </td><td>GENIE-JHU-00006-00185</td><td>deleterious</td><td>probably_damaging</td><td>Missense_Mutation</td><td>2.89101e-05</td><td>3.51673e-05</td><td>AMR</td><td>1</td><td>GENIE-JHU-00006</td><td>⋯</td><td>False</td><td>61</td><td>LUAD</td><td>Primary</td><td>JHU-50GP</td><td>Non-Small Cell Lung Cancer</td><td>Primary tumor</td><td>AMR</td><td>Middle Aged</td><td>[60-65[</td></tr>\n",
       "\t<tr><th scope=row>4</th><td>CTNNB1</td><td>GENIE-JHU-00006-00185</td><td>deleterious</td><td>probably_damaging</td><td>Missense_Mutation</td><td>         NA</td><td>         NA</td><td>AMR</td><td>1</td><td>GENIE-JHU-00006</td><td>⋯</td><td>False</td><td>61</td><td>LUAD</td><td>Primary</td><td>JHU-50GP</td><td>Non-Small Cell Lung Cancer</td><td>Primary tumor</td><td>AMR</td><td>Middle Aged</td><td>[60-65[</td></tr>\n",
       "\t<tr><th scope=row>5</th><td>PIK3CA</td><td>GENIE-JHU-00006-00185</td><td>deleterious</td><td>probably_damaging</td><td>Missense_Mutation</td><td>         NA</td><td>         NA</td><td>AMR</td><td>1</td><td>GENIE-JHU-00006</td><td>⋯</td><td>False</td><td>61</td><td>LUAD</td><td>Primary</td><td>JHU-50GP</td><td>Non-Small Cell Lung Cancer</td><td>Primary tumor</td><td>AMR</td><td>Middle Aged</td><td>[60-65[</td></tr>\n",
       "\t<tr><th scope=row>6</th><td>CDKN2A</td><td>GENIE-JHU-00006-00185</td><td>NA         </td><td>NA               </td><td>Nonsense_Mutation</td><td>         NA</td><td>         NA</td><td>AMR</td><td>1</td><td>GENIE-JHU-00006</td><td>⋯</td><td>False</td><td>61</td><td>LUAD</td><td>Primary</td><td>JHU-50GP</td><td>Non-Small Cell Lung Cancer</td><td>Primary tumor</td><td>AMR</td><td>Middle Aged</td><td>[60-65[</td></tr>\n",
       "</tbody>\n",
       "</table>\n"
      ],
      "text/latex": [
       "A data.frame: 6 × 23\n",
       "\\begin{tabular}{r|lllllllllllllllllllll}\n",
       "  & Hugo\\_Symbol & sample\\_id & SIFT\\_Prediction & Polyphen\\_Prediction & Variant\\_Classification & gnomAD\\_AMR\\_AF & gnomAD\\_NFE\\_AF & Population & Pathogen & patient\\_id & ⋯ & dead & age & oncotree\\_code & sample\\_type & sequence\\_assay\\_ID & cancer\\_type & sample\\_type\\_detail & population & age\\_group & age\\_interval\\\\\n",
       "  & <chr> & <chr> & <chr> & <chr> & <chr> & <dbl> & <dbl> & <chr> & <int> & <chr> & ⋯ & <chr> & <int> & <chr> & <chr> & <chr> & <chr> & <chr> & <chr> & <chr> & <chr>\\\\\n",
       "\\hline\n",
       "\t1 & KRAS   & GENIE-JHU-00006-00185 & deleterious & probably\\_damaging & Missense\\_Mutation & 0.00000e+00 & 0.00000e+00 & AMR & 1 & GENIE-JHU-00006 & ⋯ & False & 61 & LUAD & Primary & JHU-50GP & Non-Small Cell Lung Cancer & Primary tumor & AMR & Middle Aged & {[}60-65{[}\\\\\n",
       "\t2 & BRAF   & GENIE-JHU-00006-00185 & deleterious & probably\\_damaging & Missense\\_Mutation & 0.00000e+00 & 0.00000e+00 & AMR & 1 & GENIE-JHU-00006 & ⋯ & False & 61 & LUAD & Primary & JHU-50GP & Non-Small Cell Lung Cancer & Primary tumor & AMR & Middle Aged & {[}60-65{[}\\\\\n",
       "\t3 & EGFR   & GENIE-JHU-00006-00185 & deleterious & probably\\_damaging & Missense\\_Mutation & 2.89101e-05 & 3.51673e-05 & AMR & 1 & GENIE-JHU-00006 & ⋯ & False & 61 & LUAD & Primary & JHU-50GP & Non-Small Cell Lung Cancer & Primary tumor & AMR & Middle Aged & {[}60-65{[}\\\\\n",
       "\t4 & CTNNB1 & GENIE-JHU-00006-00185 & deleterious & probably\\_damaging & Missense\\_Mutation &          NA &          NA & AMR & 1 & GENIE-JHU-00006 & ⋯ & False & 61 & LUAD & Primary & JHU-50GP & Non-Small Cell Lung Cancer & Primary tumor & AMR & Middle Aged & {[}60-65{[}\\\\\n",
       "\t5 & PIK3CA & GENIE-JHU-00006-00185 & deleterious & probably\\_damaging & Missense\\_Mutation &          NA &          NA & AMR & 1 & GENIE-JHU-00006 & ⋯ & False & 61 & LUAD & Primary & JHU-50GP & Non-Small Cell Lung Cancer & Primary tumor & AMR & Middle Aged & {[}60-65{[}\\\\\n",
       "\t6 & CDKN2A & GENIE-JHU-00006-00185 & NA          & NA                & Nonsense\\_Mutation &          NA &          NA & AMR & 1 & GENIE-JHU-00006 & ⋯ & False & 61 & LUAD & Primary & JHU-50GP & Non-Small Cell Lung Cancer & Primary tumor & AMR & Middle Aged & {[}60-65{[}\\\\\n",
       "\\end{tabular}\n"
      ],
      "text/markdown": [
       "\n",
       "A data.frame: 6 × 23\n",
       "\n",
       "| <!--/--> | Hugo_Symbol &lt;chr&gt; | sample_id &lt;chr&gt; | SIFT_Prediction &lt;chr&gt; | Polyphen_Prediction &lt;chr&gt; | Variant_Classification &lt;chr&gt; | gnomAD_AMR_AF &lt;dbl&gt; | gnomAD_NFE_AF &lt;dbl&gt; | Population &lt;chr&gt; | Pathogen &lt;int&gt; | patient_id &lt;chr&gt; | ⋯ ⋯ | dead &lt;chr&gt; | age &lt;int&gt; | oncotree_code &lt;chr&gt; | sample_type &lt;chr&gt; | sequence_assay_ID &lt;chr&gt; | cancer_type &lt;chr&gt; | sample_type_detail &lt;chr&gt; | population &lt;chr&gt; | age_group &lt;chr&gt; | age_interval &lt;chr&gt; |\n",
       "|---|---|---|---|---|---|---|---|---|---|---|---|---|---|---|---|---|---|---|---|---|---|\n",
       "| 1 | KRAS   | GENIE-JHU-00006-00185 | deleterious | probably_damaging | Missense_Mutation | 0.00000e+00 | 0.00000e+00 | AMR | 1 | GENIE-JHU-00006 | ⋯ | False | 61 | LUAD | Primary | JHU-50GP | Non-Small Cell Lung Cancer | Primary tumor | AMR | Middle Aged | [60-65[ |\n",
       "| 2 | BRAF   | GENIE-JHU-00006-00185 | deleterious | probably_damaging | Missense_Mutation | 0.00000e+00 | 0.00000e+00 | AMR | 1 | GENIE-JHU-00006 | ⋯ | False | 61 | LUAD | Primary | JHU-50GP | Non-Small Cell Lung Cancer | Primary tumor | AMR | Middle Aged | [60-65[ |\n",
       "| 3 | EGFR   | GENIE-JHU-00006-00185 | deleterious | probably_damaging | Missense_Mutation | 2.89101e-05 | 3.51673e-05 | AMR | 1 | GENIE-JHU-00006 | ⋯ | False | 61 | LUAD | Primary | JHU-50GP | Non-Small Cell Lung Cancer | Primary tumor | AMR | Middle Aged | [60-65[ |\n",
       "| 4 | CTNNB1 | GENIE-JHU-00006-00185 | deleterious | probably_damaging | Missense_Mutation |          NA |          NA | AMR | 1 | GENIE-JHU-00006 | ⋯ | False | 61 | LUAD | Primary | JHU-50GP | Non-Small Cell Lung Cancer | Primary tumor | AMR | Middle Aged | [60-65[ |\n",
       "| 5 | PIK3CA | GENIE-JHU-00006-00185 | deleterious | probably_damaging | Missense_Mutation |          NA |          NA | AMR | 1 | GENIE-JHU-00006 | ⋯ | False | 61 | LUAD | Primary | JHU-50GP | Non-Small Cell Lung Cancer | Primary tumor | AMR | Middle Aged | [60-65[ |\n",
       "| 6 | CDKN2A | GENIE-JHU-00006-00185 | NA          | NA                | Nonsense_Mutation |          NA |          NA | AMR | 1 | GENIE-JHU-00006 | ⋯ | False | 61 | LUAD | Primary | JHU-50GP | Non-Small Cell Lung Cancer | Primary tumor | AMR | Middle Aged | [60-65[ |\n",
       "\n"
      ],
      "text/plain": [
       "  Hugo_Symbol sample_id             SIFT_Prediction Polyphen_Prediction\n",
       "1 KRAS        GENIE-JHU-00006-00185 deleterious     probably_damaging  \n",
       "2 BRAF        GENIE-JHU-00006-00185 deleterious     probably_damaging  \n",
       "3 EGFR        GENIE-JHU-00006-00185 deleterious     probably_damaging  \n",
       "4 CTNNB1      GENIE-JHU-00006-00185 deleterious     probably_damaging  \n",
       "5 PIK3CA      GENIE-JHU-00006-00185 deleterious     probably_damaging  \n",
       "6 CDKN2A      GENIE-JHU-00006-00185 NA              NA                 \n",
       "  Variant_Classification gnomAD_AMR_AF gnomAD_NFE_AF Population Pathogen\n",
       "1 Missense_Mutation      0.00000e+00   0.00000e+00   AMR        1       \n",
       "2 Missense_Mutation      0.00000e+00   0.00000e+00   AMR        1       \n",
       "3 Missense_Mutation      2.89101e-05   3.51673e-05   AMR        1       \n",
       "4 Missense_Mutation               NA            NA   AMR        1       \n",
       "5 Missense_Mutation               NA            NA   AMR        1       \n",
       "6 Nonsense_Mutation               NA            NA   AMR        1       \n",
       "  patient_id      ⋯ dead  age oncotree_code sample_type sequence_assay_ID\n",
       "1 GENIE-JHU-00006 ⋯ False 61  LUAD          Primary     JHU-50GP         \n",
       "2 GENIE-JHU-00006 ⋯ False 61  LUAD          Primary     JHU-50GP         \n",
       "3 GENIE-JHU-00006 ⋯ False 61  LUAD          Primary     JHU-50GP         \n",
       "4 GENIE-JHU-00006 ⋯ False 61  LUAD          Primary     JHU-50GP         \n",
       "5 GENIE-JHU-00006 ⋯ False 61  LUAD          Primary     JHU-50GP         \n",
       "6 GENIE-JHU-00006 ⋯ False 61  LUAD          Primary     JHU-50GP         \n",
       "  cancer_type                sample_type_detail population age_group  \n",
       "1 Non-Small Cell Lung Cancer Primary tumor      AMR        Middle Aged\n",
       "2 Non-Small Cell Lung Cancer Primary tumor      AMR        Middle Aged\n",
       "3 Non-Small Cell Lung Cancer Primary tumor      AMR        Middle Aged\n",
       "4 Non-Small Cell Lung Cancer Primary tumor      AMR        Middle Aged\n",
       "5 Non-Small Cell Lung Cancer Primary tumor      AMR        Middle Aged\n",
       "6 Non-Small Cell Lung Cancer Primary tumor      AMR        Middle Aged\n",
       "  age_interval\n",
       "1 [60-65[     \n",
       "2 [60-65[     \n",
       "3 [60-65[     \n",
       "4 [60-65[     \n",
       "5 [60-65[     \n",
       "6 [60-65[     "
      ]
     },
     "metadata": {},
     "output_type": "display_data"
    },
    {
     "data": {
      "text/html": [
       "<style>\n",
       ".list-inline {list-style: none; margin:0; padding: 0}\n",
       ".list-inline>li {display: inline-block}\n",
       ".list-inline>li:not(:last-child)::after {content: \"\\00b7\"; padding: 0 .5ex}\n",
       "</style>\n",
       "<ol class=list-inline><li>511408</li><li>23</li></ol>\n"
      ],
      "text/latex": [
       "\\begin{enumerate*}\n",
       "\\item 511408\n",
       "\\item 23\n",
       "\\end{enumerate*}\n"
      ],
      "text/markdown": [
       "1. 511408\n",
       "2. 23\n",
       "\n",
       "\n"
      ],
      "text/plain": [
       "[1] 511408     23"
      ]
     },
     "metadata": {},
     "output_type": "display_data"
    },
    {
     "data": {
      "text/html": [
       "122143"
      ],
      "text/latex": [
       "122143"
      ],
      "text/markdown": [
       "122143"
      ],
      "text/plain": [
       "[1] 122143"
      ]
     },
     "metadata": {},
     "output_type": "display_data"
    },
    {
     "data": {
      "text/html": [
       "108320"
      ],
      "text/latex": [
       "108320"
      ],
      "text/markdown": [
       "108320"
      ],
      "text/plain": [
       "[1] 108320"
      ]
     },
     "metadata": {},
     "output_type": "display_data"
    }
   ],
   "source": [
    "# We filter pathogens by only keeping rows where the Hugo symbol is in the list of genes with a gene weight of >=0.50\n",
    "pathogen_g_50 <- pathogen %>% filter(Hugo_Symbol %in% g_50[[1]])\n",
    "\n",
    "# We inspect the new dataframe\n",
    "head(pathogen_g_50)\n",
    "dim(pathogen_g_50)\n",
    "\n",
    "# And find how many samples and patients are left\n",
    "length(unique(pathogen_g_50$sample_id))\n",
    "length(unique(pathogen_g_50$patient_id))"
   ]
  },
  {
   "cell_type": "code",
   "execution_count": 11,
   "id": "a82a07ee",
   "metadata": {},
   "outputs": [
    {
     "data": {
      "text/html": [
       "65.0007880300773"
      ],
      "text/latex": [
       "65.0007880300773"
      ],
      "text/markdown": [
       "65.0007880300773"
      ],
      "text/plain": [
       "[1] 65.00079"
      ]
     },
     "metadata": {},
     "output_type": "display_data"
    },
    {
     "data": {
      "text/html": [
       "27.7892160618504"
      ],
      "text/latex": [
       "27.7892160618504"
      ],
      "text/markdown": [
       "27.7892160618504"
      ],
      "text/plain": [
       "[1] 27.78922"
      ]
     },
     "metadata": {},
     "output_type": "display_data"
    }
   ],
   "source": [
    "# Percentage of rows left, in relation to total number of pathogens\n",
    "511408/786772*100\n",
    "\n",
    "# Percentage of rows left, in relation to the original mutation dataset\n",
    "511408/1840311*100"
   ]
  },
  {
   "cell_type": "code",
   "execution_count": 12,
   "id": "249355a1",
   "metadata": {},
   "outputs": [
    {
     "data": {
      "text/html": [
       "<table class=\"dataframe\">\n",
       "<caption>A data.frame: 6 × 23</caption>\n",
       "<thead>\n",
       "\t<tr><th></th><th scope=col>Hugo_Symbol</th><th scope=col>sample_id</th><th scope=col>SIFT_Prediction</th><th scope=col>Polyphen_Prediction</th><th scope=col>Variant_Classification</th><th scope=col>gnomAD_AMR_AF</th><th scope=col>gnomAD_NFE_AF</th><th scope=col>Population</th><th scope=col>Pathogen</th><th scope=col>patient_id</th><th scope=col>⋯</th><th scope=col>dead</th><th scope=col>age</th><th scope=col>oncotree_code</th><th scope=col>sample_type</th><th scope=col>sequence_assay_ID</th><th scope=col>cancer_type</th><th scope=col>sample_type_detail</th><th scope=col>population</th><th scope=col>age_group</th><th scope=col>age_interval</th></tr>\n",
       "\t<tr><th></th><th scope=col>&lt;chr&gt;</th><th scope=col>&lt;chr&gt;</th><th scope=col>&lt;chr&gt;</th><th scope=col>&lt;chr&gt;</th><th scope=col>&lt;chr&gt;</th><th scope=col>&lt;dbl&gt;</th><th scope=col>&lt;dbl&gt;</th><th scope=col>&lt;chr&gt;</th><th scope=col>&lt;int&gt;</th><th scope=col>&lt;chr&gt;</th><th scope=col>⋯</th><th scope=col>&lt;chr&gt;</th><th scope=col>&lt;int&gt;</th><th scope=col>&lt;chr&gt;</th><th scope=col>&lt;chr&gt;</th><th scope=col>&lt;chr&gt;</th><th scope=col>&lt;chr&gt;</th><th scope=col>&lt;chr&gt;</th><th scope=col>&lt;chr&gt;</th><th scope=col>&lt;chr&gt;</th><th scope=col>&lt;chr&gt;</th></tr>\n",
       "</thead>\n",
       "<tbody>\n",
       "\t<tr><th scope=row>1</th><td>KRAS  </td><td>GENIE-JHU-00006-00185</td><td>deleterious</td><td>probably_damaging</td><td>Missense_Mutation</td><td>0.00000e+00</td><td>0.00000e+00</td><td>AMR</td><td>1</td><td>GENIE-JHU-00006</td><td>⋯</td><td>False</td><td>61</td><td>LUAD</td><td>Primary</td><td>JHU-50GP</td><td>Non-Small Cell Lung Cancer</td><td>Primary tumor</td><td>AMR</td><td>Middle Aged</td><td>[60-65[</td></tr>\n",
       "\t<tr><th scope=row>2</th><td>BRAF  </td><td>GENIE-JHU-00006-00185</td><td>deleterious</td><td>probably_damaging</td><td>Missense_Mutation</td><td>0.00000e+00</td><td>0.00000e+00</td><td>AMR</td><td>1</td><td>GENIE-JHU-00006</td><td>⋯</td><td>False</td><td>61</td><td>LUAD</td><td>Primary</td><td>JHU-50GP</td><td>Non-Small Cell Lung Cancer</td><td>Primary tumor</td><td>AMR</td><td>Middle Aged</td><td>[60-65[</td></tr>\n",
       "\t<tr><th scope=row>3</th><td>EGFR  </td><td>GENIE-JHU-00006-00185</td><td>deleterious</td><td>probably_damaging</td><td>Missense_Mutation</td><td>2.89101e-05</td><td>3.51673e-05</td><td>AMR</td><td>1</td><td>GENIE-JHU-00006</td><td>⋯</td><td>False</td><td>61</td><td>LUAD</td><td>Primary</td><td>JHU-50GP</td><td>Non-Small Cell Lung Cancer</td><td>Primary tumor</td><td>AMR</td><td>Middle Aged</td><td>[60-65[</td></tr>\n",
       "\t<tr><th scope=row>4</th><td>CTNNB1</td><td>GENIE-JHU-00006-00185</td><td>deleterious</td><td>probably_damaging</td><td>Missense_Mutation</td><td>         NA</td><td>         NA</td><td>AMR</td><td>1</td><td>GENIE-JHU-00006</td><td>⋯</td><td>False</td><td>61</td><td>LUAD</td><td>Primary</td><td>JHU-50GP</td><td>Non-Small Cell Lung Cancer</td><td>Primary tumor</td><td>AMR</td><td>Middle Aged</td><td>[60-65[</td></tr>\n",
       "\t<tr><th scope=row>5</th><td>PIK3CA</td><td>GENIE-JHU-00006-00185</td><td>deleterious</td><td>probably_damaging</td><td>Missense_Mutation</td><td>         NA</td><td>         NA</td><td>AMR</td><td>1</td><td>GENIE-JHU-00006</td><td>⋯</td><td>False</td><td>61</td><td>LUAD</td><td>Primary</td><td>JHU-50GP</td><td>Non-Small Cell Lung Cancer</td><td>Primary tumor</td><td>AMR</td><td>Middle Aged</td><td>[60-65[</td></tr>\n",
       "\t<tr><th scope=row>6</th><td>CDKN2A</td><td>GENIE-JHU-00006-00185</td><td>NA         </td><td>NA               </td><td>Nonsense_Mutation</td><td>         NA</td><td>         NA</td><td>AMR</td><td>1</td><td>GENIE-JHU-00006</td><td>⋯</td><td>False</td><td>61</td><td>LUAD</td><td>Primary</td><td>JHU-50GP</td><td>Non-Small Cell Lung Cancer</td><td>Primary tumor</td><td>AMR</td><td>Middle Aged</td><td>[60-65[</td></tr>\n",
       "</tbody>\n",
       "</table>\n"
      ],
      "text/latex": [
       "A data.frame: 6 × 23\n",
       "\\begin{tabular}{r|lllllllllllllllllllll}\n",
       "  & Hugo\\_Symbol & sample\\_id & SIFT\\_Prediction & Polyphen\\_Prediction & Variant\\_Classification & gnomAD\\_AMR\\_AF & gnomAD\\_NFE\\_AF & Population & Pathogen & patient\\_id & ⋯ & dead & age & oncotree\\_code & sample\\_type & sequence\\_assay\\_ID & cancer\\_type & sample\\_type\\_detail & population & age\\_group & age\\_interval\\\\\n",
       "  & <chr> & <chr> & <chr> & <chr> & <chr> & <dbl> & <dbl> & <chr> & <int> & <chr> & ⋯ & <chr> & <int> & <chr> & <chr> & <chr> & <chr> & <chr> & <chr> & <chr> & <chr>\\\\\n",
       "\\hline\n",
       "\t1 & KRAS   & GENIE-JHU-00006-00185 & deleterious & probably\\_damaging & Missense\\_Mutation & 0.00000e+00 & 0.00000e+00 & AMR & 1 & GENIE-JHU-00006 & ⋯ & False & 61 & LUAD & Primary & JHU-50GP & Non-Small Cell Lung Cancer & Primary tumor & AMR & Middle Aged & {[}60-65{[}\\\\\n",
       "\t2 & BRAF   & GENIE-JHU-00006-00185 & deleterious & probably\\_damaging & Missense\\_Mutation & 0.00000e+00 & 0.00000e+00 & AMR & 1 & GENIE-JHU-00006 & ⋯ & False & 61 & LUAD & Primary & JHU-50GP & Non-Small Cell Lung Cancer & Primary tumor & AMR & Middle Aged & {[}60-65{[}\\\\\n",
       "\t3 & EGFR   & GENIE-JHU-00006-00185 & deleterious & probably\\_damaging & Missense\\_Mutation & 2.89101e-05 & 3.51673e-05 & AMR & 1 & GENIE-JHU-00006 & ⋯ & False & 61 & LUAD & Primary & JHU-50GP & Non-Small Cell Lung Cancer & Primary tumor & AMR & Middle Aged & {[}60-65{[}\\\\\n",
       "\t4 & CTNNB1 & GENIE-JHU-00006-00185 & deleterious & probably\\_damaging & Missense\\_Mutation &          NA &          NA & AMR & 1 & GENIE-JHU-00006 & ⋯ & False & 61 & LUAD & Primary & JHU-50GP & Non-Small Cell Lung Cancer & Primary tumor & AMR & Middle Aged & {[}60-65{[}\\\\\n",
       "\t5 & PIK3CA & GENIE-JHU-00006-00185 & deleterious & probably\\_damaging & Missense\\_Mutation &          NA &          NA & AMR & 1 & GENIE-JHU-00006 & ⋯ & False & 61 & LUAD & Primary & JHU-50GP & Non-Small Cell Lung Cancer & Primary tumor & AMR & Middle Aged & {[}60-65{[}\\\\\n",
       "\t6 & CDKN2A & GENIE-JHU-00006-00185 & NA          & NA                & Nonsense\\_Mutation &          NA &          NA & AMR & 1 & GENIE-JHU-00006 & ⋯ & False & 61 & LUAD & Primary & JHU-50GP & Non-Small Cell Lung Cancer & Primary tumor & AMR & Middle Aged & {[}60-65{[}\\\\\n",
       "\\end{tabular}\n"
      ],
      "text/markdown": [
       "\n",
       "A data.frame: 6 × 23\n",
       "\n",
       "| <!--/--> | Hugo_Symbol &lt;chr&gt; | sample_id &lt;chr&gt; | SIFT_Prediction &lt;chr&gt; | Polyphen_Prediction &lt;chr&gt; | Variant_Classification &lt;chr&gt; | gnomAD_AMR_AF &lt;dbl&gt; | gnomAD_NFE_AF &lt;dbl&gt; | Population &lt;chr&gt; | Pathogen &lt;int&gt; | patient_id &lt;chr&gt; | ⋯ ⋯ | dead &lt;chr&gt; | age &lt;int&gt; | oncotree_code &lt;chr&gt; | sample_type &lt;chr&gt; | sequence_assay_ID &lt;chr&gt; | cancer_type &lt;chr&gt; | sample_type_detail &lt;chr&gt; | population &lt;chr&gt; | age_group &lt;chr&gt; | age_interval &lt;chr&gt; |\n",
       "|---|---|---|---|---|---|---|---|---|---|---|---|---|---|---|---|---|---|---|---|---|---|\n",
       "| 1 | KRAS   | GENIE-JHU-00006-00185 | deleterious | probably_damaging | Missense_Mutation | 0.00000e+00 | 0.00000e+00 | AMR | 1 | GENIE-JHU-00006 | ⋯ | False | 61 | LUAD | Primary | JHU-50GP | Non-Small Cell Lung Cancer | Primary tumor | AMR | Middle Aged | [60-65[ |\n",
       "| 2 | BRAF   | GENIE-JHU-00006-00185 | deleterious | probably_damaging | Missense_Mutation | 0.00000e+00 | 0.00000e+00 | AMR | 1 | GENIE-JHU-00006 | ⋯ | False | 61 | LUAD | Primary | JHU-50GP | Non-Small Cell Lung Cancer | Primary tumor | AMR | Middle Aged | [60-65[ |\n",
       "| 3 | EGFR   | GENIE-JHU-00006-00185 | deleterious | probably_damaging | Missense_Mutation | 2.89101e-05 | 3.51673e-05 | AMR | 1 | GENIE-JHU-00006 | ⋯ | False | 61 | LUAD | Primary | JHU-50GP | Non-Small Cell Lung Cancer | Primary tumor | AMR | Middle Aged | [60-65[ |\n",
       "| 4 | CTNNB1 | GENIE-JHU-00006-00185 | deleterious | probably_damaging | Missense_Mutation |          NA |          NA | AMR | 1 | GENIE-JHU-00006 | ⋯ | False | 61 | LUAD | Primary | JHU-50GP | Non-Small Cell Lung Cancer | Primary tumor | AMR | Middle Aged | [60-65[ |\n",
       "| 5 | PIK3CA | GENIE-JHU-00006-00185 | deleterious | probably_damaging | Missense_Mutation |          NA |          NA | AMR | 1 | GENIE-JHU-00006 | ⋯ | False | 61 | LUAD | Primary | JHU-50GP | Non-Small Cell Lung Cancer | Primary tumor | AMR | Middle Aged | [60-65[ |\n",
       "| 6 | CDKN2A | GENIE-JHU-00006-00185 | NA          | NA                | Nonsense_Mutation |          NA |          NA | AMR | 1 | GENIE-JHU-00006 | ⋯ | False | 61 | LUAD | Primary | JHU-50GP | Non-Small Cell Lung Cancer | Primary tumor | AMR | Middle Aged | [60-65[ |\n",
       "\n"
      ],
      "text/plain": [
       "  Hugo_Symbol sample_id             SIFT_Prediction Polyphen_Prediction\n",
       "1 KRAS        GENIE-JHU-00006-00185 deleterious     probably_damaging  \n",
       "2 BRAF        GENIE-JHU-00006-00185 deleterious     probably_damaging  \n",
       "3 EGFR        GENIE-JHU-00006-00185 deleterious     probably_damaging  \n",
       "4 CTNNB1      GENIE-JHU-00006-00185 deleterious     probably_damaging  \n",
       "5 PIK3CA      GENIE-JHU-00006-00185 deleterious     probably_damaging  \n",
       "6 CDKN2A      GENIE-JHU-00006-00185 NA              NA                 \n",
       "  Variant_Classification gnomAD_AMR_AF gnomAD_NFE_AF Population Pathogen\n",
       "1 Missense_Mutation      0.00000e+00   0.00000e+00   AMR        1       \n",
       "2 Missense_Mutation      0.00000e+00   0.00000e+00   AMR        1       \n",
       "3 Missense_Mutation      2.89101e-05   3.51673e-05   AMR        1       \n",
       "4 Missense_Mutation               NA            NA   AMR        1       \n",
       "5 Missense_Mutation               NA            NA   AMR        1       \n",
       "6 Nonsense_Mutation               NA            NA   AMR        1       \n",
       "  patient_id      ⋯ dead  age oncotree_code sample_type sequence_assay_ID\n",
       "1 GENIE-JHU-00006 ⋯ False 61  LUAD          Primary     JHU-50GP         \n",
       "2 GENIE-JHU-00006 ⋯ False 61  LUAD          Primary     JHU-50GP         \n",
       "3 GENIE-JHU-00006 ⋯ False 61  LUAD          Primary     JHU-50GP         \n",
       "4 GENIE-JHU-00006 ⋯ False 61  LUAD          Primary     JHU-50GP         \n",
       "5 GENIE-JHU-00006 ⋯ False 61  LUAD          Primary     JHU-50GP         \n",
       "6 GENIE-JHU-00006 ⋯ False 61  LUAD          Primary     JHU-50GP         \n",
       "  cancer_type                sample_type_detail population age_group  \n",
       "1 Non-Small Cell Lung Cancer Primary tumor      AMR        Middle Aged\n",
       "2 Non-Small Cell Lung Cancer Primary tumor      AMR        Middle Aged\n",
       "3 Non-Small Cell Lung Cancer Primary tumor      AMR        Middle Aged\n",
       "4 Non-Small Cell Lung Cancer Primary tumor      AMR        Middle Aged\n",
       "5 Non-Small Cell Lung Cancer Primary tumor      AMR        Middle Aged\n",
       "6 Non-Small Cell Lung Cancer Primary tumor      AMR        Middle Aged\n",
       "  age_interval\n",
       "1 [60-65[     \n",
       "2 [60-65[     \n",
       "3 [60-65[     \n",
       "4 [60-65[     \n",
       "5 [60-65[     \n",
       "6 [60-65[     "
      ]
     },
     "metadata": {},
     "output_type": "display_data"
    },
    {
     "data": {
      "text/html": [
       "<style>\n",
       ".list-inline {list-style: none; margin:0; padding: 0}\n",
       ".list-inline>li {display: inline-block}\n",
       ".list-inline>li:not(:last-child)::after {content: \"\\00b7\"; padding: 0 .5ex}\n",
       "</style>\n",
       "<ol class=list-inline><li>405902</li><li>23</li></ol>\n"
      ],
      "text/latex": [
       "\\begin{enumerate*}\n",
       "\\item 405902\n",
       "\\item 23\n",
       "\\end{enumerate*}\n"
      ],
      "text/markdown": [
       "1. 405902\n",
       "2. 23\n",
       "\n",
       "\n"
      ],
      "text/plain": [
       "[1] 405902     23"
      ]
     },
     "metadata": {},
     "output_type": "display_data"
    },
    {
     "data": {
      "text/html": [
       "118360"
      ],
      "text/latex": [
       "118360"
      ],
      "text/markdown": [
       "118360"
      ],
      "text/plain": [
       "[1] 118360"
      ]
     },
     "metadata": {},
     "output_type": "display_data"
    },
    {
     "data": {
      "text/html": [
       "105077"
      ],
      "text/latex": [
       "105077"
      ],
      "text/markdown": [
       "105077"
      ],
      "text/plain": [
       "[1] 105077"
      ]
     },
     "metadata": {},
     "output_type": "display_data"
    }
   ],
   "source": [
    "# The same as before, but with gene weights of >=0.75\n",
    "pathogen_g_75 <- pathogen %>% filter(Hugo_Symbol %in% g_75[[1]])\n",
    "\n",
    "head(pathogen_g_75)\n",
    "dim(pathogen_g_75)\n",
    "\n",
    "length(unique(pathogen_g_75$sample_id))\n",
    "length(unique(pathogen_g_75$patient_id))"
   ]
  },
  {
   "cell_type": "code",
   "execution_count": 13,
   "id": "64ae1d70",
   "metadata": {},
   "outputs": [
    {
     "data": {
      "text/html": [
       "51.5908039432008"
      ],
      "text/latex": [
       "51.5908039432008"
      ],
      "text/markdown": [
       "51.5908039432008"
      ],
      "text/plain": [
       "[1] 51.5908"
      ]
     },
     "metadata": {},
     "output_type": "display_data"
    },
    {
     "data": {
      "text/html": [
       "22.0561633332627"
      ],
      "text/latex": [
       "22.0561633332627"
      ],
      "text/markdown": [
       "22.0561633332627"
      ],
      "text/plain": [
       "[1] 22.05616"
      ]
     },
     "metadata": {},
     "output_type": "display_data"
    }
   ],
   "source": [
    "405902/786772*100\n",
    "\n",
    "405902/1840311*100"
   ]
  },
  {
   "cell_type": "markdown",
   "id": "377c8683",
   "metadata": {},
   "source": [
    "## Results\n",
    "\n",
    "Before filtering by anything, there were 786.772 pathogens.\n",
    "\n",
    "When restricting our data to tumor samples where there was clinical data, there were 618.196 pathogens left across 124.738 samples and 110.611 patients (~84% of all pathogens).\n",
    "\n",
    "If we filter by a gene weight of >=0.50, there are 511.408 pathogens left across 122.143 samples and 108.320 patients (~65% of all pathogens, ~28% of the original mutation data).\n",
    "\n",
    "If we filter by a gene weight of >=0.75, there are 405.902 pathogens left across 118.360 samples and 105.077 patients (~52% of all pathogens, ~22% of the original mutation data)."
   ]
  },
  {
   "cell_type": "code",
   "execution_count": 14,
   "id": "616e8dbb",
   "metadata": {},
   "outputs": [],
   "source": [
    "write.csv(pathogen_g_75, \"../../derived_data/genie_v15/pathogen_filtered_75.csv\", row.names=FALSE)\n",
    "write.csv(pathogen_g_50, \"../../derived_data/genie_v15/pathogen_filtered_50.csv\", row.names=FALSE)"
   ]
  }
 ],
 "metadata": {
  "kernelspec": {
   "display_name": "R",
   "language": "R",
   "name": "ir"
  },
  "language_info": {
   "codemirror_mode": "r",
   "file_extension": ".r",
   "mimetype": "text/x-r-source",
   "name": "R",
   "pygments_lexer": "r",
   "version": "4.2.2"
  }
 },
 "nbformat": 4,
 "nbformat_minor": 5
}
