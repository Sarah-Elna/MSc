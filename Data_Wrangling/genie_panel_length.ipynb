{
 "cells": [
  {
   "cell_type": "markdown",
   "id": "ac795eda",
   "metadata": {},
   "source": [
    "# Genomic information\n",
    "\n",
    "to calculate the mutation pr. Mbp for each individual, we need to find the read-length of each pannel. This can be done by looking at the genomic information, and each sequence assays start- and end position. Since we are not interested in introns, each gene can have multiple start and end positions. For each panel, we erefre have to find the length of each segment, and simply sum over it."
   ]
  },
  {
   "cell_type": "code",
   "execution_count": 19,
   "id": "02fc8e2b",
   "metadata": {},
   "outputs": [],
   "source": [
    "library('ggplot2')\n",
    "library('dplyr')"
   ]
  },
  {
   "cell_type": "markdown",
   "id": "17789a42",
   "metadata": {},
   "source": [
    "## Loading the data"
   ]
  },
  {
   "cell_type": "code",
   "execution_count": 20,
   "id": "04a572fb",
   "metadata": {},
   "outputs": [
    {
     "data": {
      "text/html": [
       "<style>\n",
       ".list-inline {list-style: none; margin:0; padding: 0}\n",
       ".list-inline>li {display: inline-block}\n",
       ".list-inline>li:not(:last-child)::after {content: \"\\00b7\"; padding: 0 .5ex}\n",
       "</style>\n",
       "<ol class=list-inline><li>9211709</li><li>9</li></ol>\n"
      ],
      "text/latex": [
       "\\begin{enumerate*}\n",
       "\\item 9211709\n",
       "\\item 9\n",
       "\\end{enumerate*}\n"
      ],
      "text/markdown": [
       "1. 9211709\n",
       "2. 9\n",
       "\n",
       "\n"
      ],
      "text/plain": [
       "[1] 9211709       9"
      ]
     },
     "metadata": {},
     "output_type": "display_data"
    },
    {
     "data": {
      "text/html": [
       "<table class=\"dataframe\">\n",
       "<caption>A data.frame: 6 × 9</caption>\n",
       "<thead>\n",
       "\t<tr><th></th><th scope=col>Chromosome</th><th scope=col>Start_Position</th><th scope=col>End_Position</th><th scope=col>Hugo_Symbol</th><th scope=col>ID</th><th scope=col>SEQ_ASSAY_ID</th><th scope=col>Feature_Type</th><th scope=col>includeInPanel</th><th scope=col>clinicalReported</th></tr>\n",
       "\t<tr><th></th><th scope=col>&lt;chr&gt;</th><th scope=col>&lt;int&gt;</th><th scope=col>&lt;int&gt;</th><th scope=col>&lt;chr&gt;</th><th scope=col>&lt;chr&gt;</th><th scope=col>&lt;chr&gt;</th><th scope=col>&lt;chr&gt;</th><th scope=col>&lt;chr&gt;</th><th scope=col>&lt;chr&gt;</th></tr>\n",
       "</thead>\n",
       "<tbody>\n",
       "\t<tr><th scope=row>1</th><td>9 </td><td>133738302</td><td>133738491</td><td>ABL1</td><td>ABL1</td><td>UHN-48-V1</td><td>exon</td><td>True</td><td></td></tr>\n",
       "\t<tr><th scope=row>2</th><td>9 </td><td>133747476</td><td>133747664</td><td>ABL1</td><td>ABL1</td><td>UHN-48-V1</td><td>exon</td><td>True</td><td></td></tr>\n",
       "\t<tr><th scope=row>3</th><td>9 </td><td>133748157</td><td>133748327</td><td>ABL1</td><td>ABL1</td><td>UHN-48-V1</td><td>exon</td><td>True</td><td></td></tr>\n",
       "\t<tr><th scope=row>4</th><td>9 </td><td>133748277</td><td>133748457</td><td>ABL1</td><td>ABL1</td><td>UHN-48-V1</td><td>exon</td><td>True</td><td></td></tr>\n",
       "\t<tr><th scope=row>5</th><td>9 </td><td>133750328</td><td>133750516</td><td>ABL1</td><td>ABL1</td><td>UHN-48-V1</td><td>exon</td><td>True</td><td></td></tr>\n",
       "\t<tr><th scope=row>6</th><td>14</td><td>105246429</td><td>105246600</td><td>AKT1</td><td>AKT1</td><td>UHN-48-V1</td><td>exon</td><td>True</td><td></td></tr>\n",
       "</tbody>\n",
       "</table>\n"
      ],
      "text/latex": [
       "A data.frame: 6 × 9\n",
       "\\begin{tabular}{r|lllllllll}\n",
       "  & Chromosome & Start\\_Position & End\\_Position & Hugo\\_Symbol & ID & SEQ\\_ASSAY\\_ID & Feature\\_Type & includeInPanel & clinicalReported\\\\\n",
       "  & <chr> & <int> & <int> & <chr> & <chr> & <chr> & <chr> & <chr> & <chr>\\\\\n",
       "\\hline\n",
       "\t1 & 9  & 133738302 & 133738491 & ABL1 & ABL1 & UHN-48-V1 & exon & True & \\\\\n",
       "\t2 & 9  & 133747476 & 133747664 & ABL1 & ABL1 & UHN-48-V1 & exon & True & \\\\\n",
       "\t3 & 9  & 133748157 & 133748327 & ABL1 & ABL1 & UHN-48-V1 & exon & True & \\\\\n",
       "\t4 & 9  & 133748277 & 133748457 & ABL1 & ABL1 & UHN-48-V1 & exon & True & \\\\\n",
       "\t5 & 9  & 133750328 & 133750516 & ABL1 & ABL1 & UHN-48-V1 & exon & True & \\\\\n",
       "\t6 & 14 & 105246429 & 105246600 & AKT1 & AKT1 & UHN-48-V1 & exon & True & \\\\\n",
       "\\end{tabular}\n"
      ],
      "text/markdown": [
       "\n",
       "A data.frame: 6 × 9\n",
       "\n",
       "| <!--/--> | Chromosome &lt;chr&gt; | Start_Position &lt;int&gt; | End_Position &lt;int&gt; | Hugo_Symbol &lt;chr&gt; | ID &lt;chr&gt; | SEQ_ASSAY_ID &lt;chr&gt; | Feature_Type &lt;chr&gt; | includeInPanel &lt;chr&gt; | clinicalReported &lt;chr&gt; |\n",
       "|---|---|---|---|---|---|---|---|---|---|\n",
       "| 1 | 9  | 133738302 | 133738491 | ABL1 | ABL1 | UHN-48-V1 | exon | True | <!----> |\n",
       "| 2 | 9  | 133747476 | 133747664 | ABL1 | ABL1 | UHN-48-V1 | exon | True | <!----> |\n",
       "| 3 | 9  | 133748157 | 133748327 | ABL1 | ABL1 | UHN-48-V1 | exon | True | <!----> |\n",
       "| 4 | 9  | 133748277 | 133748457 | ABL1 | ABL1 | UHN-48-V1 | exon | True | <!----> |\n",
       "| 5 | 9  | 133750328 | 133750516 | ABL1 | ABL1 | UHN-48-V1 | exon | True | <!----> |\n",
       "| 6 | 14 | 105246429 | 105246600 | AKT1 | AKT1 | UHN-48-V1 | exon | True | <!----> |\n",
       "\n"
      ],
      "text/plain": [
       "  Chromosome Start_Position End_Position Hugo_Symbol ID   SEQ_ASSAY_ID\n",
       "1 9          133738302      133738491    ABL1        ABL1 UHN-48-V1   \n",
       "2 9          133747476      133747664    ABL1        ABL1 UHN-48-V1   \n",
       "3 9          133748157      133748327    ABL1        ABL1 UHN-48-V1   \n",
       "4 9          133748277      133748457    ABL1        ABL1 UHN-48-V1   \n",
       "5 9          133750328      133750516    ABL1        ABL1 UHN-48-V1   \n",
       "6 14         105246429      105246600    AKT1        AKT1 UHN-48-V1   \n",
       "  Feature_Type includeInPanel clinicalReported\n",
       "1 exon         True                           \n",
       "2 exon         True                           \n",
       "3 exon         True                           \n",
       "4 exon         True                           \n",
       "5 exon         True                           \n",
       "6 exon         True                           "
      ]
     },
     "metadata": {},
     "output_type": "display_data"
    }
   ],
   "source": [
    "genomic_inf <- read.table(\"../../data/genie_v15/genomic_information.txt\", sep=\"\\t\", quote=\"\", head=TRUE)\n",
    "dim(genomic_inf)\n",
    "head(genomic_inf)"
   ]
  },
  {
   "cell_type": "markdown",
   "id": "d46696f3",
   "metadata": {},
   "source": [
    "## Creating the table"
   ]
  },
  {
   "cell_type": "code",
   "execution_count": 21,
   "id": "f1e20f1b",
   "metadata": {},
   "outputs": [
    {
     "data": {
      "text/plain": [
       "\n",
       "  False    True \n",
       "3390930 5820779 "
      ]
     },
     "metadata": {},
     "output_type": "display_data"
    },
    {
     "data": {
      "text/plain": [
       "\n",
       "   True \n",
       "5820779 "
      ]
     },
     "metadata": {},
     "output_type": "display_data"
    },
    {
     "data": {
      "text/html": [
       "<style>\n",
       ".list-inline {list-style: none; margin:0; padding: 0}\n",
       ".list-inline>li {display: inline-block}\n",
       ".list-inline>li:not(:last-child)::after {content: \"\\00b7\"; padding: 0 .5ex}\n",
       "</style>\n",
       "<ol class=list-inline><li>5820779</li><li>4</li></ol>\n"
      ],
      "text/latex": [
       "\\begin{enumerate*}\n",
       "\\item 5820779\n",
       "\\item 4\n",
       "\\end{enumerate*}\n"
      ],
      "text/markdown": [
       "1. 5820779\n",
       "2. 4\n",
       "\n",
       "\n"
      ],
      "text/plain": [
       "[1] 5820779       4"
      ]
     },
     "metadata": {},
     "output_type": "display_data"
    },
    {
     "data": {
      "text/html": [
       "<table class=\"dataframe\">\n",
       "<caption>A data.frame: 6 × 4</caption>\n",
       "<thead>\n",
       "\t<tr><th></th><th scope=col>SEQ_ASSAY_ID</th><th scope=col>Start_Position</th><th scope=col>End_Position</th><th scope=col>length</th></tr>\n",
       "\t<tr><th></th><th scope=col>&lt;chr&gt;</th><th scope=col>&lt;int&gt;</th><th scope=col>&lt;int&gt;</th><th scope=col>&lt;int&gt;</th></tr>\n",
       "</thead>\n",
       "<tbody>\n",
       "\t<tr><th scope=row>1</th><td>UHN-48-V1</td><td>133738302</td><td>133738491</td><td>189</td></tr>\n",
       "\t<tr><th scope=row>2</th><td>UHN-48-V1</td><td>133747476</td><td>133747664</td><td>188</td></tr>\n",
       "\t<tr><th scope=row>3</th><td>UHN-48-V1</td><td>133748157</td><td>133748327</td><td>170</td></tr>\n",
       "\t<tr><th scope=row>4</th><td>UHN-48-V1</td><td>133748277</td><td>133748457</td><td>180</td></tr>\n",
       "\t<tr><th scope=row>5</th><td>UHN-48-V1</td><td>133750328</td><td>133750516</td><td>188</td></tr>\n",
       "\t<tr><th scope=row>6</th><td>UHN-48-V1</td><td>105246429</td><td>105246600</td><td>171</td></tr>\n",
       "</tbody>\n",
       "</table>\n"
      ],
      "text/latex": [
       "A data.frame: 6 × 4\n",
       "\\begin{tabular}{r|llll}\n",
       "  & SEQ\\_ASSAY\\_ID & Start\\_Position & End\\_Position & length\\\\\n",
       "  & <chr> & <int> & <int> & <int>\\\\\n",
       "\\hline\n",
       "\t1 & UHN-48-V1 & 133738302 & 133738491 & 189\\\\\n",
       "\t2 & UHN-48-V1 & 133747476 & 133747664 & 188\\\\\n",
       "\t3 & UHN-48-V1 & 133748157 & 133748327 & 170\\\\\n",
       "\t4 & UHN-48-V1 & 133748277 & 133748457 & 180\\\\\n",
       "\t5 & UHN-48-V1 & 133750328 & 133750516 & 188\\\\\n",
       "\t6 & UHN-48-V1 & 105246429 & 105246600 & 171\\\\\n",
       "\\end{tabular}\n"
      ],
      "text/markdown": [
       "\n",
       "A data.frame: 6 × 4\n",
       "\n",
       "| <!--/--> | SEQ_ASSAY_ID &lt;chr&gt; | Start_Position &lt;int&gt; | End_Position &lt;int&gt; | length &lt;int&gt; |\n",
       "|---|---|---|---|---|\n",
       "| 1 | UHN-48-V1 | 133738302 | 133738491 | 189 |\n",
       "| 2 | UHN-48-V1 | 133747476 | 133747664 | 188 |\n",
       "| 3 | UHN-48-V1 | 133748157 | 133748327 | 170 |\n",
       "| 4 | UHN-48-V1 | 133748277 | 133748457 | 180 |\n",
       "| 5 | UHN-48-V1 | 133750328 | 133750516 | 188 |\n",
       "| 6 | UHN-48-V1 | 105246429 | 105246600 | 171 |\n",
       "\n"
      ],
      "text/plain": [
       "  SEQ_ASSAY_ID Start_Position End_Position length\n",
       "1 UHN-48-V1    133738302      133738491    189   \n",
       "2 UHN-48-V1    133747476      133747664    188   \n",
       "3 UHN-48-V1    133748157      133748327    170   \n",
       "4 UHN-48-V1    133748277      133748457    180   \n",
       "5 UHN-48-V1    133750328      133750516    188   \n",
       "6 UHN-48-V1    105246429      105246600    171   "
      ]
     },
     "metadata": {},
     "output_type": "display_data"
    }
   ],
   "source": [
    "table(genomic_inf$includeInPanel)\n",
    "\n",
    "# We are only interested in the ranges of genes that are included in each panel\n",
    "genomic_inf <- genomic_inf[which(genomic_inf$includeInPanel=='True'), ]\n",
    "\n",
    "# checking if it worked\n",
    "table(genomic_inf$includeInPanel)\n",
    "\n",
    "# Limiting the table to columns of interest\n",
    "genomic_inf <- genomic_inf[, c('SEQ_ASSAY_ID', 'Start_Position', 'End_Position')]\n",
    "\n",
    "# Calculating the length\n",
    "genomic_inf$length <- genomic_inf$End_Position - genomic_inf$Start_Position\n",
    "\n",
    "# Checking the new table\n",
    "dim(genomic_inf)\n",
    "head(genomic_inf)"
   ]
  },
  {
   "cell_type": "code",
   "execution_count": 22,
   "id": "611961bb",
   "metadata": {},
   "outputs": [
    {
     "data": {
      "text/html": [
       "<style>\n",
       ".list-inline {list-style: none; margin:0; padding: 0}\n",
       ".list-inline>li {display: inline-block}\n",
       ".list-inline>li:not(:last-child)::after {content: \"\\00b7\"; padding: 0 .5ex}\n",
       "</style>\n",
       "<ol class=list-inline><li>112</li><li>2</li></ol>\n"
      ],
      "text/latex": [
       "\\begin{enumerate*}\n",
       "\\item 112\n",
       "\\item 2\n",
       "\\end{enumerate*}\n"
      ],
      "text/markdown": [
       "1. 112\n",
       "2. 2\n",
       "\n",
       "\n"
      ],
      "text/plain": [
       "[1] 112   2"
      ]
     },
     "metadata": {},
     "output_type": "display_data"
    },
    {
     "data": {
      "text/html": [
       "<table class=\"dataframe\">\n",
       "<caption>A data.frame: 6 × 2</caption>\n",
       "<thead>\n",
       "\t<tr><th></th><th scope=col>Assay_ID</th><th scope=col>length_in_bp</th></tr>\n",
       "\t<tr><th></th><th scope=col>&lt;chr&gt;</th><th scope=col>&lt;dbl&gt;</th></tr>\n",
       "</thead>\n",
       "<tbody>\n",
       "\t<tr><th scope=row>1</th><td>UHN-48-V1          </td><td> 529200</td></tr>\n",
       "\t<tr><th scope=row>2</th><td>UHN-50-V2          </td><td> 308378</td></tr>\n",
       "\t<tr><th scope=row>3</th><td>GRCC-CHP2          </td><td> 330405</td></tr>\n",
       "\t<tr><th scope=row>4</th><td>GRCC-CP1           </td><td> 332685</td></tr>\n",
       "\t<tr><th scope=row>5</th><td>GRCC-MOSC3         </td><td>2276205</td></tr>\n",
       "\t<tr><th scope=row>6</th><td>NKI-TSACP-MISEQ-NGS</td><td> 567000</td></tr>\n",
       "</tbody>\n",
       "</table>\n"
      ],
      "text/latex": [
       "A data.frame: 6 × 2\n",
       "\\begin{tabular}{r|ll}\n",
       "  & Assay\\_ID & length\\_in\\_bp\\\\\n",
       "  & <chr> & <dbl>\\\\\n",
       "\\hline\n",
       "\t1 & UHN-48-V1           &  529200\\\\\n",
       "\t2 & UHN-50-V2           &  308378\\\\\n",
       "\t3 & GRCC-CHP2           &  330405\\\\\n",
       "\t4 & GRCC-CP1            &  332685\\\\\n",
       "\t5 & GRCC-MOSC3          & 2276205\\\\\n",
       "\t6 & NKI-TSACP-MISEQ-NGS &  567000\\\\\n",
       "\\end{tabular}\n"
      ],
      "text/markdown": [
       "\n",
       "A data.frame: 6 × 2\n",
       "\n",
       "| <!--/--> | Assay_ID &lt;chr&gt; | length_in_bp &lt;dbl&gt; |\n",
       "|---|---|---|\n",
       "| 1 | UHN-48-V1           |  529200 |\n",
       "| 2 | UHN-50-V2           |  308378 |\n",
       "| 3 | GRCC-CHP2           |  330405 |\n",
       "| 4 | GRCC-CP1            |  332685 |\n",
       "| 5 | GRCC-MOSC3          | 2276205 |\n",
       "| 6 | NKI-TSACP-MISEQ-NGS |  567000 |\n",
       "\n"
      ],
      "text/plain": [
       "  Assay_ID            length_in_bp\n",
       "1 UHN-48-V1            529200     \n",
       "2 UHN-50-V2            308378     \n",
       "3 GRCC-CHP2            330405     \n",
       "4 GRCC-CP1             332685     \n",
       "5 GRCC-MOSC3          2276205     \n",
       "6 NKI-TSACP-MISEQ-NGS  567000     "
      ]
     },
     "metadata": {},
     "output_type": "display_data"
    }
   ],
   "source": [
    "panel_length_table <- data.frame(Assay_ID=character(),\n",
    "                               length_in_bp=numeric()\n",
    "                              )\n",
    "\n",
    "for (panel in unique(genomic_inf$SEQ_ASSAY_ID)) {\n",
    "    \n",
    "    panel_inf <- genomic_inf[which(genomic_inf$SEQ_ASSAY_ID==panel),]\n",
    "    \n",
    "    idx <- nrow(panel_length_table)+1\n",
    "        \n",
    "    panel_length_table[idx, 1] <- panel\n",
    "    panel_length_table[idx, 2] <- sum(panel_inf$length)\n",
    "}\n",
    "\n",
    "# Checking the new table\n",
    "dim(panel_length_table)\n",
    "head(panel_length_table)"
   ]
  },
  {
   "cell_type": "code",
   "execution_count": 23,
   "id": "061c8ea3",
   "metadata": {},
   "outputs": [
    {
     "data": {
      "text/html": [
       "<style>\n",
       ".list-inline {list-style: none; margin:0; padding: 0}\n",
       ".list-inline>li {display: inline-block}\n",
       ".list-inline>li:not(:last-child)::after {content: \"\\00b7\"; padding: 0 .5ex}\n",
       "</style>\n",
       "<ol class=list-inline><li>13</li><li>2</li></ol>\n"
      ],
      "text/latex": [
       "\\begin{enumerate*}\n",
       "\\item 13\n",
       "\\item 2\n",
       "\\end{enumerate*}\n"
      ],
      "text/markdown": [
       "1. 13\n",
       "2. 2\n",
       "\n",
       "\n"
      ],
      "text/plain": [
       "[1] 13  2"
      ]
     },
     "metadata": {},
     "output_type": "display_data"
    },
    {
     "data": {
      "text/html": [
       "<table class=\"dataframe\">\n",
       "<caption>A data.frame: 13 × 2</caption>\n",
       "<thead>\n",
       "\t<tr><th scope=col>Assay_ID</th><th scope=col>length_in_bp</th></tr>\n",
       "\t<tr><th scope=col>&lt;chr&gt;</th><th scope=col>&lt;dbl&gt;</th></tr>\n",
       "</thead>\n",
       "<tbody>\n",
       "\t<tr><td>WAKE-CA-NGSQ3     </td><td>0</td></tr>\n",
       "\t<tr><td>WAKE-CLINICAL-R2D2</td><td>0</td></tr>\n",
       "\t<tr><td>WAKE-CLINICAL-T5A </td><td>0</td></tr>\n",
       "\t<tr><td>WAKE-CLINICAL-T7  </td><td>0</td></tr>\n",
       "\t<tr><td>WAKE-CA-01        </td><td>0</td></tr>\n",
       "\t<tr><td>WAKE-CLINICAL-DX1 </td><td>0</td></tr>\n",
       "\t<tr><td>WAKE-CLINICAL-AB2 </td><td>0</td></tr>\n",
       "\t<tr><td>WAKE-CLINICAL-AB3 </td><td>0</td></tr>\n",
       "\t<tr><td>WAKE-CLINICAL-AB1 </td><td>0</td></tr>\n",
       "\t<tr><td>WAKE-CLINICAL-CF2 </td><td>0</td></tr>\n",
       "\t<tr><td>WAKE-CLINICAL-CF3 </td><td>0</td></tr>\n",
       "\t<tr><td>WAKE-CLINICAL-D2  </td><td>0</td></tr>\n",
       "\t<tr><td>WAKE-CLINICAL-R2  </td><td>0</td></tr>\n",
       "</tbody>\n",
       "</table>\n"
      ],
      "text/latex": [
       "A data.frame: 13 × 2\n",
       "\\begin{tabular}{ll}\n",
       " Assay\\_ID & length\\_in\\_bp\\\\\n",
       " <chr> & <dbl>\\\\\n",
       "\\hline\n",
       "\t WAKE-CA-NGSQ3      & 0\\\\\n",
       "\t WAKE-CLINICAL-R2D2 & 0\\\\\n",
       "\t WAKE-CLINICAL-T5A  & 0\\\\\n",
       "\t WAKE-CLINICAL-T7   & 0\\\\\n",
       "\t WAKE-CA-01         & 0\\\\\n",
       "\t WAKE-CLINICAL-DX1  & 0\\\\\n",
       "\t WAKE-CLINICAL-AB2  & 0\\\\\n",
       "\t WAKE-CLINICAL-AB3  & 0\\\\\n",
       "\t WAKE-CLINICAL-AB1  & 0\\\\\n",
       "\t WAKE-CLINICAL-CF2  & 0\\\\\n",
       "\t WAKE-CLINICAL-CF3  & 0\\\\\n",
       "\t WAKE-CLINICAL-D2   & 0\\\\\n",
       "\t WAKE-CLINICAL-R2   & 0\\\\\n",
       "\\end{tabular}\n"
      ],
      "text/markdown": [
       "\n",
       "A data.frame: 13 × 2\n",
       "\n",
       "| Assay_ID &lt;chr&gt; | length_in_bp &lt;dbl&gt; |\n",
       "|---|---|\n",
       "| WAKE-CA-NGSQ3      | 0 |\n",
       "| WAKE-CLINICAL-R2D2 | 0 |\n",
       "| WAKE-CLINICAL-T5A  | 0 |\n",
       "| WAKE-CLINICAL-T7   | 0 |\n",
       "| WAKE-CA-01         | 0 |\n",
       "| WAKE-CLINICAL-DX1  | 0 |\n",
       "| WAKE-CLINICAL-AB2  | 0 |\n",
       "| WAKE-CLINICAL-AB3  | 0 |\n",
       "| WAKE-CLINICAL-AB1  | 0 |\n",
       "| WAKE-CLINICAL-CF2  | 0 |\n",
       "| WAKE-CLINICAL-CF3  | 0 |\n",
       "| WAKE-CLINICAL-D2   | 0 |\n",
       "| WAKE-CLINICAL-R2   | 0 |\n",
       "\n"
      ],
      "text/plain": [
       "   Assay_ID           length_in_bp\n",
       "1  WAKE-CA-NGSQ3      0           \n",
       "2  WAKE-CLINICAL-R2D2 0           \n",
       "3  WAKE-CLINICAL-T5A  0           \n",
       "4  WAKE-CLINICAL-T7   0           \n",
       "5  WAKE-CA-01         0           \n",
       "6  WAKE-CLINICAL-DX1  0           \n",
       "7  WAKE-CLINICAL-AB2  0           \n",
       "8  WAKE-CLINICAL-AB3  0           \n",
       "9  WAKE-CLINICAL-AB1  0           \n",
       "10 WAKE-CLINICAL-CF2  0           \n",
       "11 WAKE-CLINICAL-CF3  0           \n",
       "12 WAKE-CLINICAL-D2   0           \n",
       "13 WAKE-CLINICAL-R2   0           "
      ]
     },
     "metadata": {},
     "output_type": "display_data"
    },
    {
     "data": {
      "image/png": "[encoded data removed]",
      "text/plain": [
       "plot without title"
      ]
     },
     "metadata": {
      "image/png": {
       "height": 420,
       "width": 420
      }
     },
     "output_type": "display_data"
    }
   ],
   "source": [
    "# Visualizing the pael lengths\n",
    "ggplot(panel_length_table, aes(x=Assay_ID, y=length_in_bp)) + geom_col()\n",
    "\n",
    "# How many panels have a length of 0, and which ones are they?\n",
    "blup <- panel_length_table %>% filter(length_in_bp == 0)\n",
    "\n",
    "dim(blup)\n",
    "blup"
   ]
  },
  {
   "cell_type": "code",
   "execution_count": 24,
   "id": "6809d64a",
   "metadata": {},
   "outputs": [],
   "source": [
    "write.csv(panel_length_table, \"../../derived_data/genie_v15/panel_length_table.csv\", row.names=TRUE)"
   ]
  }
 ],
 "metadata": {
  "kernelspec": {
   "display_name": "R",
   "language": "R",
   "name": "ir"
  },
  "language_info": {
   "codemirror_mode": "r",
   "file_extension": ".r",
   "mimetype": "text/x-r-source",
   "name": "R",
   "pygments_lexer": "r",
   "version": "4.2.2"
  }
 },
 "nbformat": 4,
 "nbformat_minor": 5
}
