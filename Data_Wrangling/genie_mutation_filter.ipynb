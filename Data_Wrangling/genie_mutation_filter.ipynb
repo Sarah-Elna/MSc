{
 "cells": [
  {
   "cell_type": "markdown",
   "id": "23683a02",
   "metadata": {},
   "source": [
    "# Genie mutation filtering\n",
    "\n",
    "I want to create a new table containing one row for each mutation in data_mutations_extended.txt and the following columns:\n",
    "* Hugo_Symbol *- Official name of an allele.*\n",
    "* SIFT_Prediction *- The prediced effects of amino acid substitutions on proteins using the SIFT (sorting intolerant from tolerant) algorithm*\n",
    "* Polyphen_Prediction *- The prediced effects of amino acid substitutions on proteins using the PolyPhen (Polymorphism Phenotyping) algorithm*\n",
    "* Variant_Classification *- Translational effect of variant allele*\n",
    "* gnomAD_AMR_AF *- Allele frequency in gnomAD database whole-genome sequence data on Admixed American population.*\n",
    "* Pathogenic *- Weather or not the mutation is pathogenic: 0 = is not, 1 = is.*\n",
    "\n",
    "Unlike the other columns which can be found in the data_mutations_extended.txt file, the Pathogenic column should be calculated based on the values in the other columns.\n",
    "\n",
    "SIFT_Prediction - https://doi.org/10.1093/nar/gks539\n",
    "\n",
    "Polyphen_Prediction - https://doi.org/10.1002/0471142905.hg0720s76\n"
   ]
  },
  {
   "cell_type": "markdown",
   "id": "98aa1cde",
   "metadata": {},
   "source": [
    "## Setup"
   ]
  },
  {
   "cell_type": "code",
   "execution_count": 1,
   "id": "5ad23556",
   "metadata": {},
   "outputs": [
    {
     "name": "stderr",
     "output_type": "stream",
     "text": [
      "Warning message:\n",
      "“package ‘ggplot2’ was built under R version 4.2.3”\n"
     ]
    }
   ],
   "source": [
    "library(ggplot2)"
   ]
  },
  {
   "cell_type": "markdown",
   "id": "9c993ae1",
   "metadata": {},
   "source": [
    "## Get data"
   ]
  },
  {
   "cell_type": "code",
   "execution_count": 2,
   "id": "a7ea43f9",
   "metadata": {},
   "outputs": [
    {
     "data": {
      "text/html": [
       "<style>\n",
       ".list-inline {list-style: none; margin:0; padding: 0}\n",
       ".list-inline>li {display: inline-block}\n",
       ".list-inline>li:not(:last-child)::after {content: \"\\00b7\"; padding: 0 .5ex}\n",
       "</style>\n",
       "<ol class=list-inline><li>1840311</li><li>64</li></ol>\n"
      ],
      "text/latex": [
       "\\begin{enumerate*}\n",
       "\\item 1840311\n",
       "\\item 64\n",
       "\\end{enumerate*}\n"
      ],
      "text/markdown": [
       "1. 1840311\n",
       "2. 64\n",
       "\n",
       "\n"
      ],
      "text/plain": [
       "[1] 1840311      64"
      ]
     },
     "metadata": {},
     "output_type": "display_data"
    },
    {
     "data": {
      "text/html": [
       "<table class=\"dataframe\">\n",
       "<caption>A data.frame: 6 × 64</caption>\n",
       "<thead>\n",
       "\t<tr><th></th><th scope=col>Hugo_Symbol</th><th scope=col>Entrez_Gene_Id</th><th scope=col>Center</th><th scope=col>NCBI_Build</th><th scope=col>Chromosome</th><th scope=col>Start_Position</th><th scope=col>End_Position</th><th scope=col>Strand</th><th scope=col>Consequence</th><th scope=col>Variant_Classification</th><th scope=col>⋯</th><th scope=col>FILTER</th><th scope=col>Polyphen_Prediction</th><th scope=col>Polyphen_Score</th><th scope=col>SIFT_Prediction</th><th scope=col>SIFT_Score</th><th scope=col>SWISSPROT</th><th scope=col>n_depth</th><th scope=col>t_depth</th><th scope=col>Annotation_Status</th><th scope=col>mutationInCis_Flag</th></tr>\n",
       "\t<tr><th></th><th scope=col>&lt;chr&gt;</th><th scope=col>&lt;int&gt;</th><th scope=col>&lt;chr&gt;</th><th scope=col>&lt;chr&gt;</th><th scope=col>&lt;chr&gt;</th><th scope=col>&lt;int&gt;</th><th scope=col>&lt;int&gt;</th><th scope=col>&lt;chr&gt;</th><th scope=col>&lt;chr&gt;</th><th scope=col>&lt;chr&gt;</th><th scope=col>⋯</th><th scope=col>&lt;chr&gt;</th><th scope=col>&lt;chr&gt;</th><th scope=col>&lt;dbl&gt;</th><th scope=col>&lt;chr&gt;</th><th scope=col>&lt;dbl&gt;</th><th scope=col>&lt;lgl&gt;</th><th scope=col>&lt;int&gt;</th><th scope=col>&lt;int&gt;</th><th scope=col>&lt;chr&gt;</th><th scope=col>&lt;chr&gt;</th></tr>\n",
       "</thead>\n",
       "<tbody>\n",
       "\t<tr><th scope=row>1</th><td>KRAS  </td><td>3845</td><td>JHU</td><td>GRCh37</td><td>12</td><td> 25398285</td><td> 25398285</td><td>+</td><td>missense_variant</td><td>Missense_Mutation</td><td>⋯</td><td>PASS</td><td>probably_damaging</td><td>0.991</td><td>deleterious</td><td>0.04</td><td>NA</td><td>NA</td><td>1623</td><td>SUCCESS</td><td>False</td></tr>\n",
       "\t<tr><th scope=row>2</th><td>BRAF  </td><td> 673</td><td>JHU</td><td>GRCh37</td><td>7 </td><td>140453136</td><td>140453136</td><td>+</td><td>missense_variant</td><td>Missense_Mutation</td><td>⋯</td><td>PASS</td><td>probably_damaging</td><td>0.963</td><td>deleterious</td><td>0.00</td><td>NA</td><td>NA</td><td>1031</td><td>SUCCESS</td><td>False</td></tr>\n",
       "\t<tr><th scope=row>3</th><td>EGFR  </td><td>1956</td><td>JHU</td><td>GRCh37</td><td>7 </td><td> 55249071</td><td> 55249071</td><td>+</td><td>missense_variant</td><td>Missense_Mutation</td><td>⋯</td><td>PASS</td><td>probably_damaging</td><td>1.000</td><td>deleterious</td><td>0.00</td><td>NA</td><td>NA</td><td> 692</td><td>SUCCESS</td><td>False</td></tr>\n",
       "\t<tr><th scope=row>4</th><td>TP53  </td><td>7157</td><td>JHU</td><td>GRCh37</td><td>17</td><td>  7577120</td><td>  7577120</td><td>+</td><td>missense_variant</td><td>Missense_Mutation</td><td>⋯</td><td>PASS</td><td>possibly_damaging</td><td>0.643</td><td>tolerated  </td><td>0.13</td><td>NA</td><td>NA</td><td> 930</td><td>SUCCESS</td><td>False</td></tr>\n",
       "\t<tr><th scope=row>5</th><td>NRAS  </td><td>4893</td><td>JHU</td><td>GRCh37</td><td>1 </td><td>115256529</td><td>115256529</td><td>+</td><td>missense_variant</td><td>Missense_Mutation</td><td>⋯</td><td>PASS</td><td>benign           </td><td>0.251</td><td>tolerated  </td><td>0.06</td><td>NA</td><td>NA</td><td>2277</td><td>SUCCESS</td><td>False</td></tr>\n",
       "\t<tr><th scope=row>6</th><td>PIK3CA</td><td>5290</td><td>JHU</td><td>GRCh37</td><td>3 </td><td>178952085</td><td>178952085</td><td>+</td><td>missense_variant</td><td>Missense_Mutation</td><td>⋯</td><td>PASS</td><td>benign           </td><td>0.085</td><td>tolerated  </td><td>0.11</td><td>NA</td><td>NA</td><td>1064</td><td>SUCCESS</td><td>False</td></tr>\n",
       "</tbody>\n",
       "</table>\n"
      ],
      "text/latex": [
       "A data.frame: 6 × 64\n",
       "\\begin{tabular}{r|lllllllllllllllllllll}\n",
       "  & Hugo\\_Symbol & Entrez\\_Gene\\_Id & Center & NCBI\\_Build & Chromosome & Start\\_Position & End\\_Position & Strand & Consequence & Variant\\_Classification & ⋯ & FILTER & Polyphen\\_Prediction & Polyphen\\_Score & SIFT\\_Prediction & SIFT\\_Score & SWISSPROT & n\\_depth & t\\_depth & Annotation\\_Status & mutationInCis\\_Flag\\\\\n",
       "  & <chr> & <int> & <chr> & <chr> & <chr> & <int> & <int> & <chr> & <chr> & <chr> & ⋯ & <chr> & <chr> & <dbl> & <chr> & <dbl> & <lgl> & <int> & <int> & <chr> & <chr>\\\\\n",
       "\\hline\n",
       "\t1 & KRAS   & 3845 & JHU & GRCh37 & 12 &  25398285 &  25398285 & + & missense\\_variant & Missense\\_Mutation & ⋯ & PASS & probably\\_damaging & 0.991 & deleterious & 0.04 & NA & NA & 1623 & SUCCESS & False\\\\\n",
       "\t2 & BRAF   &  673 & JHU & GRCh37 & 7  & 140453136 & 140453136 & + & missense\\_variant & Missense\\_Mutation & ⋯ & PASS & probably\\_damaging & 0.963 & deleterious & 0.00 & NA & NA & 1031 & SUCCESS & False\\\\\n",
       "\t3 & EGFR   & 1956 & JHU & GRCh37 & 7  &  55249071 &  55249071 & + & missense\\_variant & Missense\\_Mutation & ⋯ & PASS & probably\\_damaging & 1.000 & deleterious & 0.00 & NA & NA &  692 & SUCCESS & False\\\\\n",
       "\t4 & TP53   & 7157 & JHU & GRCh37 & 17 &   7577120 &   7577120 & + & missense\\_variant & Missense\\_Mutation & ⋯ & PASS & possibly\\_damaging & 0.643 & tolerated   & 0.13 & NA & NA &  930 & SUCCESS & False\\\\\n",
       "\t5 & NRAS   & 4893 & JHU & GRCh37 & 1  & 115256529 & 115256529 & + & missense\\_variant & Missense\\_Mutation & ⋯ & PASS & benign            & 0.251 & tolerated   & 0.06 & NA & NA & 2277 & SUCCESS & False\\\\\n",
       "\t6 & PIK3CA & 5290 & JHU & GRCh37 & 3  & 178952085 & 178952085 & + & missense\\_variant & Missense\\_Mutation & ⋯ & PASS & benign            & 0.085 & tolerated   & 0.11 & NA & NA & 1064 & SUCCESS & False\\\\\n",
       "\\end{tabular}\n"
      ],
      "text/markdown": [
       "\n",
       "A data.frame: 6 × 64\n",
       "\n",
       "| <!--/--> | Hugo_Symbol &lt;chr&gt; | Entrez_Gene_Id &lt;int&gt; | Center &lt;chr&gt; | NCBI_Build &lt;chr&gt; | Chromosome &lt;chr&gt; | Start_Position &lt;int&gt; | End_Position &lt;int&gt; | Strand &lt;chr&gt; | Consequence &lt;chr&gt; | Variant_Classification &lt;chr&gt; | ⋯ ⋯ | FILTER &lt;chr&gt; | Polyphen_Prediction &lt;chr&gt; | Polyphen_Score &lt;dbl&gt; | SIFT_Prediction &lt;chr&gt; | SIFT_Score &lt;dbl&gt; | SWISSPROT &lt;lgl&gt; | n_depth &lt;int&gt; | t_depth &lt;int&gt; | Annotation_Status &lt;chr&gt; | mutationInCis_Flag &lt;chr&gt; |\n",
       "|---|---|---|---|---|---|---|---|---|---|---|---|---|---|---|---|---|---|---|---|---|---|\n",
       "| 1 | KRAS   | 3845 | JHU | GRCh37 | 12 |  25398285 |  25398285 | + | missense_variant | Missense_Mutation | ⋯ | PASS | probably_damaging | 0.991 | deleterious | 0.04 | NA | NA | 1623 | SUCCESS | False |\n",
       "| 2 | BRAF   |  673 | JHU | GRCh37 | 7  | 140453136 | 140453136 | + | missense_variant | Missense_Mutation | ⋯ | PASS | probably_damaging | 0.963 | deleterious | 0.00 | NA | NA | 1031 | SUCCESS | False |\n",
       "| 3 | EGFR   | 1956 | JHU | GRCh37 | 7  |  55249071 |  55249071 | + | missense_variant | Missense_Mutation | ⋯ | PASS | probably_damaging | 1.000 | deleterious | 0.00 | NA | NA |  692 | SUCCESS | False |\n",
       "| 4 | TP53   | 7157 | JHU | GRCh37 | 17 |   7577120 |   7577120 | + | missense_variant | Missense_Mutation | ⋯ | PASS | possibly_damaging | 0.643 | tolerated   | 0.13 | NA | NA |  930 | SUCCESS | False |\n",
       "| 5 | NRAS   | 4893 | JHU | GRCh37 | 1  | 115256529 | 115256529 | + | missense_variant | Missense_Mutation | ⋯ | PASS | benign            | 0.251 | tolerated   | 0.06 | NA | NA | 2277 | SUCCESS | False |\n",
       "| 6 | PIK3CA | 5290 | JHU | GRCh37 | 3  | 178952085 | 178952085 | + | missense_variant | Missense_Mutation | ⋯ | PASS | benign            | 0.085 | tolerated   | 0.11 | NA | NA | 1064 | SUCCESS | False |\n",
       "\n"
      ],
      "text/plain": [
       "  Hugo_Symbol Entrez_Gene_Id Center NCBI_Build Chromosome Start_Position\n",
       "1 KRAS        3845           JHU    GRCh37     12          25398285     \n",
       "2 BRAF         673           JHU    GRCh37     7          140453136     \n",
       "3 EGFR        1956           JHU    GRCh37     7           55249071     \n",
       "4 TP53        7157           JHU    GRCh37     17           7577120     \n",
       "5 NRAS        4893           JHU    GRCh37     1          115256529     \n",
       "6 PIK3CA      5290           JHU    GRCh37     3          178952085     \n",
       "  End_Position Strand Consequence      Variant_Classification ⋯ FILTER\n",
       "1  25398285    +      missense_variant Missense_Mutation      ⋯ PASS  \n",
       "2 140453136    +      missense_variant Missense_Mutation      ⋯ PASS  \n",
       "3  55249071    +      missense_variant Missense_Mutation      ⋯ PASS  \n",
       "4   7577120    +      missense_variant Missense_Mutation      ⋯ PASS  \n",
       "5 115256529    +      missense_variant Missense_Mutation      ⋯ PASS  \n",
       "6 178952085    +      missense_variant Missense_Mutation      ⋯ PASS  \n",
       "  Polyphen_Prediction Polyphen_Score SIFT_Prediction SIFT_Score SWISSPROT\n",
       "1 probably_damaging   0.991          deleterious     0.04       NA       \n",
       "2 probably_damaging   0.963          deleterious     0.00       NA       \n",
       "3 probably_damaging   1.000          deleterious     0.00       NA       \n",
       "4 possibly_damaging   0.643          tolerated       0.13       NA       \n",
       "5 benign              0.251          tolerated       0.06       NA       \n",
       "6 benign              0.085          tolerated       0.11       NA       \n",
       "  n_depth t_depth Annotation_Status mutationInCis_Flag\n",
       "1 NA      1623    SUCCESS           False             \n",
       "2 NA      1031    SUCCESS           False             \n",
       "3 NA       692    SUCCESS           False             \n",
       "4 NA       930    SUCCESS           False             \n",
       "5 NA      2277    SUCCESS           False             \n",
       "6 NA      1064    SUCCESS           False             "
      ]
     },
     "metadata": {},
     "output_type": "display_data"
    }
   ],
   "source": [
    "mutation_data <- read.table(\"../../data/genie_v15/data_mutations_extended.txt\", sep=\"\\t\", quote=\"\", head=TRUE)\n",
    "\n",
    "dim(mutation_data)\n",
    "head(mutation_data)"
   ]
  },
  {
   "cell_type": "markdown",
   "id": "ed1dcb8f",
   "metadata": {},
   "source": [
    "Now that we have the data, we want to do three things.\n",
    "\n",
    "1) Choose a subset of the columns\n",
    "\n",
    "2) Add a Population column\n",
    "\n",
    "There are five centers not located in America:\n",
    "* NKI - Netherlands\n",
    "* GRCC - France\n",
    "* UHN - Canada\n",
    "* CRUK - England\n",
    "* VHIO - Spain\n",
    "\n",
    "Of these five, all except Canada can be categorised as non-Finish Europeans.\n",
    "\n",
    "3) Add a Pathogenic column initiated with only 0s.\n",
    "\n",
    "At the end of the scrit we want the ones that are pathogenic to have a value of 1, and to evaluate that based on the other columns."
   ]
  },
  {
   "cell_type": "code",
   "execution_count": 3,
   "id": "f75cfcd8",
   "metadata": {},
   "outputs": [
    {
     "data": {
      "text/html": [
       "<style>\n",
       ".list-inline {list-style: none; margin:0; padding: 0}\n",
       ".list-inline>li {display: inline-block}\n",
       ".list-inline>li:not(:last-child)::after {content: \"\\00b7\"; padding: 0 .5ex}\n",
       "</style>\n",
       "<ol class=list-inline><li>1840311</li><li>8</li></ol>\n"
      ],
      "text/latex": [
       "\\begin{enumerate*}\n",
       "\\item 1840311\n",
       "\\item 8\n",
       "\\end{enumerate*}\n"
      ],
      "text/markdown": [
       "1. 1840311\n",
       "2. 8\n",
       "\n",
       "\n"
      ],
      "text/plain": [
       "[1] 1840311       8"
      ]
     },
     "metadata": {},
     "output_type": "display_data"
    },
    {
     "data": {
      "text/html": [
       "<table class=\"dataframe\">\n",
       "<caption>A data.frame: 6 × 8</caption>\n",
       "<thead>\n",
       "\t<tr><th></th><th scope=col>Hugo_Symbol</th><th scope=col>Tumor_Sample_Barcode</th><th scope=col>SIFT_Prediction</th><th scope=col>Polyphen_Prediction</th><th scope=col>Variant_Classification</th><th scope=col>gnomAD_AMR_AF</th><th scope=col>gnomAD_NFE_AF</th><th scope=col>Population</th></tr>\n",
       "\t<tr><th></th><th scope=col>&lt;chr&gt;</th><th scope=col>&lt;chr&gt;</th><th scope=col>&lt;chr&gt;</th><th scope=col>&lt;chr&gt;</th><th scope=col>&lt;chr&gt;</th><th scope=col>&lt;dbl&gt;</th><th scope=col>&lt;dbl&gt;</th><th scope=col>&lt;chr&gt;</th></tr>\n",
       "</thead>\n",
       "<tbody>\n",
       "\t<tr><th scope=row>1</th><td>KRAS  </td><td>GENIE-JHU-00006-00185</td><td>deleterious</td><td>probably_damaging</td><td>Missense_Mutation</td><td>0.00000e+00</td><td>0.00000e+00</td><td>AMR</td></tr>\n",
       "\t<tr><th scope=row>2</th><td>BRAF  </td><td>GENIE-JHU-00006-00185</td><td>deleterious</td><td>probably_damaging</td><td>Missense_Mutation</td><td>0.00000e+00</td><td>0.00000e+00</td><td>AMR</td></tr>\n",
       "\t<tr><th scope=row>3</th><td>EGFR  </td><td>GENIE-JHU-00006-00185</td><td>deleterious</td><td>probably_damaging</td><td>Missense_Mutation</td><td>2.89101e-05</td><td>3.51673e-05</td><td>AMR</td></tr>\n",
       "\t<tr><th scope=row>4</th><td>TP53  </td><td>GENIE-JHU-00006-00185</td><td>tolerated  </td><td>possibly_damaging</td><td>Missense_Mutation</td><td>0.00000e+00</td><td>2.64271e-05</td><td>AMR</td></tr>\n",
       "\t<tr><th scope=row>5</th><td>NRAS  </td><td>GENIE-JHU-00006-00185</td><td>tolerated  </td><td>benign           </td><td>Missense_Mutation</td><td>         NA</td><td>         NA</td><td>AMR</td></tr>\n",
       "\t<tr><th scope=row>6</th><td>PIK3CA</td><td>GENIE-JHU-00006-00185</td><td>tolerated  </td><td>benign           </td><td>Missense_Mutation</td><td>         NA</td><td>         NA</td><td>AMR</td></tr>\n",
       "</tbody>\n",
       "</table>\n"
      ],
      "text/latex": [
       "A data.frame: 6 × 8\n",
       "\\begin{tabular}{r|llllllll}\n",
       "  & Hugo\\_Symbol & Tumor\\_Sample\\_Barcode & SIFT\\_Prediction & Polyphen\\_Prediction & Variant\\_Classification & gnomAD\\_AMR\\_AF & gnomAD\\_NFE\\_AF & Population\\\\\n",
       "  & <chr> & <chr> & <chr> & <chr> & <chr> & <dbl> & <dbl> & <chr>\\\\\n",
       "\\hline\n",
       "\t1 & KRAS   & GENIE-JHU-00006-00185 & deleterious & probably\\_damaging & Missense\\_Mutation & 0.00000e+00 & 0.00000e+00 & AMR\\\\\n",
       "\t2 & BRAF   & GENIE-JHU-00006-00185 & deleterious & probably\\_damaging & Missense\\_Mutation & 0.00000e+00 & 0.00000e+00 & AMR\\\\\n",
       "\t3 & EGFR   & GENIE-JHU-00006-00185 & deleterious & probably\\_damaging & Missense\\_Mutation & 2.89101e-05 & 3.51673e-05 & AMR\\\\\n",
       "\t4 & TP53   & GENIE-JHU-00006-00185 & tolerated   & possibly\\_damaging & Missense\\_Mutation & 0.00000e+00 & 2.64271e-05 & AMR\\\\\n",
       "\t5 & NRAS   & GENIE-JHU-00006-00185 & tolerated   & benign            & Missense\\_Mutation &          NA &          NA & AMR\\\\\n",
       "\t6 & PIK3CA & GENIE-JHU-00006-00185 & tolerated   & benign            & Missense\\_Mutation &          NA &          NA & AMR\\\\\n",
       "\\end{tabular}\n"
      ],
      "text/markdown": [
       "\n",
       "A data.frame: 6 × 8\n",
       "\n",
       "| <!--/--> | Hugo_Symbol &lt;chr&gt; | Tumor_Sample_Barcode &lt;chr&gt; | SIFT_Prediction &lt;chr&gt; | Polyphen_Prediction &lt;chr&gt; | Variant_Classification &lt;chr&gt; | gnomAD_AMR_AF &lt;dbl&gt; | gnomAD_NFE_AF &lt;dbl&gt; | Population &lt;chr&gt; |\n",
       "|---|---|---|---|---|---|---|---|---|\n",
       "| 1 | KRAS   | GENIE-JHU-00006-00185 | deleterious | probably_damaging | Missense_Mutation | 0.00000e+00 | 0.00000e+00 | AMR |\n",
       "| 2 | BRAF   | GENIE-JHU-00006-00185 | deleterious | probably_damaging | Missense_Mutation | 0.00000e+00 | 0.00000e+00 | AMR |\n",
       "| 3 | EGFR   | GENIE-JHU-00006-00185 | deleterious | probably_damaging | Missense_Mutation | 2.89101e-05 | 3.51673e-05 | AMR |\n",
       "| 4 | TP53   | GENIE-JHU-00006-00185 | tolerated   | possibly_damaging | Missense_Mutation | 0.00000e+00 | 2.64271e-05 | AMR |\n",
       "| 5 | NRAS   | GENIE-JHU-00006-00185 | tolerated   | benign            | Missense_Mutation |          NA |          NA | AMR |\n",
       "| 6 | PIK3CA | GENIE-JHU-00006-00185 | tolerated   | benign            | Missense_Mutation |          NA |          NA | AMR |\n",
       "\n"
      ],
      "text/plain": [
       "  Hugo_Symbol Tumor_Sample_Barcode  SIFT_Prediction Polyphen_Prediction\n",
       "1 KRAS        GENIE-JHU-00006-00185 deleterious     probably_damaging  \n",
       "2 BRAF        GENIE-JHU-00006-00185 deleterious     probably_damaging  \n",
       "3 EGFR        GENIE-JHU-00006-00185 deleterious     probably_damaging  \n",
       "4 TP53        GENIE-JHU-00006-00185 tolerated       possibly_damaging  \n",
       "5 NRAS        GENIE-JHU-00006-00185 tolerated       benign             \n",
       "6 PIK3CA      GENIE-JHU-00006-00185 tolerated       benign             \n",
       "  Variant_Classification gnomAD_AMR_AF gnomAD_NFE_AF Population\n",
       "1 Missense_Mutation      0.00000e+00   0.00000e+00   AMR       \n",
       "2 Missense_Mutation      0.00000e+00   0.00000e+00   AMR       \n",
       "3 Missense_Mutation      2.89101e-05   3.51673e-05   AMR       \n",
       "4 Missense_Mutation      0.00000e+00   2.64271e-05   AMR       \n",
       "5 Missense_Mutation               NA            NA   AMR       \n",
       "6 Missense_Mutation               NA            NA   AMR       "
      ]
     },
     "metadata": {},
     "output_type": "display_data"
    }
   ],
   "source": [
    "# Choosing the columns\n",
    "mutation_pathogen_filter <- mutation_data[c('Hugo_Symbol', 'Tumor_Sample_Barcode', 'Center', 'SIFT_Prediction', 'Polyphen_Prediction', 'Variant_Classification', 'gnomAD_AMR_AF', 'gnomAD_NFE_AF')]\n",
    "\n",
    "# Adding the new column and giving population values\n",
    "mutation_pathogen_filter['Population'] <- 'AMR'\n",
    "mutation_pathogen_filter['Population'][mutation_pathogen_filter['Center'] == 'NKI'] <- 'NFE'\n",
    "mutation_pathogen_filter['Population'][mutation_pathogen_filter['Center'] == 'GRCC'] <- 'NFE'\n",
    "mutation_pathogen_filter['Population'][mutation_pathogen_filter['Center'] == 'CRUK'] <- 'NFE'\n",
    "mutation_pathogen_filter['Population'][mutation_pathogen_filter['Center'] == 'VHIO'] <- 'NFE'\n",
    "\n",
    "# Removing the Center column\n",
    "mutation_pathogen_filter <- subset(mutation_pathogen_filter, select = -Center )\n",
    "\n",
    "# Examining the new dataframe\n",
    "dim(mutation_pathogen_filter)\n",
    "head(mutation_pathogen_filter)"
   ]
  },
  {
   "cell_type": "markdown",
   "id": "075ebf3a",
   "metadata": {},
   "source": [
    "## Examine Data"
   ]
  },
  {
   "cell_type": "markdown",
   "id": "fabd2d27",
   "metadata": {},
   "source": [
    "#### Population"
   ]
  },
  {
   "cell_type": "code",
   "execution_count": 4,
   "id": "f71513d4",
   "metadata": {},
   "outputs": [
    {
     "data": {
      "text/plain": [
       "\n",
       "    AMR     NFE \n",
       "1812075   28236 "
      ]
     },
     "metadata": {},
     "output_type": "display_data"
    }
   ],
   "source": [
    "# How many mutations belong to each population?\n",
    "table(mutation_pathogen_filter$Population)"
   ]
  },
  {
   "cell_type": "markdown",
   "id": "13fb075c",
   "metadata": {},
   "source": [
    "#### SIFT Prediction"
   ]
  },
  {
   "cell_type": "code",
   "execution_count": 5,
   "id": "178d7f99",
   "metadata": {},
   "outputs": [
    {
     "data": {
      "text/plain": [
       "\n",
       "               deleterious deleterious_low_confidence \n",
       "                    649421                      65371 \n",
       "                 tolerated   tolerated_low_confidence \n",
       "                    424199                      58876 "
      ]
     },
     "metadata": {},
     "output_type": "display_data"
    }
   ],
   "source": [
    "# Setting missing predictions to be NA\n",
    "mutation_pathogen_filter['SIFT_Prediction'][mutation_pathogen_filter['SIFT_Prediction'] == ''] <- NA\n",
    "\n",
    "# How many mutations are in each category?\n",
    "table(mutation_pathogen_filter$SIFT_Prediction)"
   ]
  },
  {
   "cell_type": "code",
   "execution_count": 6,
   "id": "b395ebf1",
   "metadata": {},
   "outputs": [
    {
     "data": {
      "text/html": [
       "65.090465687593"
      ],
      "text/latex": [
       "65.090465687593"
      ],
      "text/markdown": [
       "65.090465687593"
      ],
      "text/plain": [
       "[1] 65.09047"
      ]
     },
     "metadata": {},
     "output_type": "display_data"
    }
   ],
   "source": [
    "# How much of the data has a SIFT prediction?\n",
    "((649421 + 65371 + 424199 + 58876)/1840311)*100"
   ]
  },
  {
   "cell_type": "markdown",
   "id": "b04af1f4",
   "metadata": {},
   "source": [
    "65% of the data has a SIFT_Prediction score."
   ]
  },
  {
   "cell_type": "markdown",
   "id": "db7f0e6e",
   "metadata": {},
   "source": [
    "#### Polyphen prediction"
   ]
  },
  {
   "cell_type": "code",
   "execution_count": 7,
   "id": "b342ad84",
   "metadata": {},
   "outputs": [
    {
     "data": {
      "text/plain": [
       "\n",
       "           benign possibly_damaging probably_damaging \n",
       "           525778            200715            476703 "
      ]
     },
     "metadata": {},
     "output_type": "display_data"
    }
   ],
   "source": [
    "# Setting missing and unknown predictions to be NA\n",
    "mutation_pathogen_filter['Polyphen_Prediction'][mutation_pathogen_filter['Polyphen_Prediction'] == ''] <- NA\n",
    "mutation_pathogen_filter['Polyphen_Prediction'][mutation_pathogen_filter['Polyphen_Prediction'] == 'unknown'] <- NA\n",
    "\n",
    "# How many mutations are in each category?\n",
    "table(mutation_pathogen_filter$Polyphen_Prediction)"
   ]
  },
  {
   "cell_type": "code",
   "execution_count": 8,
   "id": "8be3ff0a",
   "metadata": {},
   "outputs": [
    {
     "data": {
      "text/html": [
       "65.3800363090804"
      ],
      "text/latex": [
       "65.3800363090804"
      ],
      "text/markdown": [
       "65.3800363090804"
      ],
      "text/plain": [
       "[1] 65.38004"
      ]
     },
     "metadata": {},
     "output_type": "display_data"
    }
   ],
   "source": [
    "# How much of the data has a Polyphen prediction?\n",
    "((525778 + 200715 + 476703)/1840311)*100"
   ]
  },
  {
   "cell_type": "markdown",
   "id": "1a971747",
   "metadata": {},
   "source": [
    "65% of the data has a Polyphen_Prediction"
   ]
  },
  {
   "cell_type": "markdown",
   "id": "2e5664d6",
   "metadata": {},
   "source": [
    "#### Missing predictions"
   ]
  },
  {
   "cell_type": "code",
   "execution_count": 8,
   "id": "d3cb4f13",
   "metadata": {},
   "outputs": [
    {
     "data": {
      "text/html": [
       "34.6000214094248"
      ],
      "text/latex": [
       "34.6000214094248"
      ],
      "text/markdown": [
       "34.6000214094248"
      ],
      "text/plain": [
       "[1] 34.60002"
      ]
     },
     "metadata": {},
     "output_type": "display_data"
    }
   ],
   "source": [
    "# How many mutations have neither prediction?\n",
    "missing_pred <- length(which(is.na(mutation_pathogen_filter$Polyphen_Prediction) & is.na(mutation_pathogen_filter$SIFT_Prediction)))\n",
    "\n",
    "(missing_pred/1840311)*100"
   ]
  },
  {
   "cell_type": "markdown",
   "id": "15b267c7",
   "metadata": {},
   "source": [
    "34% of the data has no predicted outcome."
   ]
  },
  {
   "cell_type": "markdown",
   "id": "f6bb9968",
   "metadata": {},
   "source": [
    "#### Variant Classification"
   ]
  },
  {
   "cell_type": "code",
   "execution_count": 9,
   "id": "3509e3bf",
   "metadata": {},
   "outputs": [
    {
     "data": {
      "text/plain": [
       "\n",
       "               3'Flank                  3'UTR                5'Flank \n",
       "                  6991                   3873                  25546 \n",
       "                 5'UTR        Frame_Shift_Del        Frame_Shift_Ins \n",
       "                  3801                 102725                  46969 \n",
       "          In_Frame_Del           In_Frame_Ins                 Intron \n",
       "                 24542                   9225                  54127 \n",
       "     Missense_Mutation      Nonsense_Mutation       Nonstop_Mutation \n",
       "               1209408                 127372                    924 \n",
       "                   RNA                 Silent          Splice_Region \n",
       "                  2090                 124278                  51972 \n",
       "           Splice_Site Translation_Start_Site \n",
       "                 44459                   2009 "
      ]
     },
     "metadata": {},
     "output_type": "display_data"
    }
   ],
   "source": [
    "table(mutation_pathogen_filter$Variant_Classification)"
   ]
  },
  {
   "cell_type": "code",
   "execution_count": 10,
   "id": "7e523f98",
   "metadata": {},
   "outputs": [
    {
     "data": {
      "text/html": [
       "0"
      ],
      "text/latex": [
       "0"
      ],
      "text/markdown": [
       "0"
      ],
      "text/plain": [
       "[1] 0"
      ]
     },
     "metadata": {},
     "output_type": "display_data"
    }
   ],
   "source": [
    "# How many mutations lack a variant classification\n",
    "missing_variant <- length(which(is.na(mutation_pathogen_filter$Variant_Classification)))\n",
    "(missing_variant/1840311)*100"
   ]
  },
  {
   "cell_type": "markdown",
   "id": "bae78452",
   "metadata": {},
   "source": [
    "All mutations have a Variant Classification. "
   ]
  },
  {
   "cell_type": "markdown",
   "id": "7f84387f",
   "metadata": {},
   "source": [
    "#### HUGO symbl"
   ]
  },
  {
   "cell_type": "code",
   "execution_count": 11,
   "id": "76238176",
   "metadata": {},
   "outputs": [
    {
     "data": {
      "text/html": [
       "1682"
      ],
      "text/latex": [
       "1682"
      ],
      "text/markdown": [
       "1682"
      ],
      "text/plain": [
       "[1] 1682"
      ]
     },
     "metadata": {},
     "output_type": "display_data"
    }
   ],
   "source": [
    "# How many unique Hugo symbols are there?\n",
    "length(unique(mutation_pathogen_filter$Hugo_Symbol))"
   ]
  },
  {
   "cell_type": "markdown",
   "id": "72e4f3a4",
   "metadata": {},
   "source": [
    "The 1840311 data points are divided into 1682 types of mutations."
   ]
  },
  {
   "cell_type": "markdown",
   "id": "9f8eda90",
   "metadata": {},
   "source": [
    "#### gnomAD_AF"
   ]
  },
  {
   "cell_type": "code",
   "execution_count": 12,
   "id": "38416437",
   "metadata": {},
   "outputs": [
    {
     "data": {
      "text/html": [
       "0.0377869856409455"
      ],
      "text/latex": [
       "0.0377869856409455"
      ],
      "text/markdown": [
       "0.0377869856409455"
      ],
      "text/plain": [
       "[1] 0.03778699"
      ]
     },
     "metadata": {},
     "output_type": "display_data"
    },
    {
     "data": {
      "text/html": [
       "0.0208323161303973"
      ],
      "text/latex": [
       "0.0208323161303973"
      ],
      "text/markdown": [
       "0.0208323161303973"
      ],
      "text/plain": [
       "[1] 0.02083232"
      ]
     },
     "metadata": {},
     "output_type": "display_data"
    },
    {
     "data": {
      "text/html": [
       "83.3063541977416"
      ],
      "text/latex": [
       "83.3063541977416"
      ],
      "text/markdown": [
       "83.3063541977416"
      ],
      "text/plain": [
       "[1] 83.30635"
      ]
     },
     "metadata": {},
     "output_type": "display_data"
    }
   ],
   "source": [
    "# How many common allele frequencies are there in the AMR populations?\n",
    "\n",
    "# 1. How many common are there\n",
    "common_gnomAD_AMR <- length(which(mutation_pathogen_filter$gnomAD_AMR_AF>0.01))\n",
    "# 2. How many known gnomAD values are there?\n",
    "missing_gnomAD_AMR <- length(which(is.na(mutation_pathogen_filter$gnomAD_AMR_AF)))\n",
    "not_missing_gnomAD_AMR <- (1840311 - missing_gnomAD_AMR)\n",
    "# 3. What percentage of known allele frequencies are common across the populations?\n",
    "(common_gnomAD_AMR/not_missing_gnomAD_AMR)*100\n",
    "\n",
    "\n",
    "# How many common allele frequencies are there in the NFE populations?\n",
    "\n",
    "# 1. How many common are there\n",
    "common_gnomAD_NFE <- length(which(mutation_pathogen_filter$gnomAD_NFE_AF>0.01))\n",
    "# 2. How many known gnomAD values are there?\n",
    "missing_gnomAD_NFE <- length(which(is.na(mutation_pathogen_filter$gnomAD_NFE_AF)))\n",
    "not_missing_gnomAD_NFE <- (1840311 - missing_gnomAD_NFE)\n",
    "# 3. What percentage of known allele frequencies are common across the populations?\n",
    "(common_gnomAD_NFE/not_missing_gnomAD_NFE)*100\n",
    "\n",
    "\n",
    "\n",
    "# How much missing data is missing all gnomAD values?\n",
    "missing_gnomAD <- length(which(is.na(mutation_pathogen_filter$gnomAD_AMR_AF) & is.na(mutation_pathogen_filter$gnomAD_NFE_AF)))\n",
    "\n",
    "(missing_gnomAD/1840311)*100"
   ]
  },
  {
   "cell_type": "markdown",
   "id": "6a83bee0",
   "metadata": {},
   "source": [
    "In the AMR and NFE population, there are 0.04% and 0.02% that have common mutations, resectively.\n",
    "\n",
    "83% of the data does not have any gnomAD value. This is because the mutations have not been seen in the population."
   ]
  },
  {
   "cell_type": "markdown",
   "id": "c2fceb0c",
   "metadata": {},
   "source": [
    "## The filter\n",
    "\n",
    "If the mutation is common in the population >0.01, it is not a pathogen.\n",
    "\n",
    "If he mutation significantly impacts a gene, like a Frame-shift mutation, Nonsense-mutation, Splicing-mutation or Tanslation mutation, it is a pathogen.\n",
    "\n",
    "If the mutation is a Missense mutation, the Polyphen and SIFT prediction must both be confident in it being damaging/deleterious to be a pathogen.\n",
    "\n",
    "This is the background for out basic idea:\n",
    "\n",
    "    bad_mutations = c(Frame_Shift_Del, \n",
    "                        Frame_Shift_Ins,\n",
    "                        Nonsense_Mutation, #- creates a nonsense or stop codon\n",
    "                        Splice_Region, #- Mutations near the splice site\n",
    "                        Splice_Site,\n",
    "                        Translation_Start_Site,\n",
    "                        Nonstop_Mutation #- does not stop\n",
    "                        )\n",
    "\n",
    "    if gnomAD_pop_AF < 0.01:\n",
    "        if Variant_Class in bad_mutations :\n",
    "            Pathogen <- 1\n",
    "        if Variant_Class == 'Missense':\n",
    "            if Polyphen_Prediction == 'probably_damaging' & SIFT_Prediction == 'deleterious'\n",
    "                Pathogen <- 1\n",
    "                 \n"
   ]
  },
  {
   "cell_type": "code",
   "execution_count": 14,
   "id": "a6c787d1",
   "metadata": {},
   "outputs": [],
   "source": [
    "# We create the Pathogen column with a default of not-pathogenic\n",
    "mutation_pathogen_filter$Pathogen <- 0\n",
    "\n",
    "# We define a list of mutations we know to be pathogenic\n",
    "bad_mutations <- c('Frame_Shift_Del', 'Frame_Shift_Ins', 'Nonsense_Mutation', 'Splice_Site', 'Translation_Start_Site', 'Nonstop_Mutation')\n",
    "\n",
    "# Find all rows where the population gnomAD allele frequency is bellow 0.01\n",
    "filter1 <- which(mutation_pathogen_filter$Population == 'AMR' & mutation_pathogen_filter$gnomAD_AMR_AF <= 0.01)\n",
    "filter2 <- which(mutation_pathogen_filter$Population == 'NFE' & mutation_pathogen_filter$gnomAD_NFE_AF <= 0.01)\n",
    "# And all rows where there is no gnomAD value\n",
    "filter3 <- which(is.na(mutation_pathogen_filter$gnomAD_NFE_AF) & is.na(mutation_pathogen_filter$gnomAD_AMR_AF))\n",
    "\n",
    "# Combine the lists\n",
    "filter <- c(filter1, filter2, filter3)\n",
    "\n",
    "# We go through all rows with uncommon mutations\n",
    "for (i in filter) {\n",
    "    # If the mutation is a bad mutaion...\n",
    "    if (mutation_pathogen_filter$Variant_Classification[i] %in% bad_mutations) {\n",
    "        # ... It is pathogenic\n",
    "        mutation_pathogen_filter$Pathogen[i] <- 1\n",
    "    }\n",
    "    # If the mutation is a missense mutation...\n",
    "    if (mutation_pathogen_filter$Variant_Classification[i] == 'Missense_Mutation') {\n",
    "        # ... And both Polyphen and SIFT prediction is probably damaging/deleterious...\n",
    "        if (!is.na(mutation_pathogen_filter$Polyphen_Prediction[i]) & !is.na(mutation_pathogen_filter$SIFT_Prediction[i]) & mutation_pathogen_filter$Polyphen_Prediction[i] == 'probably_damaging' & mutation_pathogen_filter$SIFT_Prediction[i] == 'deleterious') {\n",
    "            # ... It is pathogenic\n",
    "            mutation_pathogen_filter$Pathogen[i] <- 1\n",
    "        }\n",
    "    # If not, it is not pathogenic (default value = 0)\n",
    "    }\n",
    "}"
   ]
  },
  {
   "cell_type": "code",
   "execution_count": 15,
   "id": "bacc0213",
   "metadata": {},
   "outputs": [
    {
     "data": {
      "text/plain": [
       "\n",
       "      0       1 \n",
       "1105511  734800 "
      ]
     },
     "metadata": {},
     "output_type": "display_data"
    }
   ],
   "source": [
    "# How many have been evaluated as not-/pathogenic?\n",
    "table(mutation_pathogen_filter$Pathogen)"
   ]
  },
  {
   "cell_type": "code",
   "execution_count": 18,
   "id": "c84e6bbb",
   "metadata": {},
   "outputs": [
    {
     "data": {
      "text/html": [
       "39.9280339029653"
      ],
      "text/latex": [
       "39.9280339029653"
      ],
      "text/markdown": [
       "39.9280339029653"
      ],
      "text/plain": [
       "[1] 39.92803"
      ]
     },
     "metadata": {},
     "output_type": "display_data"
    }
   ],
   "source": [
    "(734800/1840311)*100"
   ]
  },
  {
   "cell_type": "markdown",
   "id": "1b51d14a",
   "metadata": {},
   "source": [
    "## Results\n",
    "\n",
    "There are 734.800 pathogens (~40% of the total dataset). The filter table is saved in a file (takes ~15 minutes to run the last part of the code)."
   ]
  },
  {
   "cell_type": "code",
   "execution_count": 17,
   "id": "e60bcb68",
   "metadata": {},
   "outputs": [],
   "source": [
    "write.csv(mutation_pathogen_filter, \"../../derived_data/genie_v15/mutation_pathogen_filter.csv\", row.names=TRUE)"
   ]
  },
  {
   "cell_type": "markdown",
   "id": "37beca3b",
   "metadata": {},
   "source": [
    "\n"
   ]
  }
 ],
 "metadata": {
  "kernelspec": {
   "display_name": "R",
   "language": "R",
   "name": "ir"
  },
  "language_info": {
   "codemirror_mode": "r",
   "file_extension": ".r",
   "mimetype": "text/x-r-source",
   "name": "R",
   "pygments_lexer": "r",
   "version": "4.2.2"
  }
 },
 "nbformat": 4,
 "nbformat_minor": 5
}
